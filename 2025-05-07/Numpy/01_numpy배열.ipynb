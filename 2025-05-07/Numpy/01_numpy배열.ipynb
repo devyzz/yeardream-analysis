{
 "cells": [
  {
   "cell_type": "markdown",
   "id": "1304c01b",
   "metadata": {},
   "source": [
    "# 🧪 NumPy 배열 생성 함수 완전 정복 노트북\n",
    "\n",
    "처음 배우는 분들을 위한 NumPy 배열 생성 함수 실습 노트북입니다! 🐰\n",
    "이 노트북에서는 NumPy에서 배열을 만드는 거의 모든 함수를 다루고, 각각의 인자에 대한 설명도 자세히 정리되어 있어요."
   ]
  },
  {
   "cell_type": "markdown",
   "id": "18df6337",
   "metadata": {},
   "source": [
    "## 1️⃣ `np.array()` - 가장 기본적인 배열 생성 함수\n",
    "리스트, 튜플 등 파이썬 시퀀스를 넘파이 배열로 바꿔줍니다."
   ]
  },
  {
   "cell_type": "code",
   "execution_count": null,
   "id": "b0fbeb12",
   "metadata": {},
   "outputs": [],
   "source": [
    "import numpy as np\n",
    "\n",
    "# 리스트를 1차원 배열로\n",
    "a = np.array([1, 2, 3])\n",
    "print(\"1차원 배열:\", a)\n",
    "\n",
    "# 리스트를 2차원 배열로\n",
    "b = np.array([[1, 2], [3, 4]])\n",
    "print(\"2차원 배열:\\n\", b)\n",
    "\n",
    "# 주요 인자 설명:\n",
    "# - object (필수): 리스트, 튜플 등 시퀀스 형태의 객체\n",
    "# - dtype (선택): 데이터 타입 (예: np.float32)\n",
    "# - copy (선택): 원본을 복사할지 여부 (기본값 True)\n"
   ]
  },
  {
   "cell_type": "markdown",
   "id": "b21cce0d",
   "metadata": {},
   "source": [
    "## 2️⃣ `np.zeros()` - 0으로 채워진 배열 생성\n",
    "원하는 크기의 배열을 모두 0으로 채워 생성합니다."
   ]
  },
  {
   "cell_type": "code",
   "execution_count": null,
   "id": "9b05b915",
   "metadata": {},
   "outputs": [],
   "source": [
    "zeros = np.zeros((3, 4))\n",
    "print(\"3x4 배열 (0으로 채움):\\n\", zeros)\n",
    "\n",
    "# 주요 인자:\n",
    "# - shape (필수): 튜플로 배열의 모양 지정\n",
    "# - dtype (선택): 데이터 타입 지정 (기본은 float)\n"
   ]
  },
  {
   "cell_type": "markdown",
   "id": "b37297c4",
   "metadata": {},
   "source": [
    "## 3️⃣ `np.ones()` - 1로 채워진 배열 생성"
   ]
  },
  {
   "cell_type": "code",
   "execution_count": null,
   "id": "ee4cbd11",
   "metadata": {},
   "outputs": [],
   "source": [
    "ones = np.ones((2, 3), dtype=int)\n",
    "print(\"2x3 배열 (1로 채움):\\n\", ones)\n"
   ]
  },
  {
   "cell_type": "markdown",
   "id": "91877e9b",
   "metadata": {},
   "source": [
    "## 4️⃣ `np.full()` - 지정한 값으로 채워진 배열 생성"
   ]
  },
  {
   "cell_type": "code",
   "execution_count": null,
   "id": "ea478dc9",
   "metadata": {},
   "outputs": [],
   "source": [
    "full_array = np.full((2, 2), fill_value=7)\n",
    "print(\"7로 채운 2x2 배열:\\n\", full_array)\n",
    "\n",
    "# 주요 인자:\n",
    "# - shape (필수): 배열 크기\n",
    "# - fill_value (필수): 채울 값\n",
    "# - dtype (선택)\n"
   ]
  },
  {
   "cell_type": "markdown",
   "id": "700e60d3",
   "metadata": {},
   "source": [
    "## 5️⃣ `np.eye()` - 단위행렬 생성\n",
    "대각선이 1이고 나머지가 0인 배열입니다."
   ]
  },
  {
   "cell_type": "code",
   "execution_count": null,
   "id": "4890fb7c",
   "metadata": {},
   "outputs": [],
   "source": [
    "eye_matrix = np.eye(3)\n",
    "print(\"3x3 단위행렬:\\n\", eye_matrix)\n",
    "\n",
    "# 주요 인자:\n",
    "# - N (필수): 행 개수\n",
    "# - M (선택): 열 개수 (생략 시 N=M)\n",
    "# - k (선택): 대각선 위치 (기본 0, 위는 양수, 아래는 음수)\n"
   ]
  },
  {
   "cell_type": "markdown",
   "id": "9a78c2c2",
   "metadata": {},
   "source": [
    "## 6️⃣ `np.identity()` - 정방형 단위행렬 생성\n",
    "`np.eye(N)`과 동일하지만 반드시 정방행렬만 생성합니다."
   ]
  },
  {
   "cell_type": "code",
   "execution_count": null,
   "id": "78fcc92e",
   "metadata": {},
   "outputs": [],
   "source": [
    "identity_matrix = np.identity(4)\n",
    "print(\"4x4 단위행렬:\\n\", identity_matrix)\n"
   ]
  },
  {
   "cell_type": "markdown",
   "id": "29b3bbd8",
   "metadata": {},
   "source": [
    "## 7️⃣ `np.arange()` - 범위 기반 배열 생성\n",
    "파이썬의 `range()`와 유사하지만 배열로 반환됩니다."
   ]
  },
  {
   "cell_type": "code",
   "execution_count": null,
   "id": "e1a1a4ec",
   "metadata": {},
   "outputs": [],
   "source": [
    "arr = np.arange(0, 10, 2)\n",
    "print(\"0부터 10까지 2씩 증가하는 배열:\", arr)\n",
    "\n",
    "# 주요 인자:\n",
    "# - start (선택): 시작값 (기본 0)\n",
    "# - stop (필수): 끝값 (exclusive)\n",
    "# - step (선택): 간격 (기본 1)\n",
    "# - dtype (선택)\n"
   ]
  },
  {
   "cell_type": "markdown",
   "id": "26e81bbc",
   "metadata": {},
   "source": [
    "## 8️⃣ `np.linspace()` - 균등 간격으로 나눈 배열 생성\n",
    "시작값과 끝값을 기준으로 지정한 개수만큼의 값을 생성합니다."
   ]
  },
  {
   "cell_type": "code",
   "execution_count": null,
   "id": "07882cc8",
   "metadata": {},
   "outputs": [],
   "source": [
    "lin = np.linspace(0, 1, 5)\n",
    "print(\"0부터 1까지 5등분한 값들:\", lin)\n",
    "\n",
    "# 주요 인자:\n",
    "# - start (필수): 시작값\n",
    "# - stop (필수): 끝값\n",
    "# - num (선택): 구간 개수 (기본 50)\n",
    "# - endpoint (선택): 끝값 포함 여부 (기본 True)\n"
   ]
  },
  {
   "cell_type": "markdown",
   "id": "bb49c025",
   "metadata": {},
   "source": [
    "## 9️⃣ `np.random.rand()` - 0~1 사이의 난수 배열 생성\n",
    "균등분포를 따르는 실수 난수를 생성합니다."
   ]
  },
  {
   "cell_type": "code",
   "execution_count": null,
   "id": "fd75eb06",
   "metadata": {},
   "outputs": [],
   "source": [
    "rand_array = np.random.rand(2, 3)\n",
    "print(\"0~1 사이 난수로 채운 2x3 배열:\\n\", rand_array)\n"
   ]
  },
  {
   "cell_type": "markdown",
   "id": "19615df2",
   "metadata": {},
   "source": [
    "## 🔟 `np.random.randint()` - 정수 난수 배열 생성"
   ]
  },
  {
   "cell_type": "code",
   "execution_count": null,
   "id": "90673a9b",
   "metadata": {},
   "outputs": [],
   "source": [
    "rand_int_array = np.random.randint(0, 5, size=(3, 4))\n",
    "print(\"0~4 사이 정수 난수 3x4 배열:\\n\", rand_int_array)\n",
    "\n",
    "# 주요 인자:\n",
    "# - low (필수): 최소값 (포함)\n",
    "# - high (필수): 최대값 (제외)\n",
    "# - size (선택): 배열 크기\n"
   ]
  },
  {
   "cell_type": "markdown",
   "id": "6d57a18e",
   "metadata": {},
   "source": [
    "## 1️⃣1️⃣ `np.empty()` - 초기화되지 않은 배열 생성\n",
    "배열 크기만 할당하고 내부 값은 초기화하지 않습니다 (임의의 값)."
   ]
  },
  {
   "cell_type": "code",
   "execution_count": null,
   "id": "c426d587",
   "metadata": {},
   "outputs": [],
   "source": [
    "empty_array = np.empty((2, 2))\n",
    "print(\"초기화 안 된 배열:\\n\", empty_array)\n"
   ]
  }
 ],
 "metadata": {
  "language_info": {
   "name": "python"
  }
 },
 "nbformat": 4,
 "nbformat_minor": 5
}
