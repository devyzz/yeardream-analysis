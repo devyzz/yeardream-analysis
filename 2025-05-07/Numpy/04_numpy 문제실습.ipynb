{
 "cells": [
  {
   "cell_type": "code",
   "execution_count": null,
   "id": "763d6327",
   "metadata": {},
   "outputs": [],
   "source": [
    "import numpy as np"
   ]
  },
  {
   "cell_type": "code",
   "execution_count": 10,
   "id": "e6a3f551",
   "metadata": {},
   "outputs": [
    {
     "name": "stdout",
     "output_type": "stream",
     "text": [
      "[[4 3 2 2 2]\n",
      " [4 2 4 0 0]\n",
      " [0 2 1 2 1]]\n",
      "[[1.63242827 1.24365824 4.94977079 3.52786846 2.83292658]\n",
      " [0.75407006 2.31461613 0.05096854 3.90057992 4.76568688]\n",
      " [0.12134387 4.76467984 4.48215183 3.70941867 0.51857638]]\n"
     ]
    }
   ],
   "source": [
    "## 넘파이를 이용하여 배열 만들기\n",
    "np.array([1,2,3,4])\n",
    "\n",
    "## 0부터 5사이의 랜덤한 값이 담긴 3x5 array 만들어보기 \n",
    "'''\n",
    "np.random.randint(low, high=None, size=None, dtype=int)\n",
    "low : 최소값(포함)\n",
    "high : 최대값(제외)\n",
    "size : (x,y) 생성할 배열의 shape , x행 y열\n",
    "dtype : 자료형 int(기본)\n",
    "'''\n",
    "array = np.random.randint(0,5,(3,5))\n",
    "array_f = np.random.uniform(0, 5, (3, 5))  # 0.0 이상 5.0 미만 실수 (실수로 만들고 싶다면 uniform)\n",
    "print(array)\n",
    "print(array_f)"
   ]
  },
  {
   "cell_type": "code",
   "execution_count": 20,
   "id": "9a9f62e5",
   "metadata": {},
   "outputs": [
    {
     "name": "stdout",
     "output_type": "stream",
     "text": [
      "[ 1  3  5  7  9 11 13 15]\n",
      "[3 5]\n",
      "[3 5]\n",
      "[3 5]\n"
     ]
    }
   ],
   "source": [
    "## numpy 배열 생성함수 arange(n) - 0부터 n미만의 정수를 1씩 증가하면서 나열한 Numpy 배열\n",
    "'''\n",
    "np.arange([start,] stop[, step])\n",
    "start : 시작값(포함, 생략시 0)\n",
    "stop : 끝값(제외)\n",
    "step : 증가단위 (생략시 1)\n",
    "'''\n",
    "np.arange(7)\n",
    "target = np.arange(1,16,2)\n",
    "print(target)\n",
    "\n",
    "## 슬라이싱 결과가 3,5만 나오도록 하려면\n",
    "print(target[1:3])\n",
    "print(target[(target==3) | (target==5)])\n",
    "print(target[np.isin(target, [3,5])])"
   ]
  },
  {
   "cell_type": "code",
   "execution_count": 31,
   "id": "ca54ddb4",
   "metadata": {},
   "outputs": [
    {
     "name": "stdout",
     "output_type": "stream",
     "text": [
      "1차원 array\n",
      "ㄴ자료형출력 : <class 'numpy.ndarray'>\n",
      "ㄴ차원출력 : 1\n",
      "ㄴ모양출력 : (10,)\n",
      "ㄴ크기출력 : 10\n",
      "ㄴdata type출력 : int64\n",
      "ㄴ5번인덱스 요소 출력 : 5\n",
      "ㄴ3~5번인덱스 요소 출력 : [3 4 5]\n"
     ]
    }
   ],
   "source": [
    "print(\"1차원 array\")\n",
    "array = np.arange(10)\n",
    "print(f\"ㄴ자료형출력 : {type(array)}\")\n",
    "print(f\"ㄴ차원출력 : {array.ndim}\")\n",
    "print(f\"ㄴ모양출력 : {array.shape}\")\n",
    "print(f\"ㄴ크기출력 : {array.size}\")\n",
    "print(f\"ㄴdata type출력 : {array.dtype}\")\n",
    "print(f\"ㄴ5번인덱스 요소 출력 : {array[5]}\")\n",
    "print(f\"ㄴ3~5번인덱스 요소 출력 : {array[3:6]}\")"
   ]
  },
  {
   "cell_type": "code",
   "execution_count": 38,
   "id": "0101582d",
   "metadata": {},
   "outputs": [
    {
     "name": "stdout",
     "output_type": "stream",
     "text": [
      "2차원 array\n",
      "[[ 1  2  3  4  5]\n",
      " [ 6  7  8  9 10]\n",
      " [11 12 13 14 15]]\n",
      "ㄴ자료형출력 : <class 'numpy.ndarray'>\n",
      "ㄴ차원출력 : 2\n",
      "ㄴ모양출력 : (3, 5)\n",
      "ㄴ크기출력 : 15\n",
      "ㄴdata type출력 : int64\n",
      "ㄴmatrix의 2행3열 요소 출력 : 14\n",
      "ㄴ행은 0~1, 열은 1~3까지 출력 \n",
      " [[2 3]\n",
      " [7 8]]\n"
     ]
    }
   ],
   "source": [
    "print(\"2차원 array\")\n",
    "array = np.arange(1,16).reshape(3,5) # 1~15까지의 3행5열 배열 출력\n",
    "print(array)\n",
    "print(f\"ㄴ자료형출력 : {type(array)}\")\n",
    "print(f\"ㄴ차원출력 : {array.ndim}\")\n",
    "print(f\"ㄴ모양출력 : {array.shape}\")\n",
    "print(f\"ㄴ크기출력 : {array.size}\")\n",
    "print(f\"ㄴdata type출력 : {array.dtype}\")\n",
    "print(f\"ㄴmatrix의 2행3열 요소 출력 : {array[2,3]}\")\n",
    "print(f\"ㄴ행은 0~1, 열은 1~3까지 출력 \\n {array[0:2,1:3]}\")"
   ]
  },
  {
   "cell_type": "code",
   "execution_count": 41,
   "id": "977e067b",
   "metadata": {},
   "outputs": [
    {
     "name": "stdout",
     "output_type": "stream",
     "text": [
      "1차원\n",
      "[[0 1 2 3]\n",
      " [4 5 6 7]]\n"
     ]
    }
   ],
   "source": [
    "# 주어진 array를 matrix라는 변수로 (2,4)모양으로 reshape 하여 저장하기\n",
    "print(\"1차원\")\n",
    "arr = np.arange(8)\n",
    "matrix = arr.reshape(2,4)\n",
    "print(matrix)"
   ]
  },
  {
   "cell_type": "code",
   "execution_count": 53,
   "id": "c8ce3018",
   "metadata": {},
   "outputs": [
    {
     "name": "stdout",
     "output_type": "stream",
     "text": [
      "[[0 1 2]\n",
      " [3 4 5]\n",
      " [6 7 8]]\n",
      "모양 : (3, 3)\n",
      "\n",
      " [[0 1 2]\n",
      " [3 4 5]\n",
      " [6 7 8]\n",
      " [0 1 2]\n",
      " [3 4 5]\n",
      " [6 7 8]]\n",
      "모양 : (6, 3)\n",
      "\n",
      " [[0 1 2 0 1 2]\n",
      " [3 4 5 3 4 5]\n",
      " [6 7 8 6 7 8]]\n",
      "모양 : (3, 6)\n"
     ]
    }
   ],
   "source": [
    "matrix = np.arange(9).reshape(3,3)\n",
    "print(matrix)\n",
    "print(f\"모양 : {matrix.shape}\")\n",
    "'''\n",
    "np.concatenate((a1, a2, ...), axis=0)\n",
    "(a1, a2, ...) : 붙일 배열, 튜플 또는 리스트로 전달\n",
    "axis : 어떤 축을 따라 붙일지 결정 (기본값 = 0) / \n",
    "    axis=0 (y축) >> 행(row)기준처리 >> 아래로 붙이기 위아래로 합치기\n",
    "    axis=1 (x축) >> 열(column)기준처리 >> 옆으로 붙이기 / 좌우로 합치기\n",
    "'''\n",
    "# matrix 변수 두개를 세로로 이어붙이고 m으로 출력\n",
    "m = np.concatenate((matrix, matrix), axis=0)\n",
    "print(f\"\\n {m}\")\n",
    "print(f\"모양 : {m.shape}\")\n",
    "\n",
    "# matrix 변수 두개를 가로로 이어붙이고 n으로 출력\n",
    "n = np.concatenate((matrix, matrix), axis=1)\n",
    "print(f\"\\n {n}\")\n",
    "print(f\"모양 : {n.shape}\")"
   ]
  },
  {
   "cell_type": "code",
   "execution_count": 61,
   "id": "b106cc91",
   "metadata": {},
   "outputs": [
    {
     "name": "stdout",
     "output_type": "stream",
     "text": [
      "[[ 0  1  2  3]\n",
      " [ 4  5  6  7]\n",
      " [ 8  9 10 11]\n",
      " [12 13 14 15]] \n",
      "\n",
      "[[ 0  1  2  3]\n",
      " [ 4  5  6  7]\n",
      " [ 8  9 10 11]] \n",
      "\n",
      "[[12 13 14 15]] \n",
      "\n",
      "[[ 0]\n",
      " [ 4]\n",
      " [ 8]\n",
      " [12]] \n",
      "\n",
      "[[ 1  2  3]\n",
      " [ 5  6  7]\n",
      " [ 9 10 11]\n",
      " [13 14 15]] \n",
      "\n"
     ]
    }
   ],
   "source": [
    "matrix = np.arange(16).reshape(4,4)\n",
    "print(matrix, \"\\n\")\n",
    "\n",
    "# axis 0 을 활용하여 3번째 행을 기준으로 나누고 각각 a, b에 저장 \n",
    "a, b = np.split(matrix, [3], axis=0)\n",
    "print(a, \"\\n\")\n",
    "print(b, \"\\n\")\n",
    "# aixs 1 을 활용하여 1번째 열을 기준으로 나누고 각각 c, d에 저장 \n",
    "c, d = np.split(matrix, [1], axis=1)\n",
    "print(c, \"\\n\")\n",
    "print(d, \"\\n\")\n"
   ]
  },
  {
   "cell_type": "code",
   "execution_count": 63,
   "id": "adc716a0",
   "metadata": {},
   "outputs": [
    {
     "name": "stdout",
     "output_type": "stream",
     "text": [
      "[ 0  5 10 15]\n"
     ]
    }
   ],
   "source": [
    "x = np.arange(4)\n",
    "print(x * 5)"
   ]
  },
  {
   "cell_type": "code",
   "execution_count": 76,
   "id": "5d8532a0",
   "metadata": {},
   "outputs": [
    {
     "name": "stdout",
     "output_type": "stream",
     "text": [
      "Numpy 연산 확인\n",
      "[1 2 3 4 5]\n",
      "[ 6  7  8  9 10]\n",
      "[-4 -3 -2 -1  0]\n",
      "[ 5 10 15 20 25]\n",
      "[0.2 0.4 0.6 0.8 1. ]\n",
      "[5 4 3 2 1]\n",
      "[6 6 6 6 6]\n",
      "[-4 -2  0  2  4]\n"
     ]
    }
   ],
   "source": [
    "print(\"Numpy 연산 확인\")\n",
    "array = np.arange(1,6)\n",
    "print(array)\n",
    "print(array+5)\n",
    "print(array-5)\n",
    "print(array*5)\n",
    "print(array/5)\n",
    "array2 = np.arange(5, 0, -1)\n",
    "print(array2)\n",
    "print(array+array2)\n",
    "print(array-array2)\n"
   ]
  },
  {
   "cell_type": "code",
   "execution_count": 81,
   "id": "66e009a2",
   "metadata": {},
   "outputs": [
    {
     "name": "stdout",
     "output_type": "stream",
     "text": [
      "[[0 1]\n",
      " [2 3]\n",
      " [4 5]]\n",
      "[[0]\n",
      " [1]\n",
      " [2]]\n",
      "[[0 1]\n",
      " [3 4]\n",
      " [6 7]]\n"
     ]
    }
   ],
   "source": [
    "A = np.arange(6).reshape(3,2)\n",
    "print(A)\n",
    "B = np.arange(3).reshape(3,1)\n",
    "print(B)\n",
    "print(A+B)"
   ]
  },
  {
   "cell_type": "code",
   "execution_count": 82,
   "id": "7b8a5896",
   "metadata": {},
   "outputs": [
    {
     "name": "stdout",
     "output_type": "stream",
     "text": [
      "[[ 0  1  2  3  4  5]\n",
      " [ 1  2  3  4  5  6]\n",
      " [ 2  3  4  5  6  7]\n",
      " [ 3  4  5  6  7  8]\n",
      " [ 4  5  6  7  8  9]\n",
      " [ 5  6  7  8  9 10]]\n"
     ]
    }
   ],
   "source": [
    "A = np.arange(6).reshape(6,1)\n",
    "B = np.arange(6)\n",
    "print(A+B)"
   ]
  },
  {
   "cell_type": "code",
   "execution_count": 95,
   "id": "4ba7c76e",
   "metadata": {},
   "outputs": [
    {
     "name": "stdout",
     "output_type": "stream",
     "text": [
      "[[0 1 2 3]\n",
      " [4 5 6 7]]\n",
      "전체 합계 : 28\n",
      "최대값 : 7\n",
      "최소값 : 0\n",
      "평균값 : 3.5\n",
      "행별 합계 : [ 6 22]\n",
      "열별 합계 : [ 4  6  8 10]\n",
      "표준편차 : 2.29128784747792\n",
      "5보다 작은수만 출력 : [0 1 2 3 4]\n"
     ]
    }
   ],
   "source": [
    "matrix = np.arange(8).reshape((2, 4))\n",
    "print(matrix)\n",
    "\n",
    "print(f\"전체 합계 : {matrix.sum()}\")\n",
    "print(f\"최대값 : {matrix.max()}\")\n",
    "print(f\"최소값 : {matrix.min()}\")\n",
    "print(f\"평균값 : {matrix.mean()}\")\n",
    "print(f\"행별 합계 : {matrix.sum(axis=1)}\")\n",
    "print(f\"열별 합계 : {matrix.sum(axis=0)}\")\n",
    "print(f\"표준편차 : {matrix.std()}\")\n",
    "print(f\"5보다 작은수만 출력 : {matrix[matrix<5]}\")"
   ]
  },
  {
   "cell_type": "code",
   "execution_count": 109,
   "id": "84f21bc2",
   "metadata": {},
   "outputs": [
    {
     "name": "stdout",
     "output_type": "stream",
     "text": [
      "71\n",
      "[71 29]\n",
      "71\n",
      "71\n",
      "71\n"
     ]
    }
   ],
   "source": [
    "daily_liar_data = [0, 0, 0, 0, 0, 1, 1, 0, 1, 1, 0, 0, 0, 1, 0, 0, 1, 0, 0, 1, 0, 0, 0, 1, 0, 0, 0, 0, 0, 1, 0, 0, 0, 1, 0, 0, 0, 0, 0, 0, 0, 0, 0, 0, 1, 1, 0, 1, 1, 0, 0, 0, 0, 0, 1, 0, 1, 0, 0, 1, 0, 1, 0, 0, 1, 0, 0, 0, 0, 0, 1, 0, 1, 0, 1, 1, 0, 0, 0, 1, 0, 0, 0, 1, 0, 0, 1, 0, 0, 1, 0, 1, 0, 0, 1, 0, 0, 0, 0, 0]\n",
    "# 0은 거짓말을 한 날이고, 1은 거짓말을 하지 않은 날이다. 양치기 소년이 100일 중거짓말을 총 몇번했는지 그 횟수를 세어 정확히 출력할것\n",
    "arr = np.array(daily_liar_data)\n",
    "'''\n",
    "count_nonzero : 조건에 맞는 원소 개수 세는 함수\n",
    "\n",
    "'''\n",
    "print(np.count_nonzero(arr==0)) \n",
    "print(np.bincount(arr))\n",
    "print(np.sum(arr==0))\n",
    "print(len(arr[arr==0]))\n",
    "print(100-arr.sum())"
   ]
  },
  {
   "cell_type": "code",
   "execution_count": null,
   "id": "d500e77f",
   "metadata": {},
   "outputs": [],
   "source": []
  }
 ],
 "metadata": {
  "kernelspec": {
   "display_name": "myenv",
   "language": "python",
   "name": "python3"
  },
  "language_info": {
   "codemirror_mode": {
    "name": "ipython",
    "version": 3
   },
   "file_extension": ".py",
   "mimetype": "text/x-python",
   "name": "python",
   "nbconvert_exporter": "python",
   "pygments_lexer": "ipython3",
   "version": "3.12.9"
  }
 },
 "nbformat": 4,
 "nbformat_minor": 5
}
