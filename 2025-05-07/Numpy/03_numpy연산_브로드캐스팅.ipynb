{
 "cells": [
  {
   "cell_type": "markdown",
   "id": "19be6acd",
   "metadata": {},
   "source": [
    "# 📊 NumPy 연산과 브로드캐스팅 완전 정복 노트북\n",
    "\n",
    "이 노트북은 NumPy의 기본 연산부터 고급 주제인 브로드캐스팅까지 모두 다룹니다. 🐰\n",
    "\n",
    "- 기본 산술 연산\n",
    "- 비교 연산 및 논리 연산\n",
    "- 브로드캐스팅 개념과 다양한 예제\n",
    "- 연산 차원 일치 시키기 전략"
   ]
  },
  {
   "cell_type": "markdown",
   "id": "7a5400a4",
   "metadata": {},
   "source": [
    "## 1️⃣ 기본 산술 연산\n",
    "NumPy는 배열 간의 산술 연산을 각 요소별로 처리합니다."
   ]
  },
  {
   "cell_type": "code",
   "execution_count": null,
   "id": "16489c35",
   "metadata": {},
   "outputs": [],
   "source": [
    "import numpy as np\n",
    "\n",
    "a = np.array([1, 2, 3])\n",
    "b = np.array([10, 20, 30])\n",
    "\n",
    "print(\"덧셈:\", a + b)\n",
    "print(\"뺄셈:\", a - b)\n",
    "print(\"곱셈:\", a * b)\n",
    "print(\"나눗셈:\", a / b)\n",
    "print(\"지수 연산:\", a ** 2)\n"
   ]
  },
  {
   "cell_type": "markdown",
   "id": "8e7e92f5",
   "metadata": {},
   "source": [
    "## 2️⃣ 스칼라와의 연산\n",
    "배열과 숫자(스칼라) 간 연산도 각 요소에 적용됩니다."
   ]
  },
  {
   "cell_type": "code",
   "execution_count": null,
   "id": "22793f27",
   "metadata": {},
   "outputs": [],
   "source": [
    "print(\"a + 5:\", a + 5)\n",
    "print(\"a * 3:\", a * 3)\n",
    "print(\"a ** 3:\", a ** 3)\n"
   ]
  },
  {
   "cell_type": "markdown",
   "id": "05852b27",
   "metadata": {},
   "source": [
    "## 3️⃣ 비교 연산"
   ]
  },
  {
   "cell_type": "code",
   "execution_count": null,
   "id": "6107363b",
   "metadata": {},
   "outputs": [],
   "source": [
    "print(\"a > 2:\", a > 2)\n",
    "print(\"b == 20:\", b == 20)\n"
   ]
  },
  {
   "cell_type": "markdown",
   "id": "1974407c",
   "metadata": {},
   "source": [
    "## 4️⃣ 논리 연산 (AND, OR, NOT 등)"
   ]
  },
  {
   "cell_type": "code",
   "execution_count": null,
   "id": "a5906224",
   "metadata": {},
   "outputs": [],
   "source": [
    "print(\"논리 AND:\", np.logical_and(a > 1, b < 30))\n",
    "print(\"논리 OR:\", np.logical_or(a == 2, b == 10))\n",
    "print(\"논리 NOT:\", np.logical_not(a > 1))\n"
   ]
  },
  {
   "cell_type": "markdown",
   "id": "a163dec4",
   "metadata": {},
   "source": [
    "## 5️⃣ 브로드캐스팅(Broadcasting)이란?\n",
    "\n",
    "NumPy에서 서로 다른 크기의 배열 간 연산을 자동으로 처리하기 위한 강력한 기능입니다.\n",
    "\n",
    "> 두 배열의 차원이 다르더라도 연산이 가능한 조건을 만족하면 자동으로 모양을 맞춰줍니다."
   ]
  },
  {
   "cell_type": "markdown",
   "id": "85b930d5",
   "metadata": {},
   "source": [
    "### ✅ 브로드캐스팅이 가능한 조건\n",
    "1. 두 배열의 **차원의 수가 다르면**, 더 작은 배열에 **1을 추가**해서 맞춥니다.\n",
    "2. **같은 위치의 차원이 서로 같거나**, **둘 중 하나가 1이면** 연산 가능합니다."
   ]
  },
  {
   "cell_type": "markdown",
   "id": "33db6360",
   "metadata": {},
   "source": [
    "## 6️⃣ 브로드캐스팅 예제 1: (3, 1) + (1, 4)"
   ]
  },
  {
   "cell_type": "code",
   "execution_count": null,
   "id": "f365537a",
   "metadata": {},
   "outputs": [],
   "source": [
    "a = np.array([[1], [2], [3]])     # shape: (3, 1)\n",
    "b = np.array([[10, 20, 30, 40]])  # shape: (1, 4)\n",
    "\n",
    "print(\"a.shape:\", a.shape)\n",
    "print(\"b.shape:\", b.shape)\n",
    "\n",
    "result = a + b\n",
    "print(\"결과 shape:\", result.shape)\n",
    "print(\"결과 배열:\\n\", result)\n"
   ]
  },
  {
   "cell_type": "markdown",
   "id": "1541f206",
   "metadata": {},
   "source": [
    "## 7️⃣ 브로드캐스팅 예제 2: (2,3) + (3,)"
   ]
  },
  {
   "cell_type": "code",
   "execution_count": null,
   "id": "9d376cd1",
   "metadata": {},
   "outputs": [],
   "source": [
    "a = np.array([[1, 2, 3], [4, 5, 6]])  # shape: (2,3)\n",
    "b = np.array([10, 20, 30])             # shape: (3,)\n",
    "\n",
    "print(\"a + b =\\n\", a + b)\n"
   ]
  },
  {
   "cell_type": "markdown",
   "id": "17fcb521",
   "metadata": {},
   "source": [
    "## 8️⃣ 브로드캐스팅 불가능한 예제"
   ]
  },
  {
   "cell_type": "code",
   "execution_count": null,
   "id": "b049b821",
   "metadata": {},
   "outputs": [],
   "source": [
    "x = np.ones((2, 3))\n",
    "y = np.ones((3, 2))\n",
    "\n",
    "try:\n",
    "    print(x + y)\n",
    "except ValueError as e:\n",
    "    print(\"오류 발생:\", e)\n"
   ]
  },
  {
   "cell_type": "markdown",
   "id": "d60349b3",
   "metadata": {},
   "source": [
    "## 9️⃣ 브로드캐스팅을 위한 차원 맞추기 - `reshape()`"
   ]
  },
  {
   "cell_type": "code",
   "execution_count": null,
   "id": "6a3f4b96",
   "metadata": {},
   "outputs": [],
   "source": [
    "a = np.array([1, 2, 3])        # (3,)\n",
    "b = np.array([[10], [20], [30]])  # (3,1)\n",
    "\n",
    "# reshape 사용 예\n",
    "a_col = a.reshape((1, 3))  # (1,3)\n",
    "b_row = b.reshape((3, 1))  # (3,1)\n",
    "\n",
    "result = b_row + a_col    # (3,1) + (1,3) => (3,3)\n",
    "print(\"결과 배열:\\n\", result)\n"
   ]
  },
  {
   "cell_type": "markdown",
   "id": "497e26cf",
   "metadata": {},
   "source": [
    "---\n",
    "이제 NumPy의 연산과 브로드캐스팅 개념을 완전히 이해할 수 있어요! 🐰\n",
    "필요하면 실전 문제나 시각화 예제도 만들어줄게요."
   ]
  }
 ],
 "metadata": {},
 "nbformat": 4,
 "nbformat_minor": 5
}
