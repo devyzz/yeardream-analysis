{
 "cells": [
  {
   "cell_type": "markdown",
   "id": "dcd911a3",
   "metadata": {},
   "source": [
    "# [프로젝트] 요소수 유통 주유소 재고 현황 데이터 분석"
   ]
  },
  {
   "cell_type": "markdown",
   "id": "8395edd9",
   "metadata": {},
   "source": [
    "---"
   ]
  },
  {
   "cell_type": "markdown",
   "id": "d9b50baa",
   "metadata": {},
   "source": [
    "## 프로젝트 목표\n",
    "---\n",
    "- 요소수 유통 주유소 재고 현황 데이터를 살펴보고 유의미한 데이터를 불러옵니다.\n",
    "- 데이터를 지도에 표출하여 요소수 재고 현황을 조회할 수 있는 서비스를 제작합니다."
   ]
  },
  {
   "cell_type": "markdown",
   "id": "a5d57e23",
   "metadata": {},
   "source": [
    "## 프로젝트 목차\n",
    "---\n",
    "1. **데이터 불러오기:** csv 데이터를 불러온 후 Dataframe 구조를 확인합니다.\n",
    "2. **데이터 전처리하기:** 유의미한 데이터를 제공하기 위해 데이터를 전처리합니다.\n",
    "3. **데이터 분석하기:** 다양한 방법으로 데이터를 파헤치고 통계해봅니다.\n",
    "4. **데이터 시각화하기:** 지도에 데이터를 표출하여 요소수 재고 현황 조회 서비스를 제공합니다."
   ]
  },
  {
   "cell_type": "markdown",
   "id": "992e079c",
   "metadata": {},
   "source": [
    "## 프로젝트 개요\n",
    "---\n",
    "현재 사회적 문제로 대두되고 있는 요소수 문제를 극복하기 위해 공공데이터 포털에서 요소수 유통 주유소 재고현황을 제공하고 있습니다.\n",
    "\n",
    "본 실습을 통해 요소수 재고 현황 데이터를 지도에 표출하여 유의미한 데이터를 제공하는 서비스를 구축해봅니다."
   ]
  },
  {
   "cell_type": "markdown",
   "id": "ea525aab",
   "metadata": {},
   "source": [
    "**데이터 출처:** https://www.data.go.kr/index.do"
   ]
  },
  {
   "cell_type": "markdown",
   "id": "5e285fe4",
   "metadata": {},
   "source": [
    "---"
   ]
  },
  {
   "cell_type": "markdown",
   "id": "ee0f54e4",
   "metadata": {},
   "source": [
    "## 1. 데이터 불러오기"
   ]
  },
  {
   "cell_type": "markdown",
   "id": "409e9433",
   "metadata": {},
   "source": [
    "pandas Dataframe 형태로 요소수 재고 현황 데이터를 불러들입니다."
   ]
  },
  {
   "cell_type": "code",
   "execution_count": 1,
   "id": "da420e32",
   "metadata": {
    "scrolled": true
   },
   "outputs": [
    {
     "data": {
      "text/html": [
       "<div>\n",
       "<style scoped>\n",
       "    .dataframe tbody tr th:only-of-type {\n",
       "        vertical-align: middle;\n",
       "    }\n",
       "\n",
       "    .dataframe tbody tr th {\n",
       "        vertical-align: top;\n",
       "    }\n",
       "\n",
       "    .dataframe thead th {\n",
       "        text-align: right;\n",
       "    }\n",
       "</style>\n",
       "<table border=\"1\" class=\"dataframe\">\n",
       "  <thead>\n",
       "    <tr style=\"text-align: right;\">\n",
       "      <th></th>\n",
       "      <th>addr</th>\n",
       "      <th>code</th>\n",
       "      <th>color</th>\n",
       "      <th>inventory</th>\n",
       "      <th>lat</th>\n",
       "      <th>lng</th>\n",
       "      <th>name</th>\n",
       "      <th>openTime</th>\n",
       "      <th>price</th>\n",
       "      <th>regDt</th>\n",
       "      <th>tel</th>\n",
       "    </tr>\n",
       "  </thead>\n",
       "  <tbody>\n",
       "    <tr>\n",
       "      <th>0</th>\n",
       "      <td>경기 광명시 오리로 608 (소하동)</td>\n",
       "      <td>A0000004</td>\n",
       "      <td>GREEN</td>\n",
       "      <td>1700</td>\n",
       "      <td>37.456201</td>\n",
       "      <td>126.880407</td>\n",
       "      <td>(주)지에스이앤알 직영 하안단지주유소</td>\n",
       "      <td>NaN</td>\n",
       "      <td>2000</td>\n",
       "      <td>2021-12-28 10:23:15</td>\n",
       "      <td>02-899-5202</td>\n",
       "    </tr>\n",
       "    <tr>\n",
       "      <th>1</th>\n",
       "      <td>경기 용인시 기흥구 흥덕중앙로 92</td>\n",
       "      <td>A0000012</td>\n",
       "      <td>GREEN</td>\n",
       "      <td>3228</td>\n",
       "      <td>37.275967</td>\n",
       "      <td>127.077150</td>\n",
       "      <td>(주)지에스이앤알 흥덕주유소</td>\n",
       "      <td>NaN</td>\n",
       "      <td>2000</td>\n",
       "      <td>2021-12-28 06:06:12</td>\n",
       "      <td>031-215-8053</td>\n",
       "    </tr>\n",
       "    <tr>\n",
       "      <th>2</th>\n",
       "      <td>충남 부여군 내산면 서천공주고속도로 26</td>\n",
       "      <td>A0000052</td>\n",
       "      <td>GRAY</td>\n",
       "      <td>0</td>\n",
       "      <td>36.258064</td>\n",
       "      <td>126.800203</td>\n",
       "      <td>부여백제(공주)주유/충전소</td>\n",
       "      <td>NaN</td>\n",
       "      <td>1500</td>\n",
       "      <td>2021-12-28 11:11:38</td>\n",
       "      <td>041-833-8300</td>\n",
       "    </tr>\n",
       "    <tr>\n",
       "      <th>3</th>\n",
       "      <td>충남 공주시 당진영덕고속도로 72-1</td>\n",
       "      <td>A0000053</td>\n",
       "      <td>YELLOW</td>\n",
       "      <td>791</td>\n",
       "      <td>36.497380</td>\n",
       "      <td>127.168437</td>\n",
       "      <td>공주(대전)휴게소 주유소</td>\n",
       "      <td>NaN</td>\n",
       "      <td>1000</td>\n",
       "      <td>2021-12-28 09:01:09</td>\n",
       "      <td>041-854-9728</td>\n",
       "    </tr>\n",
       "    <tr>\n",
       "      <th>4</th>\n",
       "      <td>충남 공주시 의당면 당진영덕고속도로 69</td>\n",
       "      <td>A0000054</td>\n",
       "      <td>YELLOW</td>\n",
       "      <td>762</td>\n",
       "      <td>36.498579</td>\n",
       "      <td>127.165047</td>\n",
       "      <td>공주(당진)휴게소주유소/충전소</td>\n",
       "      <td>NaN</td>\n",
       "      <td>1000</td>\n",
       "      <td>2021-12-28 13:56:33</td>\n",
       "      <td>041-854-9504</td>\n",
       "    </tr>\n",
       "    <tr>\n",
       "      <th>...</th>\n",
       "      <td>...</td>\n",
       "      <td>...</td>\n",
       "      <td>...</td>\n",
       "      <td>...</td>\n",
       "      <td>...</td>\n",
       "      <td>...</td>\n",
       "      <td>...</td>\n",
       "      <td>...</td>\n",
       "      <td>...</td>\n",
       "      <td>...</td>\n",
       "      <td>...</td>\n",
       "    </tr>\n",
       "    <tr>\n",
       "      <th>195</th>\n",
       "      <td>인천 서구 중봉대로 148</td>\n",
       "      <td>A0008072</td>\n",
       "      <td>GREEN</td>\n",
       "      <td>2510</td>\n",
       "      <td>37.492677</td>\n",
       "      <td>126.648296</td>\n",
       "      <td>한밭산업㈜ 청라주유소</td>\n",
       "      <td>NaN</td>\n",
       "      <td>1500</td>\n",
       "      <td>2021-12-28 12:02:05</td>\n",
       "      <td>032-575-5261</td>\n",
       "    </tr>\n",
       "    <tr>\n",
       "      <th>196</th>\n",
       "      <td>인천 서구 봉수대로 1543 (금곡동)</td>\n",
       "      <td>A0008107</td>\n",
       "      <td>YELLOW</td>\n",
       "      <td>972</td>\n",
       "      <td>37.609760</td>\n",
       "      <td>126.643827</td>\n",
       "      <td>(주)디오티디 인천랍스터주유소</td>\n",
       "      <td>NaN</td>\n",
       "      <td>2000</td>\n",
       "      <td>2021-12-28 11:19:25</td>\n",
       "      <td>032-567-5185</td>\n",
       "    </tr>\n",
       "    <tr>\n",
       "      <th>197</th>\n",
       "      <td>경기 의왕시 오봉로 182 (부곡동)</td>\n",
       "      <td>A0008150</td>\n",
       "      <td>GREEN</td>\n",
       "      <td>1912</td>\n",
       "      <td>37.334862</td>\n",
       "      <td>126.960332</td>\n",
       "      <td>현대오일뱅크(주)직영 의왕셀프주유소</td>\n",
       "      <td>NaN</td>\n",
       "      <td>2000</td>\n",
       "      <td>2021-12-28 09:08:34</td>\n",
       "      <td>031-461-8204</td>\n",
       "    </tr>\n",
       "    <tr>\n",
       "      <th>198</th>\n",
       "      <td>경기 의왕시 창말로 39</td>\n",
       "      <td>A0008176</td>\n",
       "      <td>YELLOW</td>\n",
       "      <td>200</td>\n",
       "      <td>37.336115</td>\n",
       "      <td>126.953993</td>\n",
       "      <td>의왕아이시디주유소</td>\n",
       "      <td>08:00~20:00(평일), 08:00~16:00(토)일요일휴무</td>\n",
       "      <td>1500</td>\n",
       "      <td>2021-12-28 11:13:41</td>\n",
       "      <td>031-461-8005</td>\n",
       "    </tr>\n",
       "    <tr>\n",
       "      <th>199</th>\n",
       "      <td>경기 의왕시 경수대로 112 (왕곡동)</td>\n",
       "      <td>A0008224</td>\n",
       "      <td>GREEN</td>\n",
       "      <td>2067</td>\n",
       "      <td>37.337753</td>\n",
       "      <td>126.980311</td>\n",
       "      <td>지지대셀프주유소</td>\n",
       "      <td>NaN</td>\n",
       "      <td>2200</td>\n",
       "      <td>2021-12-28 14:46:49</td>\n",
       "      <td>031-454-0448</td>\n",
       "    </tr>\n",
       "  </tbody>\n",
       "</table>\n",
       "<p>200 rows × 11 columns</p>\n",
       "</div>"
      ],
      "text/plain": [
       "                       addr      code   color  inventory        lat  \\\n",
       "0      경기 광명시 오리로 608 (소하동)  A0000004   GREEN       1700  37.456201   \n",
       "1       경기 용인시 기흥구 흥덕중앙로 92  A0000012   GREEN       3228  37.275967   \n",
       "2    충남 부여군 내산면 서천공주고속도로 26  A0000052    GRAY          0  36.258064   \n",
       "3      충남 공주시 당진영덕고속도로 72-1  A0000053  YELLOW        791  36.497380   \n",
       "4    충남 공주시 의당면 당진영덕고속도로 69  A0000054  YELLOW        762  36.498579   \n",
       "..                      ...       ...     ...        ...        ...   \n",
       "195          인천 서구 중봉대로 148  A0008072   GREEN       2510  37.492677   \n",
       "196   인천 서구 봉수대로 1543 (금곡동)  A0008107  YELLOW        972  37.609760   \n",
       "197    경기 의왕시 오봉로 182 (부곡동)  A0008150   GREEN       1912  37.334862   \n",
       "198           경기 의왕시 창말로 39  A0008176  YELLOW        200  37.336115   \n",
       "199   경기 의왕시 경수대로 112 (왕곡동)  A0008224   GREEN       2067  37.337753   \n",
       "\n",
       "            lng                  name                              openTime  \\\n",
       "0    126.880407  (주)지에스이앤알 직영 하안단지주유소                                   NaN   \n",
       "1    127.077150       (주)지에스이앤알 흥덕주유소                                   NaN   \n",
       "2    126.800203        부여백제(공주)주유/충전소                                   NaN   \n",
       "3    127.168437         공주(대전)휴게소 주유소                                   NaN   \n",
       "4    127.165047      공주(당진)휴게소주유소/충전소                                   NaN   \n",
       "..          ...                   ...                                   ...   \n",
       "195  126.648296           한밭산업㈜ 청라주유소                                   NaN   \n",
       "196  126.643827      (주)디오티디 인천랍스터주유소                                   NaN   \n",
       "197  126.960332   현대오일뱅크(주)직영 의왕셀프주유소                                   NaN   \n",
       "198  126.953993             의왕아이시디주유소  08:00~20:00(평일), 08:00~16:00(토)일요일휴무   \n",
       "199  126.980311              지지대셀프주유소                                   NaN   \n",
       "\n",
       "     price                regDt           tel  \n",
       "0     2000  2021-12-28 10:23:15   02-899-5202  \n",
       "1     2000  2021-12-28 06:06:12  031-215-8053  \n",
       "2     1500  2021-12-28 11:11:38  041-833-8300  \n",
       "3     1000  2021-12-28 09:01:09  041-854-9728  \n",
       "4     1000  2021-12-28 13:56:33  041-854-9504  \n",
       "..     ...                  ...           ...  \n",
       "195   1500  2021-12-28 12:02:05  032-575-5261  \n",
       "196   2000  2021-12-28 11:19:25  032-567-5185  \n",
       "197   2000  2021-12-28 09:08:34  031-461-8204  \n",
       "198   1500  2021-12-28 11:13:41  031-461-8005  \n",
       "199   2200  2021-12-28 14:46:49  031-454-0448  \n",
       "\n",
       "[200 rows x 11 columns]"
      ]
     },
     "execution_count": 1,
     "metadata": {},
     "output_type": "execute_result"
    }
   ],
   "source": [
    "# 필요한 라이브러리 불러오기\n",
    "import numpy as np\n",
    "import pandas as pd\n",
    "\n",
    "# 데이터 불러오기\n",
    "df = pd.read_csv(\"./Urea data.csv\")\n",
    "df"
   ]
  },
  {
   "cell_type": "markdown",
   "id": "ef82f0d7",
   "metadata": {},
   "source": [
    "불러온 데이터를 살펴보면 200개의 요소수 유통 주유소에 대한 11개의 정보가 있습니다.\n",
    "\n",
    "각 컬럼은 왼쪽부터 `주소`, `주유소 코드`, `재고 레벨`, `재고`, `위도`, `경도`, `영업시간`, `가격`, `업데이트 일시`, 그리고 `전화번호`에 대한 정보를 가지고 있습니다."
   ]
  },
  {
   "cell_type": "markdown",
   "id": "d7403905",
   "metadata": {},
   "source": [
    "---"
   ]
  },
  {
   "cell_type": "markdown",
   "id": "188ef440",
   "metadata": {},
   "source": [
    "## 2. 데이터 전처리하기"
   ]
  },
  {
   "cell_type": "markdown",
   "id": "c9da4db5",
   "metadata": {},
   "source": [
    "다음으로 데이터에 결측치(missing data)가 있는지 확인하고, 데이터 정제 과정을 수행해 봅시다."
   ]
  },
  {
   "cell_type": "code",
   "execution_count": 2,
   "id": "86b250e6",
   "metadata": {},
   "outputs": [
    {
     "name": "stdout",
     "output_type": "stream",
     "text": [
      "<class 'pandas.core.frame.DataFrame'>\n",
      "RangeIndex: 200 entries, 0 to 199\n",
      "Data columns (total 11 columns):\n",
      " #   Column     Non-Null Count  Dtype  \n",
      "---  ------     --------------  -----  \n",
      " 0   addr       200 non-null    object \n",
      " 1   code       200 non-null    object \n",
      " 2   color      200 non-null    object \n",
      " 3   inventory  200 non-null    int64  \n",
      " 4   lat        200 non-null    float64\n",
      " 5   lng        200 non-null    float64\n",
      " 6   name       200 non-null    object \n",
      " 7   openTime   13 non-null     object \n",
      " 8   price      200 non-null    int64  \n",
      " 9   regDt      200 non-null    object \n",
      " 10  tel        200 non-null    object \n",
      "dtypes: float64(2), int64(2), object(7)\n",
      "memory usage: 17.3+ KB\n"
     ]
    }
   ],
   "source": [
    "df.info() # 데이터 구조 확인"
   ]
  },
  {
   "cell_type": "markdown",
   "id": "05c9ecce",
   "metadata": {},
   "source": [
    "데이터 구조를 살펴보면 `영업시간` 대한 정보에 결측치가 있는 것을 알 수 있습니다. 이는 `영업시간`에 대한 정보가 존재하지 않는 다는 것을 의미합니다.\n",
    "\n",
    "비어있는 열에서는 유의미한 정보를 얻을 수 없기 때문에 `df.drop()`을 사용하여 해당 데이터를 삭제합니다."
   ]
  },
  {
   "cell_type": "code",
   "execution_count": 3,
   "id": "49944541",
   "metadata": {},
   "outputs": [
    {
     "data": {
      "text/html": [
       "<div>\n",
       "<style scoped>\n",
       "    .dataframe tbody tr th:only-of-type {\n",
       "        vertical-align: middle;\n",
       "    }\n",
       "\n",
       "    .dataframe tbody tr th {\n",
       "        vertical-align: top;\n",
       "    }\n",
       "\n",
       "    .dataframe thead th {\n",
       "        text-align: right;\n",
       "    }\n",
       "</style>\n",
       "<table border=\"1\" class=\"dataframe\">\n",
       "  <thead>\n",
       "    <tr style=\"text-align: right;\">\n",
       "      <th></th>\n",
       "      <th>addr</th>\n",
       "      <th>code</th>\n",
       "      <th>color</th>\n",
       "      <th>inventory</th>\n",
       "      <th>lat</th>\n",
       "      <th>lng</th>\n",
       "      <th>name</th>\n",
       "      <th>price</th>\n",
       "      <th>regDt</th>\n",
       "      <th>tel</th>\n",
       "    </tr>\n",
       "  </thead>\n",
       "  <tbody>\n",
       "    <tr>\n",
       "      <th>0</th>\n",
       "      <td>경기 광명시 오리로 608 (소하동)</td>\n",
       "      <td>A0000004</td>\n",
       "      <td>GREEN</td>\n",
       "      <td>1700</td>\n",
       "      <td>37.456201</td>\n",
       "      <td>126.880407</td>\n",
       "      <td>(주)지에스이앤알 직영 하안단지주유소</td>\n",
       "      <td>2000</td>\n",
       "      <td>2021-12-28 10:23:15</td>\n",
       "      <td>02-899-5202</td>\n",
       "    </tr>\n",
       "    <tr>\n",
       "      <th>1</th>\n",
       "      <td>경기 용인시 기흥구 흥덕중앙로 92</td>\n",
       "      <td>A0000012</td>\n",
       "      <td>GREEN</td>\n",
       "      <td>3228</td>\n",
       "      <td>37.275967</td>\n",
       "      <td>127.077150</td>\n",
       "      <td>(주)지에스이앤알 흥덕주유소</td>\n",
       "      <td>2000</td>\n",
       "      <td>2021-12-28 06:06:12</td>\n",
       "      <td>031-215-8053</td>\n",
       "    </tr>\n",
       "    <tr>\n",
       "      <th>2</th>\n",
       "      <td>충남 부여군 내산면 서천공주고속도로 26</td>\n",
       "      <td>A0000052</td>\n",
       "      <td>GRAY</td>\n",
       "      <td>0</td>\n",
       "      <td>36.258064</td>\n",
       "      <td>126.800203</td>\n",
       "      <td>부여백제(공주)주유/충전소</td>\n",
       "      <td>1500</td>\n",
       "      <td>2021-12-28 11:11:38</td>\n",
       "      <td>041-833-8300</td>\n",
       "    </tr>\n",
       "    <tr>\n",
       "      <th>3</th>\n",
       "      <td>충남 공주시 당진영덕고속도로 72-1</td>\n",
       "      <td>A0000053</td>\n",
       "      <td>YELLOW</td>\n",
       "      <td>791</td>\n",
       "      <td>36.497380</td>\n",
       "      <td>127.168437</td>\n",
       "      <td>공주(대전)휴게소 주유소</td>\n",
       "      <td>1000</td>\n",
       "      <td>2021-12-28 09:01:09</td>\n",
       "      <td>041-854-9728</td>\n",
       "    </tr>\n",
       "    <tr>\n",
       "      <th>4</th>\n",
       "      <td>충남 공주시 의당면 당진영덕고속도로 69</td>\n",
       "      <td>A0000054</td>\n",
       "      <td>YELLOW</td>\n",
       "      <td>762</td>\n",
       "      <td>36.498579</td>\n",
       "      <td>127.165047</td>\n",
       "      <td>공주(당진)휴게소주유소/충전소</td>\n",
       "      <td>1000</td>\n",
       "      <td>2021-12-28 13:56:33</td>\n",
       "      <td>041-854-9504</td>\n",
       "    </tr>\n",
       "    <tr>\n",
       "      <th>...</th>\n",
       "      <td>...</td>\n",
       "      <td>...</td>\n",
       "      <td>...</td>\n",
       "      <td>...</td>\n",
       "      <td>...</td>\n",
       "      <td>...</td>\n",
       "      <td>...</td>\n",
       "      <td>...</td>\n",
       "      <td>...</td>\n",
       "      <td>...</td>\n",
       "    </tr>\n",
       "    <tr>\n",
       "      <th>195</th>\n",
       "      <td>인천 서구 중봉대로 148</td>\n",
       "      <td>A0008072</td>\n",
       "      <td>GREEN</td>\n",
       "      <td>2510</td>\n",
       "      <td>37.492677</td>\n",
       "      <td>126.648296</td>\n",
       "      <td>한밭산업㈜ 청라주유소</td>\n",
       "      <td>1500</td>\n",
       "      <td>2021-12-28 12:02:05</td>\n",
       "      <td>032-575-5261</td>\n",
       "    </tr>\n",
       "    <tr>\n",
       "      <th>196</th>\n",
       "      <td>인천 서구 봉수대로 1543 (금곡동)</td>\n",
       "      <td>A0008107</td>\n",
       "      <td>YELLOW</td>\n",
       "      <td>972</td>\n",
       "      <td>37.609760</td>\n",
       "      <td>126.643827</td>\n",
       "      <td>(주)디오티디 인천랍스터주유소</td>\n",
       "      <td>2000</td>\n",
       "      <td>2021-12-28 11:19:25</td>\n",
       "      <td>032-567-5185</td>\n",
       "    </tr>\n",
       "    <tr>\n",
       "      <th>197</th>\n",
       "      <td>경기 의왕시 오봉로 182 (부곡동)</td>\n",
       "      <td>A0008150</td>\n",
       "      <td>GREEN</td>\n",
       "      <td>1912</td>\n",
       "      <td>37.334862</td>\n",
       "      <td>126.960332</td>\n",
       "      <td>현대오일뱅크(주)직영 의왕셀프주유소</td>\n",
       "      <td>2000</td>\n",
       "      <td>2021-12-28 09:08:34</td>\n",
       "      <td>031-461-8204</td>\n",
       "    </tr>\n",
       "    <tr>\n",
       "      <th>198</th>\n",
       "      <td>경기 의왕시 창말로 39</td>\n",
       "      <td>A0008176</td>\n",
       "      <td>YELLOW</td>\n",
       "      <td>200</td>\n",
       "      <td>37.336115</td>\n",
       "      <td>126.953993</td>\n",
       "      <td>의왕아이시디주유소</td>\n",
       "      <td>1500</td>\n",
       "      <td>2021-12-28 11:13:41</td>\n",
       "      <td>031-461-8005</td>\n",
       "    </tr>\n",
       "    <tr>\n",
       "      <th>199</th>\n",
       "      <td>경기 의왕시 경수대로 112 (왕곡동)</td>\n",
       "      <td>A0008224</td>\n",
       "      <td>GREEN</td>\n",
       "      <td>2067</td>\n",
       "      <td>37.337753</td>\n",
       "      <td>126.980311</td>\n",
       "      <td>지지대셀프주유소</td>\n",
       "      <td>2200</td>\n",
       "      <td>2021-12-28 14:46:49</td>\n",
       "      <td>031-454-0448</td>\n",
       "    </tr>\n",
       "  </tbody>\n",
       "</table>\n",
       "<p>200 rows × 10 columns</p>\n",
       "</div>"
      ],
      "text/plain": [
       "                       addr      code   color  inventory        lat  \\\n",
       "0      경기 광명시 오리로 608 (소하동)  A0000004   GREEN       1700  37.456201   \n",
       "1       경기 용인시 기흥구 흥덕중앙로 92  A0000012   GREEN       3228  37.275967   \n",
       "2    충남 부여군 내산면 서천공주고속도로 26  A0000052    GRAY          0  36.258064   \n",
       "3      충남 공주시 당진영덕고속도로 72-1  A0000053  YELLOW        791  36.497380   \n",
       "4    충남 공주시 의당면 당진영덕고속도로 69  A0000054  YELLOW        762  36.498579   \n",
       "..                      ...       ...     ...        ...        ...   \n",
       "195          인천 서구 중봉대로 148  A0008072   GREEN       2510  37.492677   \n",
       "196   인천 서구 봉수대로 1543 (금곡동)  A0008107  YELLOW        972  37.609760   \n",
       "197    경기 의왕시 오봉로 182 (부곡동)  A0008150   GREEN       1912  37.334862   \n",
       "198           경기 의왕시 창말로 39  A0008176  YELLOW        200  37.336115   \n",
       "199   경기 의왕시 경수대로 112 (왕곡동)  A0008224   GREEN       2067  37.337753   \n",
       "\n",
       "            lng                  name  price                regDt  \\\n",
       "0    126.880407  (주)지에스이앤알 직영 하안단지주유소   2000  2021-12-28 10:23:15   \n",
       "1    127.077150       (주)지에스이앤알 흥덕주유소   2000  2021-12-28 06:06:12   \n",
       "2    126.800203        부여백제(공주)주유/충전소   1500  2021-12-28 11:11:38   \n",
       "3    127.168437         공주(대전)휴게소 주유소   1000  2021-12-28 09:01:09   \n",
       "4    127.165047      공주(당진)휴게소주유소/충전소   1000  2021-12-28 13:56:33   \n",
       "..          ...                   ...    ...                  ...   \n",
       "195  126.648296           한밭산업㈜ 청라주유소   1500  2021-12-28 12:02:05   \n",
       "196  126.643827      (주)디오티디 인천랍스터주유소   2000  2021-12-28 11:19:25   \n",
       "197  126.960332   현대오일뱅크(주)직영 의왕셀프주유소   2000  2021-12-28 09:08:34   \n",
       "198  126.953993             의왕아이시디주유소   1500  2021-12-28 11:13:41   \n",
       "199  126.980311              지지대셀프주유소   2200  2021-12-28 14:46:49   \n",
       "\n",
       "              tel  \n",
       "0     02-899-5202  \n",
       "1    031-215-8053  \n",
       "2    041-833-8300  \n",
       "3    041-854-9728  \n",
       "4    041-854-9504  \n",
       "..            ...  \n",
       "195  032-575-5261  \n",
       "196  032-567-5185  \n",
       "197  031-461-8204  \n",
       "198  031-461-8005  \n",
       "199  031-454-0448  \n",
       "\n",
       "[200 rows x 10 columns]"
      ]
     },
     "execution_count": 3,
     "metadata": {},
     "output_type": "execute_result"
    }
   ],
   "source": [
    "df = df.drop('openTime', axis=1)\n",
    "df"
   ]
  },
  {
   "cell_type": "code",
   "execution_count": 4,
   "id": "1b058cba",
   "metadata": {},
   "outputs": [
    {
     "name": "stdout",
     "output_type": "stream",
     "text": [
      "<class 'pandas.core.frame.DataFrame'>\n",
      "RangeIndex: 200 entries, 0 to 199\n",
      "Data columns (total 10 columns):\n",
      " #   Column     Non-Null Count  Dtype  \n",
      "---  ------     --------------  -----  \n",
      " 0   addr       200 non-null    object \n",
      " 1   code       200 non-null    object \n",
      " 2   color      200 non-null    object \n",
      " 3   inventory  200 non-null    int64  \n",
      " 4   lat        200 non-null    float64\n",
      " 5   lng        200 non-null    float64\n",
      " 6   name       200 non-null    object \n",
      " 7   price      200 non-null    int64  \n",
      " 8   regDt      200 non-null    object \n",
      " 9   tel        200 non-null    object \n",
      "dtypes: float64(2), int64(2), object(6)\n",
      "memory usage: 15.8+ KB\n"
     ]
    }
   ],
   "source": [
    "df.info()"
   ]
  },
  {
   "cell_type": "markdown",
   "id": "ebe5ed1a",
   "metadata": {},
   "source": [
    "이제 `영업시간` 데이터가 삭제된 것을 확인할 수 있습니다."
   ]
  },
  {
   "cell_type": "markdown",
   "id": "7039cb13",
   "metadata": {},
   "source": [
    "이번에는 이상치가 있는지 살펴보겠습니다. `inventory`와 `price` 두 변수에 대해 진행해봅시다."
   ]
  },
  {
   "cell_type": "code",
   "execution_count": null,
   "id": "f2bedf9b",
   "metadata": {},
   "outputs": [],
   "source": [
    "inven_mean = df['inventory'].mean()\n",
    "print(f\"재고량 평균은 {inven_mean:.2f}개\") # 문자열 포맷팅"
   ]
  },
  {
   "cell_type": "code",
   "execution_count": null,
   "id": "fbd78a1f",
   "metadata": {},
   "outputs": [],
   "source": [
    "# 재고량이 가장 적은 관측값들\n",
    "df['inventory'].sort_values()[:5]"
   ]
  },
  {
   "cell_type": "code",
   "execution_count": null,
   "id": "c7ba5ed4",
   "metadata": {},
   "outputs": [],
   "source": [
    "# 재고량이 가장 많은 관측값들\n",
    "df['inventory'].sort_values()[-5:]"
   ]
  },
  {
   "cell_type": "markdown",
   "id": "92aff81d",
   "metadata": {},
   "source": [
    "음수의 값을 가진다거나, 터무니 없이 큰 값을 가지는 케이스는 우선 없는 것 같습니다."
   ]
  },
  {
   "cell_type": "code",
   "execution_count": null,
   "id": "c1927999",
   "metadata": {},
   "outputs": [],
   "source": [
    "price_mean = df['price'].mean()\n",
    "print(f\"가격 평균은 {price_mean:.2f}원\") # 문자열 포맷팅"
   ]
  },
  {
   "cell_type": "code",
   "execution_count": null,
   "id": "70ccbbdc",
   "metadata": {},
   "outputs": [],
   "source": [
    "# 가격이 가장 낮은 관측값들\n",
    "df['price'].sort_values()[:5]"
   ]
  },
  {
   "cell_type": "code",
   "execution_count": null,
   "id": "d6d02176",
   "metadata": {},
   "outputs": [],
   "source": [
    "# 가격이 가장 높은 관측값들\n",
    "df['price'].sort_values()[-5:]"
   ]
  },
  {
   "cell_type": "markdown",
   "id": "490def05",
   "metadata": {},
   "source": [
    "요소수 가격은 1000원에서 3000원 사이에 꽤 고르게 분포하고 있는 것을 알 수 있습니다. <br>\n",
    "이 경우에도 별다른 이상치는 없는 것으로 보이므로, 본격적인 분석 단계로 넘어가겠습니다."
   ]
  },
  {
   "cell_type": "markdown",
   "id": "6a557ca4",
   "metadata": {},
   "source": [
    "---"
   ]
  },
  {
   "cell_type": "markdown",
   "id": "7f81fadd",
   "metadata": {},
   "source": [
    "## 3. 데이터 분석하기"
   ]
  },
  {
   "cell_type": "markdown",
   "id": "e9e10d41",
   "metadata": {},
   "source": [
    "`matplotlib`과 `seaborn` 라이브러리를 이용하여 데이터 통계를 해봅시다."
   ]
  },
  {
   "cell_type": "code",
   "execution_count": 13,
   "id": "6eb644ca",
   "metadata": {},
   "outputs": [],
   "source": [
    "# 필요한 라이브러리 불러오기\n",
    "import matplotlib.pyplot as plt\n",
    "import seaborn as sns"
   ]
  },
  {
   "cell_type": "markdown",
   "id": "806e5b5d",
   "metadata": {},
   "source": [
    "### 3-1. 지역별 요소수 유통 주유소 분포 알아보기"
   ]
  },
  {
   "cell_type": "markdown",
   "id": "273ef26c",
   "metadata": {},
   "source": [
    "먼저 `전화번호` 정보를 활용하여 지역별 요소수 유통 주유소의 분포를 알아봅시다.\n",
    "\n",
    "국내 지역번호 리스트를 생성하고 `전화번호` 데이터를 기반으로 각 지역의 요소수 유통 주유소의 수를 알아봅시다."
   ]
  },
  {
   "cell_type": "code",
   "execution_count": 14,
   "id": "14a9f01c",
   "metadata": {},
   "outputs": [
    {
     "data": {
      "text/plain": [
       "02       3\n",
       "031    148\n",
       "032     28\n",
       "033      1\n",
       "041     10\n",
       "042      0\n",
       "043      3\n",
       "044      0\n",
       "051      1\n",
       "052      0\n",
       "053      0\n",
       "054      2\n",
       "055      0\n",
       "061      1\n",
       "062      0\n",
       "063      3\n",
       "064      0\n",
       "dtype: int64"
      ]
     },
     "execution_count": 14,
     "metadata": {},
     "output_type": "execute_result"
    }
   ],
   "source": [
    "# 국내 지역번호 리스트 생성\n",
    "list_tel = ['02', '031', '032', '033', '041', '042', '043', '044', '051', '052', '053', '054', '055', '061', '062', '063', '064']\n",
    "df_region_by_tel = pd.Series(np.zeros(len(list_tel), dtype=np.int64), index=list_tel)\n",
    "\n",
    "# 지역별 요소수 유통 주유소 수 세기\n",
    "for i in list_tel:\n",
    "    df_region_by_tel[i] = df['tel'].str.startswith(i).sum()\n",
    "\n",
    "df_region_by_tel"
   ]
  },
  {
   "cell_type": "markdown",
   "id": "b516332c",
   "metadata": {},
   "source": [
    "`전화번호` 정보를 살펴보았을 때 대부분의 요소수 유통 주유소는 수도권, 특히 경기도에 밀집되어 있으며 지방에서는 찾기 힘든 것을 확인할 수 있습니다."
   ]
  },
  {
   "cell_type": "markdown",
   "id": "45921216",
   "metadata": {},
   "source": [
    "추가적으로 주소 (`addr`)을 이용해서도 유사한 분석을 진행해보겠습니다."
   ]
  },
  {
   "cell_type": "code",
   "execution_count": 15,
   "id": "fb1e7eba",
   "metadata": {},
   "outputs": [],
   "source": [
    "# 문자열을 입력받아 첫번째 단어를 추출하는 간단한 보조함수를 먼저 정의합니다.\n",
    "def extract(string):\n",
    "    return string.split()[0] # 띄어쓰기를 기준으로 'split'"
   ]
  },
  {
   "cell_type": "code",
   "execution_count": 7,
   "id": "63eee0bf",
   "metadata": {},
   "outputs": [
    {
     "data": {
      "text/plain": [
       "0      경기\n",
       "1      경기\n",
       "2      충남\n",
       "3      충남\n",
       "4      충남\n",
       "       ..\n",
       "195    인천\n",
       "196    인천\n",
       "197    경기\n",
       "198    경기\n",
       "199    경기\n",
       "Name: addr, Length: 200, dtype: object"
      ]
     },
     "execution_count": 7,
     "metadata": {},
     "output_type": "execute_result"
    }
   ],
   "source": [
    "addrs = df['addr'].apply(extract)\n",
    "addrs"
   ]
  },
  {
   "cell_type": "code",
   "execution_count": 16,
   "id": "c50eef5e",
   "metadata": {},
   "outputs": [
    {
     "data": {
      "text/plain": [
       "addr\n",
       "경기       144\n",
       "인천        25\n",
       "충남        10\n",
       "경기도        6\n",
       "전북         3\n",
       "충북         3\n",
       "경북         2\n",
       "평택시        2\n",
       "부산         1\n",
       "서울         1\n",
       "인천광역시      1\n",
       "강원         1\n",
       "전남         1\n",
       "Name: count, dtype: int64"
      ]
     },
     "execution_count": 16,
     "metadata": {},
     "output_type": "execute_result"
    }
   ],
   "source": [
    "addrs_cnt = addrs.value_counts().sort_values(ascending=False)\n",
    "addrs_cnt"
   ]
  },
  {
   "cell_type": "code",
   "execution_count": 17,
   "id": "d67f190f",
   "metadata": {},
   "outputs": [
    {
     "data": {
      "text/html": [
       "<div>\n",
       "<style scoped>\n",
       "    .dataframe tbody tr th:only-of-type {\n",
       "        vertical-align: middle;\n",
       "    }\n",
       "\n",
       "    .dataframe tbody tr th {\n",
       "        vertical-align: top;\n",
       "    }\n",
       "\n",
       "    .dataframe thead th {\n",
       "        text-align: right;\n",
       "    }\n",
       "</style>\n",
       "<table border=\"1\" class=\"dataframe\">\n",
       "  <thead>\n",
       "    <tr style=\"text-align: right;\">\n",
       "      <th></th>\n",
       "      <th>count</th>\n",
       "    </tr>\n",
       "    <tr>\n",
       "      <th>addr</th>\n",
       "      <th></th>\n",
       "    </tr>\n",
       "  </thead>\n",
       "  <tbody>\n",
       "    <tr>\n",
       "      <th>경기</th>\n",
       "      <td>144</td>\n",
       "    </tr>\n",
       "    <tr>\n",
       "      <th>인천</th>\n",
       "      <td>25</td>\n",
       "    </tr>\n",
       "    <tr>\n",
       "      <th>충남</th>\n",
       "      <td>10</td>\n",
       "    </tr>\n",
       "    <tr>\n",
       "      <th>경기도</th>\n",
       "      <td>6</td>\n",
       "    </tr>\n",
       "    <tr>\n",
       "      <th>전북</th>\n",
       "      <td>3</td>\n",
       "    </tr>\n",
       "    <tr>\n",
       "      <th>충북</th>\n",
       "      <td>3</td>\n",
       "    </tr>\n",
       "    <tr>\n",
       "      <th>경북</th>\n",
       "      <td>2</td>\n",
       "    </tr>\n",
       "    <tr>\n",
       "      <th>평택시</th>\n",
       "      <td>2</td>\n",
       "    </tr>\n",
       "    <tr>\n",
       "      <th>부산</th>\n",
       "      <td>1</td>\n",
       "    </tr>\n",
       "    <tr>\n",
       "      <th>서울</th>\n",
       "      <td>1</td>\n",
       "    </tr>\n",
       "    <tr>\n",
       "      <th>인천광역시</th>\n",
       "      <td>1</td>\n",
       "    </tr>\n",
       "    <tr>\n",
       "      <th>강원</th>\n",
       "      <td>1</td>\n",
       "    </tr>\n",
       "    <tr>\n",
       "      <th>전남</th>\n",
       "      <td>1</td>\n",
       "    </tr>\n",
       "  </tbody>\n",
       "</table>\n",
       "</div>"
      ],
      "text/plain": [
       "       count\n",
       "addr        \n",
       "경기       144\n",
       "인천        25\n",
       "충남        10\n",
       "경기도        6\n",
       "전북         3\n",
       "충북         3\n",
       "경북         2\n",
       "평택시        2\n",
       "부산         1\n",
       "서울         1\n",
       "인천광역시      1\n",
       "강원         1\n",
       "전남         1"
      ]
     },
     "execution_count": 17,
     "metadata": {},
     "output_type": "execute_result"
    }
   ],
   "source": [
    "addrs_cnt_df = pd.DataFrame(addrs_cnt).rename(columns={'addr':'counts'})\n",
    "addrs_cnt_df"
   ]
  },
  {
   "cell_type": "markdown",
   "id": "2994c3b2",
   "metadata": {},
   "source": [
    "`인천`과 `인천광역시`가 데이터 수집 과정에서의 오류로 중복 기재되었으므로, 손으로 직접 처리해줍니다. <br>\n",
    "`경기도`와 `경기`도 비슷한 방법으로 진행해줍니다."
   ]
  },
  {
   "cell_type": "code",
   "execution_count": 18,
   "id": "a26ab1af",
   "metadata": {},
   "outputs": [],
   "source": [
    "# 두 row의 인덱스 값을 입력받아, 첫번째 인덱스로 병합하는 간단한 보조함수를 정의합니다.\n",
    "def merge_rows(df, rowA, rowB):\n",
    "    cnt = df.loc[rowB]\n",
    "    df.loc[rowA] += cnt\n",
    "    df = df.drop(rowB)\n",
    "    return df"
   ]
  },
  {
   "cell_type": "code",
   "execution_count": 19,
   "id": "e6a0fbde",
   "metadata": {},
   "outputs": [
    {
     "data": {
      "text/html": [
       "<div>\n",
       "<style scoped>\n",
       "    .dataframe tbody tr th:only-of-type {\n",
       "        vertical-align: middle;\n",
       "    }\n",
       "\n",
       "    .dataframe tbody tr th {\n",
       "        vertical-align: top;\n",
       "    }\n",
       "\n",
       "    .dataframe thead th {\n",
       "        text-align: right;\n",
       "    }\n",
       "</style>\n",
       "<table border=\"1\" class=\"dataframe\">\n",
       "  <thead>\n",
       "    <tr style=\"text-align: right;\">\n",
       "      <th></th>\n",
       "      <th>count</th>\n",
       "    </tr>\n",
       "    <tr>\n",
       "      <th>addr</th>\n",
       "      <th></th>\n",
       "    </tr>\n",
       "  </thead>\n",
       "  <tbody>\n",
       "    <tr>\n",
       "      <th>경기</th>\n",
       "      <td>144</td>\n",
       "    </tr>\n",
       "    <tr>\n",
       "      <th>인천</th>\n",
       "      <td>26</td>\n",
       "    </tr>\n",
       "    <tr>\n",
       "      <th>충남</th>\n",
       "      <td>10</td>\n",
       "    </tr>\n",
       "    <tr>\n",
       "      <th>경기도</th>\n",
       "      <td>6</td>\n",
       "    </tr>\n",
       "    <tr>\n",
       "      <th>전북</th>\n",
       "      <td>3</td>\n",
       "    </tr>\n",
       "    <tr>\n",
       "      <th>충북</th>\n",
       "      <td>3</td>\n",
       "    </tr>\n",
       "    <tr>\n",
       "      <th>경북</th>\n",
       "      <td>2</td>\n",
       "    </tr>\n",
       "    <tr>\n",
       "      <th>평택시</th>\n",
       "      <td>2</td>\n",
       "    </tr>\n",
       "    <tr>\n",
       "      <th>부산</th>\n",
       "      <td>1</td>\n",
       "    </tr>\n",
       "    <tr>\n",
       "      <th>서울</th>\n",
       "      <td>1</td>\n",
       "    </tr>\n",
       "    <tr>\n",
       "      <th>강원</th>\n",
       "      <td>1</td>\n",
       "    </tr>\n",
       "    <tr>\n",
       "      <th>전남</th>\n",
       "      <td>1</td>\n",
       "    </tr>\n",
       "  </tbody>\n",
       "</table>\n",
       "</div>"
      ],
      "text/plain": [
       "      count\n",
       "addr       \n",
       "경기      144\n",
       "인천       26\n",
       "충남       10\n",
       "경기도       6\n",
       "전북        3\n",
       "충북        3\n",
       "경북        2\n",
       "평택시       2\n",
       "부산        1\n",
       "서울        1\n",
       "강원        1\n",
       "전남        1"
      ]
     },
     "execution_count": 19,
     "metadata": {},
     "output_type": "execute_result"
    }
   ],
   "source": [
    "addrs_cnt_df = merge_rows(addrs_cnt_df, '인천', '인천광역시')\n",
    "addrs_cnt_df"
   ]
  },
  {
   "cell_type": "code",
   "execution_count": 20,
   "id": "03dc8e52",
   "metadata": {},
   "outputs": [
    {
     "data": {
      "text/html": [
       "<div>\n",
       "<style scoped>\n",
       "    .dataframe tbody tr th:only-of-type {\n",
       "        vertical-align: middle;\n",
       "    }\n",
       "\n",
       "    .dataframe tbody tr th {\n",
       "        vertical-align: top;\n",
       "    }\n",
       "\n",
       "    .dataframe thead th {\n",
       "        text-align: right;\n",
       "    }\n",
       "</style>\n",
       "<table border=\"1\" class=\"dataframe\">\n",
       "  <thead>\n",
       "    <tr style=\"text-align: right;\">\n",
       "      <th></th>\n",
       "      <th>count</th>\n",
       "    </tr>\n",
       "    <tr>\n",
       "      <th>addr</th>\n",
       "      <th></th>\n",
       "    </tr>\n",
       "  </thead>\n",
       "  <tbody>\n",
       "    <tr>\n",
       "      <th>경기</th>\n",
       "      <td>150</td>\n",
       "    </tr>\n",
       "    <tr>\n",
       "      <th>인천</th>\n",
       "      <td>26</td>\n",
       "    </tr>\n",
       "    <tr>\n",
       "      <th>충남</th>\n",
       "      <td>10</td>\n",
       "    </tr>\n",
       "    <tr>\n",
       "      <th>전북</th>\n",
       "      <td>3</td>\n",
       "    </tr>\n",
       "    <tr>\n",
       "      <th>충북</th>\n",
       "      <td>3</td>\n",
       "    </tr>\n",
       "    <tr>\n",
       "      <th>경북</th>\n",
       "      <td>2</td>\n",
       "    </tr>\n",
       "    <tr>\n",
       "      <th>평택시</th>\n",
       "      <td>2</td>\n",
       "    </tr>\n",
       "    <tr>\n",
       "      <th>부산</th>\n",
       "      <td>1</td>\n",
       "    </tr>\n",
       "    <tr>\n",
       "      <th>서울</th>\n",
       "      <td>1</td>\n",
       "    </tr>\n",
       "    <tr>\n",
       "      <th>강원</th>\n",
       "      <td>1</td>\n",
       "    </tr>\n",
       "    <tr>\n",
       "      <th>전남</th>\n",
       "      <td>1</td>\n",
       "    </tr>\n",
       "  </tbody>\n",
       "</table>\n",
       "</div>"
      ],
      "text/plain": [
       "      count\n",
       "addr       \n",
       "경기      150\n",
       "인천       26\n",
       "충남       10\n",
       "전북        3\n",
       "충북        3\n",
       "경북        2\n",
       "평택시       2\n",
       "부산        1\n",
       "서울        1\n",
       "강원        1\n",
       "전남        1"
      ]
     },
     "execution_count": 20,
     "metadata": {},
     "output_type": "execute_result"
    }
   ],
   "source": [
    "addrs_cnt_df = merge_rows(addrs_cnt_df, '경기', '경기도')\n",
    "addrs_cnt_df"
   ]
  },
  {
   "cell_type": "markdown",
   "id": "063f2962",
   "metadata": {},
   "source": [
    "`평택시`의 경우도 경기도의 일부로 분류되는 것이 옳겠으나, 데이터 수집 과정에서 노이즈가 들어간 경우라고 볼 수 있겠습니다. <br>\n",
    "분석 필요에 따라 이 부분도 위와 같이 처리해줄 수 있겠습니다."
   ]
  },
  {
   "cell_type": "markdown",
   "id": "98745353",
   "metadata": {},
   "source": [
    "---"
   ]
  },
  {
   "cell_type": "markdown",
   "id": "7b9d4d3b",
   "metadata": {},
   "source": [
    "### 3-2. 요소수 재고 레벨 분포 알아보기"
   ]
  },
  {
   "cell_type": "markdown",
   "id": "8da88b5b",
   "metadata": {},
   "source": [
    "전국의 요소수 `재고량`의 분포를 `histogram`을 통해 알아봅시다."
   ]
  },
  {
   "cell_type": "code",
   "execution_count": 21,
   "id": "76f7b87e",
   "metadata": {},
   "outputs": [
    {
     "data": {
      "text/plain": [
       "Text(0, 0.5, 'count')"
      ]
     },
     "execution_count": 21,
     "metadata": {},
     "output_type": "execute_result"
    },
    {
     "data": {
      "image/png": "[encoded data removed]",
      "text/plain": [
       "<Figure size 640x480 with 1 Axes>"
      ]
     },
     "metadata": {},
     "output_type": "display_data"
    }
   ],
   "source": [
    "fig, ax = plt.subplots()\n",
    "ax.hist(df['inventory'], bins=30)\n",
    "ax.set_xlabel('inventory')\n",
    "ax.set_ylabel('count')"
   ]
  },
  {
   "cell_type": "markdown",
   "id": "8e70489d",
   "metadata": {},
   "source": [
    "위의 `histogram`을 살펴보면 `재고량`이 왼쪽에 많이 분포되어 있는 것을 확인할 수 있습니다.\n",
    "\n",
    "`재고량` 데이터를 `boxplot`으로도 확인해 보고, 평균 `재고량`도 계산해 봅시다."
   ]
  },
  {
   "cell_type": "code",
   "execution_count": 22,
   "id": "d3ba1a25",
   "metadata": {},
   "outputs": [
    {
     "name": "stdout",
     "output_type": "stream",
     "text": [
      "요소수 재고량의 평균은 1371.315개입니다.\n"
     ]
    },
    {
     "data": {
      "image/png": "[encoded data removed]",
      "text/plain": [
       "<Figure size 640x480 with 1 Axes>"
      ]
     },
     "metadata": {},
     "output_type": "display_data"
    }
   ],
   "source": [
    "df.boxplot(column='inventory', grid=False) # boxplot 생성\n",
    "\n",
    "inven_mean = df['inventory'].mean() # 평균값 계산\n",
    "print(f\"요소수 재고량의 평균은 {inven_mean}개입니다.\") # 문자열 포맷팅"
   ]
  },
  {
   "cell_type": "markdown",
   "id": "fafb1bdd",
   "metadata": {},
   "source": [
    "요소수의 평균 재고량은 `1371.315`입니다.\n",
    "\n",
    "위의 두 그래프만 봤을 때는 요소수 재고가 부족한 것처럼 보입니다. 요소수 `재고 레벨`을 막대그래프로 그려보고 재고 현황을 좀 더 파헤쳐 봅시다."
   ]
  },
  {
   "cell_type": "code",
   "execution_count": 23,
   "id": "dcc322f6",
   "metadata": {},
   "outputs": [
    {
     "name": "stderr",
     "output_type": "stream",
     "text": [
      "/var/folders/hd/x78brj1j2zn2msbqhqqp8qs00000gn/T/ipykernel_10758/921622446.py:3: FutureWarning: \n",
      "\n",
      "Passing `palette` without assigning `hue` is deprecated and will be removed in v0.14.0. Assign the `x` variable to `hue` and set `legend=False` for the same effect.\n",
      "\n",
      "  ax = sns.countplot(x='color', data=df, palette=['#8FBC8B', '#F0E68C', '#FA8072', '#C0C0C0'], order=['GREEN', 'YELLOW', 'RED', 'GRAY'])\n"
     ]
    },
    {
     "data": {
      "image/png": "[encoded data removed]",
      "text/plain": [
       "<Figure size 500x500 with 1 Axes>"
      ]
     },
     "metadata": {},
     "output_type": "display_data"
    }
   ],
   "source": [
    "plt.figure(figsize=(5,5))\n",
    "sns.set(style='darkgrid')\n",
    "ax = sns.countplot(x='color', data=df, palette=['#8FBC8B', '#F0E68C', '#FA8072', '#C0C0C0'], order=['GREEN', 'YELLOW', 'RED', 'GRAY'])"
   ]
  },
  {
   "cell_type": "markdown",
   "id": "6894ed43",
   "metadata": {},
   "source": [
    "`GREEN`은 여유, `YELLOW`는 보통, `RED`는 부족, `GRAY`는 품절은 의미합니다.\n",
    "\n",
    "위의 그래프를 보았을 때는 요소수 재고가 여유있는 것을 알 수 있습니다. 실제로 `재고량`이 `1000` 이상이면 `GREEN`으로 분류되기 때문에 요소수 재고는 여유있는 것입니다."
   ]
  },
  {
   "cell_type": "markdown",
   "id": "8c21334a",
   "metadata": {},
   "source": [
    "---"
   ]
  },
  {
   "cell_type": "markdown",
   "id": "28e05779",
   "metadata": {},
   "source": [
    "### 3-3. 요소수 가격 분포 알아보기"
   ]
  },
  {
   "cell_type": "markdown",
   "id": "a6d58c47",
   "metadata": {},
   "source": [
    "앞서 사용한 방법과 마찬가지로 `histogram`을 통해 요소수 `가격`의 분포를 알아봅시다. "
   ]
  },
  {
   "cell_type": "code",
   "execution_count": 24,
   "id": "e8aba463",
   "metadata": {},
   "outputs": [
    {
     "data": {
      "image/png": "[encoded data removed]",
      "text/plain": [
       "<Figure size 640x480 with 1 Axes>"
      ]
     },
     "metadata": {},
     "output_type": "display_data"
    }
   ],
   "source": [
    "fig, ax = plt.subplots()\n",
    "ax.hist(df['price'], bins=10, color='indigo')\n",
    "ax.set_xlabel('price')\n",
    "ax.set_ylabel('count')\n",
    "ax.set_facecolor('white')"
   ]
  },
  {
   "cell_type": "markdown",
   "id": "8e591eee",
   "metadata": {},
   "source": [
    "`가격` 데이터를 `boxplot`으로도 확인해 봅시다. 요소수의 평균 가격도 알아봅시다."
   ]
  },
  {
   "cell_type": "code",
   "execution_count": 25,
   "id": "79dd9150",
   "metadata": {},
   "outputs": [
    {
     "name": "stdout",
     "output_type": "stream",
     "text": [
      "요소수 가격의 평균은 1738.5원입니다.\n"
     ]
    },
    {
     "data": {
      "image/png": "[encoded data removed]",
      "text/plain": [
       "<Figure size 640x480 with 1 Axes>"
      ]
     },
     "metadata": {},
     "output_type": "display_data"
    }
   ],
   "source": [
    "df.boxplot(column='price', grid=False) # boxplot 생성\n",
    "\n",
    "price_mean = df['price'].mean() # 평균값 계산\n",
    "print(f\"요소수 가격의 평균은 {price_mean:.1f}원입니다.\") # 문자열 포맷팅"
   ]
  },
  {
   "cell_type": "markdown",
   "id": "2b1e8f39",
   "metadata": {},
   "source": [
    "요소수의 평균 가격은 `1738.5`원인 것을 확인하였습니다."
   ]
  },
  {
   "cell_type": "markdown",
   "id": "1ea7542d",
   "metadata": {},
   "source": [
    "---"
   ]
  },
  {
   "cell_type": "markdown",
   "id": "f9084ee9",
   "metadata": {},
   "source": [
    "### 3-4. 요소수 가격과 재고의 상관관계 알아보기"
   ]
  },
  {
   "cell_type": "markdown",
   "id": "a3a7bd7c",
   "metadata": {},
   "source": [
    "이번에는 `scatterplot`을 이용하여 주유소 별 요소수 가격과 재고량 사이에 상관관계가 있는지 알아보겠습니다."
   ]
  },
  {
   "cell_type": "code",
   "execution_count": 26,
   "id": "73bc383f",
   "metadata": {},
   "outputs": [
    {
     "data": {
      "image/png": "[encoded data removed]",
      "text/plain": [
       "<Figure size 640x480 with 1 Axes>"
      ]
     },
     "metadata": {},
     "output_type": "display_data"
    }
   ],
   "source": [
    "fig, ax = plt.subplots()\n",
    "ax.scatter(df['price'], df['inventory'], color='darkgreen')\n",
    "ax.set_xlabel('price')\n",
    "ax.set_ylabel('inventory')\n",
    "plt.show()"
   ]
  },
  {
   "cell_type": "markdown",
   "id": "9e1ad21e",
   "metadata": {},
   "source": [
    "이번에는 `pandas`의 `corr` 함수를 이용해서 가격과 재고량 사이의 통계적 상관관계를 확인해보겠습니다."
   ]
  },
  {
   "cell_type": "code",
   "execution_count": null,
   "id": "776f7589",
   "metadata": {},
   "outputs": [],
   "source": [
    "corr = df.corr(method=\"pearson\", numeric_only=True)[\"inventory\"][\n",
    "    \"price\"\n",
    "]  # 피어슨 상관계수\n",
    "print(\n",
    "    f\"가격과 재고량 사이의 피어슨 상관계수는 {corr:.3f}입니다.\"\n",
    ")  # 문자열 포맷팅"
   ]
  },
  {
   "cell_type": "markdown",
   "id": "b7378f98",
   "metadata": {},
   "source": [
    "관점에 따라 다르겠지만, 충분히 유의미한 선형 상관관계를 보인다고 말하기는 어렵겠습니다."
   ]
  },
  {
   "cell_type": "markdown",
   "id": "4f1731ec",
   "metadata": {},
   "source": [
    "---"
   ]
  },
  {
   "cell_type": "markdown",
   "id": "914565bc",
   "metadata": {},
   "source": [
    "### 3-5. 주유소 이름에서 패턴 찾아보기"
   ]
  },
  {
   "cell_type": "markdown",
   "id": "7a6e06e3",
   "metadata": {},
   "source": [
    "지금까지 가격이나 재고량과 같이 분석이 상대적으로 쉬운 변량들을 주로 다뤄봤습니다. <br>\n",
    "이번에는 주유소의 이름에서 패턴을 추출하는 조금 더 창의적인 분석을 시도해보겠습니다."
   ]
  },
  {
   "cell_type": "markdown",
   "id": "9b0780b6",
   "metadata": {},
   "source": [
    "분석에 앞서 분석을 도와줄 보조함수를 두 가지 정의하겠습니다. <br>\n",
    "여러 카테고리에 대해 유사한 분석을 진행할 때 이와 같이 관련 함수를 미리 정의해두면 수고를 줄일 수 있습니다."
   ]
  },
  {
   "cell_type": "code",
   "execution_count": 27,
   "id": "a4d9f7ae",
   "metadata": {},
   "outputs": [],
   "source": [
    "# 분석 키워드와 가격 차이를 입력값으로 받아, 전체 평균과 비교해주는 함수를 정의합니다.\n",
    "def price_insight(keyword, diff):\n",
    "    if diff > 0:\n",
    "        print(f\"{keyword} 주유소의 요소수 가격은 전체 평균에 비해 {diff:.2f}원 저렴합니다.\")\n",
    "    else:\n",
    "        print(f\"{keyword} 주유소의 요소수 가격은 전체 평균에 비해 {-diff:.2f}원 비쌉니다.\")    "
   ]
  },
  {
   "cell_type": "code",
   "execution_count": 28,
   "id": "64f61f88",
   "metadata": {},
   "outputs": [],
   "source": [
    "# 분석 키워드와 재고량 차이를 입력값으로 받아, 전체 평균과 비교해주는 함수를 정의합니다.\n",
    "def inven_insight(keyword, diff):\n",
    "    if diff > 0:\n",
    "        print(f\"{keyword} 주유소의 요소수 재고량은 전체 평균에 비해 {diff:.2f}만큼 적습니다.\")\n",
    "    else:\n",
    "        print(f\"{keyword} 주유소의 요소수 재고량은 전체 평균에 비해 {-diff:.2f}만큼 많습니다.\")    "
   ]
  },
  {
   "cell_type": "markdown",
   "id": "dd715f10",
   "metadata": {},
   "source": [
    "먼저 휴게소에 속해있는 주유소들을 살펴보겠습니다."
   ]
  },
  {
   "cell_type": "code",
   "execution_count": 29,
   "id": "ce4d65e6",
   "metadata": {},
   "outputs": [
    {
     "data": {
      "text/html": [
       "<div>\n",
       "<style scoped>\n",
       "    .dataframe tbody tr th:only-of-type {\n",
       "        vertical-align: middle;\n",
       "    }\n",
       "\n",
       "    .dataframe tbody tr th {\n",
       "        vertical-align: top;\n",
       "    }\n",
       "\n",
       "    .dataframe thead th {\n",
       "        text-align: right;\n",
       "    }\n",
       "</style>\n",
       "<table border=\"1\" class=\"dataframe\">\n",
       "  <thead>\n",
       "    <tr style=\"text-align: right;\">\n",
       "      <th></th>\n",
       "      <th>addr</th>\n",
       "      <th>code</th>\n",
       "      <th>color</th>\n",
       "      <th>inventory</th>\n",
       "      <th>lat</th>\n",
       "      <th>lng</th>\n",
       "      <th>name</th>\n",
       "      <th>price</th>\n",
       "      <th>regDt</th>\n",
       "      <th>tel</th>\n",
       "    </tr>\n",
       "  </thead>\n",
       "  <tbody>\n",
       "    <tr>\n",
       "      <th>3</th>\n",
       "      <td>충남 공주시 당진영덕고속도로 72-1</td>\n",
       "      <td>A0000053</td>\n",
       "      <td>YELLOW</td>\n",
       "      <td>791</td>\n",
       "      <td>36.497380</td>\n",
       "      <td>127.168437</td>\n",
       "      <td>공주(대전)휴게소 주유소</td>\n",
       "      <td>1000</td>\n",
       "      <td>2021-12-28 09:01:09</td>\n",
       "      <td>041-854-9728</td>\n",
       "    </tr>\n",
       "    <tr>\n",
       "      <th>4</th>\n",
       "      <td>충남 공주시 의당면 당진영덕고속도로 69</td>\n",
       "      <td>A0000054</td>\n",
       "      <td>YELLOW</td>\n",
       "      <td>762</td>\n",
       "      <td>36.498579</td>\n",
       "      <td>127.165047</td>\n",
       "      <td>공주(당진)휴게소주유소/충전소</td>\n",
       "      <td>1000</td>\n",
       "      <td>2021-12-28 13:56:33</td>\n",
       "      <td>041-854-9504</td>\n",
       "    </tr>\n",
       "    <tr>\n",
       "      <th>180</th>\n",
       "      <td>경기 용인시 처인구 이동면 남북대로 2616</td>\n",
       "      <td>A0007236</td>\n",
       "      <td>GRAY</td>\n",
       "      <td>0</td>\n",
       "      <td>37.140624</td>\n",
       "      <td>127.205600</td>\n",
       "      <td>송전휴게소주유소/충전소</td>\n",
       "      <td>1500</td>\n",
       "      <td>2021-12-28 14:12:48</td>\n",
       "      <td>031-335-4194</td>\n",
       "    </tr>\n",
       "  </tbody>\n",
       "</table>\n",
       "</div>"
      ],
      "text/plain": [
       "                         addr      code   color  inventory        lat  \\\n",
       "3        충남 공주시 당진영덕고속도로 72-1  A0000053  YELLOW        791  36.497380   \n",
       "4      충남 공주시 의당면 당진영덕고속도로 69  A0000054  YELLOW        762  36.498579   \n",
       "180  경기 용인시 처인구 이동면 남북대로 2616  A0007236    GRAY          0  37.140624   \n",
       "\n",
       "            lng              name  price                regDt           tel  \n",
       "3    127.168437     공주(대전)휴게소 주유소   1000  2021-12-28 09:01:09  041-854-9728  \n",
       "4    127.165047  공주(당진)휴게소주유소/충전소   1000  2021-12-28 13:56:33  041-854-9504  \n",
       "180  127.205600      송전휴게소주유소/충전소   1500  2021-12-28 14:12:48  031-335-4194  "
      ]
     },
     "execution_count": 29,
     "metadata": {},
     "output_type": "execute_result"
    }
   ],
   "source": [
    "tdf = df[df.name.str.contains('휴게소')]\n",
    "tdf"
   ]
  },
  {
   "cell_type": "code",
   "execution_count": 30,
   "id": "bc6117d5",
   "metadata": {},
   "outputs": [
    {
     "name": "stdout",
     "output_type": "stream",
     "text": [
      "휴게소 주유소의 요소수 가격은 전체 평균에 비해 571.83원 저렴합니다.\n"
     ]
    }
   ],
   "source": [
    "price_diff = df.price.mean() - tdf.price.mean() # 전체 평균과의 요소수 가격 차이\n",
    "price_insight(\"휴게소\", price_diff)"
   ]
  },
  {
   "cell_type": "code",
   "execution_count": 31,
   "id": "07a6c9c3",
   "metadata": {},
   "outputs": [
    {
     "name": "stdout",
     "output_type": "stream",
     "text": [
      "휴게소 주유소의 요소수 재고량은 전체 평균에 비해 853.65만큼 적습니다.\n"
     ]
    }
   ],
   "source": [
    "inven_diff = df.inventory.mean() - tdf.inventory.mean() # 전체 평균과의 요소수 가격 차이\n",
    "inven_insight(\"휴게소\", inven_diff)"
   ]
  },
  {
   "cell_type": "markdown",
   "id": "3dc47318",
   "metadata": {},
   "source": [
    "일반화하기에는 관측값이 부족하긴 하지만, 휴게소의 주유소들의 경우 요소수 가격은 더 저렴하고 대신 재고량도 부족한 경향이 있는 것 같습니다."
   ]
  },
  {
   "cell_type": "markdown",
   "id": "18949b30",
   "metadata": {},
   "source": [
    "이번에는 \"셀프\" 주유소들을 살펴보겠습니다."
   ]
  },
  {
   "cell_type": "code",
   "execution_count": 32,
   "id": "8659ceb8",
   "metadata": {},
   "outputs": [
    {
     "name": "stdout",
     "output_type": "stream",
     "text": [
      "셀프 주유소 관측값 수: 15\n"
     ]
    },
    {
     "data": {
      "text/html": [
       "<div>\n",
       "<style scoped>\n",
       "    .dataframe tbody tr th:only-of-type {\n",
       "        vertical-align: middle;\n",
       "    }\n",
       "\n",
       "    .dataframe tbody tr th {\n",
       "        vertical-align: top;\n",
       "    }\n",
       "\n",
       "    .dataframe thead th {\n",
       "        text-align: right;\n",
       "    }\n",
       "</style>\n",
       "<table border=\"1\" class=\"dataframe\">\n",
       "  <thead>\n",
       "    <tr style=\"text-align: right;\">\n",
       "      <th></th>\n",
       "      <th>addr</th>\n",
       "      <th>code</th>\n",
       "      <th>color</th>\n",
       "      <th>inventory</th>\n",
       "      <th>lat</th>\n",
       "      <th>lng</th>\n",
       "      <th>name</th>\n",
       "      <th>price</th>\n",
       "      <th>regDt</th>\n",
       "      <th>tel</th>\n",
       "    </tr>\n",
       "  </thead>\n",
       "  <tbody>\n",
       "    <tr>\n",
       "      <th>40</th>\n",
       "      <td>경기 평택시 경기대로 1078 (장당동)</td>\n",
       "      <td>A0002027</td>\n",
       "      <td>YELLOW</td>\n",
       "      <td>800</td>\n",
       "      <td>37.042878</td>\n",
       "      <td>127.062331</td>\n",
       "      <td>동일석유(주) 금성셀프주유소</td>\n",
       "      <td>1800</td>\n",
       "      <td>2021-12-28 12:55:53</td>\n",
       "      <td>031-665-0190</td>\n",
       "    </tr>\n",
       "    <tr>\n",
       "      <th>57</th>\n",
       "      <td>경기 용인시 처인구 백암면 죽양대로 1454</td>\n",
       "      <td>A0002375</td>\n",
       "      <td>YELLOW</td>\n",
       "      <td>370</td>\n",
       "      <td>37.173587</td>\n",
       "      <td>127.347521</td>\n",
       "      <td>백암셀프주유소</td>\n",
       "      <td>2000</td>\n",
       "      <td>2021-12-28 11:03:51</td>\n",
       "      <td>031-337-2066</td>\n",
       "    </tr>\n",
       "    <tr>\n",
       "      <th>64</th>\n",
       "      <td>경기 화성시 우정읍 포승향남로 976</td>\n",
       "      <td>A0002627</td>\n",
       "      <td>GREEN</td>\n",
       "      <td>2241</td>\n",
       "      <td>37.036550</td>\n",
       "      <td>126.806016</td>\n",
       "      <td>(주)소모에너지 우정셀프주유소</td>\n",
       "      <td>2000</td>\n",
       "      <td>2021-12-28 10:45:28</td>\n",
       "      <td>031-8055-0973</td>\n",
       "    </tr>\n",
       "    <tr>\n",
       "      <th>76</th>\n",
       "      <td>경기 평택시 현덕면 서해로 471</td>\n",
       "      <td>A0002967</td>\n",
       "      <td>GREEN</td>\n",
       "      <td>1900</td>\n",
       "      <td>36.942756</td>\n",
       "      <td>126.914171</td>\n",
       "      <td>기산셀프주유소</td>\n",
       "      <td>1300</td>\n",
       "      <td>2021-12-28 10:31:18</td>\n",
       "      <td>031-684-0099</td>\n",
       "    </tr>\n",
       "    <tr>\n",
       "      <th>87</th>\n",
       "      <td>경기 안성시 원곡면 남북대로 1106</td>\n",
       "      <td>A0003290</td>\n",
       "      <td>GREEN</td>\n",
       "      <td>2943</td>\n",
       "      <td>37.037843</td>\n",
       "      <td>127.151106</td>\n",
       "      <td>삼미상사(주) 서안성셀프주유소</td>\n",
       "      <td>2000</td>\n",
       "      <td>2021-12-28 12:15:28</td>\n",
       "      <td>031-652-5210</td>\n",
       "    </tr>\n",
       "  </tbody>\n",
       "</table>\n",
       "</div>"
      ],
      "text/plain": [
       "                        addr      code   color  inventory        lat  \\\n",
       "40    경기 평택시 경기대로 1078 (장당동)  A0002027  YELLOW        800  37.042878   \n",
       "57  경기 용인시 처인구 백암면 죽양대로 1454  A0002375  YELLOW        370  37.173587   \n",
       "64      경기 화성시 우정읍 포승향남로 976  A0002627   GREEN       2241  37.036550   \n",
       "76        경기 평택시 현덕면 서해로 471  A0002967   GREEN       1900  36.942756   \n",
       "87      경기 안성시 원곡면 남북대로 1106  A0003290   GREEN       2943  37.037843   \n",
       "\n",
       "           lng              name  price                regDt            tel  \n",
       "40  127.062331   동일석유(주) 금성셀프주유소   1800  2021-12-28 12:55:53   031-665-0190  \n",
       "57  127.347521           백암셀프주유소   2000  2021-12-28 11:03:51   031-337-2066  \n",
       "64  126.806016  (주)소모에너지 우정셀프주유소   2000  2021-12-28 10:45:28  031-8055-0973  \n",
       "76  126.914171           기산셀프주유소   1300  2021-12-28 10:31:18   031-684-0099  \n",
       "87  127.151106  삼미상사(주) 서안성셀프주유소   2000  2021-12-28 12:15:28   031-652-5210  "
      ]
     },
     "execution_count": 32,
     "metadata": {},
     "output_type": "execute_result"
    }
   ],
   "source": [
    "tdf = df[df.name.str.contains('셀프')]\n",
    "print(f\"셀프 주유소 관측값 수: {tdf.shape[0]}\")\n",
    "tdf.head()"
   ]
  },
  {
   "cell_type": "code",
   "execution_count": 33,
   "id": "6e2309b7",
   "metadata": {},
   "outputs": [
    {
     "name": "stdout",
     "output_type": "stream",
     "text": [
      "셀프 주유소의 요소수 가격은 전체 평균에 비해 208.17원 비쌉니다.\n"
     ]
    }
   ],
   "source": [
    "price_diff = df.price.mean() - tdf.price.mean() # 전체 평균과의 요소수 가격 차이\n",
    "price_insight('셀프', price_diff)"
   ]
  },
  {
   "cell_type": "markdown",
   "id": "9cf87690",
   "metadata": {},
   "source": [
    "셀프 주유소가 더 저렴할 것이라는 일반적인 인식과는 달리, \"요소수 가격\" 측면에서는 그런 추세가 관측되지 않는군요."
   ]
  },
  {
   "cell_type": "code",
   "execution_count": 34,
   "id": "b0d4832c",
   "metadata": {},
   "outputs": [
    {
     "name": "stdout",
     "output_type": "stream",
     "text": [
      "셀프 주유소의 요소수 재고량은 전체 평균에 비해 121.88만큼 많습니다.\n"
     ]
    }
   ],
   "source": [
    "inven_diff = df.inventory.mean() - tdf.inventory.mean() # 전체 평균과의 요소수 가격 차이\n",
    "inven_insight('셀프', inven_diff)"
   ]
  },
  {
   "cell_type": "markdown",
   "id": "e0b59872",
   "metadata": {},
   "source": [
    "가격이 더 비싸서인지는 모르겠지만, 재고량은 더 많은 편입니다."
   ]
  },
  {
   "cell_type": "markdown",
   "id": "c6c4c9f1",
   "metadata": {},
   "source": [
    "마지막으로 이름에 \"알뜰\"이 들어간 주유소들이 실제로 더 알뜰할지 살펴보겠습니다."
   ]
  },
  {
   "cell_type": "code",
   "execution_count": 35,
   "id": "38802428",
   "metadata": {},
   "outputs": [
    {
     "name": "stdout",
     "output_type": "stream",
     "text": [
      "알뜰 주유소 관측값 수: 3\n"
     ]
    },
    {
     "data": {
      "text/html": [
       "<div>\n",
       "<style scoped>\n",
       "    .dataframe tbody tr th:only-of-type {\n",
       "        vertical-align: middle;\n",
       "    }\n",
       "\n",
       "    .dataframe tbody tr th {\n",
       "        vertical-align: top;\n",
       "    }\n",
       "\n",
       "    .dataframe thead th {\n",
       "        text-align: right;\n",
       "    }\n",
       "</style>\n",
       "<table border=\"1\" class=\"dataframe\">\n",
       "  <thead>\n",
       "    <tr style=\"text-align: right;\">\n",
       "      <th></th>\n",
       "      <th>addr</th>\n",
       "      <th>code</th>\n",
       "      <th>color</th>\n",
       "      <th>inventory</th>\n",
       "      <th>lat</th>\n",
       "      <th>lng</th>\n",
       "      <th>name</th>\n",
       "      <th>price</th>\n",
       "      <th>regDt</th>\n",
       "      <th>tel</th>\n",
       "    </tr>\n",
       "  </thead>\n",
       "  <tbody>\n",
       "    <tr>\n",
       "      <th>20</th>\n",
       "      <td>인천 중구 인중로 180</td>\n",
       "      <td>A0001327</td>\n",
       "      <td>GREEN</td>\n",
       "      <td>1400</td>\n",
       "      <td>37.468916</td>\n",
       "      <td>126.624263</td>\n",
       "      <td>알뜰 부광주유소</td>\n",
       "      <td>1200</td>\n",
       "      <td>2021-12-28 10:52:50</td>\n",
       "      <td>032-765-5145</td>\n",
       "    </tr>\n",
       "    <tr>\n",
       "      <th>107</th>\n",
       "      <td>경기 여주시 점동면 장여로 931</td>\n",
       "      <td>A0003901</td>\n",
       "      <td>GREEN</td>\n",
       "      <td>1374</td>\n",
       "      <td>37.183854</td>\n",
       "      <td>127.662086</td>\n",
       "      <td>덕평알뜰주유소</td>\n",
       "      <td>1600</td>\n",
       "      <td>2021-12-28 14:49:44</td>\n",
       "      <td>031-882-7338</td>\n",
       "    </tr>\n",
       "    <tr>\n",
       "      <th>140</th>\n",
       "      <td>경기 양주시 부흥로 1300</td>\n",
       "      <td>A0005003</td>\n",
       "      <td>GREEN</td>\n",
       "      <td>3890</td>\n",
       "      <td>37.787343</td>\n",
       "      <td>127.020032</td>\n",
       "      <td>(주)어하둥둥알뜰주유소</td>\n",
       "      <td>1700</td>\n",
       "      <td>2021-12-28 08:20:54</td>\n",
       "      <td>031-826-5182</td>\n",
       "    </tr>\n",
       "  </tbody>\n",
       "</table>\n",
       "</div>"
      ],
      "text/plain": [
       "                   addr      code  color  inventory        lat         lng  \\\n",
       "20        인천 중구 인중로 180  A0001327  GREEN       1400  37.468916  126.624263   \n",
       "107  경기 여주시 점동면 장여로 931  A0003901  GREEN       1374  37.183854  127.662086   \n",
       "140     경기 양주시 부흥로 1300  A0005003  GREEN       3890  37.787343  127.020032   \n",
       "\n",
       "             name  price                regDt            tel  \n",
       "20       알뜰 부광주유소   1200  2021-12-28 10:52:50  032-765-5145   \n",
       "107       덕평알뜰주유소   1600  2021-12-28 14:49:44   031-882-7338  \n",
       "140  (주)어하둥둥알뜰주유소   1700  2021-12-28 08:20:54   031-826-5182  "
      ]
     },
     "execution_count": 35,
     "metadata": {},
     "output_type": "execute_result"
    }
   ],
   "source": [
    "tdf = df[df.name.str.contains('알뜰')]\n",
    "print(f\"알뜰 주유소 관측값 수: {tdf.shape[0]}\")\n",
    "tdf.head()"
   ]
  },
  {
   "cell_type": "code",
   "execution_count": 36,
   "id": "4f5187ae",
   "metadata": {},
   "outputs": [
    {
     "name": "stdout",
     "output_type": "stream",
     "text": [
      "알뜰 주유소의 요소수 가격은 전체 평균에 비해 238.50원 저렴합니다.\n"
     ]
    }
   ],
   "source": [
    "price_diff = df.price.mean() - tdf.price.mean() # 전체 평균과의 요소수 가격 차이\n",
    "price_insight(\"알뜰\", price_diff)"
   ]
  },
  {
   "cell_type": "markdown",
   "id": "16a05a5a",
   "metadata": {},
   "source": [
    "역시 관측값이 충분하지는 않지만, 이 데이터에 따르면 알뜰 주유소의 요소수 가격은 평균보다 저렴한 편입니다."
   ]
  },
  {
   "cell_type": "markdown",
   "id": "1d6acfda",
   "metadata": {},
   "source": [
    "---"
   ]
  },
  {
   "cell_type": "markdown",
   "id": "d68bcae1",
   "metadata": {},
   "source": [
    "## 4. 데이터 시각화하기"
   ]
  },
  {
   "cell_type": "markdown",
   "id": "7311c7d6",
   "metadata": {},
   "source": [
    "### 4-1. 지역별 요소수 재고 현황 지도에 나타내기"
   ]
  },
  {
   "cell_type": "markdown",
   "id": "24756d5f",
   "metadata": {},
   "source": [
    "folium 라이브러리를 이용하여 요소수 재고 현황을 지도에 표출합니다."
   ]
  },
  {
   "cell_type": "code",
   "execution_count": null,
   "id": "682e85cd",
   "metadata": {
    "scrolled": true
   },
   "outputs": [],
   "source": [
    "# folium 라이브러리 불러오기\n",
    "!pip install folium\n",
    "import folium"
   ]
  },
  {
   "cell_type": "code",
   "execution_count": null,
   "id": "4c9cc771",
   "metadata": {
    "scrolled": false
   },
   "outputs": [],
   "source": [
    "# 서울 중심지 중구를 가운데 좌표로 잡아 지도를 출력합니다 \n",
    "map_osm = folium.Map(location=[37.557945, 126.99419], zoom_start=10)\n",
    "map_osm"
   ]
  },
  {
   "cell_type": "markdown",
   "id": "eb6fc75b",
   "metadata": {},
   "source": [
    "요소수 재고 현황을 확인하고자 하는 지역을 `target_region`으로 설정합니다.\n",
    "\n",
    "본 실습에서는 경기도의 요소수 재고 현황을 알아보겠습니다."
   ]
  },
  {
   "cell_type": "code",
   "execution_count": null,
   "id": "2e2ecc0a",
   "metadata": {},
   "outputs": [],
   "source": [
    "# 요소수 유통 주유소를 찾고 싶은 지역을 설정합니다.\n",
    "target_region = '경기' # 변경 가능"
   ]
  },
  {
   "cell_type": "markdown",
   "id": "678cbe34",
   "metadata": {},
   "source": [
    "주소에 `target_region`이 포함된 정보를 찾아 Dataframe 형태로 불러옵니다."
   ]
  },
  {
   "cell_type": "code",
   "execution_count": null,
   "id": "1c1a9728",
   "metadata": {
    "scrolled": true
   },
   "outputs": [],
   "source": [
    "df_target_region = df[df['addr'].str.contains(target_region)]\n",
    "df_target_region"
   ]
  },
  {
   "cell_type": "code",
   "execution_count": null,
   "id": "d8f75130",
   "metadata": {},
   "outputs": [],
   "source": [
    "df_target_region.shape # target_region이 포함된 관측값의 갯수"
   ]
  },
  {
   "cell_type": "markdown",
   "id": "952d96bc",
   "metadata": {},
   "source": [
    "이제 원하는 지역의 요소수 재고 현황을 시각화 해봅시다.\n",
    "\n",
    "1. 지도에 표출할 내용은 주유소 명칭, 주소, 재고량, 전화번호입니다.\n",
    "2. `lat`, `lng` 정보를 이용해 지도 상의 좌표를 가져옵니다.\n",
    "3. 재고에 따라 지도에 표출할 마커의 색상을 정합니다.\n",
    "4. `CircleMarker`를 이용해 마커를 생성합니다."
   ]
  },
  {
   "cell_type": "code",
   "execution_count": null,
   "id": "bdc0f6f5",
   "metadata": {},
   "outputs": [],
   "source": [
    "map_osm = folium.Map(location=[37.557945, 126.99419], zoom_start=9)\n",
    "\n",
    "for i in df_target_region.values:\n",
    "    iframe = \"<b>    명칭 : </b>\"+str(i[6])+\"<br>\"+\"<b>     주소 : </b>\"+i[0]+\"<br>\"+\"<b> 재고량 : </b>\"+str(i[3])+\"<br>\"+\"<b> 전화번호 : </b>\"+str(i[8])\n",
    "    popup = folium.Popup(iframe, min_width=300, max_width=800)\n",
    "    \n",
    "    # 요소수 재고에 따라 지도에 나타낼 마커의 색상을 정합니다.\n",
    "    color = i[2].upper()\n",
    "    if color == 'GREEN':\n",
    "        color_code = '#9ACD32'\n",
    "    elif color == 'YELLOW':\n",
    "        color_code = '#FFFF00'\n",
    "    elif color ==  'RED':\n",
    "        color_code = '#DC143C'\n",
    "    elif color == 'GRAY':\n",
    "        color_code = '#696969'\n",
    "    \n",
    "    # CircleMarker를 사용하여 원하는 지역에 마커를 생성합니다.\n",
    "    marker = folium.CircleMarker([i[4], i[5]],          # 위치\n",
    "                                 radius=5,              # 범위\n",
    "                                 color=color_code,      # 색상\n",
    "                                 fill=True,            # 마커 채우기\n",
    "                                 fill_opacity=1.0,\n",
    "                                 popup=popup)           # 팝업 설정\n",
    "    marker.add_to(map_osm)\n",
    "map_osm"
   ]
  },
  {
   "cell_type": "markdown",
   "id": "09939a04",
   "metadata": {},
   "source": [
    "데이터를 시각화해보니 요소수 재고는 경기도 여러 지역에 골고루 분포되어 있는 것을 확인할 수 있습니다. `GREEN`과 `YELLOW` 마커가 분산되어 있기 때문입니다.\n",
    "\n",
    "하지만 일부 주유소는 요소수가 매진되었거나 부족한 것으로 보입니다."
   ]
  },
  {
   "cell_type": "markdown",
   "id": "478dd8f1",
   "metadata": {},
   "source": [
    "유사한 분석을 **가격**에 대해 진행해보겠습니다."
   ]
  },
  {
   "cell_type": "code",
   "execution_count": null,
   "id": "01e15392",
   "metadata": {},
   "outputs": [],
   "source": [
    "map_osm = folium.Map(location=[37.557945, 126.99419], zoom_start=9)\n",
    "\n",
    "for i in df_target_region.values:\n",
    "    iframe = \"<b>    명칭 : </b>\"+str(i[6])+\"<br>\"+\"<b>     주소 : </b>\"+i[0]+\"<br>\"+\"<b> 재고량 : </b>\"+str(i[3])+\"<br>\"+\"<b> 전화번호 : </b>\"+str(i[8])\n",
    "    popup = folium.Popup(iframe, min_width=300, max_width=800)\n",
    "    \n",
    "    # 요소수 가격에 따라 지도에 나타낼 마커의 색상을 정합니다.\n",
    "    price = i[7]\n",
    "    if price <= 1500:\n",
    "        color_code = '#f9d71c'\n",
    "    elif price <= 2000:\n",
    "        color_code = '#ff6600'\n",
    "    else:\n",
    "        color_code = '#ff0000'\n",
    "    \n",
    "    # CircleMarker를 사용하여 원하는 지역에 마커를 생성합니다.\n",
    "    marker = folium.CircleMarker([i[4], i[5]],          # 위치\n",
    "                                 radius=5,              # 범위\n",
    "                                 color=color_code,      # 색상\n",
    "                                 fill=True,            # 마커 채우기\n",
    "                                 fill_opacity=1.0,\n",
    "                                 popup=popup)           # 팝업 설정\n",
    "    marker.add_to(map_osm)\n",
    "map_osm"
   ]
  },
  {
   "cell_type": "markdown",
   "id": "404cc8af",
   "metadata": {},
   "source": [
    "---"
   ]
  },
  {
   "cell_type": "markdown",
   "id": "52079c52",
   "metadata": {},
   "source": [
    "### 4-2. 재고별 요소수 유통 주유소 지도에 나타내기"
   ]
  },
  {
   "cell_type": "markdown",
   "id": "8a3ce61b",
   "metadata": {},
   "source": [
    "다음으로 요소수 재고가 있는 주유소를 찾아봅시다.\n",
    "재고량을 나타내는 `target_color`를 설정합니다."
   ]
  },
  {
   "cell_type": "code",
   "execution_count": null,
   "id": "a2e72dc3",
   "metadata": {},
   "outputs": [],
   "source": [
    "# 재고량을 충분으로 설정\n",
    "target_color = 'GREEN'"
   ]
  },
  {
   "cell_type": "code",
   "execution_count": null,
   "id": "26d245de",
   "metadata": {
    "scrolled": true
   },
   "outputs": [],
   "source": [
    "df_target_color = df[df['color'].str.contains(target_color)]\n",
    "df_target_color"
   ]
  },
  {
   "cell_type": "code",
   "execution_count": null,
   "id": "e876068b",
   "metadata": {
    "scrolled": false
   },
   "outputs": [],
   "source": [
    "# 전국의 요소수 주유소 재고를 확인하기 위해 중심지 좌표와 지도의 크기를 조절합니다.\n",
    "map_osm = folium.Map(location=[36.3504, 127.3845], zoom_start=7)\n",
    "\n",
    "for i in df_target_color.values:\n",
    "    iframe = \"<b>    명칭 : </b>\"+str(i[6])+\"<br>\"+\"<b>     주소 : </b>\"+i[0]+\"<br>\"+\"<b> 재고량 : </b>\"+str(i[3])+\"<br>\"+\"<b> 전화번호 : </b>\"+str(i[8])\n",
    "    popup = folium.Popup(iframe, min_width=300, max_width=800)\n",
    "    \n",
    "    # CircleMarker를 사용하여 원하는 지역에 마커를 생성합니다.\n",
    "    marker = folium.CircleMarker([i[4], i[5]],          # 위치\n",
    "                                 radius=5,              # 범위\n",
    "                                 color='#9ACD32',       # 색상 (본 실습에서는 재고에 따라 색상을 바꾸지 않아도 괜찮습니다)\n",
    "                                 fill=True,            # 마커 채우기\n",
    "                                 fill_opacity=1.0,\n",
    "                                 popup=popup)           # 팝업 설정\n",
    "    marker.add_to(map_osm)\n",
    "map_osm"
   ]
  },
  {
   "cell_type": "markdown",
   "id": "a0829e1a",
   "metadata": {},
   "source": [
    "지도를 보면 요소수 재고는 수도권에 많이 남아있은 것을 알 수 있습니다. 지방에서는 `marker`를 찾기 어렵습니다.\n",
    "\n",
    "이는 위의 `전화번호` 데이터에서 알아봤듯이 수도권 밖의 지역에 요소수 주유소가 적다는 사실과도 관련이 있습니다."
   ]
  },
  {
   "cell_type": "markdown",
   "id": "002993cd",
   "metadata": {},
   "source": [
    "---"
   ]
  },
  {
   "cell_type": "markdown",
   "id": "c837291c",
   "metadata": {},
   "source": [
    "<span style=\"color:rgb(120, 120, 120)\">본 학습 자료를 포함한 사이트 내 모든 자료의 저작권은 엘리스에 있으며 외부로의 무단 복제, 배포 및 전송을 불허합니다.\n",
    "\n",
    "Copyright @ elice all rights reserved</span>"
   ]
  }
 ],
 "metadata": {
  "kernelspec": {
   "display_name": "myenv",
   "language": "python",
   "name": "python3"
  },
  "language_info": {
   "codemirror_mode": {
    "name": "ipython",
    "version": 3
   },
   "file_extension": ".py",
   "mimetype": "text/x-python",
   "name": "python",
   "nbconvert_exporter": "python",
   "pygments_lexer": "ipython3",
   "version": "3.12.9"
  }
 },
 "nbformat": 4,
 "nbformat_minor": 5
}
