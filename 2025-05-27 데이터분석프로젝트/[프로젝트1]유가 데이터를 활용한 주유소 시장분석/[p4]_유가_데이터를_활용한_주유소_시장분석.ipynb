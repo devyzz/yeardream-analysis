{
 "cells": [
  {
   "cell_type": "markdown",
   "metadata": {
    "id": "nMZCtV8-wUBi"
   },
   "source": [
    "# [Project 4]_유가_데이터를_활용한_주유소_시장분석"
   ]
  },
  {
   "cell_type": "markdown",
   "metadata": {
    "id": "q4nVw7MrwUBj"
   },
   "source": [
    "---"
   ]
  },
  {
   "cell_type": "markdown",
   "metadata": {
    "id": "30SKtC7RwUBk"
   },
   "source": [
    "## 프로젝트 목표\n",
    "- <한국석유공사 제품별 주유소 판매가격> 데이터의 가격/지역/브랜드/셀프여부를 분석하여 주유소 시장 관련 인사이트 도출\n",
    "- 실제 연구/실무에서 활용되는 필수 분석 과정 및 기법에 대해 학습"
   ]
  },
  {
   "cell_type": "markdown",
   "metadata": {
    "id": "DKqVqsuNwUBk"
   },
   "source": [
    "---"
   ]
  },
  {
   "cell_type": "markdown",
   "metadata": {
    "id": "uHvelOrMwUBk"
   },
   "source": [
    "## 프로젝트 목차\n",
    "1. **데이터 Cleansing 및 Feature Engineering:** 분석을 위한 사전 점검 및 데이터 개괄 이해 <br>\n",
    "    1.1. 2018년 데이터 기준 데이터 Cleansing 및 Feature Engineering<br>\n",
    "    1.2. Cleansing 및 Feature Engineering 함수 생성 및 전체 년도 데이터 적용 <br>\n",
    "    1.3. 연도별 데이터 Outer Join<br>\n",
    "<br> \n",
    "\n",
    "2. **주유소 개폐업 현황 분석:** 연도별 주유소 ID 비교를 통한 개폐업 현황 분석<br>\n",
    "    2.1. 연도별 개폐업 수치 분석<br>\n",
    "<br>\n",
    "\n",
    "3. **브랜드 분석:** 브랜드별 가격경쟁력 및 시장점유율 분석<br>\n",
    "    3.1. 주요 브랜드별 가격 Line Plot 분석<br>\n",
    "    3.2. 주요 브랜드별 지난 4년간 시장 점유율 Stacked Bar Plot 및 Heatmap 분석<br>\n",
    "<br>\n",
    "\n",
    "4. **가격 분석:** 주유소 및 지역 별 가격 편차 분석<br>\n",
    "    4.1. 가격 분포 Boxplot<br>\n",
    "    4.2. 지역별 가격 분포 Boxplot (Multiple Columns)<br>\n",
    "<br>\n"
   ]
  },
  {
   "cell_type": "markdown",
   "metadata": {
    "id": "lUQhF57GwUBl"
   },
   "source": [
    "---"
   ]
  },
  {
   "cell_type": "markdown",
   "metadata": {
    "id": "t006thVWwUBl"
   },
   "source": [
    "## 데이터 출처\n",
    "-  https://www.data.go.kr/data/15044628/fileData.do\n",
    "- Opinet 유가내려받기: 2018 ~ 2021년 4개년에 대해 각각 6월 1일~7일 데이터 추출\n",
    "- 프로젝트에 필요한 컬럼만 추출"
   ]
  },
  {
   "cell_type": "markdown",
   "metadata": {
    "id": "yCBC0cvfwUBl"
   },
   "source": [
    "---"
   ]
  },
  {
   "cell_type": "markdown",
   "metadata": {
    "id": "py5kyk7mwUBl"
   },
   "source": [
    "## 프로젝트 개요\n",
    "\n",
    "행정안전부 공공데이터 포털에 등재되어있는 `한국석유공사 제품별 주유소 판매가격`은 전국 10000개 이상의 주유소에 대해 가격/지역/브랜드/셀프여부 등 방대한 데이터를 제공하고 있습니다. 이 데이터를 정유업체 전략기획팀 실무자의 입장에서 분석하여 주유소 시장에 대한 인사이트를 도출해봅시다. \n",
    "\n",
    "먼저, 주유소별로 7일치씩 쌓여있는 데이터를 요약하여 주유소별로 1개의 행이 되도록 각 년도 데이터를 가공 해봅시다. 그리고 이 데이터를 통해 지난 4년동안 몇개의 주유소가 개업 및 폐업 했는지 분석해 봅시다. 다음, 브랜드별 가격경쟁력 및 지난 4년간 시장 점유율 변화를 분석해 봅시다. 마지막으로 주유소별 가격 편차가 어느정도 되는지 알아보고, 지역별로도 유의미한 차이가 있는지 분석해 봅시다. "
   ]
  },
  {
   "cell_type": "markdown",
   "metadata": {
    "id": "r077bdYzwUBm"
   },
   "source": [
    "## 1. 데이터 Cleansing 및 Feature Engineering"
   ]
  },
  {
   "cell_type": "markdown",
   "metadata": {},
   "source": [
    "필요한 패키지를 `import`한 후 분석을 위한 사전 점검과 함께 데이터 개괄을 이해합니다."
   ]
  },
  {
   "cell_type": "markdown",
   "metadata": {},
   "source": [
    "### 1.1. 18년 데이터 기준 데이터 점검 및 Cleansing"
   ]
  },
  {
   "cell_type": "code",
   "execution_count": 90,
   "metadata": {},
   "outputs": [],
   "source": [
    "import numpy as np \n",
    "import pandas as pd \n",
    "import seaborn as sns\n",
    "sns.set_style('darkgrid')\n",
    "import matplotlib.pyplot as plt\n",
    "import matplotlib.font_manager as fm\n",
    "\n",
    "font_dirs = ['/usr/share/fonts/truetype/nanum', ]\n",
    "font_files = fm.findSystemFonts(fontpaths=font_dirs)\n",
    "for font_file in font_files:\n",
    "    fm.fontManager.addfont(font_file)\n",
    "\n",
    "plt.rcParams['font.family'] = 'AppleGothic'\n",
    "plt.rcParams['axes.unicode_minus']=False"
   ]
  },
  {
   "cell_type": "code",
   "execution_count": 27,
   "metadata": {},
   "outputs": [],
   "source": [
    "f18 = pd.read_csv(f'./data/과거_판매가격(주유소)_2018.csv')"
   ]
  },
  {
   "cell_type": "code",
   "execution_count": 28,
   "metadata": {},
   "outputs": [
    {
     "data": {
      "text/html": [
       "<div>\n",
       "<style scoped>\n",
       "    .dataframe tbody tr th:only-of-type {\n",
       "        vertical-align: middle;\n",
       "    }\n",
       "\n",
       "    .dataframe tbody tr th {\n",
       "        vertical-align: top;\n",
       "    }\n",
       "\n",
       "    .dataframe thead th {\n",
       "        text-align: right;\n",
       "    }\n",
       "</style>\n",
       "<table border=\"1\" class=\"dataframe\">\n",
       "  <thead>\n",
       "    <tr style=\"text-align: right;\">\n",
       "      <th></th>\n",
       "      <th>번호</th>\n",
       "      <th>기간</th>\n",
       "      <th>지역</th>\n",
       "      <th>상표</th>\n",
       "      <th>셀프여부</th>\n",
       "      <th>휘발유</th>\n",
       "    </tr>\n",
       "  </thead>\n",
       "  <tbody>\n",
       "    <tr>\n",
       "      <th>0</th>\n",
       "      <td>기준 : 일간(20180601~20180607)</td>\n",
       "      <td>NaN</td>\n",
       "      <td>NaN</td>\n",
       "      <td>NaN</td>\n",
       "      <td>NaN</td>\n",
       "      <td>NaN</td>\n",
       "    </tr>\n",
       "    <tr>\n",
       "      <th>1</th>\n",
       "      <td>A0011536</td>\n",
       "      <td>20180601.0</td>\n",
       "      <td>강원 강릉시</td>\n",
       "      <td>SK에너지</td>\n",
       "      <td>셀프</td>\n",
       "      <td>1579.0</td>\n",
       "    </tr>\n",
       "    <tr>\n",
       "      <th>2</th>\n",
       "      <td>A0011536</td>\n",
       "      <td>20180602.0</td>\n",
       "      <td>강원 강릉시</td>\n",
       "      <td>SK에너지</td>\n",
       "      <td>셀프</td>\n",
       "      <td>1579.0</td>\n",
       "    </tr>\n",
       "    <tr>\n",
       "      <th>3</th>\n",
       "      <td>A0011536</td>\n",
       "      <td>20180603.0</td>\n",
       "      <td>강원 강릉시</td>\n",
       "      <td>SK에너지</td>\n",
       "      <td>셀프</td>\n",
       "      <td>1579.0</td>\n",
       "    </tr>\n",
       "    <tr>\n",
       "      <th>4</th>\n",
       "      <td>A0011536</td>\n",
       "      <td>20180604.0</td>\n",
       "      <td>강원 강릉시</td>\n",
       "      <td>SK에너지</td>\n",
       "      <td>셀프</td>\n",
       "      <td>1579.0</td>\n",
       "    </tr>\n",
       "  </tbody>\n",
       "</table>\n",
       "</div>"
      ],
      "text/plain": [
       "                           번호          기간      지역     상표 셀프여부     휘발유\n",
       "0  기준 : 일간(20180601~20180607)         NaN     NaN    NaN  NaN     NaN\n",
       "1                    A0011536  20180601.0  강원 강릉시  SK에너지   셀프  1579.0\n",
       "2                    A0011536  20180602.0  강원 강릉시  SK에너지   셀프  1579.0\n",
       "3                    A0011536  20180603.0  강원 강릉시  SK에너지   셀프  1579.0\n",
       "4                    A0011536  20180604.0  강원 강릉시  SK에너지   셀프  1579.0"
      ]
     },
     "execution_count": 28,
     "metadata": {},
     "output_type": "execute_result"
    }
   ],
   "source": [
    "f18.head()"
   ]
  },
  {
   "cell_type": "code",
   "execution_count": 34,
   "metadata": {},
   "outputs": [],
   "source": [
    "# 0번 row 제거\n",
    "f18 = f18.drop(0) "
   ]
  },
  {
   "cell_type": "code",
   "execution_count": 35,
   "metadata": {},
   "outputs": [
    {
     "data": {
      "text/plain": [
       "번호      0\n",
       "기간      0\n",
       "지역      0\n",
       "상표      0\n",
       "셀프여부    0\n",
       "휘발유     0\n",
       "dtype: int64"
      ]
     },
     "execution_count": 35,
     "metadata": {},
     "output_type": "execute_result"
    }
   ],
   "source": [
    "# 변수별 null값 확인 결과 null 없음\n",
    "f18.isna().sum() "
   ]
  },
  {
   "cell_type": "code",
   "execution_count": 36,
   "metadata": {},
   "outputs": [
    {
     "data": {
      "text/html": [
       "<div>\n",
       "<style scoped>\n",
       "    .dataframe tbody tr th:only-of-type {\n",
       "        vertical-align: middle;\n",
       "    }\n",
       "\n",
       "    .dataframe tbody tr th {\n",
       "        vertical-align: top;\n",
       "    }\n",
       "\n",
       "    .dataframe thead th {\n",
       "        text-align: right;\n",
       "    }\n",
       "</style>\n",
       "<table border=\"1\" class=\"dataframe\">\n",
       "  <thead>\n",
       "    <tr style=\"text-align: right;\">\n",
       "      <th></th>\n",
       "      <th>번호</th>\n",
       "      <th>기간</th>\n",
       "      <th>지역</th>\n",
       "      <th>상표</th>\n",
       "      <th>셀프여부</th>\n",
       "      <th>휘발유</th>\n",
       "    </tr>\n",
       "  </thead>\n",
       "  <tbody>\n",
       "    <tr>\n",
       "      <th>count</th>\n",
       "      <td>81466</td>\n",
       "      <td>8.146600e+04</td>\n",
       "      <td>81466</td>\n",
       "      <td>81466</td>\n",
       "      <td>81466</td>\n",
       "      <td>81466.000000</td>\n",
       "    </tr>\n",
       "    <tr>\n",
       "      <th>unique</th>\n",
       "      <td>11673</td>\n",
       "      <td>NaN</td>\n",
       "      <td>229</td>\n",
       "      <td>9</td>\n",
       "      <td>2</td>\n",
       "      <td>NaN</td>\n",
       "    </tr>\n",
       "    <tr>\n",
       "      <th>top</th>\n",
       "      <td>A0011536</td>\n",
       "      <td>NaN</td>\n",
       "      <td>충북 청주시</td>\n",
       "      <td>SK에너지</td>\n",
       "      <td>일반</td>\n",
       "      <td>NaN</td>\n",
       "    </tr>\n",
       "    <tr>\n",
       "      <th>freq</th>\n",
       "      <td>7</td>\n",
       "      <td>NaN</td>\n",
       "      <td>1574</td>\n",
       "      <td>24531</td>\n",
       "      <td>49850</td>\n",
       "      <td>NaN</td>\n",
       "    </tr>\n",
       "    <tr>\n",
       "      <th>mean</th>\n",
       "      <td>NaN</td>\n",
       "      <td>2.018060e+07</td>\n",
       "      <td>NaN</td>\n",
       "      <td>NaN</td>\n",
       "      <td>NaN</td>\n",
       "      <td>1603.579714</td>\n",
       "    </tr>\n",
       "    <tr>\n",
       "      <th>std</th>\n",
       "      <td>NaN</td>\n",
       "      <td>2.000113e+00</td>\n",
       "      <td>NaN</td>\n",
       "      <td>NaN</td>\n",
       "      <td>NaN</td>\n",
       "      <td>112.806463</td>\n",
       "    </tr>\n",
       "    <tr>\n",
       "      <th>min</th>\n",
       "      <td>NaN</td>\n",
       "      <td>2.018060e+07</td>\n",
       "      <td>NaN</td>\n",
       "      <td>NaN</td>\n",
       "      <td>NaN</td>\n",
       "      <td>0.000000</td>\n",
       "    </tr>\n",
       "    <tr>\n",
       "      <th>25%</th>\n",
       "      <td>NaN</td>\n",
       "      <td>2.018060e+07</td>\n",
       "      <td>NaN</td>\n",
       "      <td>NaN</td>\n",
       "      <td>NaN</td>\n",
       "      <td>1579.000000</td>\n",
       "    </tr>\n",
       "    <tr>\n",
       "      <th>50%</th>\n",
       "      <td>NaN</td>\n",
       "      <td>2.018060e+07</td>\n",
       "      <td>NaN</td>\n",
       "      <td>NaN</td>\n",
       "      <td>NaN</td>\n",
       "      <td>1598.000000</td>\n",
       "    </tr>\n",
       "    <tr>\n",
       "      <th>75%</th>\n",
       "      <td>NaN</td>\n",
       "      <td>2.018061e+07</td>\n",
       "      <td>NaN</td>\n",
       "      <td>NaN</td>\n",
       "      <td>NaN</td>\n",
       "      <td>1625.000000</td>\n",
       "    </tr>\n",
       "    <tr>\n",
       "      <th>max</th>\n",
       "      <td>NaN</td>\n",
       "      <td>2.018061e+07</td>\n",
       "      <td>NaN</td>\n",
       "      <td>NaN</td>\n",
       "      <td>NaN</td>\n",
       "      <td>2282.000000</td>\n",
       "    </tr>\n",
       "  </tbody>\n",
       "</table>\n",
       "</div>"
      ],
      "text/plain": [
       "              번호            기간      지역     상표   셀프여부           휘발유\n",
       "count      81466  8.146600e+04   81466  81466  81466  81466.000000\n",
       "unique     11673           NaN     229      9      2           NaN\n",
       "top     A0011536           NaN  충북 청주시  SK에너지     일반           NaN\n",
       "freq           7           NaN    1574  24531  49850           NaN\n",
       "mean         NaN  2.018060e+07     NaN    NaN    NaN   1603.579714\n",
       "std          NaN  2.000113e+00     NaN    NaN    NaN    112.806463\n",
       "min          NaN  2.018060e+07     NaN    NaN    NaN      0.000000\n",
       "25%          NaN  2.018060e+07     NaN    NaN    NaN   1579.000000\n",
       "50%          NaN  2.018060e+07     NaN    NaN    NaN   1598.000000\n",
       "75%          NaN  2.018061e+07     NaN    NaN    NaN   1625.000000\n",
       "max          NaN  2.018061e+07     NaN    NaN    NaN   2282.000000"
      ]
     },
     "execution_count": 36,
     "metadata": {},
     "output_type": "execute_result"
    }
   ],
   "source": [
    "# include='all': 카테고리형 변수도 정보 제공\n",
    "f18.describe(include='all') "
   ]
  },
  {
   "cell_type": "markdown",
   "metadata": {},
   "source": [
    "#### describe 점검 포인트:\n",
    "- unique 번호가 11673개이며 최대 7번까지 기록되었음\n",
    "- 기간이 수치로 인식되고 있음\n",
    "- unique 지역 개수가 229이어서 너무 많음\n",
    "- unique 상표 개수가 9개이므로 적절함\n",
    "- unique 셀프여부 개수가 2개이며, 셀프여부는 각각 절반정도 비중을 차지함\n",
    "- 휘발유 min이 0임 &rarr; 휘발유의 '가격'인데 0일리 없음. 뭔가 잘못된 데이터거나 할 수 있으므로 해당 row를 살펴보고 제거해주던가 하는 작업이 필요함"
   ]
  },
  {
   "cell_type": "code",
   "execution_count": 37,
   "metadata": {},
   "outputs": [
    {
     "data": {
      "text/html": [
       "<div>\n",
       "<style scoped>\n",
       "    .dataframe tbody tr th:only-of-type {\n",
       "        vertical-align: middle;\n",
       "    }\n",
       "\n",
       "    .dataframe tbody tr th {\n",
       "        vertical-align: top;\n",
       "    }\n",
       "\n",
       "    .dataframe thead th {\n",
       "        text-align: right;\n",
       "    }\n",
       "</style>\n",
       "<table border=\"1\" class=\"dataframe\">\n",
       "  <thead>\n",
       "    <tr style=\"text-align: right;\">\n",
       "      <th></th>\n",
       "      <th>번호</th>\n",
       "      <th>기간</th>\n",
       "      <th>지역</th>\n",
       "      <th>상표</th>\n",
       "      <th>셀프여부</th>\n",
       "      <th>휘발유</th>\n",
       "    </tr>\n",
       "  </thead>\n",
       "  <tbody>\n",
       "    <tr>\n",
       "      <th>1</th>\n",
       "      <td>A0011536</td>\n",
       "      <td>20180601.0</td>\n",
       "      <td>강원 강릉시</td>\n",
       "      <td>SK에너지</td>\n",
       "      <td>셀프</td>\n",
       "      <td>1579.0</td>\n",
       "    </tr>\n",
       "    <tr>\n",
       "      <th>2</th>\n",
       "      <td>A0011536</td>\n",
       "      <td>20180602.0</td>\n",
       "      <td>강원 강릉시</td>\n",
       "      <td>SK에너지</td>\n",
       "      <td>셀프</td>\n",
       "      <td>1579.0</td>\n",
       "    </tr>\n",
       "    <tr>\n",
       "      <th>3</th>\n",
       "      <td>A0011536</td>\n",
       "      <td>20180603.0</td>\n",
       "      <td>강원 강릉시</td>\n",
       "      <td>SK에너지</td>\n",
       "      <td>셀프</td>\n",
       "      <td>1579.0</td>\n",
       "    </tr>\n",
       "    <tr>\n",
       "      <th>4</th>\n",
       "      <td>A0011536</td>\n",
       "      <td>20180604.0</td>\n",
       "      <td>강원 강릉시</td>\n",
       "      <td>SK에너지</td>\n",
       "      <td>셀프</td>\n",
       "      <td>1579.0</td>\n",
       "    </tr>\n",
       "    <tr>\n",
       "      <th>5</th>\n",
       "      <td>A0011536</td>\n",
       "      <td>20180605.0</td>\n",
       "      <td>강원 강릉시</td>\n",
       "      <td>SK에너지</td>\n",
       "      <td>셀프</td>\n",
       "      <td>1579.0</td>\n",
       "    </tr>\n",
       "  </tbody>\n",
       "</table>\n",
       "</div>"
      ],
      "text/plain": [
       "         번호          기간      지역     상표 셀프여부     휘발유\n",
       "1  A0011536  20180601.0  강원 강릉시  SK에너지   셀프  1579.0\n",
       "2  A0011536  20180602.0  강원 강릉시  SK에너지   셀프  1579.0\n",
       "3  A0011536  20180603.0  강원 강릉시  SK에너지   셀프  1579.0\n",
       "4  A0011536  20180604.0  강원 강릉시  SK에너지   셀프  1579.0\n",
       "5  A0011536  20180605.0  강원 강릉시  SK에너지   셀프  1579.0"
      ]
     },
     "execution_count": 37,
     "metadata": {},
     "output_type": "execute_result"
    }
   ],
   "source": [
    "f18.head()"
   ]
  },
  {
   "cell_type": "code",
   "execution_count": 38,
   "metadata": {},
   "outputs": [
    {
     "data": {
      "text/html": [
       "<div>\n",
       "<style scoped>\n",
       "    .dataframe tbody tr th:only-of-type {\n",
       "        vertical-align: middle;\n",
       "    }\n",
       "\n",
       "    .dataframe tbody tr th {\n",
       "        vertical-align: top;\n",
       "    }\n",
       "\n",
       "    .dataframe thead th {\n",
       "        text-align: right;\n",
       "    }\n",
       "</style>\n",
       "<table border=\"1\" class=\"dataframe\">\n",
       "  <thead>\n",
       "    <tr style=\"text-align: right;\">\n",
       "      <th></th>\n",
       "      <th>번호</th>\n",
       "      <th>기간</th>\n",
       "      <th>지역</th>\n",
       "      <th>상표</th>\n",
       "      <th>셀프여부</th>\n",
       "      <th>휘발유</th>\n",
       "    </tr>\n",
       "  </thead>\n",
       "  <tbody>\n",
       "    <tr>\n",
       "      <th>1</th>\n",
       "      <td>A0011536</td>\n",
       "      <td>2018-06-01</td>\n",
       "      <td>강원 강릉시</td>\n",
       "      <td>SK에너지</td>\n",
       "      <td>셀프</td>\n",
       "      <td>1579.0</td>\n",
       "    </tr>\n",
       "    <tr>\n",
       "      <th>2</th>\n",
       "      <td>A0011536</td>\n",
       "      <td>2018-06-02</td>\n",
       "      <td>강원 강릉시</td>\n",
       "      <td>SK에너지</td>\n",
       "      <td>셀프</td>\n",
       "      <td>1579.0</td>\n",
       "    </tr>\n",
       "    <tr>\n",
       "      <th>3</th>\n",
       "      <td>A0011536</td>\n",
       "      <td>2018-06-03</td>\n",
       "      <td>강원 강릉시</td>\n",
       "      <td>SK에너지</td>\n",
       "      <td>셀프</td>\n",
       "      <td>1579.0</td>\n",
       "    </tr>\n",
       "    <tr>\n",
       "      <th>4</th>\n",
       "      <td>A0011536</td>\n",
       "      <td>2018-06-04</td>\n",
       "      <td>강원 강릉시</td>\n",
       "      <td>SK에너지</td>\n",
       "      <td>셀프</td>\n",
       "      <td>1579.0</td>\n",
       "    </tr>\n",
       "    <tr>\n",
       "      <th>5</th>\n",
       "      <td>A0011536</td>\n",
       "      <td>2018-06-05</td>\n",
       "      <td>강원 강릉시</td>\n",
       "      <td>SK에너지</td>\n",
       "      <td>셀프</td>\n",
       "      <td>1579.0</td>\n",
       "    </tr>\n",
       "  </tbody>\n",
       "</table>\n",
       "</div>"
      ],
      "text/plain": [
       "         번호         기간      지역     상표 셀프여부     휘발유\n",
       "1  A0011536 2018-06-01  강원 강릉시  SK에너지   셀프  1579.0\n",
       "2  A0011536 2018-06-02  강원 강릉시  SK에너지   셀프  1579.0\n",
       "3  A0011536 2018-06-03  강원 강릉시  SK에너지   셀프  1579.0\n",
       "4  A0011536 2018-06-04  강원 강릉시  SK에너지   셀프  1579.0\n",
       "5  A0011536 2018-06-05  강원 강릉시  SK에너지   셀프  1579.0"
      ]
     },
     "execution_count": 38,
     "metadata": {},
     "output_type": "execute_result"
    }
   ],
   "source": [
    "# 기간을 datetime 형태로 변환\n",
    "# 현재 기간 데이터는 20180601.0 과 같은형태로 들어가있음. 그래서 int(x)를 사용해여 정수형으로 먼저 바꾸어 소수점을 없애준 뒤 string 변환 작업을 수행함\n",
    "f18['기간'] = f18['기간'].apply(lambda x:pd.to_datetime(str(int(x)))) \n",
    "f18.head()"
   ]
  },
  {
   "cell_type": "code",
   "execution_count": 39,
   "metadata": {},
   "outputs": [
    {
     "name": "stdout",
     "output_type": "stream",
     "text": [
      "min: 1,max: 2\n"
     ]
    }
   ],
   "source": [
    "# 지역 변수 중 첫 지역 구분만 컬럼 형성\n",
    "region_len = f18['지역'].apply(lambda x: len(x.split())) \n",
    "print(f\"min: {min(region_len)},max: {max(region_len)}\")"
   ]
  },
  {
   "cell_type": "code",
   "execution_count": 40,
   "metadata": {},
   "outputs": [
    {
     "data": {
      "text/plain": [
       "Counter({'경기': 16341,\n",
       "         '경북': 8918,\n",
       "         '경남': 8049,\n",
       "         '충남': 7158,\n",
       "         '전북': 6278,\n",
       "         '전남': 6260,\n",
       "         '충북': 5136,\n",
       "         '강원': 4691,\n",
       "         '서울': 3589,\n",
       "         '부산': 2936,\n",
       "         '대구': 2555,\n",
       "         '인천': 2345,\n",
       "         '광주': 1984,\n",
       "         '대전': 1721,\n",
       "         '울산': 1706,\n",
       "         '제주': 1351,\n",
       "         '세종시': 448})"
      ]
     },
     "execution_count": 40,
     "metadata": {},
     "output_type": "execute_result"
    }
   ],
   "source": [
    "f18['지역2'] = f18['지역'].apply(lambda x:x.split()[0])\n",
    "import collections\n",
    "collections.Counter(f18['지역2'])"
   ]
  },
  {
   "cell_type": "code",
   "execution_count": 41,
   "metadata": {},
   "outputs": [
    {
     "data": {
      "text/html": [
       "<div>\n",
       "<style scoped>\n",
       "    .dataframe tbody tr th:only-of-type {\n",
       "        vertical-align: middle;\n",
       "    }\n",
       "\n",
       "    .dataframe tbody tr th {\n",
       "        vertical-align: top;\n",
       "    }\n",
       "\n",
       "    .dataframe thead th {\n",
       "        text-align: right;\n",
       "    }\n",
       "</style>\n",
       "<table border=\"1\" class=\"dataframe\">\n",
       "  <thead>\n",
       "    <tr style=\"text-align: right;\">\n",
       "      <th></th>\n",
       "      <th>번호</th>\n",
       "      <th>기간</th>\n",
       "      <th>지역</th>\n",
       "      <th>상표</th>\n",
       "      <th>셀프여부</th>\n",
       "      <th>휘발유</th>\n",
       "      <th>지역2</th>\n",
       "    </tr>\n",
       "  </thead>\n",
       "  <tbody>\n",
       "    <tr>\n",
       "      <th>1019</th>\n",
       "      <td>A0010629</td>\n",
       "      <td>2018-06-07</td>\n",
       "      <td>강원 삼척시</td>\n",
       "      <td>현대오일뱅크</td>\n",
       "      <td>일반</td>\n",
       "      <td>0.0</td>\n",
       "      <td>강원</td>\n",
       "    </tr>\n",
       "    <tr>\n",
       "      <th>1159</th>\n",
       "      <td>A0010700</td>\n",
       "      <td>2018-06-07</td>\n",
       "      <td>강원 삼척시</td>\n",
       "      <td>현대오일뱅크</td>\n",
       "      <td>셀프</td>\n",
       "      <td>0.0</td>\n",
       "      <td>강원</td>\n",
       "    </tr>\n",
       "    <tr>\n",
       "      <th>1370</th>\n",
       "      <td>A0010458</td>\n",
       "      <td>2018-06-01</td>\n",
       "      <td>강원 양구군</td>\n",
       "      <td>SK에너지</td>\n",
       "      <td>일반</td>\n",
       "      <td>0.0</td>\n",
       "      <td>강원</td>\n",
       "    </tr>\n",
       "    <tr>\n",
       "      <th>1371</th>\n",
       "      <td>A0010458</td>\n",
       "      <td>2018-06-02</td>\n",
       "      <td>강원 양구군</td>\n",
       "      <td>SK에너지</td>\n",
       "      <td>일반</td>\n",
       "      <td>0.0</td>\n",
       "      <td>강원</td>\n",
       "    </tr>\n",
       "    <tr>\n",
       "      <th>1372</th>\n",
       "      <td>A0010458</td>\n",
       "      <td>2018-06-03</td>\n",
       "      <td>강원 양구군</td>\n",
       "      <td>SK에너지</td>\n",
       "      <td>일반</td>\n",
       "      <td>0.0</td>\n",
       "      <td>강원</td>\n",
       "    </tr>\n",
       "    <tr>\n",
       "      <th>1373</th>\n",
       "      <td>A0010458</td>\n",
       "      <td>2018-06-04</td>\n",
       "      <td>강원 양구군</td>\n",
       "      <td>SK에너지</td>\n",
       "      <td>일반</td>\n",
       "      <td>0.0</td>\n",
       "      <td>강원</td>\n",
       "    </tr>\n",
       "    <tr>\n",
       "      <th>1374</th>\n",
       "      <td>A0010458</td>\n",
       "      <td>2018-06-05</td>\n",
       "      <td>강원 양구군</td>\n",
       "      <td>SK에너지</td>\n",
       "      <td>일반</td>\n",
       "      <td>0.0</td>\n",
       "      <td>강원</td>\n",
       "    </tr>\n",
       "    <tr>\n",
       "      <th>1375</th>\n",
       "      <td>A0010458</td>\n",
       "      <td>2018-06-06</td>\n",
       "      <td>강원 양구군</td>\n",
       "      <td>SK에너지</td>\n",
       "      <td>일반</td>\n",
       "      <td>0.0</td>\n",
       "      <td>강원</td>\n",
       "    </tr>\n",
       "    <tr>\n",
       "      <th>1376</th>\n",
       "      <td>A0010458</td>\n",
       "      <td>2018-06-07</td>\n",
       "      <td>강원 양구군</td>\n",
       "      <td>SK에너지</td>\n",
       "      <td>일반</td>\n",
       "      <td>0.0</td>\n",
       "      <td>강원</td>\n",
       "    </tr>\n",
       "    <tr>\n",
       "      <th>1575</th>\n",
       "      <td>A0011234</td>\n",
       "      <td>2018-06-03</td>\n",
       "      <td>강원 영월군</td>\n",
       "      <td>SK에너지</td>\n",
       "      <td>일반</td>\n",
       "      <td>0.0</td>\n",
       "      <td>강원</td>\n",
       "    </tr>\n",
       "  </tbody>\n",
       "</table>\n",
       "</div>"
      ],
      "text/plain": [
       "            번호         기간      지역      상표 셀프여부  휘발유 지역2\n",
       "1019  A0010629 2018-06-07  강원 삼척시  현대오일뱅크   일반  0.0  강원\n",
       "1159  A0010700 2018-06-07  강원 삼척시  현대오일뱅크   셀프  0.0  강원\n",
       "1370  A0010458 2018-06-01  강원 양구군   SK에너지   일반  0.0  강원\n",
       "1371  A0010458 2018-06-02  강원 양구군   SK에너지   일반  0.0  강원\n",
       "1372  A0010458 2018-06-03  강원 양구군   SK에너지   일반  0.0  강원\n",
       "1373  A0010458 2018-06-04  강원 양구군   SK에너지   일반  0.0  강원\n",
       "1374  A0010458 2018-06-05  강원 양구군   SK에너지   일반  0.0  강원\n",
       "1375  A0010458 2018-06-06  강원 양구군   SK에너지   일반  0.0  강원\n",
       "1376  A0010458 2018-06-07  강원 양구군   SK에너지   일반  0.0  강원\n",
       "1575  A0011234 2018-06-03  강원 영월군   SK에너지   일반  0.0  강원"
      ]
     },
     "execution_count": 41,
     "metadata": {},
     "output_type": "execute_result"
    }
   ],
   "source": [
    "# 휘발유값 0인 ROW 확인\n",
    "f18.loc[f18['휘발유']==0].head(10) "
   ]
  },
  {
   "cell_type": "code",
   "execution_count": 42,
   "metadata": {},
   "outputs": [
    {
     "data": {
      "text/html": [
       "<div>\n",
       "<style scoped>\n",
       "    .dataframe tbody tr th:only-of-type {\n",
       "        vertical-align: middle;\n",
       "    }\n",
       "\n",
       "    .dataframe tbody tr th {\n",
       "        vertical-align: top;\n",
       "    }\n",
       "\n",
       "    .dataframe thead th {\n",
       "        text-align: right;\n",
       "    }\n",
       "</style>\n",
       "<table border=\"1\" class=\"dataframe\">\n",
       "  <thead>\n",
       "    <tr style=\"text-align: right;\">\n",
       "      <th></th>\n",
       "      <th>번호</th>\n",
       "      <th>기간</th>\n",
       "      <th>지역</th>\n",
       "      <th>상표</th>\n",
       "      <th>셀프여부</th>\n",
       "      <th>휘발유</th>\n",
       "      <th>지역2</th>\n",
       "    </tr>\n",
       "  </thead>\n",
       "  <tbody>\n",
       "    <tr>\n",
       "      <th>1013</th>\n",
       "      <td>A0010629</td>\n",
       "      <td>2018-06-01</td>\n",
       "      <td>강원 삼척시</td>\n",
       "      <td>현대오일뱅크</td>\n",
       "      <td>일반</td>\n",
       "      <td>1595.0</td>\n",
       "      <td>강원</td>\n",
       "    </tr>\n",
       "    <tr>\n",
       "      <th>1014</th>\n",
       "      <td>A0010629</td>\n",
       "      <td>2018-06-02</td>\n",
       "      <td>강원 삼척시</td>\n",
       "      <td>현대오일뱅크</td>\n",
       "      <td>일반</td>\n",
       "      <td>1595.0</td>\n",
       "      <td>강원</td>\n",
       "    </tr>\n",
       "    <tr>\n",
       "      <th>1015</th>\n",
       "      <td>A0010629</td>\n",
       "      <td>2018-06-03</td>\n",
       "      <td>강원 삼척시</td>\n",
       "      <td>현대오일뱅크</td>\n",
       "      <td>일반</td>\n",
       "      <td>1595.0</td>\n",
       "      <td>강원</td>\n",
       "    </tr>\n",
       "    <tr>\n",
       "      <th>1016</th>\n",
       "      <td>A0010629</td>\n",
       "      <td>2018-06-04</td>\n",
       "      <td>강원 삼척시</td>\n",
       "      <td>현대오일뱅크</td>\n",
       "      <td>일반</td>\n",
       "      <td>1595.0</td>\n",
       "      <td>강원</td>\n",
       "    </tr>\n",
       "    <tr>\n",
       "      <th>1017</th>\n",
       "      <td>A0010629</td>\n",
       "      <td>2018-06-05</td>\n",
       "      <td>강원 삼척시</td>\n",
       "      <td>현대오일뱅크</td>\n",
       "      <td>일반</td>\n",
       "      <td>1595.0</td>\n",
       "      <td>강원</td>\n",
       "    </tr>\n",
       "    <tr>\n",
       "      <th>1018</th>\n",
       "      <td>A0010629</td>\n",
       "      <td>2018-06-06</td>\n",
       "      <td>강원 삼척시</td>\n",
       "      <td>현대오일뱅크</td>\n",
       "      <td>일반</td>\n",
       "      <td>1595.0</td>\n",
       "      <td>강원</td>\n",
       "    </tr>\n",
       "    <tr>\n",
       "      <th>1019</th>\n",
       "      <td>A0010629</td>\n",
       "      <td>2018-06-07</td>\n",
       "      <td>강원 삼척시</td>\n",
       "      <td>현대오일뱅크</td>\n",
       "      <td>일반</td>\n",
       "      <td>0.0</td>\n",
       "      <td>강원</td>\n",
       "    </tr>\n",
       "  </tbody>\n",
       "</table>\n",
       "</div>"
      ],
      "text/plain": [
       "            번호         기간      지역      상표 셀프여부     휘발유 지역2\n",
       "1013  A0010629 2018-06-01  강원 삼척시  현대오일뱅크   일반  1595.0  강원\n",
       "1014  A0010629 2018-06-02  강원 삼척시  현대오일뱅크   일반  1595.0  강원\n",
       "1015  A0010629 2018-06-03  강원 삼척시  현대오일뱅크   일반  1595.0  강원\n",
       "1016  A0010629 2018-06-04  강원 삼척시  현대오일뱅크   일반  1595.0  강원\n",
       "1017  A0010629 2018-06-05  강원 삼척시  현대오일뱅크   일반  1595.0  강원\n",
       "1018  A0010629 2018-06-06  강원 삼척시  현대오일뱅크   일반  1595.0  강원\n",
       "1019  A0010629 2018-06-07  강원 삼척시  현대오일뱅크   일반     0.0  강원"
      ]
     },
     "execution_count": 42,
     "metadata": {},
     "output_type": "execute_result"
    }
   ],
   "source": [
    "f18.loc[f18['번호']=='A0010629']"
   ]
  },
  {
   "cell_type": "code",
   "execution_count": 62,
   "metadata": {},
   "outputs": [],
   "source": [
    "# 휘발유값 0인 ROW 제거\n",
    "f18 = f18.loc[f18['휘발유']!=0,:] # 행은 조건으로 필터링, 열은 전체선택 -> 휘발유값이 0인 행은 제거"
   ]
  },
  {
   "cell_type": "code",
   "execution_count": 44,
   "metadata": {
    "scrolled": true
   },
   "outputs": [
    {
     "data": {
      "text/html": [
       "<div>\n",
       "<style scoped>\n",
       "    .dataframe tbody tr th:only-of-type {\n",
       "        vertical-align: middle;\n",
       "    }\n",
       "\n",
       "    .dataframe tbody tr th {\n",
       "        vertical-align: top;\n",
       "    }\n",
       "\n",
       "    .dataframe thead th {\n",
       "        text-align: right;\n",
       "    }\n",
       "</style>\n",
       "<table border=\"1\" class=\"dataframe\">\n",
       "  <thead>\n",
       "    <tr style=\"text-align: right;\">\n",
       "      <th></th>\n",
       "      <th>번호</th>\n",
       "      <th>기간</th>\n",
       "      <th>지역</th>\n",
       "      <th>상표</th>\n",
       "      <th>셀프여부</th>\n",
       "      <th>휘발유</th>\n",
       "      <th>지역2</th>\n",
       "    </tr>\n",
       "  </thead>\n",
       "  <tbody>\n",
       "    <tr>\n",
       "      <th>count</th>\n",
       "      <td>81167</td>\n",
       "      <td>81167</td>\n",
       "      <td>81167</td>\n",
       "      <td>81167</td>\n",
       "      <td>81167</td>\n",
       "      <td>81167.000000</td>\n",
       "      <td>81167</td>\n",
       "    </tr>\n",
       "    <tr>\n",
       "      <th>unique</th>\n",
       "      <td>11641</td>\n",
       "      <td>NaN</td>\n",
       "      <td>229</td>\n",
       "      <td>9</td>\n",
       "      <td>2</td>\n",
       "      <td>NaN</td>\n",
       "      <td>17</td>\n",
       "    </tr>\n",
       "    <tr>\n",
       "      <th>top</th>\n",
       "      <td>A0011536</td>\n",
       "      <td>NaN</td>\n",
       "      <td>충북 청주시</td>\n",
       "      <td>SK에너지</td>\n",
       "      <td>일반</td>\n",
       "      <td>NaN</td>\n",
       "      <td>경기</td>\n",
       "    </tr>\n",
       "    <tr>\n",
       "      <th>freq</th>\n",
       "      <td>7</td>\n",
       "      <td>NaN</td>\n",
       "      <td>1567</td>\n",
       "      <td>24444</td>\n",
       "      <td>49590</td>\n",
       "      <td>NaN</td>\n",
       "      <td>16306</td>\n",
       "    </tr>\n",
       "    <tr>\n",
       "      <th>mean</th>\n",
       "      <td>NaN</td>\n",
       "      <td>2018-06-03 23:57:25.651557888</td>\n",
       "      <td>NaN</td>\n",
       "      <td>NaN</td>\n",
       "      <td>NaN</td>\n",
       "      <td>1609.486922</td>\n",
       "      <td>NaN</td>\n",
       "    </tr>\n",
       "    <tr>\n",
       "      <th>min</th>\n",
       "      <td>NaN</td>\n",
       "      <td>2018-06-01 00:00:00</td>\n",
       "      <td>NaN</td>\n",
       "      <td>NaN</td>\n",
       "      <td>NaN</td>\n",
       "      <td>1500.000000</td>\n",
       "      <td>NaN</td>\n",
       "    </tr>\n",
       "    <tr>\n",
       "      <th>25%</th>\n",
       "      <td>NaN</td>\n",
       "      <td>2018-06-02 00:00:00</td>\n",
       "      <td>NaN</td>\n",
       "      <td>NaN</td>\n",
       "      <td>NaN</td>\n",
       "      <td>1579.000000</td>\n",
       "      <td>NaN</td>\n",
       "    </tr>\n",
       "    <tr>\n",
       "      <th>50%</th>\n",
       "      <td>NaN</td>\n",
       "      <td>2018-06-04 00:00:00</td>\n",
       "      <td>NaN</td>\n",
       "      <td>NaN</td>\n",
       "      <td>NaN</td>\n",
       "      <td>1598.000000</td>\n",
       "      <td>NaN</td>\n",
       "    </tr>\n",
       "    <tr>\n",
       "      <th>75%</th>\n",
       "      <td>NaN</td>\n",
       "      <td>2018-06-06 00:00:00</td>\n",
       "      <td>NaN</td>\n",
       "      <td>NaN</td>\n",
       "      <td>NaN</td>\n",
       "      <td>1625.000000</td>\n",
       "      <td>NaN</td>\n",
       "    </tr>\n",
       "    <tr>\n",
       "      <th>max</th>\n",
       "      <td>NaN</td>\n",
       "      <td>2018-06-07 00:00:00</td>\n",
       "      <td>NaN</td>\n",
       "      <td>NaN</td>\n",
       "      <td>NaN</td>\n",
       "      <td>2282.000000</td>\n",
       "      <td>NaN</td>\n",
       "    </tr>\n",
       "    <tr>\n",
       "      <th>std</th>\n",
       "      <td>NaN</td>\n",
       "      <td>NaN</td>\n",
       "      <td>NaN</td>\n",
       "      <td>NaN</td>\n",
       "      <td>NaN</td>\n",
       "      <td>57.135670</td>\n",
       "      <td>NaN</td>\n",
       "    </tr>\n",
       "  </tbody>\n",
       "</table>\n",
       "</div>"
      ],
      "text/plain": [
       "              번호                             기간      지역     상표   셀프여부  \\\n",
       "count      81167                          81167   81167  81167  81167   \n",
       "unique     11641                            NaN     229      9      2   \n",
       "top     A0011536                            NaN  충북 청주시  SK에너지     일반   \n",
       "freq           7                            NaN    1567  24444  49590   \n",
       "mean         NaN  2018-06-03 23:57:25.651557888     NaN    NaN    NaN   \n",
       "min          NaN            2018-06-01 00:00:00     NaN    NaN    NaN   \n",
       "25%          NaN            2018-06-02 00:00:00     NaN    NaN    NaN   \n",
       "50%          NaN            2018-06-04 00:00:00     NaN    NaN    NaN   \n",
       "75%          NaN            2018-06-06 00:00:00     NaN    NaN    NaN   \n",
       "max          NaN            2018-06-07 00:00:00     NaN    NaN    NaN   \n",
       "std          NaN                            NaN     NaN    NaN    NaN   \n",
       "\n",
       "                 휘발유    지역2  \n",
       "count   81167.000000  81167  \n",
       "unique           NaN     17  \n",
       "top              NaN     경기  \n",
       "freq             NaN  16306  \n",
       "mean     1609.486922    NaN  \n",
       "min      1500.000000    NaN  \n",
       "25%      1579.000000    NaN  \n",
       "50%      1598.000000    NaN  \n",
       "75%      1625.000000    NaN  \n",
       "max      2282.000000    NaN  \n",
       "std        57.135670    NaN  "
      ]
     },
     "execution_count": 44,
     "metadata": {},
     "output_type": "execute_result"
    }
   ],
   "source": [
    "f18.describe(include='all')"
   ]
  },
  {
   "cell_type": "markdown",
   "metadata": {},
   "source": [
    "## 주유소별 데이터 정합성 확인(7일동안 변화 없었다는 전제)\n",
    "\n",
    "주유소별로 7일동안 지역, 상표, 셀프여부 변화가 없었다는 전제 하에 정합성 검사를 실시"
   ]
  },
  {
   "cell_type": "code",
   "execution_count": 50,
   "metadata": {},
   "outputs": [
    {
     "data": {
      "text/html": [
       "<div>\n",
       "<style scoped>\n",
       "    .dataframe tbody tr th:only-of-type {\n",
       "        vertical-align: middle;\n",
       "    }\n",
       "\n",
       "    .dataframe tbody tr th {\n",
       "        vertical-align: top;\n",
       "    }\n",
       "\n",
       "    .dataframe thead th {\n",
       "        text-align: right;\n",
       "    }\n",
       "</style>\n",
       "<table border=\"1\" class=\"dataframe\">\n",
       "  <thead>\n",
       "    <tr style=\"text-align: right;\">\n",
       "      <th></th>\n",
       "      <th>지역</th>\n",
       "      <th>상표</th>\n",
       "      <th>셀프여부</th>\n",
       "    </tr>\n",
       "    <tr>\n",
       "      <th>번호</th>\n",
       "      <th></th>\n",
       "      <th></th>\n",
       "      <th></th>\n",
       "    </tr>\n",
       "  </thead>\n",
       "  <tbody>\n",
       "    <tr>\n",
       "      <th>A0000004</th>\n",
       "      <td>1</td>\n",
       "      <td>1</td>\n",
       "      <td>1</td>\n",
       "    </tr>\n",
       "    <tr>\n",
       "      <th>A0000011</th>\n",
       "      <td>1</td>\n",
       "      <td>1</td>\n",
       "      <td>1</td>\n",
       "    </tr>\n",
       "    <tr>\n",
       "      <th>A0000012</th>\n",
       "      <td>1</td>\n",
       "      <td>1</td>\n",
       "      <td>1</td>\n",
       "    </tr>\n",
       "    <tr>\n",
       "      <th>A0000014</th>\n",
       "      <td>1</td>\n",
       "      <td>1</td>\n",
       "      <td>1</td>\n",
       "    </tr>\n",
       "    <tr>\n",
       "      <th>A0000015</th>\n",
       "      <td>1</td>\n",
       "      <td>1</td>\n",
       "      <td>1</td>\n",
       "    </tr>\n",
       "  </tbody>\n",
       "</table>\n",
       "</div>"
      ],
      "text/plain": [
       "          지역  상표  셀프여부\n",
       "번호                    \n",
       "A0000004   1   1     1\n",
       "A0000011   1   1     1\n",
       "A0000012   1   1     1\n",
       "A0000014   1   1     1\n",
       "A0000015   1   1     1"
      ]
     },
     "execution_count": 50,
     "metadata": {},
     "output_type": "execute_result"
    }
   ],
   "source": [
    "#주유소별 데이터 정합성 확인(7일동안 변화 없었다는 전제)\n",
    "unique_count = f18.groupby('번호')[['지역','상표','셀프여부']].nunique() # unique()는 값 자체, nunique()는 유니크한 값의 개수를 출력함\n",
    "unique_count.head()"
   ]
  },
  {
   "cell_type": "markdown",
   "metadata": {},
   "source": [
    "### unique_count가 1이 아닌수(sum)가 0이 아닐경우 -> 1이 아닌값이 존재한다.\n",
    "- unique_count != 1  : 1이 아닌경우 (즉, 값이 바뀐 항목)\n",
    "- .sum(axis=1) : 바뀐항목이 몇개인지 합산\n",
    "- != 0 : 하나라도 바뀐 항목이 있다면 True\n",
    "- loc[...] : 그런 행만 필터링"
   ]
  },
  {
   "cell_type": "code",
   "execution_count": 56,
   "metadata": {},
   "outputs": [
    {
     "name": "stdout",
     "output_type": "stream",
     "text": [
      "          지역  상표  셀프여부\n",
      "번호                    \n",
      "A0012639   1   2     1\n",
      "A0016076   1   2     1\n"
     ]
    },
    {
     "data": {
      "text/plain": [
       "Index(['A0012639', 'A0016076'], dtype='object', name='번호')"
      ]
     },
     "execution_count": 56,
     "metadata": {},
     "output_type": "execute_result"
    }
   ],
   "source": [
    "# unique_count가 1이 아닌수(sum)가 0이 아닐경우 -> 1이 아닌값이 존재한다.\n",
    "target = unique_count.loc[(unique_count!=1).sum(axis=1)!=0]\n",
    "print(target)\n",
    "target.index"
   ]
  },
  {
   "cell_type": "code",
   "execution_count": 58,
   "metadata": {},
   "outputs": [
    {
     "data": {
      "text/html": [
       "<div>\n",
       "<style scoped>\n",
       "    .dataframe tbody tr th:only-of-type {\n",
       "        vertical-align: middle;\n",
       "    }\n",
       "\n",
       "    .dataframe tbody tr th {\n",
       "        vertical-align: top;\n",
       "    }\n",
       "\n",
       "    .dataframe thead th {\n",
       "        text-align: right;\n",
       "    }\n",
       "</style>\n",
       "<table border=\"1\" class=\"dataframe\">\n",
       "  <thead>\n",
       "    <tr style=\"text-align: right;\">\n",
       "      <th></th>\n",
       "      <th>번호</th>\n",
       "      <th>지역</th>\n",
       "      <th>지역2</th>\n",
       "      <th>상표</th>\n",
       "      <th>셀프여부</th>\n",
       "      <th>휘발유</th>\n",
       "    </tr>\n",
       "  </thead>\n",
       "  <tbody>\n",
       "  </tbody>\n",
       "</table>\n",
       "</div>"
      ],
      "text/plain": [
       "Empty DataFrame\n",
       "Columns: [번호, 지역, 지역2, 상표, 셀프여부, 휘발유]\n",
       "Index: []"
      ]
     },
     "execution_count": 58,
     "metadata": {},
     "output_type": "execute_result"
    }
   ],
   "source": [
    "f18.loc[f18['번호'].isin(target.index)]"
   ]
  },
  {
   "cell_type": "markdown",
   "metadata": {},
   "source": [
    "### 정핪겅에 문제가 있었던 주유소(번호)가 포함된 행은 제거하고 나머지 행만 남김\n",
    "\n",
    "```python\n",
    "f18 = f18.loc[~f18['번호'].isin(target.index)]\n",
    "```\n",
    "- f18[...] : f18 데이터 프레임에서 조건을 만족하는 행만 남기도록함\n",
    "- f18['번호'].isin(target.index) 번호가 target에 포함된 주유소인지 여부 (True/False 시리즈)\n",
    "- ~ 부정연산자 : 포함되지 않은 것만 선택\n",
    "- .loc[...] 조건에 맞는 행을 필터링\n",
    "\n"
   ]
  },
  {
   "cell_type": "code",
   "execution_count": 57,
   "metadata": {},
   "outputs": [],
   "source": [
    "f18 = f18.loc[~f18['번호'].isin(target.index)]"
   ]
  },
  {
   "cell_type": "markdown",
   "metadata": {},
   "source": [
    "### 주유소별 데이터 통합\n",
    "- 지역, 지역2 : 지역은 7일동안 바뀌지 않는다는 전제이므로 암우날이나 괜찮음. first 행을 뽑아옴\n",
    "- 상표, 셀프여부 : 마찬가지로 고정된 값 사용\n",
    "- 휘발유 : 하루하루 가격이 다를 수 있으니 mean 평균값 사용"
   ]
  },
  {
   "cell_type": "code",
   "execution_count": null,
   "metadata": {},
   "outputs": [],
   "source": [
    "# 주유소별 데이터 통합\n",
    "''' \n",
    "지역, 지역2 : 지역은 7일동안 바뀌지 않는다는 전제이므로 암우날이나 괜찮음. first 행을 뽑아옴\n",
    "상표, 셀프여부 : 마찬가지로 고정된 값 사용\n",
    "휘발유 : 하루하루 가격이 다를 수 있으니 mean 평균값 사용\n",
    "'''\n",
    "f18 = f18.groupby('번호')\\\n",
    "    .agg({'지역':'first','지역2':'first','상표':'first','셀프여부':'first','휘발유':'mean'})\\\n",
    "    .reset_index() "
   ]
  },
  {
   "cell_type": "code",
   "execution_count": 59,
   "metadata": {},
   "outputs": [
    {
     "data": {
      "text/html": [
       "<div>\n",
       "<style scoped>\n",
       "    .dataframe tbody tr th:only-of-type {\n",
       "        vertical-align: middle;\n",
       "    }\n",
       "\n",
       "    .dataframe tbody tr th {\n",
       "        vertical-align: top;\n",
       "    }\n",
       "\n",
       "    .dataframe thead th {\n",
       "        text-align: right;\n",
       "    }\n",
       "</style>\n",
       "<table border=\"1\" class=\"dataframe\">\n",
       "  <thead>\n",
       "    <tr style=\"text-align: right;\">\n",
       "      <th></th>\n",
       "      <th>번호</th>\n",
       "      <th>지역</th>\n",
       "      <th>지역2</th>\n",
       "      <th>상표</th>\n",
       "      <th>셀프여부</th>\n",
       "      <th>휘발유</th>\n",
       "    </tr>\n",
       "  </thead>\n",
       "  <tbody>\n",
       "    <tr>\n",
       "      <th>count</th>\n",
       "      <td>11639</td>\n",
       "      <td>11639</td>\n",
       "      <td>11639</td>\n",
       "      <td>11639</td>\n",
       "      <td>11639</td>\n",
       "      <td>11639.000000</td>\n",
       "    </tr>\n",
       "    <tr>\n",
       "      <th>unique</th>\n",
       "      <td>11639</td>\n",
       "      <td>229</td>\n",
       "      <td>17</td>\n",
       "      <td>9</td>\n",
       "      <td>2</td>\n",
       "      <td>NaN</td>\n",
       "    </tr>\n",
       "    <tr>\n",
       "      <th>top</th>\n",
       "      <td>A0000004</td>\n",
       "      <td>충북 청주시</td>\n",
       "      <td>경기</td>\n",
       "      <td>SK에너지</td>\n",
       "      <td>일반</td>\n",
       "      <td>NaN</td>\n",
       "    </tr>\n",
       "    <tr>\n",
       "      <th>freq</th>\n",
       "      <td>1</td>\n",
       "      <td>224</td>\n",
       "      <td>2343</td>\n",
       "      <td>3505</td>\n",
       "      <td>7106</td>\n",
       "      <td>NaN</td>\n",
       "    </tr>\n",
       "    <tr>\n",
       "      <th>mean</th>\n",
       "      <td>NaN</td>\n",
       "      <td>NaN</td>\n",
       "      <td>NaN</td>\n",
       "      <td>NaN</td>\n",
       "      <td>NaN</td>\n",
       "      <td>1609.491097</td>\n",
       "    </tr>\n",
       "    <tr>\n",
       "      <th>std</th>\n",
       "      <td>NaN</td>\n",
       "      <td>NaN</td>\n",
       "      <td>NaN</td>\n",
       "      <td>NaN</td>\n",
       "      <td>NaN</td>\n",
       "      <td>56.959482</td>\n",
       "    </tr>\n",
       "    <tr>\n",
       "      <th>min</th>\n",
       "      <td>NaN</td>\n",
       "      <td>NaN</td>\n",
       "      <td>NaN</td>\n",
       "      <td>NaN</td>\n",
       "      <td>NaN</td>\n",
       "      <td>1525.000000</td>\n",
       "    </tr>\n",
       "    <tr>\n",
       "      <th>25%</th>\n",
       "      <td>NaN</td>\n",
       "      <td>NaN</td>\n",
       "      <td>NaN</td>\n",
       "      <td>NaN</td>\n",
       "      <td>NaN</td>\n",
       "      <td>1579.000000</td>\n",
       "    </tr>\n",
       "    <tr>\n",
       "      <th>50%</th>\n",
       "      <td>NaN</td>\n",
       "      <td>NaN</td>\n",
       "      <td>NaN</td>\n",
       "      <td>NaN</td>\n",
       "      <td>NaN</td>\n",
       "      <td>1598.000000</td>\n",
       "    </tr>\n",
       "    <tr>\n",
       "      <th>75%</th>\n",
       "      <td>NaN</td>\n",
       "      <td>NaN</td>\n",
       "      <td>NaN</td>\n",
       "      <td>NaN</td>\n",
       "      <td>NaN</td>\n",
       "      <td>1625.000000</td>\n",
       "    </tr>\n",
       "    <tr>\n",
       "      <th>max</th>\n",
       "      <td>NaN</td>\n",
       "      <td>NaN</td>\n",
       "      <td>NaN</td>\n",
       "      <td>NaN</td>\n",
       "      <td>NaN</td>\n",
       "      <td>2281.428571</td>\n",
       "    </tr>\n",
       "  </tbody>\n",
       "</table>\n",
       "</div>"
      ],
      "text/plain": [
       "              번호      지역    지역2     상표   셀프여부           휘발유\n",
       "count      11639   11639  11639  11639  11639  11639.000000\n",
       "unique     11639     229     17      9      2           NaN\n",
       "top     A0000004  충북 청주시     경기  SK에너지     일반           NaN\n",
       "freq           1     224   2343   3505   7106           NaN\n",
       "mean         NaN     NaN    NaN    NaN    NaN   1609.491097\n",
       "std          NaN     NaN    NaN    NaN    NaN     56.959482\n",
       "min          NaN     NaN    NaN    NaN    NaN   1525.000000\n",
       "25%          NaN     NaN    NaN    NaN    NaN   1579.000000\n",
       "50%          NaN     NaN    NaN    NaN    NaN   1598.000000\n",
       "75%          NaN     NaN    NaN    NaN    NaN   1625.000000\n",
       "max          NaN     NaN    NaN    NaN    NaN   2281.428571"
      ]
     },
     "execution_count": 59,
     "metadata": {},
     "output_type": "execute_result"
    }
   ],
   "source": [
    "f18.describe(include='all')"
   ]
  },
  {
   "cell_type": "markdown",
   "metadata": {},
   "source": [
    "### 1.2. Cleansing 및 Feature Engineering 함수 생성 및 전체 년도 데이터 적용"
   ]
  },
  {
   "cell_type": "code",
   "execution_count": 61,
   "metadata": {},
   "outputs": [],
   "source": [
    "def preprocess(df):\n",
    "    df_copy=df.copy() # 필터링 전\n",
    "    \n",
    "    df = df.drop(0)\n",
    "    df['기간'] = df['기간'].apply(lambda x:pd.to_datetime(str(int(x))))\n",
    "    df['지역2'] = df['지역'].apply(lambda x:x.split()[0])\n",
    "    df = df.loc[df['휘발유']!=0,:]\n",
    "    unique_count = df.groupby('번호')[['번호','지역','상표','셀프여부']].nunique()\n",
    "    target = unique_count.loc[(unique_count!=1).sum(axis=1)!=0,:]\n",
    "    df = df.loc[~df['번호'].isin(target.index),:]\n",
    "    df = df.groupby('번호')\\\n",
    "        .agg({'지역':'first','지역2':'first','상표':'first','셀프여부':'first','휘발유':'mean'})\\\n",
    "        .reset_index()\n",
    "    \n",
    "    out = set(df_copy['번호']).difference(set(df['번호'])) # 필터링 후 \n",
    "    return(df,out)"
   ]
  },
  {
   "cell_type": "code",
   "execution_count": 63,
   "metadata": {},
   "outputs": [],
   "source": [
    "f_dict = dict()\n",
    "out_all = set() # 이상치 발견한 주유소 번호 저장\n",
    "for year in range(2018,2022):\n",
    "    df = pd.read_csv(f'./data/과거_판매가격(주유소)_{year}.csv')\n",
    "    f_dict[year], out = preprocess(df)\n",
    "    out_all.update(out)"
   ]
  },
  {
   "cell_type": "code",
   "execution_count": 65,
   "metadata": {},
   "outputs": [
    {
     "data": {
      "text/html": [
       "<div>\n",
       "<style scoped>\n",
       "    .dataframe tbody tr th:only-of-type {\n",
       "        vertical-align: middle;\n",
       "    }\n",
       "\n",
       "    .dataframe tbody tr th {\n",
       "        vertical-align: top;\n",
       "    }\n",
       "\n",
       "    .dataframe thead th {\n",
       "        text-align: right;\n",
       "    }\n",
       "</style>\n",
       "<table border=\"1\" class=\"dataframe\">\n",
       "  <thead>\n",
       "    <tr style=\"text-align: right;\">\n",
       "      <th></th>\n",
       "      <th>번호</th>\n",
       "      <th>지역</th>\n",
       "      <th>지역2</th>\n",
       "      <th>상표</th>\n",
       "      <th>셀프여부</th>\n",
       "      <th>휘발유</th>\n",
       "    </tr>\n",
       "  </thead>\n",
       "  <tbody>\n",
       "    <tr>\n",
       "      <th>0</th>\n",
       "      <td>A0000004</td>\n",
       "      <td>경기 광명시</td>\n",
       "      <td>경기</td>\n",
       "      <td>GS칼텍스</td>\n",
       "      <td>일반</td>\n",
       "      <td>1529.000000</td>\n",
       "    </tr>\n",
       "    <tr>\n",
       "      <th>1</th>\n",
       "      <td>A0000011</td>\n",
       "      <td>서울 양천구</td>\n",
       "      <td>서울</td>\n",
       "      <td>GS칼텍스</td>\n",
       "      <td>일반</td>\n",
       "      <td>1524.000000</td>\n",
       "    </tr>\n",
       "    <tr>\n",
       "      <th>2</th>\n",
       "      <td>A0000012</td>\n",
       "      <td>경기 용인시</td>\n",
       "      <td>경기</td>\n",
       "      <td>GS칼텍스</td>\n",
       "      <td>일반</td>\n",
       "      <td>1529.000000</td>\n",
       "    </tr>\n",
       "    <tr>\n",
       "      <th>3</th>\n",
       "      <td>A0000014</td>\n",
       "      <td>강원 인제군</td>\n",
       "      <td>강원</td>\n",
       "      <td>GS칼텍스</td>\n",
       "      <td>일반</td>\n",
       "      <td>1549.000000</td>\n",
       "    </tr>\n",
       "    <tr>\n",
       "      <th>4</th>\n",
       "      <td>A0000015</td>\n",
       "      <td>서울 송파구</td>\n",
       "      <td>서울</td>\n",
       "      <td>현대오일뱅크</td>\n",
       "      <td>셀프</td>\n",
       "      <td>1512.428571</td>\n",
       "    </tr>\n",
       "    <tr>\n",
       "      <th>...</th>\n",
       "      <td>...</td>\n",
       "      <td>...</td>\n",
       "      <td>...</td>\n",
       "      <td>...</td>\n",
       "      <td>...</td>\n",
       "      <td>...</td>\n",
       "    </tr>\n",
       "    <tr>\n",
       "      <th>11466</th>\n",
       "      <td>A0033372</td>\n",
       "      <td>광주 북구</td>\n",
       "      <td>광주</td>\n",
       "      <td>S-OIL</td>\n",
       "      <td>셀프</td>\n",
       "      <td>1465.000000</td>\n",
       "    </tr>\n",
       "    <tr>\n",
       "      <th>11467</th>\n",
       "      <td>A0033373</td>\n",
       "      <td>경기 평택시</td>\n",
       "      <td>경기</td>\n",
       "      <td>GS칼텍스</td>\n",
       "      <td>셀프</td>\n",
       "      <td>1495.571429</td>\n",
       "    </tr>\n",
       "    <tr>\n",
       "      <th>11468</th>\n",
       "      <td>A0033374</td>\n",
       "      <td>경기 용인시</td>\n",
       "      <td>경기</td>\n",
       "      <td>S-OIL</td>\n",
       "      <td>일반</td>\n",
       "      <td>1513.285714</td>\n",
       "    </tr>\n",
       "    <tr>\n",
       "      <th>11469</th>\n",
       "      <td>A0033388</td>\n",
       "      <td>경기 김포시</td>\n",
       "      <td>경기</td>\n",
       "      <td>SK에너지</td>\n",
       "      <td>셀프</td>\n",
       "      <td>1517.000000</td>\n",
       "    </tr>\n",
       "    <tr>\n",
       "      <th>11470</th>\n",
       "      <td>A0033389</td>\n",
       "      <td>울산 중구</td>\n",
       "      <td>울산</td>\n",
       "      <td>GS칼텍스</td>\n",
       "      <td>셀프</td>\n",
       "      <td>1494.000000</td>\n",
       "    </tr>\n",
       "  </tbody>\n",
       "</table>\n",
       "<p>11471 rows × 6 columns</p>\n",
       "</div>"
      ],
      "text/plain": [
       "             번호      지역 지역2      상표 셀프여부          휘발유\n",
       "0      A0000004  경기 광명시  경기   GS칼텍스   일반  1529.000000\n",
       "1      A0000011  서울 양천구  서울   GS칼텍스   일반  1524.000000\n",
       "2      A0000012  경기 용인시  경기   GS칼텍스   일반  1529.000000\n",
       "3      A0000014  강원 인제군  강원   GS칼텍스   일반  1549.000000\n",
       "4      A0000015  서울 송파구  서울  현대오일뱅크   셀프  1512.428571\n",
       "...         ...     ...  ..     ...  ...          ...\n",
       "11466  A0033372   광주 북구  광주   S-OIL   셀프  1465.000000\n",
       "11467  A0033373  경기 평택시  경기   GS칼텍스   셀프  1495.571429\n",
       "11468  A0033374  경기 용인시  경기   S-OIL   일반  1513.285714\n",
       "11469  A0033388  경기 김포시  경기   SK에너지   셀프  1517.000000\n",
       "11470  A0033389   울산 중구  울산   GS칼텍스   셀프  1494.000000\n",
       "\n",
       "[11471 rows x 6 columns]"
      ]
     },
     "execution_count": 65,
     "metadata": {},
     "output_type": "execute_result"
    }
   ],
   "source": [
    "f_dict[2019]"
   ]
  },
  {
   "cell_type": "markdown",
   "metadata": {},
   "source": [
    "### 1.3. 연도별 데이터 Outer Join"
   ]
  },
  {
   "cell_type": "code",
   "execution_count": 64,
   "metadata": {},
   "outputs": [
    {
     "name": "stdout",
     "output_type": "stream",
     "text": [
      "['번호', '지역', '지역2', '상표', '셀프여부']\n"
     ]
    }
   ],
   "source": [
    "key = list(f_dict[2018].columns)\n",
    "key.remove('휘발유')\n",
    "print(key)"
   ]
  },
  {
   "cell_type": "markdown",
   "metadata": {},
   "source": [
    "`key`를 기준으로 외부조인 시행 <br>\n",
    "suffixes를 통해 중복되는 열이름에는 _2018, _2019를 붙이도록함"
   ]
  },
  {
   "cell_type": "code",
   "execution_count": 66,
   "metadata": {},
   "outputs": [],
   "source": [
    "m1 = pd.merge(f_dict[2018],f_dict[2019],on=key,how='outer',suffixes=('_2018', '_2019'))\n",
    "m2 = pd.merge(f_dict[2020],f_dict[2021],on=key,how='outer',suffixes=('_2020', '_2021'))\n",
    "m = pd.merge(m1,m2,on=key,how='outer')"
   ]
  },
  {
   "cell_type": "code",
   "execution_count": 67,
   "metadata": {},
   "outputs": [
    {
     "data": {
      "text/html": [
       "<div>\n",
       "<style scoped>\n",
       "    .dataframe tbody tr th:only-of-type {\n",
       "        vertical-align: middle;\n",
       "    }\n",
       "\n",
       "    .dataframe tbody tr th {\n",
       "        vertical-align: top;\n",
       "    }\n",
       "\n",
       "    .dataframe thead th {\n",
       "        text-align: right;\n",
       "    }\n",
       "</style>\n",
       "<table border=\"1\" class=\"dataframe\">\n",
       "  <thead>\n",
       "    <tr style=\"text-align: right;\">\n",
       "      <th></th>\n",
       "      <th>번호</th>\n",
       "      <th>지역</th>\n",
       "      <th>지역2</th>\n",
       "      <th>상표</th>\n",
       "      <th>셀프여부</th>\n",
       "      <th>휘발유_2018</th>\n",
       "      <th>휘발유_2019</th>\n",
       "      <th>휘발유_2020</th>\n",
       "      <th>휘발유_2021</th>\n",
       "    </tr>\n",
       "  </thead>\n",
       "  <tbody>\n",
       "    <tr>\n",
       "      <th>0</th>\n",
       "      <td>A0000004</td>\n",
       "      <td>경기 광명시</td>\n",
       "      <td>경기</td>\n",
       "      <td>GS칼텍스</td>\n",
       "      <td>일반</td>\n",
       "      <td>1599.0</td>\n",
       "      <td>1529.000000</td>\n",
       "      <td>1289.714286</td>\n",
       "      <td>1545.857143</td>\n",
       "    </tr>\n",
       "    <tr>\n",
       "      <th>1</th>\n",
       "      <td>A0000011</td>\n",
       "      <td>서울 양천구</td>\n",
       "      <td>서울</td>\n",
       "      <td>GS칼텍스</td>\n",
       "      <td>일반</td>\n",
       "      <td>1594.0</td>\n",
       "      <td>1524.000000</td>\n",
       "      <td>1283.571429</td>\n",
       "      <td>1542.428571</td>\n",
       "    </tr>\n",
       "    <tr>\n",
       "      <th>2</th>\n",
       "      <td>A0000012</td>\n",
       "      <td>경기 용인시</td>\n",
       "      <td>경기</td>\n",
       "      <td>GS칼텍스</td>\n",
       "      <td>일반</td>\n",
       "      <td>1594.0</td>\n",
       "      <td>1529.000000</td>\n",
       "      <td>1287.285714</td>\n",
       "      <td>1552.142857</td>\n",
       "    </tr>\n",
       "    <tr>\n",
       "      <th>3</th>\n",
       "      <td>A0000014</td>\n",
       "      <td>강원 인제군</td>\n",
       "      <td>강원</td>\n",
       "      <td>GS칼텍스</td>\n",
       "      <td>일반</td>\n",
       "      <td>1609.0</td>\n",
       "      <td>1549.000000</td>\n",
       "      <td>1314.000000</td>\n",
       "      <td>1575.000000</td>\n",
       "    </tr>\n",
       "    <tr>\n",
       "      <th>4</th>\n",
       "      <td>A0000015</td>\n",
       "      <td>서울 송파구</td>\n",
       "      <td>서울</td>\n",
       "      <td>현대오일뱅크</td>\n",
       "      <td>셀프</td>\n",
       "      <td>1589.0</td>\n",
       "      <td>1512.428571</td>\n",
       "      <td>1289.285714</td>\n",
       "      <td>1575.714286</td>\n",
       "    </tr>\n",
       "  </tbody>\n",
       "</table>\n",
       "</div>"
      ],
      "text/plain": [
       "         번호      지역 지역2      상표 셀프여부  휘발유_2018     휘발유_2019     휘발유_2020  \\\n",
       "0  A0000004  경기 광명시  경기   GS칼텍스   일반    1599.0  1529.000000  1289.714286   \n",
       "1  A0000011  서울 양천구  서울   GS칼텍스   일반    1594.0  1524.000000  1283.571429   \n",
       "2  A0000012  경기 용인시  경기   GS칼텍스   일반    1594.0  1529.000000  1287.285714   \n",
       "3  A0000014  강원 인제군  강원   GS칼텍스   일반    1609.0  1549.000000  1314.000000   \n",
       "4  A0000015  서울 송파구  서울  현대오일뱅크   셀프    1589.0  1512.428571  1289.285714   \n",
       "\n",
       "      휘발유_2021  \n",
       "0  1545.857143  \n",
       "1  1542.428571  \n",
       "2  1552.142857  \n",
       "3  1575.000000  \n",
       "4  1575.714286  "
      ]
     },
     "execution_count": 67,
     "metadata": {},
     "output_type": "execute_result"
    }
   ],
   "source": [
    "m.head()"
   ]
  },
  {
   "cell_type": "markdown",
   "metadata": {},
   "source": [
    "모든 주유소는 한개의 행으로 표현되어야 하므로 groupby를 통해 검증"
   ]
  },
  {
   "cell_type": "code",
   "execution_count": 68,
   "metadata": {},
   "outputs": [
    {
     "data": {
      "text/plain": [
       "번호\n",
       "A0019752    4\n",
       "A0016166    3\n",
       "A0018959    3\n",
       "A0033031    3\n",
       "A0011875    3\n",
       "dtype: int64"
      ]
     },
     "execution_count": 68,
     "metadata": {},
     "output_type": "execute_result"
    }
   ],
   "source": [
    "m.groupby('번호').size().sort_values(ascending=False).head()"
   ]
  },
  {
   "cell_type": "code",
   "execution_count": 69,
   "metadata": {},
   "outputs": [
    {
     "data": {
      "text/html": [
       "<div>\n",
       "<style scoped>\n",
       "    .dataframe tbody tr th:only-of-type {\n",
       "        vertical-align: middle;\n",
       "    }\n",
       "\n",
       "    .dataframe tbody tr th {\n",
       "        vertical-align: top;\n",
       "    }\n",
       "\n",
       "    .dataframe thead th {\n",
       "        text-align: right;\n",
       "    }\n",
       "</style>\n",
       "<table border=\"1\" class=\"dataframe\">\n",
       "  <thead>\n",
       "    <tr style=\"text-align: right;\">\n",
       "      <th></th>\n",
       "      <th>번호</th>\n",
       "      <th>지역</th>\n",
       "      <th>지역2</th>\n",
       "      <th>상표</th>\n",
       "      <th>셀프여부</th>\n",
       "      <th>휘발유_2018</th>\n",
       "      <th>휘발유_2019</th>\n",
       "      <th>휘발유_2020</th>\n",
       "      <th>휘발유_2021</th>\n",
       "    </tr>\n",
       "  </thead>\n",
       "  <tbody>\n",
       "    <tr>\n",
       "      <th>7733</th>\n",
       "      <td>A0019752</td>\n",
       "      <td>광주 북구</td>\n",
       "      <td>광주</td>\n",
       "      <td>GS칼텍스</td>\n",
       "      <td>셀프</td>\n",
       "      <td>NaN</td>\n",
       "      <td>1536.0</td>\n",
       "      <td>NaN</td>\n",
       "      <td>NaN</td>\n",
       "    </tr>\n",
       "    <tr>\n",
       "      <th>7734</th>\n",
       "      <td>A0019752</td>\n",
       "      <td>광주 북구</td>\n",
       "      <td>광주</td>\n",
       "      <td>알뜰주유소</td>\n",
       "      <td>셀프</td>\n",
       "      <td>NaN</td>\n",
       "      <td>NaN</td>\n",
       "      <td>NaN</td>\n",
       "      <td>1509.714286</td>\n",
       "    </tr>\n",
       "    <tr>\n",
       "      <th>7735</th>\n",
       "      <td>A0019752</td>\n",
       "      <td>광주 북구</td>\n",
       "      <td>광주</td>\n",
       "      <td>자가상표</td>\n",
       "      <td>셀프</td>\n",
       "      <td>NaN</td>\n",
       "      <td>NaN</td>\n",
       "      <td>1239.0</td>\n",
       "      <td>NaN</td>\n",
       "    </tr>\n",
       "    <tr>\n",
       "      <th>7736</th>\n",
       "      <td>A0019752</td>\n",
       "      <td>광주 북구</td>\n",
       "      <td>광주</td>\n",
       "      <td>현대오일뱅크</td>\n",
       "      <td>셀프</td>\n",
       "      <td>1596.0</td>\n",
       "      <td>NaN</td>\n",
       "      <td>NaN</td>\n",
       "      <td>NaN</td>\n",
       "    </tr>\n",
       "  </tbody>\n",
       "</table>\n",
       "</div>"
      ],
      "text/plain": [
       "            번호     지역 지역2      상표 셀프여부  휘발유_2018  휘발유_2019  휘발유_2020  \\\n",
       "7733  A0019752  광주 북구  광주   GS칼텍스   셀프       NaN    1536.0       NaN   \n",
       "7734  A0019752  광주 북구  광주   알뜰주유소   셀프       NaN       NaN       NaN   \n",
       "7735  A0019752  광주 북구  광주    자가상표   셀프       NaN       NaN    1239.0   \n",
       "7736  A0019752  광주 북구  광주  현대오일뱅크   셀프    1596.0       NaN       NaN   \n",
       "\n",
       "         휘발유_2021  \n",
       "7733          NaN  \n",
       "7734  1509.714286  \n",
       "7735          NaN  \n",
       "7736          NaN  "
      ]
     },
     "execution_count": 69,
     "metadata": {},
     "output_type": "execute_result"
    }
   ],
   "source": [
    "m.loc[m['번호']=='A0019752'] # A0019752는 4개가 나옴. 이상한 결과이기 때문에 따로 확인"
   ]
  },
  {
   "cell_type": "markdown",
   "metadata": {},
   "source": [
    "매 해마다 상표가 바뀌어서 같은 주유소가 4개나 기록 된것을 확인할 수 있음. <br> merge를 할 때 on조건에 '상표'를 넣었기 때문. <br> 이런 경우 데이터의 개수가 적으면 제거하는 식으로 처리하므로 개수를 확인함"
   ]
  },
  {
   "cell_type": "code",
   "execution_count": 70,
   "metadata": {},
   "outputs": [
    {
     "data": {
      "text/plain": [
       "np.int64(1338)"
      ]
     },
     "execution_count": 70,
     "metadata": {},
     "output_type": "execute_result"
    }
   ],
   "source": [
    "(m.groupby('번호').size()>1).sum()"
   ]
  },
  {
   "cell_type": "code",
   "execution_count": 71,
   "metadata": {},
   "outputs": [
    {
     "data": {
      "text/plain": [
       "['번호', '지역', '지역2', '셀프여부']"
      ]
     },
     "execution_count": 71,
     "metadata": {},
     "output_type": "execute_result"
    }
   ],
   "source": [
    "key.remove('상표')\n",
    "key"
   ]
  },
  {
   "cell_type": "code",
   "execution_count": 72,
   "metadata": {},
   "outputs": [],
   "source": [
    "m1 = pd.merge(f_dict[2018],f_dict[2019],on=key,how='outer',suffixes=('_2018', '_2019'))\n",
    "m2 = pd.merge(f_dict[2020],f_dict[2021],on=key,how='outer',suffixes=('_2020', '_2021'))\n",
    "m = pd.merge(m1,m2,on=key,how='outer')"
   ]
  },
  {
   "cell_type": "code",
   "execution_count": 73,
   "metadata": {},
   "outputs": [
    {
     "data": {
      "text/html": [
       "<div>\n",
       "<style scoped>\n",
       "    .dataframe tbody tr th:only-of-type {\n",
       "        vertical-align: middle;\n",
       "    }\n",
       "\n",
       "    .dataframe tbody tr th {\n",
       "        vertical-align: top;\n",
       "    }\n",
       "\n",
       "    .dataframe thead th {\n",
       "        text-align: right;\n",
       "    }\n",
       "</style>\n",
       "<table border=\"1\" class=\"dataframe\">\n",
       "  <thead>\n",
       "    <tr style=\"text-align: right;\">\n",
       "      <th></th>\n",
       "      <th>번호</th>\n",
       "      <th>지역</th>\n",
       "      <th>지역2</th>\n",
       "      <th>상표_2018</th>\n",
       "      <th>셀프여부</th>\n",
       "      <th>휘발유_2018</th>\n",
       "      <th>상표_2019</th>\n",
       "      <th>휘발유_2019</th>\n",
       "      <th>상표_2020</th>\n",
       "      <th>휘발유_2020</th>\n",
       "      <th>상표_2021</th>\n",
       "      <th>휘발유_2021</th>\n",
       "    </tr>\n",
       "  </thead>\n",
       "  <tbody>\n",
       "    <tr>\n",
       "      <th>0</th>\n",
       "      <td>A0000004</td>\n",
       "      <td>경기 광명시</td>\n",
       "      <td>경기</td>\n",
       "      <td>GS칼텍스</td>\n",
       "      <td>일반</td>\n",
       "      <td>1599.0</td>\n",
       "      <td>GS칼텍스</td>\n",
       "      <td>1529.000000</td>\n",
       "      <td>GS칼텍스</td>\n",
       "      <td>1289.714286</td>\n",
       "      <td>GS칼텍스</td>\n",
       "      <td>1545.857143</td>\n",
       "    </tr>\n",
       "    <tr>\n",
       "      <th>1</th>\n",
       "      <td>A0000011</td>\n",
       "      <td>서울 양천구</td>\n",
       "      <td>서울</td>\n",
       "      <td>GS칼텍스</td>\n",
       "      <td>일반</td>\n",
       "      <td>1594.0</td>\n",
       "      <td>GS칼텍스</td>\n",
       "      <td>1524.000000</td>\n",
       "      <td>GS칼텍스</td>\n",
       "      <td>1283.571429</td>\n",
       "      <td>GS칼텍스</td>\n",
       "      <td>1542.428571</td>\n",
       "    </tr>\n",
       "    <tr>\n",
       "      <th>2</th>\n",
       "      <td>A0000012</td>\n",
       "      <td>경기 용인시</td>\n",
       "      <td>경기</td>\n",
       "      <td>GS칼텍스</td>\n",
       "      <td>일반</td>\n",
       "      <td>1594.0</td>\n",
       "      <td>GS칼텍스</td>\n",
       "      <td>1529.000000</td>\n",
       "      <td>GS칼텍스</td>\n",
       "      <td>1287.285714</td>\n",
       "      <td>GS칼텍스</td>\n",
       "      <td>1552.142857</td>\n",
       "    </tr>\n",
       "    <tr>\n",
       "      <th>3</th>\n",
       "      <td>A0000014</td>\n",
       "      <td>강원 인제군</td>\n",
       "      <td>강원</td>\n",
       "      <td>GS칼텍스</td>\n",
       "      <td>일반</td>\n",
       "      <td>1609.0</td>\n",
       "      <td>GS칼텍스</td>\n",
       "      <td>1549.000000</td>\n",
       "      <td>GS칼텍스</td>\n",
       "      <td>1314.000000</td>\n",
       "      <td>GS칼텍스</td>\n",
       "      <td>1575.000000</td>\n",
       "    </tr>\n",
       "    <tr>\n",
       "      <th>4</th>\n",
       "      <td>A0000015</td>\n",
       "      <td>서울 송파구</td>\n",
       "      <td>서울</td>\n",
       "      <td>현대오일뱅크</td>\n",
       "      <td>셀프</td>\n",
       "      <td>1589.0</td>\n",
       "      <td>현대오일뱅크</td>\n",
       "      <td>1512.428571</td>\n",
       "      <td>현대오일뱅크</td>\n",
       "      <td>1289.285714</td>\n",
       "      <td>현대오일뱅크</td>\n",
       "      <td>1575.714286</td>\n",
       "    </tr>\n",
       "  </tbody>\n",
       "</table>\n",
       "</div>"
      ],
      "text/plain": [
       "         번호      지역 지역2 상표_2018 셀프여부  휘발유_2018 상표_2019     휘발유_2019 상표_2020  \\\n",
       "0  A0000004  경기 광명시  경기   GS칼텍스   일반    1599.0   GS칼텍스  1529.000000   GS칼텍스   \n",
       "1  A0000011  서울 양천구  서울   GS칼텍스   일반    1594.0   GS칼텍스  1524.000000   GS칼텍스   \n",
       "2  A0000012  경기 용인시  경기   GS칼텍스   일반    1594.0   GS칼텍스  1529.000000   GS칼텍스   \n",
       "3  A0000014  강원 인제군  강원   GS칼텍스   일반    1609.0   GS칼텍스  1549.000000   GS칼텍스   \n",
       "4  A0000015  서울 송파구  서울  현대오일뱅크   셀프    1589.0  현대오일뱅크  1512.428571  현대오일뱅크   \n",
       "\n",
       "      휘발유_2020 상표_2021     휘발유_2021  \n",
       "0  1289.714286   GS칼텍스  1545.857143  \n",
       "1  1283.571429   GS칼텍스  1542.428571  \n",
       "2  1287.285714   GS칼텍스  1552.142857  \n",
       "3  1314.000000   GS칼텍스  1575.000000  \n",
       "4  1289.285714  현대오일뱅크  1575.714286  "
      ]
     },
     "execution_count": 73,
     "metadata": {},
     "output_type": "execute_result"
    }
   ],
   "source": [
    "m.head()"
   ]
  },
  {
   "cell_type": "code",
   "execution_count": 74,
   "metadata": {},
   "outputs": [
    {
     "data": {
      "text/plain": [
       "번호\n",
       "A0033348    2\n",
       "A0002532    2\n",
       "A0007535    2\n",
       "A0033180    2\n",
       "A0023051    1\n",
       "dtype: int64"
      ]
     },
     "execution_count": 74,
     "metadata": {},
     "output_type": "execute_result"
    }
   ],
   "source": [
    "size = m.groupby('번호').size().sort_values(ascending=False)\n",
    "size.head()"
   ]
  },
  {
   "cell_type": "code",
   "execution_count": 75,
   "metadata": {},
   "outputs": [
    {
     "data": {
      "text/html": [
       "<div>\n",
       "<style scoped>\n",
       "    .dataframe tbody tr th:only-of-type {\n",
       "        vertical-align: middle;\n",
       "    }\n",
       "\n",
       "    .dataframe tbody tr th {\n",
       "        vertical-align: top;\n",
       "    }\n",
       "\n",
       "    .dataframe thead th {\n",
       "        text-align: right;\n",
       "    }\n",
       "</style>\n",
       "<table border=\"1\" class=\"dataframe\">\n",
       "  <thead>\n",
       "    <tr style=\"text-align: right;\">\n",
       "      <th></th>\n",
       "      <th>번호</th>\n",
       "      <th>지역</th>\n",
       "      <th>지역2</th>\n",
       "      <th>상표_2018</th>\n",
       "      <th>셀프여부</th>\n",
       "      <th>휘발유_2018</th>\n",
       "      <th>상표_2019</th>\n",
       "      <th>휘발유_2019</th>\n",
       "      <th>상표_2020</th>\n",
       "      <th>휘발유_2020</th>\n",
       "      <th>상표_2021</th>\n",
       "      <th>휘발유_2021</th>\n",
       "    </tr>\n",
       "  </thead>\n",
       "  <tbody>\n",
       "    <tr>\n",
       "      <th>779</th>\n",
       "      <td>A0002532</td>\n",
       "      <td>경기 수원시</td>\n",
       "      <td>경기</td>\n",
       "      <td>S-OIL</td>\n",
       "      <td>셀프</td>\n",
       "      <td>1601.571429</td>\n",
       "      <td>S-OIL</td>\n",
       "      <td>1511.714286</td>\n",
       "      <td>NaN</td>\n",
       "      <td>NaN</td>\n",
       "      <td>NaN</td>\n",
       "      <td>NaN</td>\n",
       "    </tr>\n",
       "    <tr>\n",
       "      <th>780</th>\n",
       "      <td>A0002532</td>\n",
       "      <td>경기 용인시</td>\n",
       "      <td>경기</td>\n",
       "      <td>NaN</td>\n",
       "      <td>셀프</td>\n",
       "      <td>NaN</td>\n",
       "      <td>NaN</td>\n",
       "      <td>NaN</td>\n",
       "      <td>S-OIL</td>\n",
       "      <td>1278.285714</td>\n",
       "      <td>S-OIL</td>\n",
       "      <td>1515.857143</td>\n",
       "    </tr>\n",
       "    <tr>\n",
       "      <th>2403</th>\n",
       "      <td>A0007535</td>\n",
       "      <td>경기 수원시</td>\n",
       "      <td>경기</td>\n",
       "      <td>SK에너지</td>\n",
       "      <td>일반</td>\n",
       "      <td>1609.000000</td>\n",
       "      <td>SK에너지</td>\n",
       "      <td>1524.000000</td>\n",
       "      <td>NaN</td>\n",
       "      <td>NaN</td>\n",
       "      <td>NaN</td>\n",
       "      <td>NaN</td>\n",
       "    </tr>\n",
       "    <tr>\n",
       "      <th>2404</th>\n",
       "      <td>A0007535</td>\n",
       "      <td>경기 용인시</td>\n",
       "      <td>경기</td>\n",
       "      <td>NaN</td>\n",
       "      <td>일반</td>\n",
       "      <td>NaN</td>\n",
       "      <td>NaN</td>\n",
       "      <td>NaN</td>\n",
       "      <td>SK에너지</td>\n",
       "      <td>1304.000000</td>\n",
       "      <td>SK에너지</td>\n",
       "      <td>1534.428571</td>\n",
       "    </tr>\n",
       "    <tr>\n",
       "      <th>11881</th>\n",
       "      <td>A0033180</td>\n",
       "      <td>경북 구미시</td>\n",
       "      <td>경북</td>\n",
       "      <td>SK에너지</td>\n",
       "      <td>일반</td>\n",
       "      <td>1590.571429</td>\n",
       "      <td>SK에너지</td>\n",
       "      <td>1511.142857</td>\n",
       "      <td>NaN</td>\n",
       "      <td>NaN</td>\n",
       "      <td>NaN</td>\n",
       "      <td>NaN</td>\n",
       "    </tr>\n",
       "    <tr>\n",
       "      <th>11882</th>\n",
       "      <td>A0033180</td>\n",
       "      <td>경북 의성군</td>\n",
       "      <td>경북</td>\n",
       "      <td>NaN</td>\n",
       "      <td>일반</td>\n",
       "      <td>NaN</td>\n",
       "      <td>NaN</td>\n",
       "      <td>NaN</td>\n",
       "      <td>SK에너지</td>\n",
       "      <td>1225.428571</td>\n",
       "      <td>SK에너지</td>\n",
       "      <td>1526.428571</td>\n",
       "    </tr>\n",
       "    <tr>\n",
       "      <th>12021</th>\n",
       "      <td>A0033348</td>\n",
       "      <td>강원 강릉시</td>\n",
       "      <td>강원</td>\n",
       "      <td>NaN</td>\n",
       "      <td>일반</td>\n",
       "      <td>NaN</td>\n",
       "      <td>NH-OIL</td>\n",
       "      <td>1500.000000</td>\n",
       "      <td>NaN</td>\n",
       "      <td>NaN</td>\n",
       "      <td>NaN</td>\n",
       "      <td>NaN</td>\n",
       "    </tr>\n",
       "    <tr>\n",
       "      <th>12022</th>\n",
       "      <td>A0033348</td>\n",
       "      <td>강원 삼척시</td>\n",
       "      <td>강원</td>\n",
       "      <td>NaN</td>\n",
       "      <td>일반</td>\n",
       "      <td>NaN</td>\n",
       "      <td>NaN</td>\n",
       "      <td>NaN</td>\n",
       "      <td>NH-OIL</td>\n",
       "      <td>1250.000000</td>\n",
       "      <td>NH-OIL</td>\n",
       "      <td>1540.000000</td>\n",
       "    </tr>\n",
       "  </tbody>\n",
       "</table>\n",
       "</div>"
      ],
      "text/plain": [
       "             번호      지역 지역2 상표_2018 셀프여부     휘발유_2018 상표_2019     휘발유_2019  \\\n",
       "779    A0002532  경기 수원시  경기   S-OIL   셀프  1601.571429   S-OIL  1511.714286   \n",
       "780    A0002532  경기 용인시  경기     NaN   셀프          NaN     NaN          NaN   \n",
       "2403   A0007535  경기 수원시  경기   SK에너지   일반  1609.000000   SK에너지  1524.000000   \n",
       "2404   A0007535  경기 용인시  경기     NaN   일반          NaN     NaN          NaN   \n",
       "11881  A0033180  경북 구미시  경북   SK에너지   일반  1590.571429   SK에너지  1511.142857   \n",
       "11882  A0033180  경북 의성군  경북     NaN   일반          NaN     NaN          NaN   \n",
       "12021  A0033348  강원 강릉시  강원     NaN   일반          NaN  NH-OIL  1500.000000   \n",
       "12022  A0033348  강원 삼척시  강원     NaN   일반          NaN     NaN          NaN   \n",
       "\n",
       "      상표_2020     휘발유_2020 상표_2021     휘발유_2021  \n",
       "779       NaN          NaN     NaN          NaN  \n",
       "780     S-OIL  1278.285714   S-OIL  1515.857143  \n",
       "2403      NaN          NaN     NaN          NaN  \n",
       "2404    SK에너지  1304.000000   SK에너지  1534.428571  \n",
       "11881     NaN          NaN     NaN          NaN  \n",
       "11882   SK에너지  1225.428571   SK에너지  1526.428571  \n",
       "12021     NaN          NaN     NaN          NaN  \n",
       "12022  NH-OIL  1250.000000  NH-OIL  1540.000000  "
      ]
     },
     "execution_count": 75,
     "metadata": {},
     "output_type": "execute_result"
    }
   ],
   "source": [
    "target = size[size>1].index\n",
    "m.loc[m['번호'].isin(target)].sort_values('번호')"
   ]
  },
  {
   "cell_type": "markdown",
   "metadata": {},
   "source": [
    "지역이 바뀌면서 2행씩 출력되는 행이 생긴 것을 확인할수 있음. <br>\n",
    "해당 데이터가 많지 않으므로 제거하는 것으로 처리 <br>\n",
    "다시 groupby를 통해 정합성을 검증하면 이제 모두 1만 남는걸 확인할 수 있음"
   ]
  },
  {
   "cell_type": "code",
   "execution_count": 79,
   "metadata": {},
   "outputs": [
    {
     "data": {
      "text/plain": [
       "번호\n",
       "A0000004    1\n",
       "A0023191    1\n",
       "A0023160    1\n",
       "A0023161    1\n",
       "A0023164    1\n",
       "dtype: int64"
      ]
     },
     "execution_count": 79,
     "metadata": {},
     "output_type": "execute_result"
    }
   ],
   "source": [
    "m = m.loc[~m['번호'].isin(target)]\n",
    "m.groupby('번호').size().sort_values(ascending=False).head()"
   ]
  },
  {
   "cell_type": "markdown",
   "metadata": {},
   "source": [
    "- `m['번호']`\t모든 주유소 번호 목록\n",
    "- `x not in out_all`\t해당 번호가 제거 대상이 아닌 경우\n",
    "- 리스트 컴프리헨션\tBoolean mask 생성\n",
    "- `.loc[...]`\tTrue인 행만 남김\n",
    "- `m` = ...\t필터링 결과를 다시 m에 저장"
   ]
  },
  {
   "cell_type": "code",
   "execution_count": 80,
   "metadata": {},
   "outputs": [],
   "source": [
    "# 이상치 발견되었던 주유소 필터링\n",
    "m = m.loc[[x not in out_all for x in m['번호']]]"
   ]
  },
  {
   "cell_type": "code",
   "execution_count": 81,
   "metadata": {},
   "outputs": [
    {
     "data": {
      "text/html": [
       "<div>\n",
       "<style scoped>\n",
       "    .dataframe tbody tr th:only-of-type {\n",
       "        vertical-align: middle;\n",
       "    }\n",
       "\n",
       "    .dataframe tbody tr th {\n",
       "        vertical-align: top;\n",
       "    }\n",
       "\n",
       "    .dataframe thead th {\n",
       "        text-align: right;\n",
       "    }\n",
       "</style>\n",
       "<table border=\"1\" class=\"dataframe\">\n",
       "  <thead>\n",
       "    <tr style=\"text-align: right;\">\n",
       "      <th></th>\n",
       "      <th>번호</th>\n",
       "      <th>지역</th>\n",
       "      <th>지역2</th>\n",
       "      <th>상표_2018</th>\n",
       "      <th>셀프여부</th>\n",
       "      <th>휘발유_2018</th>\n",
       "      <th>상표_2019</th>\n",
       "      <th>휘발유_2019</th>\n",
       "      <th>상표_2020</th>\n",
       "      <th>휘발유_2020</th>\n",
       "      <th>상표_2021</th>\n",
       "      <th>휘발유_2021</th>\n",
       "    </tr>\n",
       "  </thead>\n",
       "  <tbody>\n",
       "    <tr>\n",
       "      <th>0</th>\n",
       "      <td>A0000004</td>\n",
       "      <td>경기 광명시</td>\n",
       "      <td>경기</td>\n",
       "      <td>GS칼텍스</td>\n",
       "      <td>일반</td>\n",
       "      <td>1599.0</td>\n",
       "      <td>GS칼텍스</td>\n",
       "      <td>1529.000000</td>\n",
       "      <td>GS칼텍스</td>\n",
       "      <td>1289.714286</td>\n",
       "      <td>GS칼텍스</td>\n",
       "      <td>1545.857143</td>\n",
       "    </tr>\n",
       "    <tr>\n",
       "      <th>1</th>\n",
       "      <td>A0000011</td>\n",
       "      <td>서울 양천구</td>\n",
       "      <td>서울</td>\n",
       "      <td>GS칼텍스</td>\n",
       "      <td>일반</td>\n",
       "      <td>1594.0</td>\n",
       "      <td>GS칼텍스</td>\n",
       "      <td>1524.000000</td>\n",
       "      <td>GS칼텍스</td>\n",
       "      <td>1283.571429</td>\n",
       "      <td>GS칼텍스</td>\n",
       "      <td>1542.428571</td>\n",
       "    </tr>\n",
       "    <tr>\n",
       "      <th>2</th>\n",
       "      <td>A0000012</td>\n",
       "      <td>경기 용인시</td>\n",
       "      <td>경기</td>\n",
       "      <td>GS칼텍스</td>\n",
       "      <td>일반</td>\n",
       "      <td>1594.0</td>\n",
       "      <td>GS칼텍스</td>\n",
       "      <td>1529.000000</td>\n",
       "      <td>GS칼텍스</td>\n",
       "      <td>1287.285714</td>\n",
       "      <td>GS칼텍스</td>\n",
       "      <td>1552.142857</td>\n",
       "    </tr>\n",
       "    <tr>\n",
       "      <th>3</th>\n",
       "      <td>A0000014</td>\n",
       "      <td>강원 인제군</td>\n",
       "      <td>강원</td>\n",
       "      <td>GS칼텍스</td>\n",
       "      <td>일반</td>\n",
       "      <td>1609.0</td>\n",
       "      <td>GS칼텍스</td>\n",
       "      <td>1549.000000</td>\n",
       "      <td>GS칼텍스</td>\n",
       "      <td>1314.000000</td>\n",
       "      <td>GS칼텍스</td>\n",
       "      <td>1575.000000</td>\n",
       "    </tr>\n",
       "    <tr>\n",
       "      <th>4</th>\n",
       "      <td>A0000015</td>\n",
       "      <td>서울 송파구</td>\n",
       "      <td>서울</td>\n",
       "      <td>현대오일뱅크</td>\n",
       "      <td>셀프</td>\n",
       "      <td>1589.0</td>\n",
       "      <td>현대오일뱅크</td>\n",
       "      <td>1512.428571</td>\n",
       "      <td>현대오일뱅크</td>\n",
       "      <td>1289.285714</td>\n",
       "      <td>현대오일뱅크</td>\n",
       "      <td>1575.714286</td>\n",
       "    </tr>\n",
       "  </tbody>\n",
       "</table>\n",
       "</div>"
      ],
      "text/plain": [
       "         번호      지역 지역2 상표_2018 셀프여부  휘발유_2018 상표_2019     휘발유_2019 상표_2020  \\\n",
       "0  A0000004  경기 광명시  경기   GS칼텍스   일반    1599.0   GS칼텍스  1529.000000   GS칼텍스   \n",
       "1  A0000011  서울 양천구  서울   GS칼텍스   일반    1594.0   GS칼텍스  1524.000000   GS칼텍스   \n",
       "2  A0000012  경기 용인시  경기   GS칼텍스   일반    1594.0   GS칼텍스  1529.000000   GS칼텍스   \n",
       "3  A0000014  강원 인제군  강원   GS칼텍스   일반    1609.0   GS칼텍스  1549.000000   GS칼텍스   \n",
       "4  A0000015  서울 송파구  서울  현대오일뱅크   셀프    1589.0  현대오일뱅크  1512.428571  현대오일뱅크   \n",
       "\n",
       "      휘발유_2020 상표_2021     휘발유_2021  \n",
       "0  1289.714286   GS칼텍스  1545.857143  \n",
       "1  1283.571429   GS칼텍스  1542.428571  \n",
       "2  1287.285714   GS칼텍스  1552.142857  \n",
       "3  1314.000000   GS칼텍스  1575.000000  \n",
       "4  1289.285714  현대오일뱅크  1575.714286  "
      ]
     },
     "execution_count": 81,
     "metadata": {},
     "output_type": "execute_result"
    }
   ],
   "source": [
    "m.head()"
   ]
  },
  {
   "cell_type": "markdown",
   "metadata": {},
   "source": [
    "---"
   ]
  },
  {
   "cell_type": "markdown",
   "metadata": {},
   "source": [
    "## 2. 주유소 개폐업 현황 분석: 연도별 주유소 ID 비교를 통한 개폐업 현황 분석\n"
   ]
  },
  {
   "cell_type": "markdown",
   "metadata": {},
   "source": [
    "### 2.1. 연도별 개폐업 수치 분석"
   ]
  },
  {
   "cell_type": "code",
   "execution_count": 86,
   "metadata": {},
   "outputs": [
    {
     "data": {
      "text/html": [
       "<div>\n",
       "<style scoped>\n",
       "    .dataframe tbody tr th:only-of-type {\n",
       "        vertical-align: middle;\n",
       "    }\n",
       "\n",
       "    .dataframe tbody tr th {\n",
       "        vertical-align: top;\n",
       "    }\n",
       "\n",
       "    .dataframe thead th {\n",
       "        text-align: right;\n",
       "    }\n",
       "</style>\n",
       "<table border=\"1\" class=\"dataframe\">\n",
       "  <thead>\n",
       "    <tr style=\"text-align: right;\">\n",
       "      <th></th>\n",
       "      <th>번호</th>\n",
       "      <th>지역</th>\n",
       "      <th>지역2</th>\n",
       "      <th>상표_2018</th>\n",
       "      <th>셀프여부</th>\n",
       "      <th>휘발유_2018</th>\n",
       "      <th>상표_2019</th>\n",
       "      <th>휘발유_2019</th>\n",
       "      <th>상표_2020</th>\n",
       "      <th>휘발유_2020</th>\n",
       "      <th>상표_2021</th>\n",
       "      <th>휘발유_2021</th>\n",
       "    </tr>\n",
       "  </thead>\n",
       "  <tbody>\n",
       "    <tr>\n",
       "      <th>26</th>\n",
       "      <td>A0000069</td>\n",
       "      <td>서울 종로구</td>\n",
       "      <td>서울</td>\n",
       "      <td>NaN</td>\n",
       "      <td>셀프</td>\n",
       "      <td>NaN</td>\n",
       "      <td>SK에너지</td>\n",
       "      <td>1657.000000</td>\n",
       "      <td>SK에너지</td>\n",
       "      <td>1312.000000</td>\n",
       "      <td>SK에너지</td>\n",
       "      <td>1652.857143</td>\n",
       "    </tr>\n",
       "    <tr>\n",
       "      <th>30</th>\n",
       "      <td>A0000083</td>\n",
       "      <td>경기 평택시</td>\n",
       "      <td>경기</td>\n",
       "      <td>NaN</td>\n",
       "      <td>일반</td>\n",
       "      <td>NaN</td>\n",
       "      <td>현대오일뱅크</td>\n",
       "      <td>1491.857143</td>\n",
       "      <td>현대오일뱅크</td>\n",
       "      <td>1249.285714</td>\n",
       "      <td>현대오일뱅크</td>\n",
       "      <td>1527.571429</td>\n",
       "    </tr>\n",
       "    <tr>\n",
       "      <th>31</th>\n",
       "      <td>A0000084</td>\n",
       "      <td>강원 양양군</td>\n",
       "      <td>강원</td>\n",
       "      <td>NaN</td>\n",
       "      <td>셀프</td>\n",
       "      <td>NaN</td>\n",
       "      <td>NH-OIL</td>\n",
       "      <td>1540.000000</td>\n",
       "      <td>NH-OIL</td>\n",
       "      <td>1254.000000</td>\n",
       "      <td>NH-OIL</td>\n",
       "      <td>1556.142857</td>\n",
       "    </tr>\n",
       "    <tr>\n",
       "      <th>168</th>\n",
       "      <td>A0000520</td>\n",
       "      <td>서울 강서구</td>\n",
       "      <td>서울</td>\n",
       "      <td>NaN</td>\n",
       "      <td>셀프</td>\n",
       "      <td>NaN</td>\n",
       "      <td>S-OIL</td>\n",
       "      <td>1512.142857</td>\n",
       "      <td>S-OIL</td>\n",
       "      <td>1348.428571</td>\n",
       "      <td>S-OIL</td>\n",
       "      <td>1583.857143</td>\n",
       "    </tr>\n",
       "    <tr>\n",
       "      <th>313</th>\n",
       "      <td>A0000985</td>\n",
       "      <td>서울 양천구</td>\n",
       "      <td>서울</td>\n",
       "      <td>NaN</td>\n",
       "      <td>셀프</td>\n",
       "      <td>NaN</td>\n",
       "      <td>SK에너지</td>\n",
       "      <td>1515.142857</td>\n",
       "      <td>SK에너지</td>\n",
       "      <td>1319.285714</td>\n",
       "      <td>SK에너지</td>\n",
       "      <td>1563.285714</td>\n",
       "    </tr>\n",
       "  </tbody>\n",
       "</table>\n",
       "</div>"
      ],
      "text/plain": [
       "           번호      지역 지역2 상표_2018 셀프여부  휘발유_2018 상표_2019     휘발유_2019 상표_2020  \\\n",
       "26   A0000069  서울 종로구  서울     NaN   셀프       NaN   SK에너지  1657.000000   SK에너지   \n",
       "30   A0000083  경기 평택시  경기     NaN   일반       NaN  현대오일뱅크  1491.857143  현대오일뱅크   \n",
       "31   A0000084  강원 양양군  강원     NaN   셀프       NaN  NH-OIL  1540.000000  NH-OIL   \n",
       "168  A0000520  서울 강서구  서울     NaN   셀프       NaN   S-OIL  1512.142857   S-OIL   \n",
       "313  A0000985  서울 양천구  서울     NaN   셀프       NaN   SK에너지  1515.142857   SK에너지   \n",
       "\n",
       "        휘발유_2020 상표_2021     휘발유_2021  \n",
       "26   1312.000000   SK에너지  1652.857143  \n",
       "30   1249.285714  현대오일뱅크  1527.571429  \n",
       "31   1254.000000  NH-OIL  1556.142857  \n",
       "168  1348.428571   S-OIL  1583.857143  \n",
       "313  1319.285714   SK에너지  1563.285714  "
      ]
     },
     "execution_count": 86,
     "metadata": {},
     "output_type": "execute_result"
    }
   ],
   "source": [
    "m.loc[m['상표_2018'].isnull()].head()"
   ]
  },
  {
   "cell_type": "markdown",
   "metadata": {},
   "source": [
    "각 연도별로 해당 연도에 존재하는 주유소 리스트를 id_dict에 dictionary 형태로 저장한다 "
   ]
  },
  {
   "cell_type": "code",
   "execution_count": 98,
   "metadata": {},
   "outputs": [],
   "source": [
    "id_dict2 = dict()\n",
    "for year in range(2018, 2022):\n",
    "    non_null_brand = m.loc[-m[f'상표_{year}'].isnull()]\n",
    "    opened_list = non_null_brand['번호'].unique()\n",
    "    id_dict2[year] = set(opened_list)"
   ]
  },
  {
   "cell_type": "code",
   "execution_count": 89,
   "metadata": {},
   "outputs": [
    {
     "data": {
      "text/plain": [
       "223"
      ]
     },
     "execution_count": 89,
     "metadata": {},
     "output_type": "execute_result"
    }
   ],
   "source": [
    "len(id_dict2[2021].difference(id_dict2[2020]))"
   ]
  },
  {
   "cell_type": "code",
   "execution_count": 82,
   "metadata": {},
   "outputs": [],
   "source": [
    "id_dict=dict()\n",
    "for year in range(2018,2022):\n",
    "    id_dict[year] = set(m.loc[~m[f'상표_{year}'].isna()]['번호'].unique())"
   ]
  },
  {
   "cell_type": "code",
   "execution_count": 83,
   "metadata": {},
   "outputs": [],
   "source": [
    "diff_dict=dict()\n",
    "for year in range(2018,2021):\n",
    "    opened = len(id_dict[year+1].difference(id_dict[year]))\n",
    "    closed = len(id_dict[year].difference(id_dict[year+1]))\n",
    "    diff_dict[f'{year}_{year+1}']=[opened,closed]\n",
    "diff_df = pd.DataFrame(diff_dict,index=['OPENED','CLOSED'])  "
   ]
  },
  {
   "cell_type": "code",
   "execution_count": 84,
   "metadata": {},
   "outputs": [
    {
     "data": {
      "text/html": [
       "<div>\n",
       "<style scoped>\n",
       "    .dataframe tbody tr th:only-of-type {\n",
       "        vertical-align: middle;\n",
       "    }\n",
       "\n",
       "    .dataframe tbody tr th {\n",
       "        vertical-align: top;\n",
       "    }\n",
       "\n",
       "    .dataframe thead th {\n",
       "        text-align: right;\n",
       "    }\n",
       "</style>\n",
       "<table border=\"1\" class=\"dataframe\">\n",
       "  <thead>\n",
       "    <tr style=\"text-align: right;\">\n",
       "      <th></th>\n",
       "      <th>2018_2019</th>\n",
       "      <th>2019_2020</th>\n",
       "      <th>2020_2021</th>\n",
       "    </tr>\n",
       "  </thead>\n",
       "  <tbody>\n",
       "    <tr>\n",
       "      <th>OPENED</th>\n",
       "      <td>291</td>\n",
       "      <td>268</td>\n",
       "      <td>223</td>\n",
       "    </tr>\n",
       "    <tr>\n",
       "      <th>CLOSED</th>\n",
       "      <td>436</td>\n",
       "      <td>344</td>\n",
       "      <td>383</td>\n",
       "    </tr>\n",
       "  </tbody>\n",
       "</table>\n",
       "</div>"
      ],
      "text/plain": [
       "        2018_2019  2019_2020  2020_2021\n",
       "OPENED        291        268        223\n",
       "CLOSED        436        344        383"
      ]
     },
     "execution_count": 84,
     "metadata": {},
     "output_type": "execute_result"
    }
   ],
   "source": [
    "diff_df"
   ]
  },
  {
   "cell_type": "code",
   "execution_count": 91,
   "metadata": {},
   "outputs": [
    {
     "data": {
      "text/plain": [
       "<Axes: >"
      ]
     },
     "execution_count": 91,
     "metadata": {},
     "output_type": "execute_result"
    },
    {
     "data": {
      "image/png": "[encoded data removed]",
      "text/plain": [
       "<Figure size 640x480 with 1 Axes>"
      ]
     },
     "metadata": {},
     "output_type": "display_data"
    }
   ],
   "source": [
    "diff_df.plot()"
   ]
  },
  {
   "cell_type": "markdown",
   "metadata": {},
   "source": [
    "`diff_df.T`\n",
    "- .T 는 DataFrame 전치 (transpose)\n",
    "- 행과 열을 뒤집는 작업"
   ]
  },
  {
   "cell_type": "code",
   "execution_count": 92,
   "metadata": {},
   "outputs": [
    {
     "data": {
      "text/plain": [
       "<Axes: >"
      ]
     },
     "execution_count": 92,
     "metadata": {},
     "output_type": "execute_result"
    },
    {
     "data": {
      "image/png": "[encoded data removed]",
      "text/plain": [
       "<Figure size 640x480 with 1 Axes>"
      ]
     },
     "metadata": {},
     "output_type": "display_data"
    }
   ],
   "source": [
    "diff_df.T.plot(color=['r','b'])"
   ]
  },
  {
   "cell_type": "markdown",
   "metadata": {},
   "source": [
    "#### 퀴즈 1. 2020년에 신규 개업한 셀프 주유소의 개수를 구하시오."
   ]
  },
  {
   "cell_type": "code",
   "execution_count": 138,
   "metadata": {},
   "outputs": [
    {
     "data": {
      "text/html": [
       "<div>\n",
       "<style scoped>\n",
       "    .dataframe tbody tr th:only-of-type {\n",
       "        vertical-align: middle;\n",
       "    }\n",
       "\n",
       "    .dataframe tbody tr th {\n",
       "        vertical-align: top;\n",
       "    }\n",
       "\n",
       "    .dataframe thead th {\n",
       "        text-align: right;\n",
       "    }\n",
       "</style>\n",
       "<table border=\"1\" class=\"dataframe\">\n",
       "  <thead>\n",
       "    <tr style=\"text-align: right;\">\n",
       "      <th></th>\n",
       "      <th>2018_2019</th>\n",
       "      <th>2019_2020</th>\n",
       "      <th>2020_2021</th>\n",
       "    </tr>\n",
       "  </thead>\n",
       "  <tbody>\n",
       "    <tr>\n",
       "      <th>OPENED</th>\n",
       "      <td>189</td>\n",
       "      <td>172</td>\n",
       "      <td>136</td>\n",
       "    </tr>\n",
       "    <tr>\n",
       "      <th>CLOSED</th>\n",
       "      <td>139</td>\n",
       "      <td>117</td>\n",
       "      <td>143</td>\n",
       "    </tr>\n",
       "  </tbody>\n",
       "</table>\n",
       "</div>"
      ],
      "text/plain": [
       "        2018_2019  2019_2020  2020_2021\n",
       "OPENED        189        172        136\n",
       "CLOSED        139        117        143"
      ]
     },
     "execution_count": 138,
     "metadata": {},
     "output_type": "execute_result"
    }
   ],
   "source": [
    "id_dict3 = dict()\n",
    "for year in range(2018, 2022):\n",
    "    non_null_brand = m.loc[(~m[f'상표_{year}'].isnull()) & (m['셀프여부'] == '셀프')]\n",
    "    opened_list = non_null_brand['번호'].unique()\n",
    "    id_dict3[year] = set(opened_list)\n",
    "\n",
    "diff_dict3=dict()\n",
    "for year in range(2018,2021):\n",
    "    opened = len(id_dict3[year+1].difference(id_dict3[year]))\n",
    "    closed = len(id_dict3[year].difference(id_dict3[year+1]))\n",
    "    diff_dict3[f'{year}_{year+1}']=[opened,closed]\n",
    "diff_df3 = pd.DataFrame(diff_dict3,index=['OPENED','CLOSED'])  \n",
    "\n",
    "diff_df3"
   ]
  },
  {
   "cell_type": "code",
   "execution_count": 137,
   "metadata": {},
   "outputs": [
    {
     "data": {
      "text/plain": [
       "172"
      ]
     },
     "execution_count": 137,
     "metadata": {},
     "output_type": "execute_result"
    }
   ],
   "source": [
    "quiz = m[(m['상표_2019'].isna()) & (~m['상표_2020'].isna())].loc[m['셀프여부']=='셀프']\n",
    "len(quiz)"
   ]
  },
  {
   "cell_type": "code",
   "execution_count": 103,
   "metadata": {},
   "outputs": [],
   "source": [
    "#  2020년에 신규 개업한 셀프 주유소의 개수를 구하여 quiz_1 변수에 저장합니다.\n",
    "# 숫자형으로 저장합니다.\n",
    "quiz_1 = 172"
   ]
  },
  {
   "cell_type": "markdown",
   "metadata": {},
   "source": [
    "---"
   ]
  },
  {
   "cell_type": "markdown",
   "metadata": {},
   "source": [
    "## 3. 브랜드 분석: 브랜드별 가격경쟁력 및 시장점유율 분석\n"
   ]
  },
  {
   "cell_type": "markdown",
   "metadata": {},
   "source": [
    "### 3.1. 주요 브랜드별 가격 Line Plot 분석"
   ]
  },
  {
   "cell_type": "code",
   "execution_count": 104,
   "metadata": {},
   "outputs": [],
   "source": [
    "brand_price_dict=dict()\n",
    "for year in range(2018,2022):\n",
    "    brand_price_dict[str(year)]=m.groupby(f'상표_{year}')[f'휘발유_{year}'].mean()"
   ]
  },
  {
   "cell_type": "code",
   "execution_count": 105,
   "metadata": {},
   "outputs": [
    {
     "data": {
      "text/html": [
       "<div>\n",
       "<style scoped>\n",
       "    .dataframe tbody tr th:only-of-type {\n",
       "        vertical-align: middle;\n",
       "    }\n",
       "\n",
       "    .dataframe tbody tr th {\n",
       "        vertical-align: top;\n",
       "    }\n",
       "\n",
       "    .dataframe thead th {\n",
       "        text-align: right;\n",
       "    }\n",
       "</style>\n",
       "<table border=\"1\" class=\"dataframe\">\n",
       "  <thead>\n",
       "    <tr style=\"text-align: right;\">\n",
       "      <th></th>\n",
       "      <th>2018</th>\n",
       "      <th>2019</th>\n",
       "      <th>2020</th>\n",
       "      <th>2021</th>\n",
       "    </tr>\n",
       "  </thead>\n",
       "  <tbody>\n",
       "    <tr>\n",
       "      <th>GS칼텍스</th>\n",
       "      <td>1613.165695</td>\n",
       "      <td>1540.997849</td>\n",
       "      <td>1293.541879</td>\n",
       "      <td>1565.823135</td>\n",
       "    </tr>\n",
       "    <tr>\n",
       "      <th>NC오일</th>\n",
       "      <td>1580.880952</td>\n",
       "      <td>1513.285714</td>\n",
       "      <td>1256.357143</td>\n",
       "      <td>1542.619048</td>\n",
       "    </tr>\n",
       "    <tr>\n",
       "      <th>NH-OIL</th>\n",
       "      <td>1588.411114</td>\n",
       "      <td>1515.996650</td>\n",
       "      <td>1246.254150</td>\n",
       "      <td>1541.557866</td>\n",
       "    </tr>\n",
       "    <tr>\n",
       "      <th>S-OIL</th>\n",
       "      <td>1602.540115</td>\n",
       "      <td>1529.983482</td>\n",
       "      <td>1282.095394</td>\n",
       "      <td>1556.408657</td>\n",
       "    </tr>\n",
       "    <tr>\n",
       "      <th>SK가스</th>\n",
       "      <td>NaN</td>\n",
       "      <td>1488.000000</td>\n",
       "      <td>NaN</td>\n",
       "      <td>NaN</td>\n",
       "    </tr>\n",
       "    <tr>\n",
       "      <th>SK에너지</th>\n",
       "      <td>1625.460126</td>\n",
       "      <td>1547.655582</td>\n",
       "      <td>1293.732067</td>\n",
       "      <td>1565.577095</td>\n",
       "    </tr>\n",
       "    <tr>\n",
       "      <th>알뜰(ex)</th>\n",
       "      <td>1581.561576</td>\n",
       "      <td>1494.770733</td>\n",
       "      <td>1213.862668</td>\n",
       "      <td>1503.712733</td>\n",
       "    </tr>\n",
       "    <tr>\n",
       "      <th>알뜰주유소</th>\n",
       "      <td>1580.825277</td>\n",
       "      <td>1501.781838</td>\n",
       "      <td>1243.666785</td>\n",
       "      <td>1528.513597</td>\n",
       "    </tr>\n",
       "    <tr>\n",
       "      <th>자가상표</th>\n",
       "      <td>1590.233309</td>\n",
       "      <td>1518.950920</td>\n",
       "      <td>1266.634483</td>\n",
       "      <td>1542.280423</td>\n",
       "    </tr>\n",
       "    <tr>\n",
       "      <th>현대오일뱅크</th>\n",
       "      <td>1600.777986</td>\n",
       "      <td>1528.850142</td>\n",
       "      <td>1284.379155</td>\n",
       "      <td>1559.624500</td>\n",
       "    </tr>\n",
       "  </tbody>\n",
       "</table>\n",
       "</div>"
      ],
      "text/plain": [
       "               2018         2019         2020         2021\n",
       "GS칼텍스   1613.165695  1540.997849  1293.541879  1565.823135\n",
       "NC오일    1580.880952  1513.285714  1256.357143  1542.619048\n",
       "NH-OIL  1588.411114  1515.996650  1246.254150  1541.557866\n",
       "S-OIL   1602.540115  1529.983482  1282.095394  1556.408657\n",
       "SK가스            NaN  1488.000000          NaN          NaN\n",
       "SK에너지   1625.460126  1547.655582  1293.732067  1565.577095\n",
       "알뜰(ex)  1581.561576  1494.770733  1213.862668  1503.712733\n",
       "알뜰주유소   1580.825277  1501.781838  1243.666785  1528.513597\n",
       "자가상표    1590.233309  1518.950920  1266.634483  1542.280423\n",
       "현대오일뱅크  1600.777986  1528.850142  1284.379155  1559.624500"
      ]
     },
     "execution_count": 105,
     "metadata": {},
     "output_type": "execute_result"
    }
   ],
   "source": [
    "brand_price_df = pd.DataFrame(brand_price_dict)\n",
    "brand_price_df"
   ]
  },
  {
   "cell_type": "code",
   "execution_count": 106,
   "metadata": {},
   "outputs": [
    {
     "data": {
      "text/plain": [
       "<Axes: >"
      ]
     },
     "execution_count": 106,
     "metadata": {},
     "output_type": "execute_result"
    },
    {
     "data": {
      "image/png": "[encoded data removed]",
      "text/plain": [
       "<Figure size 1000x500 with 1 Axes>"
      ]
     },
     "metadata": {},
     "output_type": "display_data"
    }
   ],
   "source": [
    "brand_price_df = brand_price_df.drop('SK가스') # SK가스는 2019년도에만 존재했고, 나머지 데이터가 없으므로 제거 \n",
    "brand_price_df.T.plot(figsize=(10,5))"
   ]
  },
  {
   "cell_type": "markdown",
   "metadata": {},
   "source": [
    "### 3.2. 주요 브랜드별 지난 4년간 시장 점유율 Stacked Bar Plot 및 Heatmap"
   ]
  },
  {
   "cell_type": "code",
   "execution_count": 107,
   "metadata": {},
   "outputs": [],
   "source": [
    "brand_share_dict=dict()\n",
    "for year in range(2018,2022):\n",
    "    brand_share_dict[str(year)]=m.groupby(f'상표_{year}').size()"
   ]
  },
  {
   "cell_type": "code",
   "execution_count": 108,
   "metadata": {},
   "outputs": [
    {
     "data": {
      "text/html": [
       "<div>\n",
       "<style scoped>\n",
       "    .dataframe tbody tr th:only-of-type {\n",
       "        vertical-align: middle;\n",
       "    }\n",
       "\n",
       "    .dataframe tbody tr th {\n",
       "        vertical-align: top;\n",
       "    }\n",
       "\n",
       "    .dataframe thead th {\n",
       "        text-align: right;\n",
       "    }\n",
       "</style>\n",
       "<table border=\"1\" class=\"dataframe\">\n",
       "  <thead>\n",
       "    <tr style=\"text-align: right;\">\n",
       "      <th></th>\n",
       "      <th>2018</th>\n",
       "      <th>2019</th>\n",
       "      <th>2020</th>\n",
       "      <th>2021</th>\n",
       "    </tr>\n",
       "  </thead>\n",
       "  <tbody>\n",
       "    <tr>\n",
       "      <th>GS칼텍스</th>\n",
       "      <td>2426.0</td>\n",
       "      <td>2391</td>\n",
       "      <td>2337.0</td>\n",
       "      <td>2295.0</td>\n",
       "    </tr>\n",
       "    <tr>\n",
       "      <th>NC오일</th>\n",
       "      <td>6.0</td>\n",
       "      <td>6</td>\n",
       "      <td>4.0</td>\n",
       "      <td>3.0</td>\n",
       "    </tr>\n",
       "    <tr>\n",
       "      <th>NH-OIL</th>\n",
       "      <td>581.0</td>\n",
       "      <td>597</td>\n",
       "      <td>611.0</td>\n",
       "      <td>632.0</td>\n",
       "    </tr>\n",
       "    <tr>\n",
       "      <th>S-OIL</th>\n",
       "      <td>2094.0</td>\n",
       "      <td>2093</td>\n",
       "      <td>2134.0</td>\n",
       "      <td>2124.0</td>\n",
       "    </tr>\n",
       "    <tr>\n",
       "      <th>SK가스</th>\n",
       "      <td>NaN</td>\n",
       "      <td>1</td>\n",
       "      <td>NaN</td>\n",
       "      <td>NaN</td>\n",
       "    </tr>\n",
       "    <tr>\n",
       "      <th>SK에너지</th>\n",
       "      <td>3474.0</td>\n",
       "      <td>3389</td>\n",
       "      <td>3075.0</td>\n",
       "      <td>2994.0</td>\n",
       "    </tr>\n",
       "    <tr>\n",
       "      <th>알뜰(ex)</th>\n",
       "      <td>174.0</td>\n",
       "      <td>178</td>\n",
       "      <td>181.0</td>\n",
       "      <td>184.0</td>\n",
       "    </tr>\n",
       "    <tr>\n",
       "      <th>알뜰주유소</th>\n",
       "      <td>396.0</td>\n",
       "      <td>387</td>\n",
       "      <td>403.0</td>\n",
       "      <td>415.0</td>\n",
       "    </tr>\n",
       "    <tr>\n",
       "      <th>자가상표</th>\n",
       "      <td>199.0</td>\n",
       "      <td>163</td>\n",
       "      <td>145.0</td>\n",
       "      <td>135.0</td>\n",
       "    </tr>\n",
       "    <tr>\n",
       "      <th>현대오일뱅크</th>\n",
       "      <td>2206.0</td>\n",
       "      <td>2206</td>\n",
       "      <td>2445.0</td>\n",
       "      <td>2393.0</td>\n",
       "    </tr>\n",
       "  </tbody>\n",
       "</table>\n",
       "</div>"
      ],
      "text/plain": [
       "          2018  2019    2020    2021\n",
       "GS칼텍스   2426.0  2391  2337.0  2295.0\n",
       "NC오일       6.0     6     4.0     3.0\n",
       "NH-OIL   581.0   597   611.0   632.0\n",
       "S-OIL   2094.0  2093  2134.0  2124.0\n",
       "SK가스       NaN     1     NaN     NaN\n",
       "SK에너지   3474.0  3389  3075.0  2994.0\n",
       "알뜰(ex)   174.0   178   181.0   184.0\n",
       "알뜰주유소    396.0   387   403.0   415.0\n",
       "자가상표     199.0   163   145.0   135.0\n",
       "현대오일뱅크  2206.0  2206  2445.0  2393.0"
      ]
     },
     "execution_count": 108,
     "metadata": {},
     "output_type": "execute_result"
    }
   ],
   "source": [
    "brand_share_df = pd.DataFrame(brand_share_dict)\n",
    "brand_share_df"
   ]
  },
  {
   "cell_type": "code",
   "execution_count": 109,
   "metadata": {},
   "outputs": [],
   "source": [
    "brand_share_df = brand_share_df.drop('SK가스')\n",
    "brand_ratio_df = brand_share_df.apply(lambda x:x/brand_share_df.sum(),axis=1)\n",
    "brand_ratio_df = brand_ratio_df.sort_values('2018',ascending=False)"
   ]
  },
  {
   "cell_type": "code",
   "execution_count": 110,
   "metadata": {},
   "outputs": [
    {
     "data": {
      "text/html": [
       "<div>\n",
       "<style scoped>\n",
       "    .dataframe tbody tr th:only-of-type {\n",
       "        vertical-align: middle;\n",
       "    }\n",
       "\n",
       "    .dataframe tbody tr th {\n",
       "        vertical-align: top;\n",
       "    }\n",
       "\n",
       "    .dataframe thead th {\n",
       "        text-align: right;\n",
       "    }\n",
       "</style>\n",
       "<table border=\"1\" class=\"dataframe\">\n",
       "  <thead>\n",
       "    <tr style=\"text-align: right;\">\n",
       "      <th></th>\n",
       "      <th>2018</th>\n",
       "      <th>2019</th>\n",
       "      <th>2020</th>\n",
       "      <th>2021</th>\n",
       "    </tr>\n",
       "  </thead>\n",
       "  <tbody>\n",
       "    <tr>\n",
       "      <th>SK에너지</th>\n",
       "      <td>0.300623</td>\n",
       "      <td>0.297020</td>\n",
       "      <td>0.271284</td>\n",
       "      <td>0.267919</td>\n",
       "    </tr>\n",
       "    <tr>\n",
       "      <th>GS칼텍스</th>\n",
       "      <td>0.209934</td>\n",
       "      <td>0.209553</td>\n",
       "      <td>0.206176</td>\n",
       "      <td>0.205369</td>\n",
       "    </tr>\n",
       "    <tr>\n",
       "      <th>현대오일뱅크</th>\n",
       "      <td>0.190897</td>\n",
       "      <td>0.193339</td>\n",
       "      <td>0.215704</td>\n",
       "      <td>0.214139</td>\n",
       "    </tr>\n",
       "    <tr>\n",
       "      <th>S-OIL</th>\n",
       "      <td>0.181205</td>\n",
       "      <td>0.183436</td>\n",
       "      <td>0.188266</td>\n",
       "      <td>0.190067</td>\n",
       "    </tr>\n",
       "    <tr>\n",
       "      <th>NH-OIL</th>\n",
       "      <td>0.050277</td>\n",
       "      <td>0.052323</td>\n",
       "      <td>0.053904</td>\n",
       "      <td>0.056555</td>\n",
       "    </tr>\n",
       "    <tr>\n",
       "      <th>알뜰주유소</th>\n",
       "      <td>0.034268</td>\n",
       "      <td>0.033918</td>\n",
       "      <td>0.035554</td>\n",
       "      <td>0.037136</td>\n",
       "    </tr>\n",
       "    <tr>\n",
       "      <th>자가상표</th>\n",
       "      <td>0.017220</td>\n",
       "      <td>0.014286</td>\n",
       "      <td>0.012792</td>\n",
       "      <td>0.012081</td>\n",
       "    </tr>\n",
       "    <tr>\n",
       "      <th>알뜰(ex)</th>\n",
       "      <td>0.015057</td>\n",
       "      <td>0.015600</td>\n",
       "      <td>0.015968</td>\n",
       "      <td>0.016465</td>\n",
       "    </tr>\n",
       "    <tr>\n",
       "      <th>NC오일</th>\n",
       "      <td>0.000519</td>\n",
       "      <td>0.000526</td>\n",
       "      <td>0.000353</td>\n",
       "      <td>0.000268</td>\n",
       "    </tr>\n",
       "  </tbody>\n",
       "</table>\n",
       "</div>"
      ],
      "text/plain": [
       "            2018      2019      2020      2021\n",
       "SK에너지   0.300623  0.297020  0.271284  0.267919\n",
       "GS칼텍스   0.209934  0.209553  0.206176  0.205369\n",
       "현대오일뱅크  0.190897  0.193339  0.215704  0.214139\n",
       "S-OIL   0.181205  0.183436  0.188266  0.190067\n",
       "NH-OIL  0.050277  0.052323  0.053904  0.056555\n",
       "알뜰주유소   0.034268  0.033918  0.035554  0.037136\n",
       "자가상표    0.017220  0.014286  0.012792  0.012081\n",
       "알뜰(ex)  0.015057  0.015600  0.015968  0.016465\n",
       "NC오일    0.000519  0.000526  0.000353  0.000268"
      ]
     },
     "execution_count": 110,
     "metadata": {},
     "output_type": "execute_result"
    }
   ],
   "source": [
    "brand_ratio_df"
   ]
  },
  {
   "cell_type": "code",
   "execution_count": 114,
   "metadata": {},
   "outputs": [
    {
     "data": {
      "text/plain": [
       "<Axes: >"
      ]
     },
     "execution_count": 114,
     "metadata": {},
     "output_type": "execute_result"
    },
    {
     "data": {
      "image/png": "[encoded data removed]",
      "text/plain": [
       "<Figure size 1000x500 with 1 Axes>"
      ]
     },
     "metadata": {},
     "output_type": "display_data"
    },
    {
     "data": {
      "image/png": "[encoded data removed]",
      "text/plain": [
       "<Figure size 1000x500 with 1 Axes>"
      ]
     },
     "metadata": {},
     "output_type": "display_data"
    }
   ],
   "source": [
    "brand_ratio_df.T.plot(kind='bar',stacked=True,rot=0,figsize=(10,5)) #stacked=True : 누적형\n",
    "brand_ratio_df.T.plot(kind='bar',rot=0,figsize=(10,5)) #stacked=True : 누적형"
   ]
  },
  {
   "cell_type": "code",
   "execution_count": 112,
   "metadata": {},
   "outputs": [
    {
     "data": {
      "text/plain": [
       "<Axes: >"
      ]
     },
     "execution_count": 112,
     "metadata": {},
     "output_type": "execute_result"
    },
    {
     "data": {
      "image/png": "[encoded data removed]",
      "text/plain": [
       "<Figure size 1000x500 with 2 Axes>"
      ]
     },
     "metadata": {},
     "output_type": "display_data"
    }
   ],
   "source": [
    "plt.figure(figsize=(10,5))\n",
    "sns.heatmap(brand_ratio_df, cmap= 'RdBu_r', linewidths=1, linecolor='black',annot=True)"
   ]
  },
  {
   "cell_type": "markdown",
   "metadata": {},
   "source": [
    "#### 퀴즈 2. 2019년 주유소를 셀프 및 일반 주유소로 구분하고 일반 주유소가 차지하는 비율을 구하시오"
   ]
  },
  {
   "cell_type": "code",
   "execution_count": 135,
   "metadata": {},
   "outputs": [
    {
     "data": {
      "text/plain": [
       "셀프여부\n",
       "셀프    0.399001\n",
       "일반    0.600999\n",
       "dtype: float64"
      ]
     },
     "execution_count": 135,
     "metadata": {},
     "output_type": "execute_result"
    }
   ],
   "source": [
    "opened_2019 = m.loc[~m['상표_2019'].isnull()] # 2019년도에 운영중인 주유소들의 데이터\n",
    "is_self = opened_2019.groupby('셀프여부').size()\n",
    "self_ratio = is_self / is_self.sum()\n",
    "self_ratio"
   ]
  },
  {
   "cell_type": "code",
   "execution_count": null,
   "metadata": {},
   "outputs": [],
   "source": [
    "# 2019년 기준 일반 주유소의 시장 점유율을 quiz_2 변수에 저장합니다.\n",
    "# 비율은 소숫점 둘째자리 까지 반올림하여 숫자형으로 제출합니다.\n",
    "quiz_2 = 0.60"
   ]
  },
  {
   "cell_type": "markdown",
   "metadata": {},
   "source": [
    "---"
   ]
  },
  {
   "cell_type": "markdown",
   "metadata": {},
   "source": [
    "## 4. **가격 분석:** 주유소 및 지역 별 가격 편차 분석"
   ]
  },
  {
   "cell_type": "markdown",
   "metadata": {},
   "source": [
    "### 4.1. 가격 분포 Boxplot"
   ]
  },
  {
   "cell_type": "code",
   "execution_count": 119,
   "metadata": {},
   "outputs": [
    {
     "data": {
      "text/plain": [
       "<Axes: xlabel='휘발유_2021'>"
      ]
     },
     "execution_count": 119,
     "metadata": {},
     "output_type": "execute_result"
    },
    {
     "data": {
      "image/png": "[encoded data removed]",
      "text/plain": [
       "<Figure size 640x480 with 1 Axes>"
      ]
     },
     "metadata": {},
     "output_type": "display_data"
    }
   ],
   "source": [
    "sns.boxplot(x=m['휘발유_2021'])"
   ]
  },
  {
   "cell_type": "markdown",
   "metadata": {},
   "source": [
    "- Boxplot 설명:\n",
    "https://towardsdatascience.com/understanding-boxplots-5e2df7bcbd51"
   ]
  },
  {
   "cell_type": "markdown",
   "metadata": {},
   "source": [
    "### 4.2. 지역별 가격 분포 Boxplot (Multiple Columns)\n",
    "지역으로 묶은 뒤, 각 지역의 2021년 휘발유 가격의 중앙값을 기준으로 졍렬하고 그 인덱스를 기록 <br>\n",
    "&rarr; 중앙값 순위대로 그래프를 확인하기 위함"
   ]
  },
  {
   "cell_type": "code",
   "execution_count": 124,
   "metadata": {},
   "outputs": [
    {
     "data": {
      "text/plain": [
       "<Axes: xlabel='지역2', ylabel='휘발유_2021'>"
      ]
     },
     "execution_count": 124,
     "metadata": {},
     "output_type": "execute_result"
    },
    {
     "data": {
      "image/png": "[encoded data removed]",
      "text/plain": [
       "<Figure size 1500x700 with 1 Axes>"
      ]
     },
     "metadata": {},
     "output_type": "display_data"
    }
   ],
   "source": [
    "boxplot_order = m.groupby('지역2')['휘발유_2021'].median().sort_values(ascending=False).index\n",
    "plt.figure(figsize=(15,7))\n",
    "sns.boxplot(x=\"지역2\", y=\"휘발유_2021\", data=m, orient=\"v\", order=boxplot_order, hue=\"지역2\")"
   ]
  },
  {
   "cell_type": "markdown",
   "metadata": {
    "id": "Ox1MnSSlwUB1"
   },
   "source": [
    " ---"
   ]
  },
  {
   "cell_type": "markdown",
   "metadata": {},
   "source": [
    "## 제출하기"
   ]
  },
  {
   "cell_type": "markdown",
   "metadata": {},
   "source": [
    "퀴즈 1번과 2번을 수행 후, 아래 코드를 실행하면 `quiz_1 ~ 2` 변수가 저장된 json 파일을 제작하여 채점을 받을 수 있습니다.\n",
    "\n",
    "**아래 코드를 수정하면 채점이 불가능 합니다.**"
   ]
  },
  {
   "cell_type": "code",
   "execution_count": null,
   "metadata": {},
   "outputs": [],
   "source": [
    "import json\n",
    "\n",
    "student_answers = {}\n",
    "student_answers[\"problem_1\"] = int(quiz_1)\n",
    "student_answers[\"problem_2\"] = float(quiz_2)\n",
    "\n",
    "with open(\"result.json\", \"w\") as f:\n",
    "    json.dump(student_answers, f)"
   ]
  },
  {
   "cell_type": "markdown",
   "metadata": {
    "id": "ftNAFdz7wUB7"
   },
   "source": [
    "---"
   ]
  },
  {
   "cell_type": "markdown",
   "metadata": {
    "id": "vqQPeXc_wUB7"
   },
   "source": [
    "<span style=\"color:rgb(120, 120, 120)\">본 학습 자료를 포함한 사이트 내 모든 자료의 저작권은 엘리스에 있으며 외부로의 무단 복제, 배포 및 전송을 불허합니다.\n",
    "\n",
    "Copyright @ elice all rights reserved</span>"
   ]
  }
 ],
 "metadata": {
  "colab": {
   "name": "[p1] 코로나 데이터 분석 프로젝트-정답.ipynb",
   "provenance": []
  },
  "kernelspec": {
   "display_name": "Python (.venv)",
   "language": "python",
   "name": ".venv"
  },
  "language_info": {
   "codemirror_mode": {
    "name": "ipython",
    "version": 3
   },
   "file_extension": ".py",
   "mimetype": "text/x-python",
   "name": "python",
   "nbconvert_exporter": "python",
   "pygments_lexer": "ipython3",
   "version": "3.13.2"
  },
  "toc": {
   "base_numbering": 1,
   "nav_menu": {},
   "number_sections": false,
   "sideBar": true,
   "skip_h1_title": false,
   "title_cell": "Table of Contents",
   "title_sidebar": "Contents",
   "toc_cell": false,
   "toc_position": {
    "height": "calc(100% - 180px)",
    "left": "10px",
    "top": "150px",
    "width": "307.2px"
   },
   "toc_section_display": true,
   "toc_window_display": true
  }
 },
 "nbformat": 4,
 "nbformat_minor": 1
}
