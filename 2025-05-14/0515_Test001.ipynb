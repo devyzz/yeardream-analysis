{
 "cells": [
  {
   "cell_type": "code",
   "execution_count": 1,
   "metadata": {},
   "outputs": [
    {
     "name": "stdout",
     "output_type": "stream",
     "text": [
      "순열 소요 시간: 0.0006937980651855469\n",
      "조합 소요 시간: 9.942054748535156e-05\n"
     ]
    }
   ],
   "source": [
    "from itertools import permutations, combinations\n",
    "\n",
    "from time import time\n",
    "\n",
    "data = list(range(10))  # 0~9\n",
    "\n",
    "start = time()\n",
    "list(permutations(data, 4))  # 순열: 5040개\n",
    "print(\"순열 소요 시간:\", time() - start)\n",
    "\n",
    "start = time()\n",
    "list(combinations(data, 4))  # 조합: 210개\n",
    "print(\"조합 소요 시간:\", time() - start)"
   ]
  },
  {
   "cell_type": "code",
   "execution_count": 2,
   "metadata": {},
   "outputs": [
    {
     "name": "stdout",
     "output_type": "stream",
     "text": [
      "순열 (Permutation):\n",
      "('A', 'B')\n",
      "('A', 'C')\n",
      "('B', 'A')\n",
      "('B', 'C')\n",
      "('C', 'A')\n",
      "('C', 'B')\n",
      "\n",
      "조합 (Combination):\n",
      "('A', 'B')\n",
      "('A', 'C')\n",
      "('B', 'C')\n"
     ]
    }
   ],
   "source": [
    "import itertools\n",
    "\n",
    "# 순열: 모든 가능한 순서의 나열\n",
    "print(\"순열 (Permutation):\")\n",
    "for p in itertools.permutations(['A', 'B', 'C'], 2):\n",
    "    print(p)\n",
    "\n",
    "# 조합: 순서를 고려하지 않는 뽑기\n",
    "print(\"\\n조합 (Combination):\")\n",
    "for c in itertools.combinations(['A', 'B', 'C'], 2):\n",
    "    print(c)"
   ]
  },
  {
   "cell_type": "code",
   "execution_count": 4,
   "metadata": {},
   "outputs": [
    {
     "name": "stdout",
     "output_type": "stream",
     "text": [
      "===== 순열 (Permutation) =====\n",
      "순열 (Permutation) - 6가지:\n",
      "('A', 'B')\n",
      "('A', 'C')\n",
      "('B', 'A')\n",
      "('B', 'C')\n",
      "('C', 'A')\n",
      "('C', 'B')\n",
      "\n",
      "===== 중복순열 (Permutation with Repetition) =====\n",
      "중복순열 (Permutation with Repetition) - 9가지:\n",
      "('A', 'A')\n",
      "('A', 'B')\n",
      "('A', 'C')\n",
      "('B', 'A')\n",
      "('B', 'B')\n",
      "('B', 'C')\n",
      "('C', 'A')\n",
      "('C', 'B')\n",
      "('C', 'C')\n",
      "\n",
      "===== 조합 (Combination) =====\n",
      "조합 (Combination) - 3가지:\n",
      "('A', 'B')\n",
      "('A', 'C')\n",
      "('B', 'C')\n",
      "\n",
      "===== 중복조합 (Combination with Repetition) =====\n",
      "중복조합 (Combination with Repetition) - 6가지:\n",
      "('A', 'A')\n",
      "('A', 'B')\n",
      "('A', 'C')\n",
      "('B', 'B')\n",
      "('B', 'C')\n",
      "('C', 'C')\n",
      "\n"
     ]
    }
   ],
   "source": [
    "from itertools import permutations, combinations, product, combinations_with_replacement\n",
    "\n",
    "# 순열 계산 (중복 불가, 순서 고려)\n",
    "def permutation_example(elements, r):\n",
    "    result = list(permutations(elements, r))\n",
    "    print(f\"순열 (Permutation) - {len(result)}가지:\")\n",
    "    for item in result:\n",
    "        print(item)\n",
    "    print()\n",
    "    return result\n",
    "\n",
    "# 중복순열 계산 (중복 허용, 순서 고려)\n",
    "def permutation_with_repetition_example(elements, r):\n",
    "    result = list(product(elements, repeat=r))\n",
    "    print(f\"중복순열 (Permutation with Repetition) - {len(result)}가지:\")\n",
    "    for item in result:\n",
    "        print(item)\n",
    "    print()\n",
    "    return result\n",
    "\n",
    "# 조합 계산 (중복 불가, 순서 무관)\n",
    "def combination_example(elements, r):\n",
    "    result = list(combinations(elements, r))\n",
    "    print(f\"조합 (Combination) - {len(result)}가지:\")\n",
    "    for item in result:\n",
    "        print(item)\n",
    "    print()\n",
    "    return result\n",
    "\n",
    "# 중복조합 계산 (중복 허용, 순서 무관)\n",
    "def combination_with_repetition_example(elements, r):\n",
    "    result = list(combinations_with_replacement(elements, r))\n",
    "    print(f\"중복조합 (Combination with Repetition) - {len(result)}가지:\")\n",
    "    for item in result:\n",
    "        print(item)\n",
    "    print()\n",
    "    return result\n",
    "\n",
    "# 입력 데이터\n",
    "elements = ['A', 'B', 'C']\n",
    "r = 2\n",
    "\n",
    "# 각 경우의 수 계산 및 출력\n",
    "print(\"===== 순열 (Permutation) =====\")\n",
    "permutation_result = permutation_example(elements, r)\n",
    "\n",
    "print(\"===== 중복순열 (Permutation with Repetition) =====\")\n",
    "permutation_with_repetition_result = permutation_with_repetition_example(elements, r)\n",
    "\n",
    "print(\"===== 조합 (Combination) =====\")\n",
    "combination_result = combination_example(elements, r)\n",
    "\n",
    "print(\"===== 중복조합 (Combination with Repetition) =====\")\n",
    "combination_with_repetition_result = combination_with_repetition_example(elements, r)\n",
    "\n"
   ]
  },
  {
   "cell_type": "code",
   "execution_count": 5,
   "metadata": {},
   "outputs": [
    {
     "name": "stdout",
     "output_type": "stream",
     "text": [
      "조건부 확률 P(A | B) = 0.50\n"
     ]
    }
   ],
   "source": [
    "def conditional_probability(p_ab, p_b):\n",
    "    \"\"\"\n",
    "    조건부 확률 계산 함수\n",
    "    :param p_ab: A와 B가 동시에 발생할 확률 (P(A ∩ B))\n",
    "    :param p_b: B가 발생할 확률 (P(B))\n",
    "    :return: 조건부 확률 P(A | B)\n",
    "    \"\"\"\n",
    "    if p_b == 0:\n",
    "        return \"P(B) = 0 → 조건부 확률 정의 불가\"\n",
    "    return p_ab / p_b\n",
    "\n",
    "# 주사위 던지기 확률\n",
    "total_outcomes = 6  # 주사위의 전체 경우의 수\n",
    "\n",
    "# 사건 A: 짝수가 나오는 경우 {2, 4, 6}\n",
    "p_a = 3 / total_outcomes\n",
    "\n",
    "# 사건 B: 3 이상이 나오는 경우 {3, 4, 5, 6}\n",
    "p_b = 4 / total_outcomes\n",
    "\n",
    "# 사건 A ∩ B: 3 이상이면서 짝수인 경우 {4, 6}\n",
    "p_ab = 2 / total_outcomes\n",
    "\n",
    "# 조건부 확률 계산\n",
    "p_a_given_b = conditional_probability(p_ab, p_b)\n",
    "\n",
    "print(f\"조건부 확률 P(A | B) = {p_a_given_b:.2f}\")"
   ]
  },
  {
   "cell_type": "code",
   "execution_count": 6,
   "metadata": {},
   "outputs": [
    {
     "name": "stdout",
     "output_type": "stream",
     "text": [
      "===== 동전과 주사위 문제 조건부 확률 계산 =====\n",
      "동전 앞면 확률 P(A): 0.5\n",
      "주사위 짝수 확률 P(B): 0.5\n",
      "동전 앞면과 주사위 짝수의 교집합 확률 P(A ∩ B): 0.25\n",
      "조건부 확률 P(A | B): 0.50\n"
     ]
    }
   ],
   "source": [
    "def conditional_probability(p_ab, p_b):\n",
    "    \"\"\"\n",
    "    조건부 확률 계산 함수\n",
    "    :param p_ab: A와 B가 동시에 발생할 확률 (P(A ∩ B))\n",
    "    :param p_b: B가 발생할 확률 (P(B))\n",
    "    :return: 조건부 확률 P(A | B)\n",
    "    \"\"\"\n",
    "    if p_b == 0:\n",
    "        return \"P(B) = 0 → 조건부 확률 정의 불가\"\n",
    "    return p_ab / p_b\n",
    "\n",
    "# 동전과 주사위 문제: 확률 계산\n",
    "# 사건 A: 동전이 앞면일 확률\n",
    "p_a = 1 / 2\n",
    "\n",
    "# 사건 B: 주사위가 짝수일 확률 (2, 4, 6)\n",
    "p_b = 3 / 6\n",
    "\n",
    "# 사건 A ∩ B: 앞면이 나오고 동시에 짝수가 나오는 확률\n",
    "p_ab = p_a * p_b\n",
    "\n",
    "# 조건부 확률 계산: 주사위가 짝수일 때, 동전이 앞면일 확률\n",
    "p_a_given_b = conditional_probability(p_ab, p_b)\n",
    "\n",
    "# 결과 출력\n",
    "print(\"===== 동전과 주사위 문제 조건부 확률 계산 =====\")\n",
    "print(f\"동전 앞면 확률 P(A): {p_a}\")\n",
    "print(f\"주사위 짝수 확률 P(B): {p_b}\")\n",
    "print(f\"동전 앞면과 주사위 짝수의 교집합 확률 P(A ∩ B): {p_ab}\")\n",
    "print(f\"조건부 확률 P(A | B): {p_a_given_b:.2f}\")"
   ]
  },
  {
   "cell_type": "code",
   "execution_count": 7,
   "metadata": {},
   "outputs": [
    {
     "name": "stdout",
     "output_type": "stream",
     "text": [
      "===== 유병률 예제 조건부 확률 계산 (베이즈 정리) =====\n",
      "전체 확률 P(A): 0.0590 (양성 확률)\n",
      "조건부 확률 P(B | A): 0.1610 (양성일 때 질병 확률)\n"
     ]
    }
   ],
   "source": [
    "# 베이즈 정리 함수 정의\n",
    "def bayes_theorem(p_a_given_b, p_b, p_a_given_not_b, p_not_b):\n",
    "    \"\"\"\n",
    "    베이즈 정리를 이용하여 조건부 확률 계산\n",
    "    :param p_a_given_b: P(A | B) --> 민감도 (질병 있을 때 양성 확률)\n",
    "    :param p_b: P(B) --> 유병률 (사전 확률)\n",
    "    :param p_a_given_not_b: P(A | B^C) --> 위양성률 (잘못된 양성 확률)\n",
    "    :param p_not_b: P(B^C) --> 질병이 없을 확률\n",
    "    :return: 사후 확률 P(B | A) - 양성일 때 질병이 있을 확률\n",
    "    \"\"\"\n",
    "    # 전체 확률 P(A) 계산\n",
    "    p_a = (p_a_given_b * p_b) + (p_a_given_not_b * p_not_b)\n",
    "    # 조건부 확률 P(B | A) 계산 (베이즈 정리)\n",
    "    p_b_given_a = (p_a_given_b * p_b) / p_a\n",
    "    return p_b_given_a, p_a\n",
    "\n",
    "# 확률 정보 (질병 검사 문제)\n",
    "p_b = 0.01                   # 유병률 (사전 확률)\n",
    "p_a_given_b = 0.95           # 민감도 (질병이 있을 때 양성확률-->새로운 정보)\n",
    "p_a_given_not_b = 0.05       # 위양성률 (질영이 없을 때 양성확률)\n",
    "p_not_b = 1 - p_b            # 질병이 없을 확률\n",
    "\n",
    "# 조건부 확률 계산\n",
    "p_b_given_a, p_a = bayes_theorem(p_a_given_b, p_b, p_a_given_not_b, p_not_b)\n",
    "\n",
    "# 결과 출력\n",
    "print(\"===== 유병률 예제 조건부 확률 계산 (베이즈 정리) =====\")\n",
    "print(f\"전체 확률 P(A): {p_a:.4f} (양성 확률)\")\n",
    "print(f\"조건부 확률 P(B | A): {p_b_given_a:.4f} (양성일 때 질병 확률)\")"
   ]
  },
  {
   "cell_type": "code",
   "execution_count": 8,
   "metadata": {},
   "outputs": [
    {
     "name": "stdout",
     "output_type": "stream",
     "text": [
      "===== 독립 사건 계산 (동전과 주사위 문제) =====\n",
      "사건 A (동전 앞면) 확률: 0.50\n",
      "사건 B (주사위 숫자 4) 확률: 0.17\n",
      "교집합 확률 P(A ∩ B): 0.0833\n",
      "조건부 확률 P(A | B): 0.50\n",
      "결론: 사건 A와 B는 독립입니다.\n"
     ]
    }
   ],
   "source": [
    "# 독립 사건 계산 함수\n",
    "def independent_probability(p_a, p_b):\n",
    "    \"\"\"\n",
    "    독립 사건 여부를 계산하는 함수\n",
    "    :param p_a: 사건 A의 확률 (동전 앞면 확률)\n",
    "    :param p_b: 사건 B의 확률 (주사위 숫자 4 확률)\n",
    "    :return: 교집합 확률과 조건부 확률\n",
    "    \"\"\"\n",
    "    # 교집합 확률 계산\n",
    "    p_ab = p_a * p_b\n",
    "    # 조건부 확률 계산 (B가 발생한 상태에서 A의 확률)\n",
    "    conditional_prob = p_ab / p_b if p_b != 0 else \"Undefined (P(B) = 0)\"\n",
    "    return p_ab, conditional_prob\n",
    "\n",
    "# 사건 A: 동전 앞면 확률 (1/2)\n",
    "p_a = 1 / 2\n",
    "\n",
    "# 사건 B: 주사위에서 숫자 4가 나올 확률 (1/6)\n",
    "p_b = 1 / 6\n",
    "\n",
    "# 독립 사건 계산\n",
    "p_ab, conditional_prob = independent_probability(p_a, p_b)\n",
    "\n",
    "# 결과 출력\n",
    "print(\"===== 독립 사건 계산 (동전과 주사위 문제) =====\")\n",
    "print(f\"사건 A (동전 앞면) 확률: {p_a:.2f}\")\n",
    "print(f\"사건 B (주사위 숫자 4) 확률: {p_b:.2f}\")\n",
    "print(f\"교집합 확률 P(A ∩ B): {p_ab:.4f}\")\n",
    "print(f\"조건부 확률 P(A | B): {conditional_prob:.2f}\" if isinstance(conditional_prob, float) else conditional_prob)\n",
    "\n",
    "# 독립성 판단\n",
    "if conditional_prob == p_a:\n",
    "    print(\"결론: 사건 A와 B는 독립입니다.\")\n",
    "else:\n",
    "    print(\"결론: 사건 A와 B는 독립이 아닙니다.\")\n"
   ]
  },
  {
   "cell_type": "code",
   "execution_count": 6,
   "metadata": {},
   "outputs": [
    {
     "name": "stdout",
     "output_type": "stream",
     "text": [
      "Requirement already satisfied: numpy in c:\\python313\\lib\\site-packages (2.2.2)\n",
      "Requirement already satisfied: matplotlib in c:\\python313\\lib\\site-packages (3.10.0)\n",
      "Requirement already satisfied: contourpy>=1.0.1 in c:\\python313\\lib\\site-packages (from matplotlib) (1.3.1)\n",
      "Requirement already satisfied: cycler>=0.10 in c:\\python313\\lib\\site-packages (from matplotlib) (0.12.1)\n",
      "Requirement already satisfied: fonttools>=4.22.0 in c:\\python313\\lib\\site-packages (from matplotlib) (4.56.0)\n",
      "Requirement already satisfied: kiwisolver>=1.3.1 in c:\\python313\\lib\\site-packages (from matplotlib) (1.4.8)\n",
      "Requirement already satisfied: packaging>=20.0 in c:\\python313\\lib\\site-packages (from matplotlib) (24.2)\n",
      "Requirement already satisfied: pillow>=8 in c:\\python313\\lib\\site-packages (from matplotlib) (11.1.0)\n",
      "Requirement already satisfied: pyparsing>=2.3.1 in c:\\python313\\lib\\site-packages (from matplotlib) (3.2.1)\n",
      "Requirement already satisfied: python-dateutil>=2.7 in c:\\python313\\lib\\site-packages (from matplotlib) (2.9.0.post0)\n",
      "Requirement already satisfied: six>=1.5 in c:\\python313\\lib\\site-packages (from python-dateutil>=2.7->matplotlib) (1.17.0)\n"
     ]
    },
    {
     "name": "stderr",
     "output_type": "stream",
     "text": [
      "\n",
      "[notice] A new release of pip is available: 24.3.1 -> 25.1.1\n",
      "[notice] To update, run: python.exe -m pip install --upgrade pip\n"
     ]
    }
   ],
   "source": [
    "! pip3 install numpy matplotlib"
   ]
  },
  {
   "cell_type": "code",
   "execution_count": 7,
   "metadata": {},
   "outputs": [
    {
     "data": {
      "image/png": "[encoded data removed]",
      "text/plain": [
       "<Figure size 640x480 with 1 Axes>"
      ]
     },
     "metadata": {},
     "output_type": "display_data"
    }
   ],
   "source": [
    "import numpy as np\n",
    "import matplotlib.pyplot as plt\n",
    "\n",
    "# 주사위 변수와 확률\n",
    "x = np.arange(1, 7)  # 주사위 눈금 (1 ~ 6)\n",
    "pmf = [1/6] * 6      # 각 눈금의 확률\n",
    "\n",
    "# 시각화\n",
    "plt.stem(x, pmf)\n",
    "plt.title(\"PMF of a Fair Die\")\n",
    "plt.xlabel(\"Die Face (x)\")\n",
    "plt.ylabel(\"Probability f(x)\")\n",
    "plt.xticks(x)  # 눈금 표시\n",
    "plt.ylim(0, 1) # y축 범위 설정\n",
    "plt.show()"
   ]
  },
  {
   "cell_type": "code",
   "execution_count": 9,
   "metadata": {},
   "outputs": [
    {
     "data": {
      "image/png": "[encoded data removed]",
      "text/plain": [
       "<Figure size 640x480 with 1 Axes>"
      ]
     },
     "metadata": {},
     "output_type": "display_data"
    }
   ],
   "source": [
    "import numpy as np\n",
    "import matplotlib.pyplot as plt\n",
    "\n",
    "# 함수 정의\n",
    "def f(x):\n",
    "    return 2 * x + 1\n",
    "\n",
    "# 구간 설정\n",
    "a, b = 1, 3\n",
    "x = np.linspace(0, 4, 100)\n",
    "y = f(x)\n",
    "\n",
    "# 그래프 그리기\n",
    "plt.plot(x, y, label=\"f(x) = 2x + 1\", color='blue')\n",
    "plt.fill_between(x, y, where=[(a <= xi <= b) for xi in x], color='lightblue', alpha=0.5)\n",
    "plt.title(\"Definite Integral area\")\n",
    "plt.xlabel(\"x\")\n",
    "plt.ylabel(\"f(x)\")\n",
    "plt.axhline(0, color='black', linewidth=0.5)\n",
    "plt.axvline(0, color='black', linewidth=0.5)\n",
    "plt.legend()\n",
    "plt.show()\n"
   ]
  },
  {
   "cell_type": "code",
   "execution_count": 10,
   "metadata": {},
   "outputs": [
    {
     "name": "stdout",
     "output_type": "stream",
     "text": [
      "원시함수: x**2 + x\n",
      "정적분 값: 10\n"
     ]
    }
   ],
   "source": [
    "import sympy as sp\n",
    "\n",
    "# 변수 정의\n",
    "x = sp.symbols('x')\n",
    "\n",
    "# 함수 정의\n",
    "f = 2 * x + 1\n",
    "\n",
    "# 부정적분 (원시함수 구하기)\n",
    "indefinite_integral = sp.integrate(f, x)\n",
    "print(\"원시함수:\", indefinite_integral)\n",
    "\n",
    "# 정적분 (구간 대입)\n",
    "definite_integral = sp.integrate(f, (x, 1, 3))\n",
    "print(\"정적분 값:\", definite_integral)\n"
   ]
  },
  {
   "cell_type": "code",
   "execution_count": null,
   "metadata": {},
   "outputs": [],
   "source": [
    "! python -m pip install --upgrade pip\n",
    "! pip install scipy"
   ]
  },
  {
   "cell_type": "code",
   "execution_count": 18,
   "metadata": {},
   "outputs": [
    {
     "name": "stdout",
     "output_type": "stream",
     "text": [
      "CDF at x=1.5: 0.9332\n"
     ]
    }
   ],
   "source": [
    "from scipy.stats import norm\n",
    "\n",
    "# 평균과 표준편차\n",
    "mu, sigma = 0, 1\n",
    "\n",
    "# 특정 값에서의 누적 확률\n",
    "x = 1.5\n",
    "cdf_value = norm.cdf(x, mu, sigma)\n",
    "print(f\"CDF at x={x}: {cdf_value:.4f}\")"
   ]
  },
  {
   "cell_type": "code",
   "execution_count": 19,
   "metadata": {},
   "outputs": [
    {
     "data": {
      "image/png": "[encoded data removed]",
      "text/plain": [
       "<Figure size 640x480 with 1 Axes>"
      ]
     },
     "metadata": {},
     "output_type": "display_data"
    }
   ],
   "source": [
    "from scipy.stats import norm\n",
    "\n",
    "# 정규분포 파라미터\n",
    "mu, sigma = 0, 1\n",
    "x = np.linspace(-4, 4, 100)\n",
    "\n",
    "# CDF 계산\n",
    "cdf = norm.cdf(x, mu, sigma)\n",
    "\n",
    "# 시각화\n",
    "plt.plot(x, cdf, label='Normal CDF', color='green')\n",
    "plt.title(\"CDF of Standard Normal Distribution\")\n",
    "plt.xlabel(\"x\")\n",
    "plt.ylabel(\"F(x)\")\n",
    "plt.grid(True)\n",
    "plt.show()"
   ]
  }
 ],
 "metadata": {
  "kernelspec": {
   "display_name": "Python 3",
   "language": "python",
   "name": "python3"
  },
  "language_info": {
   "codemirror_mode": {
    "name": "ipython",
    "version": 3
   },
   "file_extension": ".py",
   "mimetype": "text/x-python",
   "name": "python",
   "nbconvert_exporter": "python",
   "pygments_lexer": "ipython3",
   "version": "3.13.1"
  }
 },
 "nbformat": 4,
 "nbformat_minor": 2
}
