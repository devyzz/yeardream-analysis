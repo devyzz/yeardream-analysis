{
 "cells": [
  {
   "cell_type": "code",
   "execution_count": 2,
   "id": "142811cf",
   "metadata": {},
   "outputs": [],
   "source": [
    "import pandas as pd\n",
    "import numpy as np\n",
    "import matplotlib.pyplot as plt\n",
    "import matplotlib as mpl\n",
    "mpl.rc('font', family='AppleGothic')\n",
    "from scipy import stats"
   ]
  },
  {
   "cell_type": "markdown",
   "id": "e21eceef",
   "metadata": {},
   "source": [
    "## 중심위치의 측도\n",
    "- 평균(mean)\n",
    "- 중앙값(median)\n",
    "- 최빈값(mode) : 관측값들 중 가장 많이 나오는값\n",
    "    - 이산형/범주형 자료에서 많이 사용"
   ]
  },
  {
   "cell_type": "code",
   "execution_count": 3,
   "id": "fb214203",
   "metadata": {},
   "outputs": [
    {
     "name": "stdout",
     "output_type": "stream",
     "text": [
      "평균 : 144.12\n",
      "중앙값 : 142.5\n",
      "ModeResult(mode=np.int64(121), count=np.int64(2))\n",
      "최빈값 : 121\n"
     ]
    }
   ],
   "source": [
    "'''\n",
    "평균 : np.mean()\n",
    "중앙값 : np.median()\n",
    "    ㄴ 자료의 개수가 홀수인 경우 (n+1)/2 의 관측값\n",
    "    ㄴ 자료의 개수가 짝수인 경우 n/2 와 (n+1)/2 관측값의 평균\n",
    "최빈값 : stats.mode()\n",
    "'''\n",
    "\n",
    "coffee = np.array([202, 177, 121, 148, 89, 121, 137, 158])\n",
    "print(f\"평균 : {np.mean(coffee).round(2)}\")\n",
    "print(f\"중앙값 : {np.median(coffee).round(2)}\")\n",
    "\n",
    "cf_mode = stats.mode(coffee)\n",
    "print(cf_mode)\n",
    "print(f\"최빈값 : {cf_mode[0]}\")"
   ]
  },
  {
   "cell_type": "markdown",
   "id": "76bc12b8",
   "metadata": {},
   "source": [
    "## 퍼진 정도의 측도\n",
    "중심 위치만으로 분포를 파악하기에 부족할 때 `분산, 표준편차, 범위, 사분위수`등을 퍼진 정도의 측도로 사용하여 관측\n",
    "- **분산** : 자료가 얼마나 흩어졌는지 숫자로 표현, 각 관측값이 평균으로부터 떨어진정도\n",
    "- **표준편차** : 분산의 양의 제곱근을 표준편차라 하고 보통 s로 표기한다.\n",
    "- **범위** : 관측값 중 가장 큰 값과 가장 작은 값의 차이\n",
    "- **백분위수** : 중앙값을 확장한 개념으로, 자료를 순서대로 정리하였을 때 백분율로 특정 위치의 값을 표현한다.\n",
    "- **사분위수의** 범위(IQR) : 제3사분위수(75)와 1사분위수(25) 사이의 거리\n",
    "\n",
    "    - 평균의 특징 == 표준편차의 특징\n",
    "    - 중앙값의 특징 == 사분위수의 특징\n",
    "\n",
    "- **변동계수** : 퍼진 정도를 상대적으로 나타내는 수치 `CV = 표준편차 / 평균`"
   ]
  },
  {
   "cell_type": "code",
   "execution_count": 43,
   "id": "80f0a8df",
   "metadata": {},
   "outputs": [
    {
     "name": "stdout",
     "output_type": "stream",
     "text": [
      "<class 'numpy.ndarray'>\n",
      "분산 : 1256\n",
      "표준편차 : 35.45\n",
      "범위 : 113\n",
      "백분위수 : 121.0\n",
      "제3사분위수(Q3) : 162.75\n",
      "제1사분위수(Q1) : 121.0\n",
      "이상치(IOR) : 41.75\n",
      "변동계수 : 0.25\n"
     ]
    }
   ],
   "source": [
    "'''\n",
    "분산 : variance()\n",
    "표준편차 : stdev()\n",
    "범위 : np.max() - np.min()\n",
    "백분위수 : np.percentile()\n",
    "사분위수 : np.percentile(a, 25) / np.percentile(a,50) / np.percentile(a,75)\n",
    "'''\n",
    "from statistics import variance, stdev\n",
    "\n",
    "\n",
    "coffee = np.array([202, 177, 121, 148, 89, 121, 137, 158])\n",
    "print(type(coffee))\n",
    "print(f\"분산 : {variance(coffee).round(2)}\")\n",
    "print(f\"표준편차 : {stdev(coffee.tolist()):.2f}\")\n",
    "cf_range = np.max(coffee, axis=0) - np.min(coffee, axis=0)\n",
    "print(\"범위 :\", cf_range)\n",
    "print(\"백분위수 :\", np.percentile(coffee,20))\n",
    "print(\"제3사분위수(Q3) :\", np.percentile(coffee,75))\n",
    "print(\"제1사분위수(Q1) :\", np.percentile(coffee,25))\n",
    "print(\"이상치(IOR) :\", np.percentile(coffee,75)- np.percentile(coffee,25))\n",
    "print(\"변동계수 :\",  round(stdev(coffee.tolist()) / np.mean(coffee),2))\n",
    "\n",
    "\n",
    "\n"
   ]
  },
  {
   "cell_type": "code",
   "execution_count": null,
   "id": "329c5342",
   "metadata": {},
   "outputs": [
    {
     "name": "stdout",
     "output_type": "stream",
     "text": [
      "               count\n",
      "cup                 \n",
      "(2.968, 11.0]      7\n",
      "(11.0, 19.0]       3\n",
      "(19.0, 27.0]       1\n",
      "(27.0, 35.0]       1\n"
     ]
    }
   ],
   "source": [
    "'''\n",
    "도수분포표 \n",
    "pd.cut(시리즈, 구간수) : 데이터를 동일한 간격의 구간으로 나눠서 각 값이 어느 구간에 속하는지 알려줌.\n",
    "'''\n",
    "\n",
    "drink_cup = pd.DataFrame({\n",
    "    \"cup\": [22, 7, 19, 3, 10, 8, 19, 7, 15, 9, 35, 5], \n",
    "    \"who\": [\"A\", \"E\", \"D\", \"B\", \"C\", \"A\", \"A\", \"A\", \"D\", \"B\", \"C\", \"B\"]\n",
    "})\n",
    "\n",
    "factor_cup = pd.cut(drink_cup.cup, 4)\n",
    "group_cup = drink_cup[\"cup\"].groupby(factor_cup, observed=True)\n",
    "count_cup = group_cup.agg([\"count\"])\n",
    "\n",
    "print(count_cup)"
   ]
  },
  {
   "cell_type": "code",
   "execution_count": null,
   "id": "1645da36",
   "metadata": {},
   "outputs": [
    {
     "data": {
      "image/png": "[encoded data removed]",
      "text/plain": [
       "<Figure size 640x480 with 1 Axes>"
      ]
     },
     "metadata": {},
     "output_type": "display_data"
    }
   ],
   "source": [
    "'''\n",
    "박스플롯 : plt.boxplot() - 다섯가지 요약수치(최솟값, Q1, Q2, Q3, 최댓값)을 그림으로 표현\n",
    "산점도 : plt.scatter(x, y) - x:x축변수, y:y축변수\n",
    "'''\n",
    "\n",
    "coffee = np.array([202, 177, 121, 148, 89, 121, 137, 158])\n",
    "\n",
    "fig, axes = plt.subplots()\n",
    "\n",
    "plt.boxplot(coffee)\n",
    "plt.show()"
   ]
  },
  {
   "cell_type": "code",
   "execution_count": null,
   "id": "8f1cfc96",
   "metadata": {},
   "outputs": [],
   "source": [
    "'''\n",
    "공분산 : df.cov()\n",
    "    ㄴ 두 변수 (x,y)에 대하여 서로 어떤 관계를 가지는지 나타낸다.\n",
    "    ㄴ x,y값이 같은 방향으로 변화하면 공분산 값은 양수 \n",
    "    ㄴ x,y값이 다른 방향으로 변화하면 공분산 값은 음수\n",
    "\n",
    "상관계수 : df.corr()\n",
    "    ㄴ 표본상관계수 r은 항상 -1과 1사이에 있음\n",
    "    ㄴ 절댓값의 크기는 직선관계에 가까운 정도를 나타낸다\n",
    "    ㄴ 부호는 직선관계의 방향을 나타낸다\n",
    "    ㄴ 상관계수는 단위가 없으며, 상관계수만으로 판단 시 잘못된 해석 가능성이높다 (직선이 아닌 경우 부적합)\n",
    "    ㄴ 산점도를 먼저보고 전체의 경향을 파악한 뒤, 상관계수를 계산해야한다.\n",
    "'''"
   ]
  }
 ],
 "metadata": {
  "kernelspec": {
   "display_name": "myenv",
   "language": "python",
   "name": "python3"
  },
  "language_info": {
   "codemirror_mode": {
    "name": "ipython",
    "version": 3
   },
   "file_extension": ".py",
   "mimetype": "text/x-python",
   "name": "python",
   "nbconvert_exporter": "python",
   "pygments_lexer": "ipython3",
   "version": "3.12.9"
  }
 },
 "nbformat": 4,
 "nbformat_minor": 5
}
