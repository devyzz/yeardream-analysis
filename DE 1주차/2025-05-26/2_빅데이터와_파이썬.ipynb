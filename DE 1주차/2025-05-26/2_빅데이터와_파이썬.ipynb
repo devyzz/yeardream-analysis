{
 "cells": [
  {
   "cell_type": "markdown",
   "metadata": {
    "id": "_LM1e9fw_8rC"
   },
   "source": [
    "## Pandas"
   ]
  },
  {
   "cell_type": "code",
   "execution_count": 2,
   "metadata": {
    "id": "P4VkUxvV-sd1"
   },
   "outputs": [],
   "source": [
    "import pandas as pd\n",
    "import numpy as np"
   ]
  },
  {
   "cell_type": "code",
   "execution_count": 4,
   "metadata": {
    "colab": {
     "base_uri": "https://localhost:8080/"
    },
    "id": "GtTDQzT0_9mB",
    "outputId": "9e861465-32eb-4438-ab41-08af162afcb2"
   },
   "outputs": [
    {
     "name": "stdout",
     "output_type": "stream",
     "text": [
      "0    1.0\n",
      "1    3.0\n",
      "2    5.0\n",
      "3    NaN\n",
      "4    6.0\n",
      "5    8.0\n",
      "dtype: float64\n"
     ]
    }
   ],
   "source": [
    "s = pd.Series([1, 3, 5, np.nan, 6, 8])\n",
    "print(s)"
   ]
  },
  {
   "cell_type": "markdown",
   "metadata": {
    "id": "tE7pbPzdANei"
   },
   "source": [
    "## Pandas 문법 (1)"
   ]
  },
  {
   "cell_type": "code",
   "execution_count": 6,
   "metadata": {
    "colab": {
     "base_uri": "https://localhost:8080/"
    },
    "id": "RTnaXw3AAB-2",
    "outputId": "b67765d1-4652-4aa7-a7a5-a4014e375f98"
   },
   "outputs": [
    {
     "name": "stdout",
     "output_type": "stream",
     "text": [
      "A    0\n",
      "B    6\n",
      "C    7\n",
      "D    2\n",
      "E    5\n",
      "dtype: int32\n",
      "index : Index(['A', 'B', 'C', 'D', 'E'], dtype='object')\n",
      "values : [0 6 7 2 5]\n",
      "0\n",
      "0\n"
     ]
    }
   ],
   "source": [
    "import pandas as pd\n",
    "import numpy as np\n",
    "\n",
    "s = pd.Series(np.random.randint(10, size=5), index=[\"A\", \"B\", \"C\", \"D\", \"E\"])\n",
    "print(s)\n",
    "print(\"index :\", s.index)\n",
    "print(\"values :\", s.values)\n",
    "\n",
    "# pandas 값 접근.\n",
    "print(s.A)\n",
    "print(s[\"A\"])"
   ]
  },
  {
   "cell_type": "code",
   "execution_count": null,
   "metadata": {
    "colab": {
     "base_uri": "https://localhost:8080/"
    },
    "id": "diR8Rf3cB4i8",
    "outputId": "e6e15cf5-9e2a-47cb-a681-4520a41e7016"
   },
   "outputs": [],
   "source": [
    "s = pd.Series(np.random.randint(10, size=5), index=[\"A\", \"B\", \"C\", \"D\", \"E\"])\n",
    "print(s)\n",
    "print(\"-\"*20)\n",
    "print(s[\"C\"])\n",
    "print(\"-\"*20)\n",
    "print(s[[\"B\", \"C\", \"E\"]])\n",
    "print(\"-\"*20)\n",
    "print(s[1::2])"
   ]
  },
  {
   "cell_type": "code",
   "execution_count": null,
   "metadata": {
    "colab": {
     "base_uri": "https://localhost:8080/"
    },
    "id": "woVfnLY2CFzs",
    "outputId": "440919cc-7e09-4543-f18d-98f9a4256108"
   },
   "outputs": [],
   "source": [
    "s = pd.Series(np.random.randint(10, size=5), index=[\"A\", \"B\", \"C\", \"D\", \"E\"])\n",
    "print(s)\n",
    "\n",
    "print(s[s>5])"
   ]
  },
  {
   "cell_type": "code",
   "execution_count": null,
   "metadata": {
    "colab": {
     "base_uri": "https://localhost:8080/"
    },
    "id": "NABwncT-CdFm",
    "outputId": "a6743377-389e-452f-aaec-58abbce356d6"
   },
   "outputs": [],
   "source": [
    "dic = {\"D\": 3, \"F\": 7, \"E\": 5}\n",
    "s = pd.Series(dic)\n",
    "print(s)\n",
    "print(\"-\"*20)\n",
    "for idx, val in s.items():\n",
    "    print(idx, val)\n",
    "print(\"-\"*20)\n",
    "for idx, val in dic.items():\n",
    "    print(idx, val)"
   ]
  },
  {
   "cell_type": "code",
   "execution_count": null,
   "metadata": {
    "colab": {
     "base_uri": "https://localhost:8080/"
    },
    "id": "PLOh40M0DCyn",
    "outputId": "fa277584-cc09-416e-f54d-706e427492d0"
   },
   "outputs": [],
   "source": [
    "s1 = pd.Series([90, 23, 74, 37], index=[\"5월 18일\", \"5월 19일\", \"5월 20일\", \"5월 21일\"])\n",
    "s2 = pd.Series([50, 60, 20], index=[\"5월 20일\", \"5월 21일\", \"5월 22일\"])\n",
    "\n",
    "result = s1 + s2\n",
    "print(result)"
   ]
  },
  {
   "cell_type": "code",
   "execution_count": null,
   "metadata": {
    "colab": {
     "base_uri": "https://localhost:8080/"
    },
    "id": "ustnRvZ0DSX5",
    "outputId": "74c8a63c-608f-471b-d82f-f98c3c150ce7"
   },
   "outputs": [],
   "source": [
    "print(result.notnull())\n",
    "print(\"-\"*20)\n",
    "print(result[result.notnull()])"
   ]
  },
  {
   "cell_type": "markdown",
   "metadata": {
    "id": "KIYZWgC8DkGV"
   },
   "source": [
    "### 실습2\n",
    "\n",
    "주어지는 \"data\"에는 0~4까지의 숫자가 알파벳 순서의 Index를 가진 Series의 형태로 저장되어 있습니다.\n",
    "\n",
    "indexing(data) : 데이터 인덱싱하기\n",
    "\n",
    "* 인자로 전달받은 data의 값 중 인덱스가 ‘C’인 데이터를 반환하는 함수를 작성합니다.\n",
    "* 전달되는 값과 반환되는 값은 다음과 같습니다.\n",
    "\n",
    "[전달값]\n",
    "```\n",
    "A    0\n",
    "B    1\n",
    "C    2\n",
    "D    3\n",
    "E    4\n",
    "dtype: int64\n",
    "```\n",
    "\n",
    "[반환값]\n",
    "```\n",
    "2\n",
    "```"
   ]
  },
  {
   "cell_type": "code",
   "execution_count": null,
   "metadata": {
    "id": "gU2A-JJsDxAW"
   },
   "outputs": [],
   "source": [
    "import pandas as pd\n",
    "import numpy as np\n",
    "\n",
    "\n",
    "def indexing(data: pd.Series):\n",
    "    \"\"\"특정 인덱스의 데이터를 반환하는 함수입니다.\"\"\"\n",
    "    data = None\n",
    "    return data\n",
    "\n",
    "\n",
    "def main():\n",
    "    # 데이터\n",
    "    data = pd.Series(range(5), index=[\"A\", \"B\", \"C\", \"D\", \"E\"])\n",
    "\n",
    "    # 데이터 인덱싱\n",
    "    data = indexing(data)\n",
    "\n",
    "    # 인덱싱한 데이터 출력\n",
    "    print(data)\n",
    "\n",
    "    return 0\n",
    "\n",
    "\n",
    "if __name__ == \"__main__\":\n",
    "    main()\n"
   ]
  },
  {
   "cell_type": "markdown",
   "metadata": {
    "id": "nx-W0TjYEGkU"
   },
   "source": [
    "### 실습3 - 데이터 슬라이싱\n",
    "\n",
    "주어지는 \"data\"에는 0~4까지의 숫자가 알파벳 순서의 Index를 가진 Series의 형태로 저장되어 있습니다.\n",
    "\n",
    "1. `slicing(data)` : 데이터 슬라이싱하기\n",
    "\n",
    "  * 인자로 전달받은 data의 값 중 인덱스가 1번부터 3번인 데이터를 반환하는 함수를 작성합니다.\n",
    "  * 전달되는 값과 반환되는 값은 다음과 같습니다.\n",
    "[전달값]\n",
    "```\n",
    "A    0\n",
    "B    1\n",
    "C    2\n",
    "D    3\n",
    "E    4\n",
    "dtype: int64\n",
    "```\n",
    "[반환값]\n",
    "```\n",
    "B    1\n",
    "C    2\n",
    "D    3\n",
    "dtype: int64\n",
    "```\n",
    "* 첫번째 데이터는 인덱스가 0입니다."
   ]
  },
  {
   "cell_type": "code",
   "execution_count": null,
   "metadata": {
    "id": "sDm92_H9EOCj"
   },
   "outputs": [],
   "source": [
    "import pandas as pd\n",
    "import numpy as np\n",
    "\n",
    "\n",
    "def slicing(data: pd.Series):\n",
    "    \"\"\"특정 범위의 데이터를 반환하는 함수입니다.\"\"\"\n",
    "    data = None\n",
    "    return data\n",
    "\n",
    "\n",
    "def main():\n",
    "    # 데이터\n",
    "    data = pd.Series(range(5), index=[\"A\", \"B\", \"C\", \"D\", \"E\"])\n",
    "\n",
    "    # 데이터 슬라이싱\n",
    "    data = slicing(data)\n",
    "\n",
    "    # 슬라이싱한 데이터 출력\n",
    "    print(data)\n",
    "\n",
    "    return 0\n",
    "\n",
    "if __name__ == \"__main__\":\n",
    "    main()\n"
   ]
  },
  {
   "cell_type": "markdown",
   "metadata": {
    "id": "5NdoUwxMEp9r"
   },
   "source": [
    "## Pandas 문법 (2)"
   ]
  },
  {
   "cell_type": "code",
   "execution_count": null,
   "metadata": {
    "colab": {
     "base_uri": "https://localhost:8080/"
    },
    "id": "GD5tx62fErPm",
    "outputId": "f228310a-2238-48a7-ee10-56b3dfeb4b77"
   },
   "outputs": [],
   "source": [
    "import pandas as pd\n",
    "\n",
    "df = pd.DataFrame(columns=[\"Email\", \"Name\"])\n",
    "df[\"Name\"] = [\"doori\", \"minsu\"]\n",
    "df[\"Email\"] = [\"dr@gmail.com\", \"ms@gmail.com\"]\n",
    "df[\"Age\"] = [20, 21]\n",
    "\n",
    "print(df)\n",
    "print(type(df))\n",
    "print(type(df[\"Name\"]))"
   ]
  },
  {
   "cell_type": "code",
   "execution_count": null,
   "metadata": {
    "colab": {
     "base_uri": "https://localhost:8080/",
     "height": 125
    },
    "id": "FCUtzW8KE3Vq",
    "outputId": "598d2dd9-0c87-4a16-e7a2-8bc2a9c8f5e8"
   },
   "outputs": [],
   "source": [
    "name = [\"doori\", \"minsu\"]\n",
    "email = [\"dr@gmail.com\", \"ms@gmail.com\"]\n",
    "age = [20, 21]\n",
    "dic = {\"Name\": name, \"Email\": email, \"Age\": age}\n",
    "df = pd.DataFrame(dic, index=[\"one\", \"two\"])\n",
    "df"
   ]
  },
  {
   "cell_type": "code",
   "execution_count": null,
   "metadata": {
    "colab": {
     "base_uri": "https://localhost:8080/"
    },
    "id": "pRkV5yEuFBYa",
    "outputId": "34af35de-0682-444a-e1e7-2098dd48cc75"
   },
   "outputs": [],
   "source": [
    "print(df.index)\n",
    "print(df.columns)\n",
    "print(df.values)"
   ]
  },
  {
   "cell_type": "code",
   "execution_count": null,
   "metadata": {
    "colab": {
     "base_uri": "https://localhost:8080/"
    },
    "id": "lKUYivJsFO1o",
    "outputId": "80453c74-dd33-4f81-b4a3-3a092350fed8"
   },
   "outputs": [],
   "source": [
    "print(df[df[\"Name\"]==\"doori\"])"
   ]
  },
  {
   "cell_type": "code",
   "execution_count": null,
   "metadata": {
    "colab": {
     "base_uri": "https://localhost:8080/",
     "height": 206
    },
    "id": "B2D_TExuFqJu",
    "outputId": "3143c3fa-34c8-4781-e562-a75587bb9b67"
   },
   "outputs": [],
   "source": [
    "email = [\"dr@gmail.com\", \"ms@gmail.com\", \"hn@gmail.com\", \"hs@gmail.com\", \"hy@gmail.com\"]\n",
    "name = [\"doori\", \"minsu\", \"hana\", \"hisu\", \"hyun\"]\n",
    "age = [20, 21, 25, 26, 20]\n",
    "\n",
    "df = {\"Email\": email, \"Name\": name, \"Age\": age}\n",
    "df = pd.DataFrame(df, index=[\"one\", \"two\", \"three\", \"four\", \"five\"])\n",
    "df"
   ]
  },
  {
   "cell_type": "code",
   "execution_count": null,
   "metadata": {
    "colab": {
     "base_uri": "https://localhost:8080/"
    },
    "id": "p0HS1z0WGyJs",
    "outputId": "97dc4977-73d5-4da1-fd51-fdec5353f914"
   },
   "outputs": [],
   "source": [
    "print(df.iloc[0, 1])\n",
    "print(\"-\"*20)\n",
    "print(df.iloc[[0, 3], [1, 2]]) # 원하는 범위\n",
    "print(\"-\"*20)\n",
    "print(df.iloc[0:2, :2]) # 슬라이싱"
   ]
  },
  {
   "cell_type": "code",
   "execution_count": null,
   "metadata": {
    "colab": {
     "base_uri": "https://localhost:8080/"
    },
    "id": "JEiX1M4LHdvU",
    "outputId": "d5fa144d-1f39-46ee-b3e3-5268c14844d2"
   },
   "outputs": [],
   "source": [
    "print(df)\n",
    "print(\"-\"*20)\n",
    "print(df.loc[\"one\", \"Name\"])\n",
    "print(\"-\"*20)\n",
    "print(df.loc[[\"one\", \"four\"], \"Name\"])\n",
    "print(\"-\"*20)\n",
    "print(df.loc[\"two\":\"four\", \"Name\"])"
   ]
  },
  {
   "cell_type": "code",
   "execution_count": null,
   "metadata": {
    "colab": {
     "base_uri": "https://localhost:8080/",
     "height": 238
    },
    "id": "wGhmsR3eH7LV",
    "outputId": "c9e558fb-7f0e-4d5f-fb24-546e5d002987"
   },
   "outputs": [],
   "source": [
    "df.loc[\"six\"] = {\"Email\": \"boo@gmail.com\", \"Name\": \"boo\", \"Age\": 21}\n",
    "df"
   ]
  },
  {
   "cell_type": "code",
   "execution_count": null,
   "metadata": {
    "colab": {
     "base_uri": "https://localhost:8080/",
     "height": 238
    },
    "id": "xST65uDmICur",
    "outputId": "16969fd3-6577-4902-dce4-3caeaf9976a9"
   },
   "outputs": [],
   "source": [
    "df[\"Address\"] = [\"Seoul\", \"Busan\", \"Jeju\", \"Daegu\", \"Seoul\", \"Kyung-ki\"]\n",
    "df"
   ]
  },
  {
   "cell_type": "code",
   "execution_count": null,
   "metadata": {
    "colab": {
     "base_uri": "https://localhost:8080/"
    },
    "id": "y2u8VFgoILE3",
    "outputId": "34cb2f73-bcb3-447f-cd01-0cc17f11f4be"
   },
   "outputs": [],
   "source": [
    "print(df.shape)"
   ]
  },
  {
   "cell_type": "code",
   "execution_count": null,
   "metadata": {
    "colab": {
     "base_uri": "https://localhost:8080/"
    },
    "id": "iFheFYmTIPb8",
    "outputId": "82feacd3-7e84-4d7b-f43d-c4f1d8a4b7df"
   },
   "outputs": [],
   "source": [
    "df1 = df.iloc[:3]\n",
    "df2 = df.iloc[3:]\n",
    "print(df1)\n",
    "print(\"-\"*20)\n",
    "print(df2)\n",
    "print(\"-\"*20)\n",
    "df3 = pd.concat([df1, df2]).reset_index(drop=True) # drop=False : 기존 인덱스를 유지한다.\n",
    "print(df3)"
   ]
  },
  {
   "cell_type": "code",
   "execution_count": null,
   "metadata": {
    "colab": {
     "base_uri": "https://localhost:8080/"
    },
    "id": "PeVjkWmGIWCv",
    "outputId": "f1ba58e6-f3f9-4067-9a00-7825f1b6c6a5"
   },
   "outputs": [],
   "source": [
    "df3 = pd.concat([df1, df2], axis=1).reset_index(drop=True)\n",
    "print(df3)"
   ]
  },
  {
   "cell_type": "code",
   "execution_count": null,
   "metadata": {
    "colab": {
     "base_uri": "https://localhost:8080/"
    },
    "id": "hnRVVHatJTas",
    "outputId": "5f52b476-9a95-4458-bc3a-aa43dde6edc8"
   },
   "outputs": [],
   "source": [
    "print(df)\n",
    "print(\"-\"*20)\n",
    "print(df.T)"
   ]
  },
  {
   "cell_type": "markdown",
   "metadata": {
    "id": "EeKN3pkdJcUc"
   },
   "source": [
    "### 실습5\n",
    "\n",
    "1. `get_adults(df: pd.DataFrame)` -> `pd.DataFrame`: 성인만 추출하기\n",
    "\n",
    "  `df`은 나이에 해당하는 “Age” 칼럼이 포함된 pd.DataFrame입니다.\n",
    "\n",
    "  `df`에서 나이(“Age”)가 20 이상인 데이터를 추출하여 df_adults에 저장하고 반환하는 함수입니다.\n",
    "\n",
    "  반드시 `df`에서 데이터를 추출하는 코드를 작성하세요. 단순히 특정 값을 반환하는 함수는 오답처리될 수 있습니다.\n",
    "\n",
    "  [완성 시 출력]\n",
    "  ```\n",
    "             Email   Name  Age\n",
    "1  minsu@gmail.com  minsu   20\n",
    "2  james@gmail.com  james   25\n",
    "  ```"
   ]
  },
  {
   "cell_type": "code",
   "execution_count": null,
   "metadata": {
    "colab": {
     "base_uri": "https://localhost:8080/"
    },
    "id": "fb0_1VZTJWjX",
    "outputId": "dfaf4562-cb69-4973-bda3-a952793f0a79"
   },
   "outputs": [],
   "source": [
    "import pandas as pd\n",
    "\n",
    "\n",
    "def get_adults(df: pd.DataFrame) -> pd.DataFrame:\n",
    "    \"\"\"df에서 Age가 20이상인 사람만 추출해 반환하는 함수입니다.\"\"\"\n",
    "    df_adults = None\n",
    "    return df_adults\n",
    "\n",
    "\n",
    "def main():\n",
    "    # 입력 데이터 정의 (채점에서는 다른 데이터가 사용됩니다.)\n",
    "    data = pd.DataFrame(columns=[\"Email\", \"Name\", \"Age\"])\n",
    "    data[\"Name\"] = [\"doori\", \"minsu\", \"james\"]\n",
    "    data[\"Email\"] = [\"doori@gmail.com\", \"minsu@gmail.com\", \"james@gmail.com\"]\n",
    "    data[\"Age\"] = [16, 20, 25]\n",
    "\n",
    "    # 성인만 추출\n",
    "    df_adults = get_adults(data)\n",
    "    print(df_adults)\n",
    "\n",
    "\n",
    "if __name__ == \"__main__\":\n",
    "    main()"
   ]
  },
  {
   "cell_type": "markdown",
   "metadata": {
    "id": "b4WL6RIxKAUL"
   },
   "source": [
    "## 데이터 집계 및 요약"
   ]
  },
  {
   "cell_type": "code",
   "execution_count": null,
   "metadata": {
    "colab": {
     "base_uri": "https://localhost:8080/",
     "height": 269
    },
    "id": "Hb3OGG3DJ-zm",
    "outputId": "ba864b1b-faf6-43b7-c854-692b5cbbf73d"
   },
   "outputs": [],
   "source": [
    "import pandas as pd\n",
    "\n",
    "names = [\"apple\", \"pear\", \"banana\", \"strawberry\", \"mango\", \"cherry\", \"melon\"]\n",
    "quantity = [3, 5, 1, None, 1, 5, 5]\n",
    "fruit_df = pd.DataFrame({\"Name\": names, \"Quantity\": quantity})\n",
    "fruit_df"
   ]
  },
  {
   "cell_type": "code",
   "execution_count": null,
   "metadata": {
    "colab": {
     "base_uri": "https://localhost:8080/"
    },
    "id": "HV8-DBdiKY64",
    "outputId": "463eb423-48d9-44df-d138-38cc4a80a6c9"
   },
   "outputs": [],
   "source": [
    "print(\"Quantity sum:\", fruit_df.Quantity.sum())\n",
    "print(\"Quantity mean:\", fruit_df.Quantity.mean())\n",
    "print(\"Quantity var:\", fruit_df.Quantity.var())\n",
    "print(\"Quantity std:\", fruit_df.Quantity.std())\n",
    "print(\"Quantity min:\", fruit_df.Quantity.min())\n",
    "print(\"Quantity max:\", fruit_df.Quantity.max())\n",
    "print(\"Quantity argmin:\", fruit_df.Quantity.argmin())\n",
    "print(\"Quantity argmax:\", fruit_df.Quantity.argmax())"
   ]
  },
  {
   "cell_type": "code",
   "execution_count": null,
   "metadata": {
    "colab": {
     "base_uri": "https://localhost:8080/",
     "height": 394
    },
    "id": "uCnne0LHKQju",
    "outputId": "7f9abdeb-d526-4ea5-e72d-f0d3aa9a803d"
   },
   "outputs": [],
   "source": [
    "fruit_df.describe(include='all')"
   ]
  },
  {
   "cell_type": "code",
   "execution_count": null,
   "metadata": {
    "colab": {
     "base_uri": "https://localhost:8080/"
    },
    "id": "PL5LTPkiKrI2",
    "outputId": "1a6ec880-49a8-446d-d2f7-7f10519d8820"
   },
   "outputs": [],
   "source": [
    "print(fruit_df.sort_values(by=\"Quantity\"))\n",
    "print()\n",
    "print(fruit_df.sort_values(by=\"Name\", ascending=False))"
   ]
  },
  {
   "cell_type": "code",
   "execution_count": null,
   "metadata": {
    "colab": {
     "base_uri": "https://localhost:8080/"
    },
    "id": "0KJrdyYBKx4c",
    "outputId": "7eb3e8da-9574-4201-b011-cb969cbf94fa"
   },
   "outputs": [],
   "source": [
    "# rank()\n",
    "\n",
    "fruit_df[\"Rank\"] = fruit_df[\"Quantity\"].rank()\n",
    "print(fruit_df)\n",
    "print()\n",
    "fruit_df[\"Rank\"] = fruit_df[\"Quantity\"].rank(ascending=False)\n",
    "print(fruit_df)"
   ]
  },
  {
   "cell_type": "code",
   "execution_count": null,
   "metadata": {
    "colab": {
     "base_uri": "https://localhost:8080/"
    },
    "id": "sLg047yeLU84",
    "outputId": "fd4eb3d2-bdc1-4b5f-ef06-3389f723c507"
   },
   "outputs": [],
   "source": [
    "print(\"종류의 수 :\")\n",
    "print(fruit_df.count())\n",
    "print(\"\\nQuantity의 종류 수 :\")\n",
    "print(fruit_df['Quantity'].value_counts())\n",
    "print(\"\\nName의 종류 수 :\")\n",
    "print(fruit_df[\"Name\"].value_counts())"
   ]
  },
  {
   "cell_type": "code",
   "execution_count": null,
   "metadata": {
    "colab": {
     "base_uri": "https://localhost:8080/"
    },
    "id": "RItGwTgoLbWM",
    "outputId": "ed352599-c7b2-45a5-b84b-3d9db38e5c16"
   },
   "outputs": [],
   "source": [
    "# 원소 체크\n",
    "\n",
    "if 'apple' in fruit_df[\"Name\"]:\n",
    "    print(\"True1\")\n",
    "\n",
    "if 'apple' in list(fruit_df[\"Name\"]):\n",
    "    print(\"True2\")"
   ]
  },
  {
   "cell_type": "code",
   "execution_count": null,
   "metadata": {
    "colab": {
     "base_uri": "https://localhost:8080/"
    },
    "id": "g9HCig1RL1rW",
    "outputId": "8d8d1518-78e6-45ed-b925-7e4419e80f4e"
   },
   "outputs": [],
   "source": [
    "print(fruit_df)\n",
    "print()\n",
    "\n",
    "fruit_df.info()"
   ]
  },
  {
   "cell_type": "code",
   "execution_count": null,
   "metadata": {
    "colab": {
     "base_uri": "https://localhost:8080/",
     "height": 143
    },
    "id": "JKQBbbgEL-EM",
    "outputId": "e57c5895-4a5a-4d5c-88fa-464fe3839a1e"
   },
   "outputs": [],
   "source": [
    "fruit_df.head(3)\n",
    "# fruit_df.tail(3)"
   ]
  },
  {
   "cell_type": "code",
   "execution_count": null,
   "metadata": {
    "colab": {
     "base_uri": "https://localhost:8080/"
    },
    "id": "2oZ7TNE-L-zY",
    "outputId": "be37e645-0b66-4deb-b503-5d6dfd4bf148"
   },
   "outputs": [],
   "source": [
    "print(fruit_df.isnull().sum())"
   ]
  },
  {
   "cell_type": "code",
   "execution_count": null,
   "metadata": {
    "colab": {
     "base_uri": "https://localhost:8080/"
    },
    "id": "Lh-O4-yuMFQ_",
    "outputId": "0575432b-328e-407f-ad52-bf905a91ad23"
   },
   "outputs": [],
   "source": [
    "print(fruit_df[\"Quantity\"].unique())\n",
    "print(fruit_df[\"Name\"].unique())"
   ]
  },
  {
   "cell_type": "code",
   "execution_count": null,
   "metadata": {
    "colab": {
     "base_uri": "https://localhost:8080/"
    },
    "id": "96_X9wk7MLP-",
    "outputId": "e2924570-462d-4023-a517-a49b57dca57d"
   },
   "outputs": [],
   "source": [
    "fruit_df.to_csv(\"./fruit.csv\", index=False) # 인덱스도 저장할 것인지\n",
    "df = pd.read_csv(\"./fruit.csv\")\n",
    "print(df)\n",
    "\n",
    "print(\"-\"*40)\n",
    "\n",
    "fruit_df.to_excel(\"./fruit.xlsx\", sheet_name=\"Sheet1\", index=False) # 인덱스도 저장할 것인지\n",
    "df = pd.read_excel(\"./fruit.xlsx\", sheet_name=\"Sheet1\")\n",
    "print(df)"
   ]
  },
  {
   "cell_type": "markdown",
   "metadata": {
    "id": "d2CBifVkMnD2"
   },
   "source": [
    "### 실습6\n",
    "\n",
    "1. `get_oldest(df: pd.DataFrame) -> str`: 가장 나이가 많은 사람 찾기 (50점)\n",
    "\n",
    "  `df`은 나이에 해당하는 “age” 칼럼이 포함된 `pd.DataFrame`입니다.\n",
    "\n",
    "  * `df`에서 `age`가 가장 큰 사람이 몇 번째 사람인지 찾아 `index`에 저장합니다.\n",
    "\n",
    "  * `index`번째 사람의 `name`칼럼의 값을 `name`에 저장해 반환합니다.\n",
    "\n",
    "  반드시 `df`에서 데이터를 추출하는 코드를 작성하세요. 단순히 특정 값을 반환하는 함수는 오답처리될 수 있습니다.\n",
    "\n",
    "2. `get_youngest(df: pd.DataFrame) -> str`: 가장 나이가 적은 사람 찾기 (50점)\n",
    "\n",
    "  `df`은 나이에 해당하는 “age” 칼럼이 포함된 `pd.DataFrame`입니다.\n",
    "\n",
    "  * `df`에서 `age`가 가장 작은 사람이 몇 번째 사람인지 찾아 `index`에 저장합니다.\n",
    "\n",
    "  * `index`번째 사람의 `name`칼럼의 값을 `name`에 저장해 반환합니다.\n",
    "\n",
    "  반드시 `df`에서 데이터를 추출하는 코드를 작성하세요. 단순히 특정 값을 반환하는 함수는 오답처리될 수 있습니다.\n",
    "\n",
    "  [완성 시 출력]\n",
    "  ```\n",
    "  가장 나이가 많은 사람: Kim\n",
    "  가장 나이가 적은 사람: Ani\n",
    "```"
   ]
  },
  {
   "cell_type": "code",
   "execution_count": null,
   "metadata": {
    "id": "e0W0sn_JNEwo"
   },
   "outputs": [],
   "source": [
    "import pandas as pd\n",
    "\n",
    "\n",
    "def get_oldest(df: pd.DataFrame) -> str:\n",
    "    \"\"\"df에서 age가 가장 큰 사람의 이름을 반환하는 함수입니다.\"\"\"\n",
    "    index = None\n",
    "    name = None\n",
    "    return name\n",
    "\n",
    "\n",
    "def get_youngest(df: pd.DataFrame) -> str:\n",
    "    \"\"\"df에서 age가 가장 작은 사람의 이름을 반환하는 함수입니다.\"\"\"\n",
    "    index = None\n",
    "    name = None\n",
    "    return name\n",
    "\n",
    "\n",
    "def main():\n",
    "    # 입력 데이터 정의 (채점에서는 다른 데이터가 사용됩니다.)\n",
    "    data = pd.DataFrame(columns=[\"name\", \"age\"])\n",
    "    data[\"name\"] = [\"Ani\", \"James\", \"Kane\", \"Kim\", \"Teddy\"]\n",
    "    data[\"age\"] = [15, 19, 26, 52, 30]\n",
    "\n",
    "    # 1. 가장 나이가 많은 사람의 이름 추출\n",
    "    oldest = get_oldest(data)\n",
    "    print(oldest)\n",
    "\n",
    "    # 2. 가장 나이가 적은 사람의 이름 추출\n",
    "    youngest = get_youngest(data)\n",
    "    print(youngest)\n",
    "\n",
    "\n",
    "if __name__ == \"__main__\":\n",
    "    main()\n"
   ]
  },
  {
   "cell_type": "markdown",
   "metadata": {
    "id": "II-ng6RcOEbV"
   },
   "source": [
    "### 실습 7\n",
    "\n",
    "1. `load_data(path: str) -> pd.DataFrame`: csv 파일 불러오기 (50점)\n",
    "\n",
    "  `path`라는 이름의 csv파일을 불러와 `pd.DataFrame`의 형태로 df에 저장하고 반환합니다.\n",
    "\n",
    "2. `get_ranking(df: pd.DataFrame) -> pd.DataFrame`: 성적의 내림차순 순위 추가하기 (50점)\n",
    "\n",
    "  `df`은 점수에 해당하는 “score” 칼럼이 포함된 `pd.DataFrame`입니다.\n",
    "\n",
    "  * `df`에서 `score`가 가장 높은 사람부터 낮은 사람 순서대로 순위를 매겨 `df[\"rank\"]`에 추가합니다.\n",
    "  * 이때 `df.rank()` 함수를 사용하여 순위를 구합니다. (동점자는 평균값으로 처리합니다.)\n",
    "  * `df`를 반환합니다.\n",
    "\n",
    "  [완성 시 출력]\n",
    "  ```\n",
    "      student_id  score  rank\n",
    "0            0     88  13.5\n",
    "1            1     85  17.0\n",
    "2            2     53  48.0\n",
    "3            3     74  29.5\n",
    "4            4     13  89.0\n",
    "..         ...    ...   ...\n",
    "95          95     65  37.0\n",
    "96          96     29  69.0\n",
    "97          97     69  34.0\n",
    "98          98     10  92.0\n",
    "99          99     16  84.0\n",
    "```"
   ]
  },
  {
   "cell_type": "code",
   "execution_count": null,
   "metadata": {
    "id": "4RzTtVt2OF4l"
   },
   "outputs": [],
   "source": [
    "import pandas as pd\n",
    "import numpy as np\n",
    "\n",
    "\n",
    "def load_data(path: str) -> pd.DataFrame:\n",
    "    \"path라는 이름을 가진 csv파일을 읽어와 데이터프레임의 형태로 반환합니다.\"\n",
    "    df = None\n",
    "    return df\n",
    "\n",
    "\n",
    "def get_ranking(df: pd.DataFrame) -> pd.DataFrame:\n",
    "    \"df에서 score칼럼을 기준으로 내림차순으로 정렬한 값을 rank칼럼으로 추가하고 반환합니다.\"\n",
    "    df[\"rank\"] = None\n",
    "    return df\n",
    "\n",
    "\n",
    "def main():\n",
    "    DATA_PATH = \"score.csv\"\n",
    "\n",
    "    # 1. csv 파일 불러오기\n",
    "    df = load_data(DATA_PATH)\n",
    "\n",
    "    # 2. rank 칼럼 추가하기\n",
    "    df_rank = get_ranking(df)\n",
    "    print(df_rank)\n",
    "\n",
    "\n",
    "if __name__ == \"__main__\":\n",
    "    main()\n"
   ]
  },
  {
   "cell_type": "markdown",
   "metadata": {
    "id": "BdsWNhuHOcJ0"
   },
   "source": [
    "### 미션1 - 성적 데이터로 분반하기"
   ]
  }
 ],
 "metadata": {
  "colab": {
   "provenance": []
  },
  "kernelspec": {
   "display_name": "Python 3 (ipykernel)",
   "language": "python",
   "name": "python3"
  },
  "language_info": {
   "codemirror_mode": {
    "name": "ipython",
    "version": 3
   },
   "file_extension": ".py",
   "mimetype": "text/x-python",
   "name": "python",
   "nbconvert_exporter": "python",
   "pygments_lexer": "ipython3",
   "version": "3.11.7"
  }
 },
 "nbformat": 4,
 "nbformat_minor": 4
}
