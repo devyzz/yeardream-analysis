{
 "cells": [
  {
   "cell_type": "markdown",
   "metadata": {
    "id": "hrKA4PL8xxK5"
   },
   "source": [
    "## 파이썬 자료형"
   ]
  },
  {
   "cell_type": "code",
   "execution_count": 1,
   "metadata": {
    "colab": {
     "base_uri": "https://localhost:8080/"
    },
    "id": "z1GAfXT-YlNe",
    "outputId": "bb3fdead-9606-44a2-ec6e-7f09ef51da51"
   },
   "outputs": [
    {
     "name": "stdout",
     "output_type": "stream",
     "text": [
      "10 10.0 10\n",
      "<class 'int'> <class 'float'> <class 'str'>\n"
     ]
    }
   ],
   "source": [
    "x1 = 10\n",
    "x2 = 10.0\n",
    "x3 = \"10\"\n",
    "\n",
    "print(x1, x2, x3)\n",
    "print(type(x1), type(x2), type(x3))"
   ]
  },
  {
   "cell_type": "code",
   "execution_count": 2,
   "metadata": {
    "colab": {
     "base_uri": "https://localhost:8080/"
    },
    "id": "3T9BdKGzlROb",
    "outputId": "ddf10240-1906-48ec-ccac-5468781ee747"
   },
   "outputs": [
    {
     "name": "stdout",
     "output_type": "stream",
     "text": [
      "True\n"
     ]
    }
   ],
   "source": [
    "# 실수형 읽기\n",
    "a = 1e-5\n",
    "print(a==0.00001)"
   ]
  },
  {
   "cell_type": "code",
   "execution_count": 3,
   "metadata": {
    "colab": {
     "base_uri": "https://localhost:8080/"
    },
    "id": "mX2cKeCVlXNM",
    "outputId": "67f36740-11ae-4b7d-d8c8-136001049ea7"
   },
   "outputs": [
    {
     "name": "stdout",
     "output_type": "stream",
     "text": [
      "3.7\n",
      "3\n"
     ]
    }
   ],
   "source": [
    "a = 3.7\n",
    "b = int(a)\n",
    "print(a)\n",
    "print(b)"
   ]
  },
  {
   "cell_type": "code",
   "execution_count": 4,
   "metadata": {
    "colab": {
     "base_uri": "https://localhost:8080/"
    },
    "id": "emILD_Cmo2YH",
    "outputId": "2439f894-440e-4e58-fcce-bafa07d95226"
   },
   "outputs": [
    {
     "name": "stdout",
     "output_type": "stream",
     "text": [
      "3\n",
      "3.0\n"
     ]
    }
   ],
   "source": [
    "a = 3\n",
    "b = float(a)\n",
    "print(a)\n",
    "print(b)"
   ]
  },
  {
   "cell_type": "code",
   "execution_count": 4,
   "metadata": {},
   "outputs": [],
   "source": [
    "a += 3"
   ]
  },
  {
   "cell_type": "code",
   "execution_count": 6,
   "metadata": {
    "id": "skkIoFdko4P4"
   },
   "outputs": [],
   "source": [
    "# a = \"영희가 말했어요 \"철수야 밥 먹었니?\"\"\n",
    "a = \"영희가 말했어요 \\\"철수야 밥 먹었니?\\\"\"\n",
    "a = \"영희가 말했어요 '철수야 밥 먹었니?'\""
   ]
  },
  {
   "cell_type": "code",
   "execution_count": 6,
   "metadata": {
    "colab": {
     "base_uri": "https://localhost:8080/"
    },
    "id": "F1YR897wpGsQ",
    "outputId": "da8683ce-5da0-4d7f-9282-cfe579778bac"
   },
   "outputs": [
    {
     "name": "stdout",
     "output_type": "stream",
     "text": [
      "HelloWorld!\n",
      "Hello Hello Hello Hello \n"
     ]
    }
   ],
   "source": [
    "print(\"Hello\" + \"World!\")\n",
    "print(\"Hello \"*4)"
   ]
  },
  {
   "cell_type": "code",
   "execution_count": 7,
   "metadata": {
    "colab": {
     "base_uri": "https://localhost:8080/",
     "height": 35
    },
    "id": "rynuMOQLpM1W",
    "outputId": "7eaf4b7d-463d-4e21-c1b1-a613da0d0306"
   },
   "outputs": [
    {
     "data": {
      "text/plain": [
       "'24680'"
      ]
     },
     "execution_count": 7,
     "metadata": {},
     "output_type": "execute_result"
    }
   ],
   "source": [
    "text = \"1234567890\"\n",
    "\n",
    "# text[start:end:space]\n",
    "text[1::2]"
   ]
  },
  {
   "cell_type": "code",
   "execution_count": 8,
   "metadata": {
    "id": "tzey7PZZpZyW"
   },
   "outputs": [],
   "source": [
    "text = \"세종(한국 한자: 世宗, 중세 한국어: ·솅조ᇰ[1], \\\n",
    "1397년 5월 15일 (음력 4월 10일)[2] ~ 1450년 3월 30일 (음력 2월 17일))은 \\\n",
    "조선의 제4대 국왕(재위 : 1418년 9월 9일 ~ 1450년 3월 30일)으로, 태종과 원경왕후의 아들이다. \\\n",
    "형인 양녕대군이 폐세자가 되자 세자에 책봉되었으며 태종의 양위를 받아 즉위하였다.[3]\""
   ]
  },
  {
   "cell_type": "code",
   "execution_count": 9,
   "metadata": {
    "colab": {
     "base_uri": "https://localhost:8080/"
    },
    "id": "b3QYLvkDpqFk",
    "outputId": "c9e117e0-284f-4cd1-8925-f1a9348a30d9"
   },
   "outputs": [
    {
     "data": {
      "text/plain": [
       "2"
      ]
     },
     "execution_count": 9,
     "metadata": {},
     "output_type": "execute_result"
    }
   ],
   "source": [
    "text.count(\"태종\")"
   ]
  },
  {
   "cell_type": "code",
   "execution_count": 10,
   "metadata": {
    "colab": {
     "base_uri": "https://localhost:8080/",
     "height": 72
    },
    "id": "Aw0chh9hprrP",
    "outputId": "0cba3add-7732-44a0-efe2-cb99339b8055"
   },
   "outputs": [
    {
     "data": {
      "text/plain": [
       "'세종(한국 한자: , 중세 한국어: , 1397년 5월 15일 (음력 4월 10일)[2] ~ 1450년 3월 30일 (음력 2월 17일))은 조선의 제4대 국왕(재위 : 1418년 9월 9일 ~ 1450년 3월 30일)으로, 태종과 원경왕후의 아들이다. 형인 양녕대군이 폐세자가 되자 세자에 책봉되었으며 태종의 양위를 받아 즉위하였다.[3]'"
      ]
     },
     "execution_count": 10,
     "metadata": {},
     "output_type": "execute_result"
    }
   ],
   "source": [
    "text = text.replace(\"世宗\", \"\").replace(\"·솅조ᇰ[1]\", \"\")\n",
    "text"
   ]
  },
  {
   "cell_type": "code",
   "execution_count": 11,
   "metadata": {
    "colab": {
     "base_uri": "https://localhost:8080/"
    },
    "id": "t1gM7HxVpwiy",
    "outputId": "ad021e1a-947a-4998-be4c-d6f26aa15012"
   },
   "outputs": [
    {
     "name": "stdout",
     "output_type": "stream",
     "text": [
      "['세종(한국', '한자:', ',', '중세', '한국어:', ',', '1397년', '5월', '15일', '(음력', '4월', '10일)[2]', '~', '1450년', '3월', '30일', '(음력', '2월', '17일))은', '조선의', '제4대', '국왕(재위', ':', '1418년', '9월', '9일', '~', '1450년', '3월', '30일)으로,', '태종과', '원경왕후의', '아들이다.', '형인', '양녕대군이', '폐세자가', '되자', '세자에', '책봉되었으며', '태종의', '양위를', '받아', '즉위하였다.[3]']\n"
     ]
    }
   ],
   "source": [
    "words = text.split(\" \")\n",
    "print(words)"
   ]
  },
  {
   "cell_type": "code",
   "execution_count": 12,
   "metadata": {
    "colab": {
     "base_uri": "https://localhost:8080/",
     "height": 72
    },
    "id": "KhzMnHdgp2p9",
    "outputId": "2c02f971-4019-4e4a-85e1-1ffa7bce99db"
   },
   "outputs": [
    {
     "data": {
      "text/plain": [
       "'세종(한국 한자: , 중세 한국어: , 1397년 5월 15일 (음력 4월 10일)[2] ~ 1450년 3월 30일 (음력 2월 17일))은 조선의 제4대 국왕(재위 : 1418년 9월 9일 ~ 1450년 3월 30일)으로, 태종과 원경왕후의 아들이다. 형인 양녕대군이 폐세자가 되자 세자에 책봉되었으며 태종의 양위를 받아 즉위하였다.[3]'"
      ]
     },
     "execution_count": 12,
     "metadata": {},
     "output_type": "execute_result"
    }
   ],
   "source": [
    "\" \".join(words)"
   ]
  },
  {
   "cell_type": "code",
   "execution_count": 13,
   "metadata": {
    "colab": {
     "base_uri": "https://localhost:8080/"
    },
    "id": "BxxvUeknqFf0",
    "outputId": "1debc773-b51d-4ad5-b51b-0b19f06cd03a"
   },
   "outputs": [
    {
     "name": "stdout",
     "output_type": "stream",
     "text": [
      "['0', '1', '2', '3', '4', '5', '6', '7', '8', '9']\n",
      "['2', '4']\n"
     ]
    }
   ],
   "source": [
    "# 리스트\n",
    "\n",
    "a = [str(i) for i in range(10)]\n",
    "print(a)\n",
    "print(a[2:5:2])"
   ]
  },
  {
   "cell_type": "code",
   "execution_count": 14,
   "metadata": {
    "colab": {
     "base_uri": "https://localhost:8080/"
    },
    "id": "PrD-13U3qcYN",
    "outputId": "017727c5-ad1b-48fb-a294-9b7f85515343"
   },
   "outputs": [
    {
     "data": {
      "text/plain": [
       "['0', '1', '2', '3', '4', '5', '6', '7', '8', '9', '10']"
      ]
     },
     "execution_count": 14,
     "metadata": {},
     "output_type": "execute_result"
    }
   ],
   "source": [
    "a.append(\"10\")\n",
    "a"
   ]
  },
  {
   "cell_type": "code",
   "execution_count": 15,
   "metadata": {
    "colab": {
     "base_uri": "https://localhost:8080/"
    },
    "id": "M1wCotDDrAQt",
    "outputId": "6a711fa8-7fee-4ce5-d443-2ab8c19de20a"
   },
   "outputs": [
    {
     "name": "stdout",
     "output_type": "stream",
     "text": [
      "[8, 2, 10, 3, 5, 3, 5, 8, 0, 6]\n",
      "정렬하기 : [0, 2, 3, 3, 5, 5, 6, 8, 8, 10]\n",
      "순서 뒤집기 : [10, 8, 8, 6, 5, 5, 3, 3, 2, 0]\n",
      "가운데 넣기 : [10, 8, 8, 37, 6, 5, 5, 3, 3, 2, 0]\n",
      "값 지우기 : [10, 8, 8, 6, 5, 5, 3, 3, 2, 0]\n",
      "마지막 값 반환하기 : 0\n",
      "마지막 데이터 추가하기 [10, 8, 8, 6, 5, 5, 3, 3, 2, 33, 44, 55]\n"
     ]
    }
   ],
   "source": [
    "import random\n",
    "\n",
    "a = [random.randint(0, 10) for _ in range(10)]\n",
    "\n",
    "print(a)\n",
    "\n",
    "a.sort()\n",
    "print(\"정렬하기 :\", a)\n",
    "a.reverse()\n",
    "print(\"순서 뒤집기 :\", a)\n",
    "a.insert(3, 37)\n",
    "print(\"가운데 넣기 :\", a)\n",
    "a.remove(37)\n",
    "print(\"값 지우기 :\", a)\n",
    "print(\"마지막 값 반환하기 :\", a.pop())\n",
    "a.extend([33, 44, 55])\n",
    "print(\"마지막 데이터 추가하기\", a)"
   ]
  },
  {
   "cell_type": "code",
   "execution_count": 16,
   "metadata": {
    "colab": {
     "base_uri": "https://localhost:8080/"
    },
    "id": "xPnMcIBHrCKO",
    "outputId": "533b9fc7-b0a4-4875-a884-c2a5799d7c59"
   },
   "outputs": [
    {
     "name": "stdout",
     "output_type": "stream",
     "text": [
      "<class 'tuple'> <class 'tuple'> <class 'tuple'>\n",
      "('Hello', 'World', 'Python')\n",
      "(1, 2, 3)\n",
      "(1, 'hi', 2)\n"
     ]
    }
   ],
   "source": [
    "a = (\"Hello\", \"World\", \"Python\")\n",
    "b = (1, 2, 3)\n",
    "c = 1, \"hi\", 2\n",
    "print(type(a), type(b), type(c))\n",
    "print(a)\n",
    "print(b)\n",
    "print(c)"
   ]
  },
  {
   "cell_type": "code",
   "execution_count": 19,
   "metadata": {
    "colab": {
     "base_uri": "https://localhost:8080/",
     "height": 221
    },
    "id": "n6dQo_dzsfcP",
    "outputId": "657252ef-8719-4b09-a5a9-69477243b687"
   },
   "outputs": [
    {
     "name": "stdout",
     "output_type": "stream",
     "text": [
      "[1, 2, 1]\n",
      "3\n"
     ]
    },
    {
     "ename": "TypeError",
     "evalue": "'tuple' object does not support item assignment",
     "output_type": "error",
     "traceback": [
      "\u001b[1;31m---------------------------------------------------------------------------\u001b[0m",
      "\u001b[1;31mTypeError\u001b[0m                                 Traceback (most recent call last)",
      "Cell \u001b[1;32mIn[19], line 7\u001b[0m\n\u001b[0;32m      5\u001b[0m tuple_a \u001b[38;5;241m=\u001b[39m (\u001b[38;5;241m1\u001b[39m, \u001b[38;5;241m2\u001b[39m, \u001b[38;5;241m3\u001b[39m)\n\u001b[0;32m      6\u001b[0m \u001b[38;5;28mprint\u001b[39m(tuple_a[\u001b[38;5;241m2\u001b[39m])\n\u001b[1;32m----> 7\u001b[0m tuple_a[\u001b[38;5;241m2\u001b[39m] \u001b[38;5;241m=\u001b[39m \u001b[38;5;241m1\u001b[39m\n",
      "\u001b[1;31mTypeError\u001b[0m: 'tuple' object does not support item assignment"
     ]
    }
   ],
   "source": [
    "list_a = [1, 2, 3]\n",
    "list_a[2] = 1\n",
    "print(list_a)\n",
    "\n",
    "tuple_a = (1, 2, 3)\n",
    "tuple_a[2] = 1\n",
    "print(tuple_a)"
   ]
  },
  {
   "cell_type": "code",
   "execution_count": 20,
   "metadata": {
    "colab": {
     "base_uri": "https://localhost:8080/"
    },
    "id": "j4SEWbE7skCm",
    "outputId": "6dc4f9d0-8be0-4ad4-c169-40ecdab75f1e"
   },
   "outputs": [
    {
     "name": "stdout",
     "output_type": "stream",
     "text": [
      "[1, 2, 3]\n",
      "[1, 2, 1]\n"
     ]
    }
   ],
   "source": [
    "tuple2list = list(tuple_a)\n",
    "print(tuple2list)\n",
    "tuple2list[2] = 1\n",
    "print(tuple2list)"
   ]
  },
  {
   "cell_type": "code",
   "execution_count": 21,
   "metadata": {
    "colab": {
     "base_uri": "https://localhost:8080/"
    },
    "id": "BhI3bBo6s3PD",
    "outputId": "3d4e57d3-4b6b-44cd-db63-4f7adce6ce86"
   },
   "outputs": [
    {
     "name": "stdout",
     "output_type": "stream",
     "text": [
      "<class 'dict'>\n",
      "{1: 'one', 'A': '가', '과목': ['수학', '영어']}\n"
     ]
    }
   ],
   "source": [
    "a = {1: 'one',\n",
    "     'A': '가',\n",
    "     '과목': ['수학', '영어']}\n",
    "\n",
    "print(type(a))\n",
    "print(a)"
   ]
  },
  {
   "cell_type": "code",
   "execution_count": 22,
   "metadata": {
    "colab": {
     "base_uri": "https://localhost:8080/"
    },
    "id": "lqGmYuUHtECt",
    "outputId": "c5f2629a-0ac2-44c6-f1b7-6cb9f0a49669"
   },
   "outputs": [
    {
     "name": "stdout",
     "output_type": "stream",
     "text": [
      "dict_keys([1, 'A', '과목'])\n",
      "dict_values(['one', '가', ['수학', '영어']])\n",
      "dict_items([(1, 'one'), ('A', '가'), ('과목', ['수학', '영어'])])\n",
      "dict_items([(1, 'one'), ('과목', ['수학', '영어'])])\n",
      "{}\n"
     ]
    }
   ],
   "source": [
    "print(a.keys())\n",
    "print(a.values())\n",
    "print(a.items())\n",
    "del a[\"A\"]\n",
    "print(a.items())\n",
    "a.clear()\n",
    "print(a)"
   ]
  },
  {
   "cell_type": "code",
   "execution_count": 23,
   "metadata": {
    "colab": {
     "base_uri": "https://localhost:8080/"
    },
    "id": "MTRPh3OdtMdo",
    "outputId": "fe380847-5be8-41e6-b582-15cc49c2db95"
   },
   "outputs": [
    {
     "name": "stdout",
     "output_type": "stream",
     "text": [
      "43\n",
      "39\n",
      "{'·솅조ᇰ[1],', '1418년', '세종(한국', '즉위하였다.[3]', ':', '3월', '양위를', '태종과', '30일)으로,', '태종의', '조선의', '9월', '30일', '원경왕후의', '15일', '9일', '17일))은', '1397년', '4월', '제4대', '아들이다.', '10일)[2]', '세자에', '한자:', '2월', '중세', '한국어:', '되자', '받아', '폐세자가', '책봉되었으며', '世宗,', '(음력', '~', '1450년', '형인', '국왕(재위', '양녕대군이', '5월'}\n"
     ]
    }
   ],
   "source": [
    "text = \"세종(한국 한자: 世宗, 중세 한국어: ·솅조ᇰ[1], \\\n",
    "1397년 5월 15일 (음력 4월 10일)[2] ~ 1450년 3월 30일 (음력 2월 17일))은 \\\n",
    "조선의 제4대 국왕(재위 : 1418년 9월 9일 ~ 1450년 3월 30일)으로, 태종과 원경왕후의 아들이다. \\\n",
    "형인 양녕대군이 폐세자가 되자 세자에 책봉되었으며 태종의 양위를 받아 즉위하였다.[3]\"\n",
    "\n",
    "word_list = text.split()\n",
    "print(len(word_list))\n",
    "# 중복 제거\n",
    "word_list = set(word_list)\n",
    "print(len(word_list))\n",
    "print(word_list)"
   ]
  },
  {
   "cell_type": "code",
   "execution_count": null,
   "metadata": {
    "colab": {
     "base_uri": "https://localhost:8080/"
    },
    "id": "uuJdbjMrtgbY",
    "outputId": "cba9c681-b3e3-406c-d0ee-b7f33c70e3fb"
   },
   "outputs": [],
   "source": [
    "s1 = {1, 2, 3, 4}\n",
    "s2 = {3, 4, 5, 6}\n",
    "print(s1 & s2)\n",
    "print(s1.intersection(s2))"
   ]
  },
  {
   "cell_type": "code",
   "execution_count": null,
   "metadata": {
    "colab": {
     "base_uri": "https://localhost:8080/"
    },
    "id": "Hkqmx7yztubw",
    "outputId": "ff51e1d4-1c06-4680-91da-8d355f905f7d"
   },
   "outputs": [],
   "source": [
    "s1 = {1, 2, 3, 4}\n",
    "s2 = {3, 4, 5, 6}\n",
    "print(s1 | s2)\n",
    "print(s1.union(s2))"
   ]
  },
  {
   "cell_type": "code",
   "execution_count": null,
   "metadata": {
    "colab": {
     "base_uri": "https://localhost:8080/"
    },
    "id": "6DLNiTyStypR",
    "outputId": "cab60725-ad69-4b69-bb6a-1082ddb3f21e"
   },
   "outputs": [],
   "source": [
    "s1 = {1, 2, 3, 4}\n",
    "s2 = {3, 4, 5, 6}\n",
    "print(s1 - s2)\n",
    "print(s1.difference(s2))"
   ]
  },
  {
   "cell_type": "markdown",
   "metadata": {
    "id": "om2qbAm3x3R1"
   },
   "source": [
    "### 실습1"
   ]
  },
  {
   "cell_type": "code",
   "execution_count": null,
   "metadata": {
    "id": "1lxHrI0bt1xj"
   },
   "outputs": [],
   "source": [
    "# 실습1\n",
    "\n",
    "i = input()\n",
    "# 형변환\n",
    "i = None\n",
    "\n",
    "f = input()\n",
    "# 형변환\n",
    "f = None\n",
    "\n",
    "print(i + f)"
   ]
  },
  {
   "cell_type": "markdown",
   "metadata": {
    "id": "rkp-gjW6x7Iv"
   },
   "source": [
    "### 퀴즈2"
   ]
  },
  {
   "cell_type": "code",
   "execution_count": null,
   "metadata": {
    "id": "ZKOR7uY6whFW"
   },
   "outputs": [],
   "source": [
    "# 퀴즈2\n",
    "\n",
    "height = 172\n",
    "\n",
    "if height __ 160:\n",
    "    print(\"키가 너무 작습니다.\")\n",
    "elif height __ 190:\n",
    "    print(\"키가 너무 큽니다.\")\n",
    "else:\n",
    "    print(\"탑승 가능합니다.\")"
   ]
  },
  {
   "cell_type": "markdown",
   "metadata": {
    "id": "I4v-DjD5x9pW"
   },
   "source": [
    "## 조건문"
   ]
  },
  {
   "cell_type": "code",
   "execution_count": null,
   "metadata": {
    "colab": {
     "base_uri": "https://localhost:8080/"
    },
    "id": "Clj0jpX3t83-",
    "outputId": "77e294b3-d5ee-4dec-9981-a5384b4b03ea"
   },
   "outputs": [],
   "source": [
    "# 조건문\n",
    "\n",
    "chatting = [\"안녕\", \"반가워\", \"너 바보야?\"]\n",
    "bad_word = \"바보\"\n",
    "\n",
    "for chat in chatting:\n",
    "    if bad_word in chat:\n",
    "        print(\"검열되었습니다.\")\n",
    "    else:\n",
    "        print(chat)"
   ]
  },
  {
   "cell_type": "markdown",
   "metadata": {
    "id": "CV9XBBcDxVQm"
   },
   "source": [
    "### 실습2\n",
    "\n",
    "사용자로부터 숫자(N)이 문자열의 형식으로 입력됩니다.\n",
    "\n",
    "1≤N\n",
    "\n",
    "이 숫자가 홀수인지 짝수인지에 따라 아래의 문자열을 출력합니다.\n",
    "\n",
    "홀수일 때: \"홀수입니다.\"\n",
    "짝수일 때: \"짝수입니다.\""
   ]
  },
  {
   "cell_type": "code",
   "execution_count": null,
   "metadata": {
    "id": "qh1fPOohxp1K"
   },
   "outputs": [],
   "source": [
    "# 실습 2"
   ]
  },
  {
   "cell_type": "markdown",
   "metadata": {
    "id": "BjR6VuekxsZd"
   },
   "source": [
    "## 반복문"
   ]
  },
  {
   "cell_type": "code",
   "execution_count": null,
   "metadata": {
    "colab": {
     "base_uri": "https://localhost:8080/"
    },
    "id": "rfNBunUxu5k5",
    "outputId": "0d7bb46c-8baa-4358-aae8-427253e6fc29"
   },
   "outputs": [],
   "source": [
    "# 반복문\n",
    "\n",
    "a = [1, 2, 3, 4, 5]\n",
    "for i in a:\n",
    "    print(i)\n",
    "\n",
    "dic = {'수학': 90, '영어': 100}\n",
    "for i, j in dic.items():\n",
    "    print(\"과목:\", i, \"/ 점수:\", j)"
   ]
  },
  {
   "cell_type": "code",
   "execution_count": null,
   "metadata": {
    "colab": {
     "base_uri": "https://localhost:8080/"
    },
    "id": "X2dYUS1_vD5Z",
    "outputId": "36163492-1d14-42d8-c312-0a2d43d16834"
   },
   "outputs": [],
   "source": [
    "list_a = [\"A\", \"B\", \"C\"]\n",
    "\n",
    "for idx, value in enumerate(list_a):\n",
    "    print(idx, value)"
   ]
  },
  {
   "cell_type": "code",
   "execution_count": null,
   "metadata": {
    "colab": {
     "base_uri": "https://localhost:8080/"
    },
    "id": "26Gd21acvOxk",
    "outputId": "b4bb344d-f924-4d40-f24e-436d157f962b"
   },
   "outputs": [],
   "source": [
    "star_cnt = 1\n",
    "\n",
    "for i in range(5):\n",
    "    for _ in range(star_cnt):\n",
    "        print(\"*\", end=\"\")\n",
    "    star_cnt += 1\n",
    "    print(\"\\n\")"
   ]
  },
  {
   "cell_type": "markdown",
   "metadata": {
    "id": "qhEdYghEyJKG"
   },
   "source": [
    "### 퀴즈3\n",
    "\n",
    "아래 코드를 실행했을 때 출력되는 별(*)의 개수는?"
   ]
  },
  {
   "cell_type": "markdown",
   "metadata": {
    "id": "ucCFBk1NyT0b"
   },
   "source": [
    "```\n",
    "for i in range(2, 7):\n",
    "    print(\"*\")\n",
    "    for j in range(4, 11, 2):\n",
    "        print(\"*\")\n",
    "```"
   ]
  },
  {
   "cell_type": "code",
   "execution_count": null,
   "metadata": {
    "id": "5lncf900xkNl"
   },
   "outputs": [],
   "source": [
    "# for i in range(2, 7):\n",
    "#     print(\"*\")\n",
    "#     for j in range(4, 11, 2):\n",
    "#         print(\"*\")"
   ]
  },
  {
   "cell_type": "markdown",
   "metadata": {
    "id": "OzB5JpjRyfDp"
   },
   "source": [
    "### 실습3 - 채점 프로그램\n",
    "\n",
    "학생이 제출한 총 10문제의 답안이 공백을 구분으로 입력됩니다.\n",
    "\n",
    "답안은 1이상 5이하의 정수입니다.\n",
    "주어진 문제의 정답 ANSWER와 학생이 입력한 답안을 순서대로 비교하여 일치하는지 비교하여 채점합니다.\n",
    "\n",
    "학생이 맞춘 정답의 수를 다음과 같은 형식으로 출력합니다.\n",
    "\n",
    "```점수: 4```"
   ]
  },
  {
   "cell_type": "code",
   "execution_count": null,
   "metadata": {
    "id": "cGc89rctyn9U"
   },
   "outputs": [],
   "source": [
    "# 정답 (변경 금지)\n",
    "ANSWER = [3, 1, 3, 5, 5, 1, 2, 2, 4, 4]\n",
    "\n",
    "# 학생이 제출한 답안\n",
    "student = None\n",
    "\n",
    "# 점수\n",
    "score = 0\n",
    "\n",
    "# 지시사항을 보고 코드를 작성하세요.\n",
    "None\n",
    "\n",
    "# 출력\n",
    "print(\"점수:\", score)"
   ]
  },
  {
   "cell_type": "markdown",
   "metadata": {
    "id": "1LYCO23vyXm9"
   },
   "source": [
    "## 파이썬 제어문"
   ]
  },
  {
   "cell_type": "code",
   "execution_count": null,
   "metadata": {
    "colab": {
     "base_uri": "https://localhost:8080/"
    },
    "id": "otEOnfH3yYlY",
    "outputId": "a7bb97c9-8fbf-424e-ac6a-bcb6c1b54131"
   },
   "outputs": [],
   "source": [
    "# break\n",
    "\n",
    "# 조건문\n",
    "\n",
    "chatting = [\"안녕\", \"반가워\", \"너 바보야?\", \"할 수 있어!\", \"힘 내!\"]\n",
    "bad_word = \"바보\"\n",
    "\n",
    "for chat in chatting:\n",
    "    if bad_word in chat:\n",
    "        print(\"검열되었습니다.\")\n",
    "        break\n",
    "    print(chat)"
   ]
  },
  {
   "cell_type": "code",
   "execution_count": null,
   "metadata": {
    "colab": {
     "base_uri": "https://localhost:8080/"
    },
    "id": "vCpJJtbWzEtM",
    "outputId": "fdc41d95-5522-458f-8e55-b6f9c65a31e8"
   },
   "outputs": [],
   "source": [
    "a = 3\n",
    "while True:\n",
    "    a -= 1\n",
    "    if a == 0:\n",
    "        break\n",
    "    print(a)"
   ]
  },
  {
   "cell_type": "code",
   "execution_count": null,
   "metadata": {
    "colab": {
     "base_uri": "https://localhost:8080/"
    },
    "id": "EDzeSxF7y40s",
    "outputId": "57d6f09e-01b9-4283-f525-f923a6edaaf9"
   },
   "outputs": [],
   "source": [
    "end_word = \"끝\"\n",
    "\n",
    "while True:\n",
    "    chat = input()\n",
    "    if end_word in chat:\n",
    "        break"
   ]
  },
  {
   "cell_type": "markdown",
   "metadata": {
    "id": "0tudE4aezVm-"
   },
   "source": [
    "### 퀴즈4\n",
    "\n",
    "다음 코드를 실행했을 때, 출력되는 결과는?\n",
    "\n",
    "```\n",
    "count = 1\n",
    "a = 1\n",
    "while True:\n",
    "    if a > 10:\n",
    "        break\n",
    "    a = a * 3 - 1\n",
    "    count += 1\n",
    "    \n",
    "print(count)\n",
    "```"
   ]
  },
  {
   "cell_type": "markdown",
   "metadata": {
    "id": "RGsVPERvzifM"
   },
   "source": [
    "### 실습4\n",
    "\n",
    "1. 사용자는 여러 개의 정수를 한줄씩 입력합니다.\n",
    "\n",
    "    * 숫자의 갯수는 100개 이하입니다.\n",
    "\n",
    "2. 만약 입력받은 숫자가 -1이 아니라면 sum에 방금 입력받은 숫자를 더합니다.\n",
    "\n",
    "3. 만약 입력받은 숫자가 -1이라면 지금까지 더한 sum을 출력합니다.\n",
    "\n",
    "    * -1은 sum에 더하지 않고 출력합니다.\n",
    "\n",
    "<입출력 예시>\n",
    "\n",
    "입력 :\n",
    "```\n",
    "1\n",
    "2\n",
    "3\n",
    "-1\n",
    "```\n",
    "출력 :\n",
    "```\n",
    "6\n",
    "```\n",
    "\n",
    "입력 :\n",
    "```\n",
    "1\n",
    "2\n",
    "3\n",
    "4\n",
    "5\n",
    "100\n",
    "-1\n",
    "```\n",
    "출력 :\n",
    "```\n",
    "115\n",
    "```"
   ]
  },
  {
   "cell_type": "code",
   "execution_count": null,
   "metadata": {
    "id": "-7JCIBfezQ4f"
   },
   "outputs": [],
   "source": [
    "# 숫자의 합\n",
    "sum = 0\n",
    "\n",
    "while True:\n",
    "    # 입력받은 숫자\n",
    "    n = None\n",
    "\n",
    "    # 숫자가 -1이라면 탈출\n",
    "    None\n",
    "\n",
    "    # 아니라면 합계에 n을 더함\n",
    "    None\n",
    "\n",
    "# 합계 출력\n",
    "print(sum)\n"
   ]
  },
  {
   "cell_type": "markdown",
   "metadata": {
    "id": "CLfdATwx0IAg"
   },
   "source": [
    "## 파이썬 함수"
   ]
  },
  {
   "cell_type": "code",
   "execution_count": null,
   "metadata": {
    "colab": {
     "base_uri": "https://localhost:8080/"
    },
    "id": "2Xwlk5DF0FH6",
    "outputId": "2423412c-1ffc-4fbc-dd93-1dbe9c2579fb"
   },
   "outputs": [],
   "source": [
    "def no_return():\n",
    "    a = 'hi'\n",
    "\n",
    "def do_return():\n",
    "    return 'hi'\n",
    "\n",
    "re = no_return()\n",
    "print(re)\n",
    "\n",
    "re = do_return()\n",
    "print(re)"
   ]
  },
  {
   "cell_type": "code",
   "execution_count": null,
   "metadata": {
    "colab": {
     "base_uri": "https://localhost:8080/"
    },
    "id": "tLpyWLHK0cpc",
    "outputId": "b5b22a27-6707-44c5-8e7f-f34384f5529f"
   },
   "outputs": [],
   "source": [
    "# global_var = 100\n",
    "\n",
    "def print_global():\n",
    "    global_var = 50\n",
    "    print(global_var)\n",
    "\n",
    "print_global()\n",
    "print(global_var)"
   ]
  },
  {
   "cell_type": "markdown",
   "metadata": {
    "id": "eeuklKPM0z0-"
   },
   "source": [
    "가장 좋은건 애초에 함수 안과 밖의 변수를 최대한 분리해 놓는 것!"
   ]
  },
  {
   "cell_type": "markdown",
   "metadata": {
    "id": "ZbyGLkxb06NO"
   },
   "source": [
    "### 퀴즈5"
   ]
  },
  {
   "cell_type": "code",
   "execution_count": null,
   "metadata": {
    "id": "xM__643v0rlv"
   },
   "outputs": [],
   "source": [
    "# a = 10\n",
    "# def my_func(a):\n",
    "#     b = 100\n",
    "#     b += a\n",
    "#     print(b)\n",
    "#     return b\n",
    "\n",
    "# a += my_func(20)"
   ]
  },
  {
   "cell_type": "markdown",
   "metadata": {
    "id": "tWhmijNc1FAr"
   },
   "source": [
    "### 실습5\n",
    "\n",
    "입력받은 문자열을 정수로 변환하고 1을 더해 출력하는 프로그램을 완성합니다.\n",
    "\n",
    "[지시사항]\n",
    "1. plus_one(value): 정수로 변환하고 1을 더하기\n",
    "    * value에 정수값이 문자열의 형태로 주어질 때 이를 정수로 변환하고 1을 더하여 반환합니다.\n",
    "    * 예를 들어 plus_one(\"100\")은 101을 반환합니다."
   ]
  },
  {
   "cell_type": "code",
   "execution_count": null,
   "metadata": {
    "id": "i6DFPCYK1GGJ"
   },
   "outputs": [],
   "source": [
    "def plus_one(value):\n",
    "    # 정수로 변환\n",
    "    value = None\n",
    "\n",
    "    # 1을 더함\n",
    "    value = None\n",
    "    return value\n",
    "\n",
    "\n",
    "def main():\n",
    "    # 입력받기 (문자열)\n",
    "    value = input()\n",
    "\n",
    "    # 입력받은 숫자에 1 더하기\n",
    "    result = plus_one(value)\n",
    "\n",
    "    print(result)\n",
    "\n",
    "\n",
    "if __name__ == \"__main__\":\n",
    "    main()"
   ]
  },
  {
   "cell_type": "markdown",
   "metadata": {
    "id": "2oiUyT0B2WKb"
   },
   "source": [
    "### 미션1 - 강의 만족도 분석\n",
    "\n",
    "강의 만족도에 대한 데이터가 정수로 주어질 때, 이 데이터에 대한 최댓값, 최솟값, 최빈값을 각각 출력하는 프로그램을 작성하세요.\n",
    "\n",
    "### 입력\n",
    "* 첫째 줄에 강의에 만족도를 남긴 수강생의 수(N)가 입력됩니다.\n",
    "\n",
    "        1≤N≤100\n",
    "\n",
    "* 둘째 줄에 N명이 남긴 강의 만족도에 대한 데이터가 공백을 구분으로 입력됩니다.\n",
    "\n",
    "* 강의 만족도는 1이상 10이하의 정수입니다.\n",
    "\n",
    "### 출력\n",
    "* 첫째 줄에 강의 만족도에 대한 최댓값, 최솟값, 최빈값을 순서대로 출력합니다.\n",
    "* 최빈값이 여러 개인 경우, 그중 가장 큰 숫자를 출력합니다."
   ]
  },
  {
   "cell_type": "markdown",
   "metadata": {
    "id": "M0JJR5BC205K"
   },
   "source": [
    "1. scores_to_dict(scores): {숫자:등장횟수} 형식의 딕셔너리로 변환\n",
    "\n",
    "  * 문자열들의 리스트인 scores의 값을 {숫자:등장횟수}의 형식의 딕셔너리로 변환하고 반환하는 함수를 정의하세요.\n",
    "  * 숫자와 등장횟수는 모두 정수형입니다.\n",
    "  * 예를 들어 scores에 [\"1\", \"3\", \"5\"]를 전달받으면 {1: 1, 3: 1, 5: 1}을 반환합니다.\n",
    "2. get_min_max(data): 최솟값, 최댓값을 찾아 반환\n",
    "\n",
    "  * data의 값이 가장 작은 키와 가장 큰 키를 반환합니다.\n",
    "  * data는 {숫자:등장횟수} 의 형태로 구성된 딕셔너리입니다.\n",
    "  * 반드시 최소, 최대 순으로 반환해야 합니다.\n",
    "  * 예를 들어 data에 {1: 1, 3: 1, 5: 1}을 전달받으면 (1, 5)를 반환합니다.\n",
    "3. get_max_count_value(data): 최빈값을 계산\n",
    "\n",
    "  * data는 scores_to_dict()함수를 통해 구한 딕셔너리 입니다.\n",
    "  * 가장 많이 등장한 숫자를 반환합니다.\n",
    "  * 최빈값이 두개 이상일 경우 가장 큰 수를 반환합니다.\n",
    "  * 예를 들어 {1: 1, 3: 1, 5: 1}를 전달받으면 5를 반환합니다.\n",
    "\n",
    "  <입출력 예시 1>\n",
    "\n",
    "  [입력]\n",
    "  ```\n",
    "  10\n",
    "1 2 3 4 5 10 9 8 7 6\n",
    "```\n",
    "[출력]\n",
    "```\n",
    "10 1 10\n",
    "```\n",
    "  <입출력 예시 2>\n",
    "\n",
    "  [입력]\n",
    "  ```\n",
    "7\n",
    "9 7 2 2 7 5 8\n",
    "```\n",
    "[출력]\n",
    "```\n",
    "9 2 7\n",
    "```\n"
   ]
  },
  {
   "cell_type": "code",
   "execution_count": null,
   "metadata": {
    "id": "liM3fwoZ2ySi"
   },
   "outputs": [],
   "source": [
    "def scores_to_dict(scores):\n",
    "    # {숫자:등장횟수}\n",
    "    data = {}\n",
    "\n",
    "    # data에 입력받은 숫자들을 저장\n",
    "    None\n",
    "\n",
    "    return data\n",
    "\n",
    "\n",
    "def get_min_max(data):\n",
    "    # 최솟값, 최댓값\n",
    "\n",
    "    min_value = None\n",
    "    max_value = None\n",
    "\n",
    "    return min_value, max_value\n",
    "\n",
    "\n",
    "def get_max_count_value(data):\n",
    "    # 가장 많이 나온 숫자의 횟수\n",
    "    max_count = max(data.values())\n",
    "\n",
    "    # 가장 많이 나온 숫자 (최빈값)\n",
    "    max_count_num = None\n",
    "\n",
    "    None\n",
    "\n",
    "    return max_count_num\n",
    "\n",
    "\n",
    "def main():\n",
    "    # N 입력\n",
    "    N = int(input())\n",
    "\n",
    "    scores = input().split(\" \")\n",
    "\n",
    "    # {숫자:등장횟수} 형식의 딕셔너리로 변환\n",
    "    data = scores_to_dict(scores)\n",
    "\n",
    "    # 최소, 최대 구하기\n",
    "    min_value, max_value = get_min_max(data)\n",
    "\n",
    "    # 가장 많이 나온 숫자 (최빈값)\n",
    "    max_count_num = get_max_count_value(data)\n",
    "\n",
    "    # 출력\n",
    "    print(max_value, min_value, max_count_num)\n",
    "\n",
    "if __name__ == \"__main__\":\n",
    "    main()"
   ]
  },
  {
   "cell_type": "markdown",
   "metadata": {
    "id": "XG46J3bH3_9i"
   },
   "source": [
    "## Numpy 행렬"
   ]
  },
  {
   "cell_type": "code",
   "execution_count": null,
   "metadata": {
    "id": "nfbZghc24A2C"
   },
   "outputs": [],
   "source": [
    "import numpy as np"
   ]
  },
  {
   "cell_type": "code",
   "execution_count": null,
   "metadata": {
    "colab": {
     "base_uri": "https://localhost:8080/"
    },
    "id": "BKV7gCkX4Cfy",
    "outputId": "ca55fbf0-8669-4e4c-f529-d1ac9035f357"
   },
   "outputs": [],
   "source": [
    "arr = np.array([1, 2, 3])\n",
    "arr2 = np.array(range(5))\n",
    "print(type(arr))\n",
    "print(type(arr2))\n",
    "print(arr)\n",
    "print(arr2)"
   ]
  },
  {
   "cell_type": "code",
   "execution_count": null,
   "metadata": {
    "colab": {
     "base_uri": "https://localhost:8080/"
    },
    "id": "LXW9Xxrh4cH8",
    "outputId": "646875af-041d-4d0a-c3c7-8532d804e390"
   },
   "outputs": [],
   "source": [
    "arr = np.array([[[1, 2, 3], [4, 5, 6]],\n",
    "                [[7, 8, 9], [10, 11, 12]],\n",
    "                [[13, 14, 15], [16, 17, 18]],\n",
    "                [[19, 20, 21], [22, 23, 24]]])\n",
    "print(arr.ndim)\n",
    "print(arr.shape)"
   ]
  },
  {
   "cell_type": "code",
   "execution_count": null,
   "metadata": {
    "colab": {
     "base_uri": "https://localhost:8080/"
    },
    "id": "JP9NfLBW5EwK",
    "outputId": "bf495e8d-1022-423c-87aa-b72eabb288ad"
   },
   "outputs": [],
   "source": [
    "arr = np.array(range(10))\n",
    "print(arr)\n",
    "\n",
    "arr = np.arange(10)\n",
    "print(arr)"
   ]
  },
  {
   "cell_type": "code",
   "execution_count": null,
   "metadata": {
    "colab": {
     "base_uri": "https://localhost:8080/"
    },
    "id": "eu7rvbun5Jaq",
    "outputId": "940598f1-e411-4146-d0b8-42288a6d57a8"
   },
   "outputs": [],
   "source": [
    "arr = arr.reshape(2, 5) # dimension이 나누어 떨어져야 한다.\n",
    "print(arr)\n",
    "print(arr.shape)\n",
    "\n",
    "arr = arr.reshape(2, 5, 1)\n",
    "print(arr)\n",
    "print(arr.shape)"
   ]
  },
  {
   "cell_type": "code",
   "execution_count": null,
   "metadata": {
    "colab": {
     "base_uri": "https://localhost:8080/"
    },
    "id": "VC55Wv4c5bTa",
    "outputId": "e788a85a-6276-4cb6-c529-6d51e3f5ed12"
   },
   "outputs": [],
   "source": [
    "zeros = np.zeros((2, 3, 2), dtype=int)\n",
    "print(zeros)\n",
    "\n",
    "ones = np.ones((4, 3), dtype=int)\n",
    "print(ones)"
   ]
  },
  {
   "cell_type": "code",
   "execution_count": null,
   "metadata": {
    "colab": {
     "base_uri": "https://localhost:8080/"
    },
    "id": "hkxuKcDz5ha4",
    "outputId": "bbfdd5ac-f260-4ba8-f6a4-c48bd7421ba6"
   },
   "outputs": [],
   "source": [
    "# 5이상 10미만의 (2,3) 크기의 랜덤 정수 행렬 생성\n",
    "r = np.random.randint(5, 10, size=(2, 3))\n",
    "print(r)\n",
    "\n",
    "# 0 이상 5 미만의 (4, 3) 크기의 랜덤 정수 행렬 생성\n",
    "r = np.random.randint(5, size=(4, 3))\n",
    "print(r)\n",
    "\n",
    "# 0~1 사이의 값을 갖는 (2, 4) 크기로 행렬 생성\n",
    "r = np.random.rand(2, 4)\n",
    "print(r)"
   ]
  },
  {
   "cell_type": "code",
   "execution_count": null,
   "metadata": {
    "colab": {
     "base_uri": "https://localhost:8080/"
    },
    "id": "-A0tM5EA6XNE",
    "outputId": "1d0bf1e8-6a35-4036-ce02-f97a8472f64e"
   },
   "outputs": [],
   "source": [
    "arr = np.array(\n",
    "    [[[1, 2, 3], [4, 5, 6]],\n",
    "     [[7, 8, 9], [10, 11, 12]]]\n",
    ")\n",
    "print(arr.shape)\n",
    "\n",
    "print(arr[1])\n",
    "print(arr[0][1])\n",
    "# numpy는 쉼표로도 인덱싱 가능!\n",
    "print(arr[1,0,2])"
   ]
  },
  {
   "cell_type": "code",
   "execution_count": null,
   "metadata": {
    "colab": {
     "base_uri": "https://localhost:8080/"
    },
    "id": "4zV4Is8u7U79",
    "outputId": "b18b812c-0cc4-4db6-9a3d-609b6728f549"
   },
   "outputs": [],
   "source": [
    "arr = np.array(\n",
    "    [[[1, 2, 3], [4, 5, 6]],\n",
    "     [[7, 8, 9], [10, 11, 12]]]\n",
    ")\n",
    "print(arr[1:, :, 1:])"
   ]
  },
  {
   "cell_type": "markdown",
   "metadata": {
    "id": "RIIqM7KY7l2m"
   },
   "source": [
    "### 퀴즈6\n",
    "\n",
    "아래 코드를 실행했을 때 출력되는 내용을 고르세요.\n",
    "\n",
    "```\n",
    "import numpy as np\n",
    "\n",
    "ar1 = np.array([[1, 2, 3, 4], [5, 6, 7, 8]])\n",
    "\n",
    "print(ar1.ndim, ar1.shape)\n",
    "```"
   ]
  },
  {
   "cell_type": "code",
   "execution_count": null,
   "metadata": {
    "id": "Qi8xOOww7xeh"
   },
   "outputs": [],
   "source": [
    "# import numpy as np\n",
    "\n",
    "# ar1 = np.array([[1, 2, 3, 4], [5, 6, 7, 8]])\n",
    "\n",
    "# print(ar1.ndim, ar1.shape)"
   ]
  },
  {
   "cell_type": "markdown",
   "metadata": {
    "id": "GYM3SZEL7vm9"
   },
   "source": [
    "### 실습 6\n",
    "\n",
    "1. make_array() -> np.ndarray: 1부터 200까지의 행렬 생성하기\n",
    "\n",
    "  * 1부터 200까지의 정수로 구성된 1차원 행렬을 생성하여 반환합니다.\n",
    "  * 생성된 행렬의 형태는 (200,)입니다.\n",
    "\n",
    "2. reshape_array(ar: np.ndarray) -> np.ndarray: 행렬의 모양을 (25, 8)로 변형하기\n",
    "\n",
    "  * 매개변수로 전달받은 행렬 ar을 (25, 8)의 형태로 변형하고 반환합니다.\n",
    "  * 변형된 행렬의 형태는 (25, 8)이 됩니다."
   ]
  },
  {
   "cell_type": "code",
   "execution_count": null,
   "metadata": {
    "id": "nLd_hBSE7dbj"
   },
   "outputs": [],
   "source": [
    "import numpy as np\n",
    "\n",
    "\n",
    "def make_array() -> np.ndarray:\n",
    "    \"\"\"1부터 200까지의 정수를 담은 numpy array를 생성하고 반환합니다.\"\"\"\n",
    "    array = None\n",
    "    return array\n",
    "\n",
    "\n",
    "def reshape_array(ar: np.ndarray) -> np.ndarray:\n",
    "    \"\"\"행렬의 모양을 (25, 8)로 변형하여 반환합니다.\"\"\"\n",
    "    array = None\n",
    "    return array\n",
    "\n",
    "\n",
    "def main():\n",
    "    # 1. 1부터 200까지의 행렬 생성\n",
    "    ar = make_array()\n",
    "    print(ar.shape)\n",
    "\n",
    "    # 2. 행렬을 (25, 8)의 크기로 변형\n",
    "    ar = reshape_array(ar)\n",
    "    print(ar.shape)\n",
    "\n",
    "\n",
    "if __name__ == \"__main__\":\n",
    "    main()"
   ]
  },
  {
   "cell_type": "markdown",
   "metadata": {
    "id": "l7slB8BK8AKj"
   },
   "source": [
    "## 8. Numpy 연산"
   ]
  },
  {
   "cell_type": "code",
   "execution_count": null,
   "metadata": {
    "colab": {
     "base_uri": "https://localhost:8080/"
    },
    "id": "g8cjDUBO8BU9",
    "outputId": "5f1e99b3-5030-479a-ba1e-9045e4f3b1bd"
   },
   "outputs": [],
   "source": [
    "import numpy as np\n",
    "\n",
    "na = np.array([1, 2, 3])\n",
    "na2 = np.array([4, 5, 6])\n",
    "print(na == 2)\n",
    "print(na > 4)"
   ]
  },
  {
   "cell_type": "code",
   "execution_count": null,
   "metadata": {
    "colab": {
     "base_uri": "https://localhost:8080/"
    },
    "id": "eNxcyHUF8hO3",
    "outputId": "d60c6b0a-081b-44fe-c890-38b1be2a3c9b"
   },
   "outputs": [],
   "source": [
    "na = np.arange(10)\n",
    "na2 = np.arange(10, 20)\n",
    "print(na[na>5])\n",
    "print(na2[na2%2==0])"
   ]
  },
  {
   "cell_type": "code",
   "execution_count": null,
   "metadata": {
    "colab": {
     "base_uri": "https://localhost:8080/"
    },
    "id": "UcCSQuKM84SR",
    "outputId": "f8f7de1c-356c-4cc8-f90a-f3c15b33bb32"
   },
   "outputs": [],
   "source": [
    "na = np.random.randint(1, 10, size=(5))\n",
    "\n",
    "print(na)\n",
    "print(\"최솟값 :\", na.min())\n",
    "print(\"최댓값 :\", na.max())\n",
    "print(\"최솟값 인덱스 :\", na.argmin())\n",
    "print(\"최댓값 인덱스 :\", na.argmax())"
   ]
  },
  {
   "cell_type": "code",
   "execution_count": null,
   "metadata": {
    "colab": {
     "base_uri": "https://localhost:8080/"
    },
    "id": "oJkR8VRh9bVW",
    "outputId": "aea72eea-8522-4e8e-e965-8807766d829a"
   },
   "outputs": [],
   "source": [
    "na = np.random.randint(10, size=(2, 3))\n",
    "\n",
    "print(na)\n",
    "print(\"all:\", np.sum(na))\n",
    "# axis는 헷갈려도 print() 해보고 고치면 됩니다!\n",
    "print(\"axis 0:\", np.sum(na, axis=0))\n",
    "print(\"axis 1:\", np.sum(na, axis=1))"
   ]
  },
  {
   "cell_type": "code",
   "execution_count": null,
   "metadata": {
    "colab": {
     "base_uri": "https://localhost:8080/"
    },
    "id": "gQ5plLN29i6o",
    "outputId": "a0149bfb-11bf-4235-b846-f7a49ddd05d2"
   },
   "outputs": [],
   "source": [
    "import numpy as np\n",
    "\n",
    "na = np.arange(-5, 6)\n",
    "\n",
    "print(na)\n",
    "print(\"평균 :\", np.mean(na))\n",
    "print(\"중간값 :\", np.median(na))\n",
    "print(\"분산 :\", np.var(na))\n",
    "print(\"표준편차 :\", np.std(na))"
   ]
  },
  {
   "cell_type": "code",
   "execution_count": null,
   "metadata": {
    "colab": {
     "base_uri": "https://localhost:8080/"
    },
    "id": "jEc3A96K-SEG",
    "outputId": "ed2b361c-107d-4cdf-88aa-8bba16db40e1"
   },
   "outputs": [],
   "source": [
    "na1 = np.array([1, 2, 3])\n",
    "na2 = np.array([1, 2, 3])\n",
    "na3 = np.array([1, 0, 3])\n",
    "\n",
    "print(np.all(na1==na2))\n",
    "print(np.all(na1==na3))\n",
    "print(np.any(na1==na2))\n",
    "print(np.any(na1==na3))"
   ]
  },
  {
   "cell_type": "markdown",
   "metadata": {
    "id": "sXhsdDUY-2S9"
   },
   "source": [
    "### 실습7\n",
    "\n",
    "1. filter_3(array: np.ndarray) -> np.ndarray: 3의 배수만 골라내기\n",
    "\n",
    "  * 매개변수로 전달된 numpy 행렬 array에서 3의 배수만 골라서 새로운 1차원 행렬 ar을 생성합니다.\n",
    "  * ar을 반환합니다.\n",
    "\n",
    "2. get_stat(array: np.ndarray): 행렬의 평균과 분산 구하기\n",
    "\n",
    "  * 매개변수로 전달된 numpy 행렬 array의 평균을 구해 mean에 저장합니다.\n",
    "  * 분산을 구해 var에 저장합니다.\n",
    "  * mean, var을 반환합니다."
   ]
  },
  {
   "cell_type": "code",
   "execution_count": null,
   "metadata": {
    "id": "9Z5pq4bp_AUm"
   },
   "outputs": [],
   "source": [
    "import numpy as np\n",
    "\n",
    "\n",
    "def filter_3(array: np.ndarray) -> np.ndarray:\n",
    "    \"array에서 3의 배수에 해당하는 값만 골라낸 행렬을 구하여 반환합니다.\"\n",
    "    ar = None\n",
    "    return ar\n",
    "\n",
    "\n",
    "def get_stat(array: np.ndarray):\n",
    "    \"array의 평균과 분산을 구하여 반환합니다.\"\n",
    "    mean = None\n",
    "    var = None\n",
    "\n",
    "    return mean, var\n",
    "\n",
    "\n",
    "def main():\n",
    "    # 입력 데이터(채점시엔 다른 데이터 사용)\n",
    "    ar = np.arange(1, 67)\n",
    "\n",
    "    # 1. 3의 배수만 골라내기\n",
    "    ar = filter_3(ar)\n",
    "    print(ar)\n",
    "\n",
    "    # 2. 평균과 분산 구하기\n",
    "    mean, var = get_stat(ar)\n",
    "    print(mean, var)\n",
    "\n",
    "\n",
    "if __name__ == \"__main__\":\n",
    "    main()\n"
   ]
  },
  {
   "cell_type": "markdown",
   "metadata": {
    "id": "BLw05Inb_BkJ"
   },
   "source": [
    "### 미션2 - 시험성적 분석\n",
    "\n",
    "* 학생들이 제출한 답안을 모아둔 행렬로 각 학생의 점수를 구하고 우리반의 통계정보를 계산합니다. 지시사항에 따라 코드를 완성하세요.\n",
    "\n",
    "1. grade_all(ar_students: np.ndarray) -> np.ndarray: 채점하고 점수 행렬 반환하기 (50점)\n",
    "\n",
    "  ar_students는 학생들이 제출한 답안을 모아둔 2차원 행렬입니다. 정답인 ANSWER와 비교하여 각 학생의 점수를 1차원 행렬로 만들어 반환하는 함수를 완성하세요.\n",
    "\n",
    "  * 문항당 점수는 ANSWER와 같은 답을 제출했다면 1점, 아니면 0점입니다.\n",
    "  * 한 학생의 점수는 0~10의 정수값입니다.\n",
    "  * 반환값은 리스트가 아닌 np.array()를 통해 변환된 numpy 행렬이어야 합니다.\n",
    "2. get_best_student(ar_scores: np.ndarray) -> int: 최고성적의 학생 구하기 (20점)\n",
    "\n",
    "  ar_scores는 학생들의 점수로 구성된 1차원 행렬입니다. 여기서 가장 높은 점수를 받은 학생의 번호를 반환하는 함수를 완성하세요.\n",
    "\n",
    "  * 학생의 번호는 0부터 시작하므로 첫번째 학생의 번호는 0입니다.\n",
    "  * 1등 학생이 2명 이상일 경우 번호가 낮은 학생을 반환합니다.\n",
    "3. stat_students(ar_scores: np.ndarray): 반의 평균과 표준편차 계산하기 (30점)\n",
    "\n",
    "  ar_scores는 학생들의 점수로 구성된 1차원 행렬입니다. 학생 점수들의 평균과 표준편차를 계산하여 각각 mean, std에 저장하고 반환합니다.\n",
    "\n",
    "완성 시 출력\n",
    "```\n",
    "모든 학생 점수: [2 2 2 2 3 4 1 2 1 2]\n",
    "1등 학생 번호: 5\n",
    "평균: 2.1\n",
    "표준편차: 0.8306623862918076\n",
    "```"
   ]
  },
  {
   "cell_type": "code",
   "execution_count": null,
   "metadata": {
    "id": "LHH4OjhJ_YZ5"
   },
   "outputs": [],
   "source": [
    "import numpy as np\n",
    "\n",
    "# 정답 (변경시 0점)\n",
    "ANSWER = np.array([3, 1, 2, 2, 4, 4, 1, 3, 5, 5])\n",
    "\n",
    "\n",
    "def grade_all(ar_students: np.ndarray) -> np.ndarray:\n",
    "    \"학생들의 답안을 채점하고 점수를 행렬로 만들어 반환합니다.\"\n",
    "    scores = []\n",
    "\n",
    "    None\n",
    "\n",
    "    return np.array(scores)\n",
    "\n",
    "\n",
    "def get_best_student(ar_scores: np.ndarray) -> int:\n",
    "    \"점수가 가장 높은 학생의 번호(0부터 시작)를 반환합니다.\"\n",
    "    best = None\n",
    "    return best\n",
    "\n",
    "\n",
    "def stat_students(ar_scores: np.ndarray):\n",
    "    \"학생 점수들의 평균과 표준 편차를 반환합니다.\"\n",
    "    mean = None\n",
    "    std = None\n",
    "    return mean, std\n",
    "\n",
    "\n",
    "def main():\n",
    "    # 입력 데이터 (채점시엔 다른 데이터 사용)\n",
    "    ar_stud = np.array(\n",
    "        [\n",
    "            [4, 4, 1, 3, 3, 3, 1, 3, 2, 4],\n",
    "            [5, 5, 3, 2, 4, 2, 5, 2, 2, 4],\n",
    "            [2, 4, 1, 5, 5, 5, 3, 3, 3, 5],\n",
    "            [3, 5, 4, 3, 1, 3, 1, 1, 1, 4],\n",
    "            [3, 2, 5, 1, 1, 4, 5, 3, 2, 3],\n",
    "            [3, 2, 2, 4, 5, 2, 3, 2, 5, 5],\n",
    "            [2, 4, 3, 2, 5, 2, 4, 4, 3, 4],\n",
    "            [1, 3, 1, 3, 3, 5, 5, 3, 1, 5],\n",
    "            [2, 5, 3, 2, 1, 5, 3, 5, 1, 2],\n",
    "            [4, 2, 2, 1, 3, 5, 1, 5, 2, 1],\n",
    "        ]\n",
    "    )\n",
    "\n",
    "    # 1. 채점하고 점수 행렬 반환하기\n",
    "    ar_scores = grade_all(ar_stud)\n",
    "    print(\"모든 학생 점수:\", ar_scores)\n",
    "\n",
    "    # 2. 최고성적의 학생 구하기\n",
    "    best_student = get_best_student(ar_scores)\n",
    "    print(\"1등 학생 번호:\", best_student)\n",
    "\n",
    "    # 3. 반의 평균과 표준편차 계산하기\n",
    "    mean, std = stat_students(ar_scores)\n",
    "    print(\"평균:\", mean)\n",
    "    print(\"표준편차:\", std)\n",
    "\n",
    "\n",
    "if __name__ == \"__main__\":\n",
    "    main()"
   ]
  }
 ],
 "metadata": {
  "colab": {
   "provenance": []
  },
  "kernelspec": {
   "display_name": "Python 3 (ipykernel)",
   "language": "python",
   "name": "python3"
  },
  "language_info": {
   "codemirror_mode": {
    "name": "ipython",
    "version": 3
   },
   "file_extension": ".py",
   "mimetype": "text/x-python",
   "name": "python",
   "nbconvert_exporter": "python",
   "pygments_lexer": "ipython3",
   "version": "3.11.7"
  }
 },
 "nbformat": 4,
 "nbformat_minor": 4
}
