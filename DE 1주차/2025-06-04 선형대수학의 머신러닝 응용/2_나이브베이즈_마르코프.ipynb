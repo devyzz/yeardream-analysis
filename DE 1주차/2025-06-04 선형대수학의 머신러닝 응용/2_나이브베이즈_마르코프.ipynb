{
 "cells": [
  {
   "cell_type": "markdown",
   "id": "1cde63b7-b9e5-46dc-b2f4-072ec75ff85f",
   "metadata": {},
   "source": [
    "## 나이브 베이즈 분류기"
   ]
  },
  {
   "cell_type": "code",
   "execution_count": 1,
   "id": "231421db-6e30-4084-abc5-0e9f04b10939",
   "metadata": {},
   "outputs": [
    {
     "data": {
      "text/html": [
       "<div>\n",
       "<style scoped>\n",
       "    .dataframe tbody tr th:only-of-type {\n",
       "        vertical-align: middle;\n",
       "    }\n",
       "\n",
       "    .dataframe tbody tr th {\n",
       "        vertical-align: top;\n",
       "    }\n",
       "\n",
       "    .dataframe thead th {\n",
       "        text-align: right;\n",
       "    }\n",
       "</style>\n",
       "<table border=\"1\" class=\"dataframe\">\n",
       "  <thead>\n",
       "    <tr style=\"text-align: right;\">\n",
       "      <th></th>\n",
       "      <th>label</th>\n",
       "      <th>message</th>\n",
       "    </tr>\n",
       "  </thead>\n",
       "  <tbody>\n",
       "    <tr>\n",
       "      <th>0</th>\n",
       "      <td>ham</td>\n",
       "      <td>Go until jurong point, crazy.. Available only ...</td>\n",
       "    </tr>\n",
       "    <tr>\n",
       "      <th>1</th>\n",
       "      <td>ham</td>\n",
       "      <td>Ok lar... Joking wif u oni...</td>\n",
       "    </tr>\n",
       "    <tr>\n",
       "      <th>2</th>\n",
       "      <td>spam</td>\n",
       "      <td>Free entry in 2 a wkly comp to win FA Cup fina...</td>\n",
       "    </tr>\n",
       "    <tr>\n",
       "      <th>3</th>\n",
       "      <td>ham</td>\n",
       "      <td>U dun say so early hor... U c already then say...</td>\n",
       "    </tr>\n",
       "    <tr>\n",
       "      <th>4</th>\n",
       "      <td>ham</td>\n",
       "      <td>Nah I don't think he goes to usf, he lives aro...</td>\n",
       "    </tr>\n",
       "  </tbody>\n",
       "</table>\n",
       "</div>"
      ],
      "text/plain": [
       "  label                                            message\n",
       "0   ham  Go until jurong point, crazy.. Available only ...\n",
       "1   ham                      Ok lar... Joking wif u oni...\n",
       "2  spam  Free entry in 2 a wkly comp to win FA Cup fina...\n",
       "3   ham  U dun say so early hor... U c already then say...\n",
       "4   ham  Nah I don't think he goes to usf, he lives aro..."
      ]
     },
     "execution_count": 1,
     "metadata": {},
     "output_type": "execute_result"
    }
   ],
   "source": [
    "import pandas as pd\n",
    "from sklearn.model_selection import train_test_split\n",
    "from sklearn.feature_extraction.text import CountVectorizer\n",
    "from sklearn.naive_bayes import MultinomialNB\n",
    "from sklearn.metrics import accuracy_score\n",
    "\n",
    "# 1. 데이터 불러오기\n",
    "df = pd.read_csv(\"https://raw.githubusercontent.com/justmarkham/pycon-2016-tutorial/master/data/sms.tsv\", \n",
    "                 sep='\\t', header=None, names=['label', 'message'])\n",
    "\n",
    "df.head()"
   ]
  },
  {
   "cell_type": "code",
   "execution_count": 2,
   "id": "40891625-20fc-40dc-a717-8178b28ba1ec",
   "metadata": {},
   "outputs": [
    {
     "name": "stdout",
     "output_type": "stream",
     "text": [
      "<class 'pandas.core.frame.DataFrame'>\n",
      "RangeIndex: 5572 entries, 0 to 5571\n",
      "Data columns (total 2 columns):\n",
      " #   Column   Non-Null Count  Dtype \n",
      "---  ------   --------------  ----- \n",
      " 0   label    5572 non-null   object\n",
      " 1   message  5572 non-null   object\n",
      "dtypes: object(2)\n",
      "memory usage: 87.2+ KB\n"
     ]
    }
   ],
   "source": [
    "df.info()"
   ]
  },
  {
   "cell_type": "code",
   "execution_count": 3,
   "id": "26ecfb53-dec9-43d2-b6e0-d181ba319a47",
   "metadata": {},
   "outputs": [],
   "source": [
    "# 2. 레이블을 숫자로 변환\n",
    "df['label_num'] = df['label'].map({'ham': 0, 'spam': 1})\n",
    "\n",
    "# 3. 훈련/테스트 셋 분리\n",
    "X_train, X_test, y_train, y_test = train_test_split(df['message'], df['label_num'], test_size=0.2, random_state=42)"
   ]
  },
  {
   "cell_type": "code",
   "execution_count": 4,
   "id": "a2ab2cbe-b569-47e0-a38b-c4d66b5a2ef4",
   "metadata": {},
   "outputs": [
    {
     "data": {
      "text/plain": [
       "(4457, 7702)"
      ]
     },
     "execution_count": 4,
     "metadata": {},
     "output_type": "execute_result"
    }
   ],
   "source": [
    "# 4. 텍스트 데이터를 숫자로 벡터화 (BoW 방식)\n",
    "# 문장마다 해당 단어가 몇 번 등장했는지 기록.\n",
    "vectorizer = CountVectorizer()\n",
    "X_train_vec = vectorizer.fit_transform(X_train)\n",
    "X_test_vec = vectorizer.transform(X_test)\n",
    "\n",
    "X_train_vec.shape"
   ]
  },
  {
   "cell_type": "code",
   "execution_count": 5,
   "id": "b75da966-5672-4438-b59b-b8587a8959bf",
   "metadata": {},
   "outputs": [
    {
     "data": {
      "text/plain": [
       "array([[0, 0, 0, ..., 0, 0, 0]], dtype=int64)"
      ]
     },
     "execution_count": 5,
     "metadata": {},
     "output_type": "execute_result"
    }
   ],
   "source": [
    "X_train_vec[0].toarray()"
   ]
  },
  {
   "cell_type": "code",
   "execution_count": 6,
   "id": "2afe8ea9-0625-49c5-b5a0-a638b5d3db0b",
   "metadata": {},
   "outputs": [
    {
     "data": {
      "text/html": [
       "<style>#sk-container-id-1 {color: black;background-color: white;}#sk-container-id-1 pre{padding: 0;}#sk-container-id-1 div.sk-toggleable {background-color: white;}#sk-container-id-1 label.sk-toggleable__label {cursor: pointer;display: block;width: 100%;margin-bottom: 0;padding: 0.3em;box-sizing: border-box;text-align: center;}#sk-container-id-1 label.sk-toggleable__label-arrow:before {content: \"▸\";float: left;margin-right: 0.25em;color: #696969;}#sk-container-id-1 label.sk-toggleable__label-arrow:hover:before {color: black;}#sk-container-id-1 div.sk-estimator:hover label.sk-toggleable__label-arrow:before {color: black;}#sk-container-id-1 div.sk-toggleable__content {max-height: 0;max-width: 0;overflow: hidden;text-align: left;background-color: #f0f8ff;}#sk-container-id-1 div.sk-toggleable__content pre {margin: 0.2em;color: black;border-radius: 0.25em;background-color: #f0f8ff;}#sk-container-id-1 input.sk-toggleable__control:checked~div.sk-toggleable__content {max-height: 200px;max-width: 100%;overflow: auto;}#sk-container-id-1 input.sk-toggleable__control:checked~label.sk-toggleable__label-arrow:before {content: \"▾\";}#sk-container-id-1 div.sk-estimator input.sk-toggleable__control:checked~label.sk-toggleable__label {background-color: #d4ebff;}#sk-container-id-1 div.sk-label input.sk-toggleable__control:checked~label.sk-toggleable__label {background-color: #d4ebff;}#sk-container-id-1 input.sk-hidden--visually {border: 0;clip: rect(1px 1px 1px 1px);clip: rect(1px, 1px, 1px, 1px);height: 1px;margin: -1px;overflow: hidden;padding: 0;position: absolute;width: 1px;}#sk-container-id-1 div.sk-estimator {font-family: monospace;background-color: #f0f8ff;border: 1px dotted black;border-radius: 0.25em;box-sizing: border-box;margin-bottom: 0.5em;}#sk-container-id-1 div.sk-estimator:hover {background-color: #d4ebff;}#sk-container-id-1 div.sk-parallel-item::after {content: \"\";width: 100%;border-bottom: 1px solid gray;flex-grow: 1;}#sk-container-id-1 div.sk-label:hover label.sk-toggleable__label {background-color: #d4ebff;}#sk-container-id-1 div.sk-serial::before {content: \"\";position: absolute;border-left: 1px solid gray;box-sizing: border-box;top: 0;bottom: 0;left: 50%;z-index: 0;}#sk-container-id-1 div.sk-serial {display: flex;flex-direction: column;align-items: center;background-color: white;padding-right: 0.2em;padding-left: 0.2em;position: relative;}#sk-container-id-1 div.sk-item {position: relative;z-index: 1;}#sk-container-id-1 div.sk-parallel {display: flex;align-items: stretch;justify-content: center;background-color: white;position: relative;}#sk-container-id-1 div.sk-item::before, #sk-container-id-1 div.sk-parallel-item::before {content: \"\";position: absolute;border-left: 1px solid gray;box-sizing: border-box;top: 0;bottom: 0;left: 50%;z-index: -1;}#sk-container-id-1 div.sk-parallel-item {display: flex;flex-direction: column;z-index: 1;position: relative;background-color: white;}#sk-container-id-1 div.sk-parallel-item:first-child::after {align-self: flex-end;width: 50%;}#sk-container-id-1 div.sk-parallel-item:last-child::after {align-self: flex-start;width: 50%;}#sk-container-id-1 div.sk-parallel-item:only-child::after {width: 0;}#sk-container-id-1 div.sk-dashed-wrapped {border: 1px dashed gray;margin: 0 0.4em 0.5em 0.4em;box-sizing: border-box;padding-bottom: 0.4em;background-color: white;}#sk-container-id-1 div.sk-label label {font-family: monospace;font-weight: bold;display: inline-block;line-height: 1.2em;}#sk-container-id-1 div.sk-label-container {text-align: center;}#sk-container-id-1 div.sk-container {/* jupyter's `normalize.less` sets `[hidden] { display: none; }` but bootstrap.min.css set `[hidden] { display: none !important; }` so we also need the `!important` here to be able to override the default hidden behavior on the sphinx rendered scikit-learn.org. See: https://github.com/scikit-learn/scikit-learn/issues/21755 */display: inline-block !important;position: relative;}#sk-container-id-1 div.sk-text-repr-fallback {display: none;}</style><div id=\"sk-container-id-1\" class=\"sk-top-container\"><div class=\"sk-text-repr-fallback\"><pre>MultinomialNB()</pre><b>In a Jupyter environment, please rerun this cell to show the HTML representation or trust the notebook. <br />On GitHub, the HTML representation is unable to render, please try loading this page with nbviewer.org.</b></div><div class=\"sk-container\" hidden><div class=\"sk-item\"><div class=\"sk-estimator sk-toggleable\"><input class=\"sk-toggleable__control sk-hidden--visually\" id=\"sk-estimator-id-1\" type=\"checkbox\" checked><label for=\"sk-estimator-id-1\" class=\"sk-toggleable__label sk-toggleable__label-arrow\">MultinomialNB</label><div class=\"sk-toggleable__content\"><pre>MultinomialNB()</pre></div></div></div></div></div>"
      ],
      "text/plain": [
       "MultinomialNB()"
      ]
     },
     "execution_count": 6,
     "metadata": {},
     "output_type": "execute_result"
    }
   ],
   "source": [
    "# 5. 나이브 베이즈 모델 학습\n",
    "model = MultinomialNB()\n",
    "model.fit(X_train_vec, y_train)"
   ]
  },
  {
   "cell_type": "code",
   "execution_count": 7,
   "id": "d1d2bf93-d370-48eb-8b21-c9b62161d437",
   "metadata": {},
   "outputs": [
    {
     "name": "stdout",
     "output_type": "stream",
     "text": [
      "정확도: 0.9919282511210762\n"
     ]
    }
   ],
   "source": [
    "# 6. 예측 및 평가\n",
    "y_pred = model.predict(X_test_vec)\n",
    "\n",
    "print(\"정확도:\", accuracy_score(y_test, y_pred))"
   ]
  },
  {
   "cell_type": "markdown",
   "id": "dfe399e1-295c-439d-a754-c8efab5efa38",
   "metadata": {},
   "source": [
    "## 마르코프 체인으로 그 해 승객 인원 수 예측하기\n",
    "\n",
    "* 1월의 승객 수를 입력 받았을 때, 나머지 11개월의 승객 수를 예측해 보자."
   ]
  },
  {
   "cell_type": "code",
   "execution_count": 61,
   "id": "4f564325-7c05-4638-8cd0-5fb7582eaea0",
   "metadata": {},
   "outputs": [
    {
     "data": {
      "image/png": "[encoded data removed]",
      "text/plain": [
       "<Figure size 640x480 with 1 Axes>"
      ]
     },
     "metadata": {},
     "output_type": "display_data"
    }
   ],
   "source": [
    "import seaborn as sns\n",
    "import pandas as pd\n",
    "from collections import defaultdict\n",
    "import matplotlib.pyplot as plt\n",
    "import random\n",
    "\n",
    "# 데이터 로드\n",
    "df = sns.load_dataset(\"flights\")\n",
    "passengers = df['passengers'].tolist()\n",
    "\n",
    "# 마르코프 체인 생성 (month → 다음 month)\n",
    "chain = defaultdict(list)\n",
    "for i in range(len(passengers) - 1):\n",
    "    chain[passengers[i]].append(passengers[i + 1])\n",
    "\n",
    "# 예측\n",
    "def generate_passenger_sequence(start=150, steps=11):\n",
    "    state = start\n",
    "    result = [state]\n",
    "    for _ in range(steps):\n",
    "        while not chain.get(state):\n",
    "            state -= 1\n",
    "        state = random.choice(chain.get(state))\n",
    "        result.append(state)\n",
    "    return result\n",
    "\n",
    "result = generate_passenger_sequence(start=150)\n",
    "plt.plot(result)\n",
    "plt.plot(result, 'ro')\n",
    "plt.xticks(range(12), list(df['month'].unique()))\n",
    "plt.show()"
   ]
  },
  {
   "cell_type": "markdown",
   "id": "17a83413-f481-4ede-8b2f-a89f9e6ee0b2",
   "metadata": {},
   "source": [
    "## 마르코프 텍스트 생성기"
   ]
  },
  {
   "cell_type": "code",
   "execution_count": 23,
   "id": "60b40fd7-f7db-42c7-92c2-64f646e853a0",
   "metadata": {},
   "outputs": [
    {
     "data": {
      "text/html": [
       "<div>\n",
       "<style scoped>\n",
       "    .dataframe tbody tr th:only-of-type {\n",
       "        vertical-align: middle;\n",
       "    }\n",
       "\n",
       "    .dataframe tbody tr th {\n",
       "        vertical-align: top;\n",
       "    }\n",
       "\n",
       "    .dataframe thead th {\n",
       "        text-align: right;\n",
       "    }\n",
       "</style>\n",
       "<table border=\"1\" class=\"dataframe\">\n",
       "  <thead>\n",
       "    <tr style=\"text-align: right;\">\n",
       "      <th></th>\n",
       "      <th>label</th>\n",
       "      <th>message</th>\n",
       "    </tr>\n",
       "  </thead>\n",
       "  <tbody>\n",
       "    <tr>\n",
       "      <th>0</th>\n",
       "      <td>ham</td>\n",
       "      <td>Go until jurong point, crazy.. Available only ...</td>\n",
       "    </tr>\n",
       "    <tr>\n",
       "      <th>1</th>\n",
       "      <td>ham</td>\n",
       "      <td>Ok lar... Joking wif u oni...</td>\n",
       "    </tr>\n",
       "    <tr>\n",
       "      <th>2</th>\n",
       "      <td>spam</td>\n",
       "      <td>Free entry in 2 a wkly comp to win FA Cup fina...</td>\n",
       "    </tr>\n",
       "    <tr>\n",
       "      <th>3</th>\n",
       "      <td>ham</td>\n",
       "      <td>U dun say so early hor... U c already then say...</td>\n",
       "    </tr>\n",
       "    <tr>\n",
       "      <th>4</th>\n",
       "      <td>ham</td>\n",
       "      <td>Nah I don't think he goes to usf, he lives aro...</td>\n",
       "    </tr>\n",
       "  </tbody>\n",
       "</table>\n",
       "</div>"
      ],
      "text/plain": [
       "  label                                            message\n",
       "0   ham  Go until jurong point, crazy.. Available only ...\n",
       "1   ham                      Ok lar... Joking wif u oni...\n",
       "2  spam  Free entry in 2 a wkly comp to win FA Cup fina...\n",
       "3   ham  U dun say so early hor... U c already then say...\n",
       "4   ham  Nah I don't think he goes to usf, he lives aro..."
      ]
     },
     "execution_count": 23,
     "metadata": {},
     "output_type": "execute_result"
    }
   ],
   "source": [
    "import pandas as pd\n",
    "import random\n",
    "import re\n",
    "from collections import defaultdict\n",
    "\n",
    "# 1. 데이터 불러오기\n",
    "df = pd.read_csv(\"https://raw.githubusercontent.com/justmarkham/pycon-2016-tutorial/master/data/sms.tsv\", \n",
    "                 sep='\\t', header=None, names=['label', 'message'])\n",
    "\n",
    "df.head()"
   ]
  },
  {
   "cell_type": "code",
   "execution_count": 24,
   "id": "f2ae48be-eae2-4bb3-90a0-708393b2d93f",
   "metadata": {},
   "outputs": [
    {
     "data": {
      "text/plain": [
       "['go',\n",
       " 'until',\n",
       " 'jurong',\n",
       " 'point',\n",
       " 'crazy',\n",
       " 'available',\n",
       " 'only',\n",
       " 'in',\n",
       " 'bugis',\n",
       " 'n',\n",
       " 'great',\n",
       " 'world',\n",
       " 'la',\n",
       " 'e',\n",
       " 'buffet',\n",
       " 'cine',\n",
       " 'there',\n",
       " 'got',\n",
       " 'amore',\n",
       " 'wat']"
      ]
     },
     "execution_count": 24,
     "metadata": {},
     "output_type": "execute_result"
    }
   ],
   "source": [
    "# 2. 전처리: 메시지를 단어로 토큰화\n",
    "sentences = df['message'].str.lower().tolist()\n",
    "# 공백을 사이에 두고, 특수기호는 모두 제거.\n",
    "tokenized_sentences = [re.findall(r'\\b\\w+\\b', s) for s in sentences]\n",
    "\n",
    "tokenized_sentences[0]"
   ]
  },
  {
   "cell_type": "code",
   "execution_count": 31,
   "id": "7e62c6b8-eb59-4adc-bbe5-ea68ecfa56cb",
   "metadata": {},
   "outputs": [],
   "source": [
    "# 3. 마르코프 체인 테이블 생성\n",
    "chain = defaultdict(list)\n",
    "for tokens in tokenized_sentences:\n",
    "    for i in range(len(tokens) - 1):\n",
    "        chain[tokens[i]].append(tokens[i+1])"
   ]
  },
  {
   "cell_type": "code",
   "execution_count": 33,
   "id": "09fc8fb6-89d5-4aca-b6bb-317293890539",
   "metadata": {},
   "outputs": [
    {
     "data": {
      "text/plain": [
       "['until',\n",
       " 'str',\n",
       " 'there',\n",
       " 'home',\n",
       " 'i',\n",
       " 'ahead',\n",
       " 'to',\n",
       " 'to',\n",
       " 'down',\n",
       " '4',\n",
       " 'ahead',\n",
       " 'bathe',\n",
       " 'txt',\n",
       " 'to',\n",
       " 'sim',\n",
       " 'gurl',\n",
       " 'out',\n",
       " '4',\n",
       " 'watch',\n",
       " 'to',\n",
       " 'yan',\n",
       " 'cine',\n",
       " 'mrt',\n",
       " 'make',\n",
       " 'my',\n",
       " 'for',\n",
       " 'get',\n",
       " 'to',\n",
       " 'jazz',\n",
       " 'meet',\n",
       " 'to',\n",
       " 'temple',\n",
       " '2',\n",
       " 'ah',\n",
       " 'find',\n",
       " 'lido',\n",
       " 'tis',\n",
       " 'tell',\n",
       " 'figure',\n",
       " 'to',\n",
       " 'buy',\n",
       " 'careful',\n",
       " 'to',\n",
       " 'sup',\n",
       " 'to',\n",
       " 'temple',\n",
       " 'for',\n",
       " 'c',\n",
       " 'get',\n",
       " 'on',\n",
       " 'for',\n",
       " 'str',\n",
       " 'change',\n",
       " 'to',\n",
       " 'then',\n",
       " 'then',\n",
       " '2',\n",
       " 'to',\n",
       " 'n',\n",
       " '2',\n",
       " 'away',\n",
       " 'to',\n",
       " 'and',\n",
       " 'shopping',\n",
       " 'for',\n",
       " 'out',\n",
       " 'to',\n",
       " 'txt',\n",
       " 'another',\n",
       " '4',\n",
       " 'aust',\n",
       " '4',\n",
       " 'for',\n",
       " 'yan',\n",
       " '4',\n",
       " 'earlier',\n",
       " 'over',\n",
       " 'to',\n",
       " 'out',\n",
       " 'on',\n",
       " 'to',\n",
       " 'to',\n",
       " 'pick',\n",
       " 'now',\n",
       " 'on',\n",
       " 'out',\n",
       " 'out',\n",
       " 'ok',\n",
       " 'nus',\n",
       " 'sleep',\n",
       " 'and',\n",
       " 'away',\n",
       " 'tonight',\n",
       " 'txt',\n",
       " 'and',\n",
       " 'out',\n",
       " 'buy',\n",
       " 'fr',\n",
       " 'elsewhere',\n",
       " 'out',\n",
       " 'jazz',\n",
       " 'to',\n",
       " 'out',\n",
       " 'to',\n",
       " 'at',\n",
       " 'n',\n",
       " 'out',\n",
       " 'aiya',\n",
       " 'to',\n",
       " 'into',\n",
       " 'the',\n",
       " 'to',\n",
       " 'cafe',\n",
       " 'nydc',\n",
       " 'ur',\n",
       " 'for',\n",
       " 'accordin',\n",
       " 'if',\n",
       " 'back',\n",
       " 'to',\n",
       " 'to',\n",
       " 'shop',\n",
       " 'slo',\n",
       " 'bathe',\n",
       " 'to',\n",
       " 'so',\n",
       " 'to',\n",
       " 'suntec',\n",
       " 'trying',\n",
       " 'wait',\n",
       " 'learn',\n",
       " 'thats',\n",
       " '2',\n",
       " 'in',\n",
       " 'pump',\n",
       " 'for',\n",
       " 'bathe',\n",
       " 'where',\n",
       " 'large',\n",
       " 'and',\n",
       " 'n',\n",
       " 'shopping',\n",
       " 'into',\n",
       " 'to',\n",
       " 'home',\n",
       " 'crazy',\n",
       " 'as',\n",
       " 'elsewhere',\n",
       " '2',\n",
       " 'to',\n",
       " 'to',\n",
       " 'toa',\n",
       " 'to',\n",
       " 'to',\n",
       " 'haha',\n",
       " 'orchard',\n",
       " 'ask',\n",
       " 'into',\n",
       " 'before',\n",
       " 'for',\n",
       " 'into',\n",
       " 'out',\n",
       " 'back',\n",
       " 'there',\n",
       " 'to',\n",
       " 'floating',\n",
       " 'to',\n",
       " 'to',\n",
       " '4',\n",
       " 'cine',\n",
       " 'and',\n",
       " 'for',\n",
       " 'get',\n",
       " '2',\n",
       " 'to',\n",
       " 'home',\n",
       " 'back',\n",
       " 'to',\n",
       " 'there',\n",
       " 'to',\n",
       " 'for',\n",
       " 'to',\n",
       " 'a',\n",
       " 'home',\n",
       " 'n',\n",
       " 'there',\n",
       " 'to',\n",
       " 'in',\n",
       " '4',\n",
       " 'w',\n",
       " 'well',\n",
       " 'then',\n",
       " 'look',\n",
       " 'shopping',\n",
       " 'eat',\n",
       " 'to',\n",
       " '2',\n",
       " 'out',\n",
       " 'on',\n",
       " 'to',\n",
       " 'to',\n",
       " 'to',\n",
       " 'tog',\n",
       " 'home',\n",
       " 'then',\n",
       " 'lor',\n",
       " 'to',\n",
       " 'gym',\n",
       " 'to',\n",
       " 'engin',\n",
       " 'a',\n",
       " 'to',\n",
       " 'google',\n",
       " 'meet',\n",
       " 'in',\n",
       " 'off',\n",
       " 'stop',\n",
       " 'to',\n",
       " 'into',\n",
       " 'to',\n",
       " 'unrecognized',\n",
       " 'shopping',\n",
       " 'if',\n",
       " 'bak',\n",
       " 'on',\n",
       " 'check',\n",
       " 'for',\n",
       " 'home',\n",
       " 'look',\n",
       " 'karaoke',\n",
       " 'to',\n",
       " 'kill',\n",
       " 'txt',\n",
       " 'to',\n",
       " 'with',\n",
       " 'temple',\n",
       " 'one',\n",
       " 'to',\n",
       " '4',\n",
       " 'home',\n",
       " 'to',\n",
       " 'for',\n",
       " 'hungry',\n",
       " 'outsomewhere',\n",
       " '2watershd',\n",
       " 'head',\n",
       " 'fool',\n",
       " 'creep',\n",
       " 'to',\n",
       " 'chase',\n",
       " 'to',\n",
       " 'back',\n",
       " 'w',\n",
       " 'for',\n",
       " 'call',\n",
       " 'shoppin',\n",
       " '2',\n",
       " 'orchard',\n",
       " 'liao',\n",
       " 'over',\n",
       " 'for',\n",
       " 'back',\n",
       " 'to',\n",
       " 'home',\n",
       " 'to',\n",
       " 'no',\n",
       " 'jogging',\n",
       " 'sch',\n",
       " 'that',\n",
       " 'on',\n",
       " 'and',\n",
       " 'to',\n",
       " 'to',\n",
       " 'to',\n",
       " 'on',\n",
       " 'to',\n",
       " 'out',\n",
       " '2']"
      ]
     },
     "execution_count": 33,
     "metadata": {},
     "output_type": "execute_result"
    }
   ],
   "source": [
    "chain['go']"
   ]
  },
  {
   "cell_type": "code",
   "execution_count": 39,
   "id": "4dbe1a32-4362-43ff-8692-2711e2aa3a0a",
   "metadata": {},
   "outputs": [
    {
     "name": "stdout",
     "output_type": "stream",
     "text": [
      "📨 자동 생성된 문자: you being good morning princess i have e afternoon my heart is called someone asked\n"
     ]
    }
   ],
   "source": [
    "# 4. 문장 생성 함수\n",
    "def generate_sms(start_word='hi', max_len=15):\n",
    "    word = start_word\n",
    "    sentence = [word]\n",
    "    for _ in range(max_len - 1):\n",
    "        next_words = chain.get(word)\n",
    "        # 다음 단어가 존재하지 않으면 끝.\n",
    "        if not next_words:\n",
    "            break\n",
    "        # 해당 단어 다음에 나올 수 있는 단어들 중 랜덤으로 하나 선정.\n",
    "        word = random.choice(next_words)\n",
    "        sentence.append(word)\n",
    "    return ' '.join(sentence)\n",
    "\n",
    "# 5. 예시 출력\n",
    "print(\"📨 자동 생성된 문자:\", generate_sms(\"you\"))"
   ]
  },
  {
   "cell_type": "code",
   "execution_count": 40,
   "id": "3db1ccbb-b4dc-4560-a10d-c2e3c9a2ef88",
   "metadata": {},
   "outputs": [
    {
     "name": "stdout",
     "output_type": "stream",
     "text": [
      "📨 자동 생성된 문자: you want you babe teasing kiss to smile knowing all as if when i ll\n"
     ]
    }
   ],
   "source": [
    "# 2. 전처리: 메시지를 단어로 토큰화\n",
    "sentences = df[df['label']=='ham']['message'].str.lower().tolist()\n",
    "# 공백을 사이에 두고, 특수기호는 모두 제거.\n",
    "tokenized_sentences = [re.findall(r'\\b\\w+\\b', s) for s in sentences]\n",
    "\n",
    "# 3. 마르코프 체인 테이블 생성\n",
    "chain = defaultdict(list)\n",
    "for tokens in tokenized_sentences:\n",
    "    for i in range(len(tokens) - 1):\n",
    "        chain[tokens[i]].append(tokens[i+1])\n",
    "\n",
    "# 4. 문장 생성 함수\n",
    "def generate_sms(start_word='hi', max_len=15):\n",
    "    word = start_word\n",
    "    sentence = [word]\n",
    "    for _ in range(max_len - 1):\n",
    "        next_words = chain.get(word)\n",
    "        # 다음 단어가 존재하지 않으면 끝.\n",
    "        if not next_words:\n",
    "            break\n",
    "        # 해당 단어 다음에 나올 수 있는 단어들 중 랜덤으로 하나 선정.\n",
    "        word = random.choice(next_words)\n",
    "        sentence.append(word)\n",
    "    return ' '.join(sentence)\n",
    "\n",
    "# 5. 예시 출력\n",
    "print(\"📨 자동 생성된 문자:\", generate_sms(\"you\"))"
   ]
  },
  {
   "cell_type": "markdown",
   "id": "f90d56a8-31d3-402c-bb62-0f68a768f33b",
   "metadata": {},
   "source": [
    "현재는 딥러닝을 이용해 마르코프 체인 기반이 아닌, 모든 단어를 다 고려하여 다음 단어를 예측하는 식으로 챗봇이 만들어지고 있다.\n",
    "\n",
    "마르코프 체인 기반 챗봇은 이들의 조상인 셈."
   ]
  }
 ],
 "metadata": {
  "kernelspec": {
   "display_name": "Python 3 (ipykernel)",
   "language": "python",
   "name": "python3"
  },
  "language_info": {
   "codemirror_mode": {
    "name": "ipython",
    "version": 3
   },
   "file_extension": ".py",
   "mimetype": "text/x-python",
   "name": "python",
   "nbconvert_exporter": "python",
   "pygments_lexer": "ipython3",
   "version": "3.11.7"
  }
 },
 "nbformat": 4,
 "nbformat_minor": 5
}
