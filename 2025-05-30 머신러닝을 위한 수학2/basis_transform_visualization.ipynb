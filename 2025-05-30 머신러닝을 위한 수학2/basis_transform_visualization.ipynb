{
 "cells": [
  {
   "cell_type": "code",
   "execution_count": null,
   "id": "235b1e6f",
   "metadata": {},
   "outputs": [],
   "source": [
    "import numpy as np\n",
    "import matplotlib.pyplot as plt"
   ]
  },
  {
   "cell_type": "code",
   "execution_count": null,
   "id": "4dfd40b3",
   "metadata": {},
   "outputs": [],
   "source": [
    "# 표준 및 새로운 기저 정의\n",
    "e1 = np.array([1, 0])\n",
    "e2 = np.array([0, 1])\n",
    "b1 = np.array([1, 0])\n",
    "b2 = np.array([1, 1])\n",
    "basis_matrix = np.column_stack((b1, b2))\n",
    "inv_basis = np.linalg.inv(basis_matrix)\n",
    "original_points = np.array([[3, 3], [3, 5]])\n",
    "transformed_points = original_points @ inv_basis.T\n",
    "x_vals = np.arange(-5, 6)\n",
    "y_vals = np.arange(-5, 6)\n",
    "grid = np.array([[x, y] for x in x_vals for y in y_vals])\n",
    "transformed_grid = grid @ inv_basis.T"
   ]
  },
  {
   "cell_type": "code",
   "execution_count": null,
   "id": "43e375fb",
   "metadata": {},
   "outputs": [],
   "source": [
    "def plot_basis_comparison():\n",
    "    fig, axs = plt.subplots(1, 2, figsize=(14, 6))\n",
    "    axs[0].scatter(grid[:, 0], grid[:, 1], s=10, color='gray')\n",
    "    axs[0].quiver(0, 0, 1, 0, color='r', scale=1, angles='xy', scale_units='xy', label='e1 = (1,0)')\n",
    "    axs[0].quiver(0, 0, 0, 1, color='g', scale=1, angles='xy', scale_units='xy', label='e2 = (0,1)')\n",
    "    axs[0].scatter(original_points[:, 0], original_points[:, 1], color='black', label='(3,3), (3,5)', zorder=5)\n",
    "    axs[0].annotate('(3,3)', (3 + 0.1, 3), fontsize=9)\n",
    "    axs[0].annotate('(3,5)', (3 + 0.1, 5), fontsize=9)\n",
    "    axs[0].set_title(\"표준기저 기준 격자\")\n",
    "    axs[0].set_xlim(-5, 5)\n",
    "    axs[0].set_ylim(-5, 6)\n",
    "    axs[0].grid(True)\n",
    "    axs[0].set_aspect('equal')\n",
    "    axs[0].legend()\n",
    "    axs[1].scatter(transformed_grid[:, 0], transformed_grid[:, 1], s=10, color='gray')\n",
    "    axs[1].quiver(0, 0, 1, 0, color='orange', scale=1, angles='xy', scale_units='xy', label=\"b1 = (1,0)\")\n",
    "    axs[1].quiver(0, 0, 1, 1, color='blue', scale=1, angles='xy', scale_units='xy', label=\"b2 = (1,1)\")\n",
    "    axs[1].scatter(transformed_points[:, 0], transformed_points[:, 1], color='black', label='(0,3), (-2,5)', zorder=5)\n",
    "    axs[1].annotate('(0,3)', (0 + 0.2, 3), fontsize=9)\n",
    "    axs[1].annotate('(-2,5)', (-2 + 0.2, 5), fontsize=9)\n",
    "    axs[1].set_title(\"새로운 기저 기준 격자 (기저변환됨)\")\n",
    "    axs[1].set_xlim(-5, 5)\n",
    "    axs[1].set_ylim(-5, 6)\n",
    "    axs[1].grid(True)\n",
    "    axs[1].set_aspect('equal')\n",
    "    axs[1].legend()\n",
    "    plt.tight_layout()\n",
    "    plt.show()"
   ]
  },
  {
   "cell_type": "code",
   "execution_count": null,
   "id": "64b1e8c3",
   "metadata": {},
   "outputs": [],
   "source": [
    "plot_basis_comparison()"
   ]
  }
 ],
 "metadata": {
  "kernelspec": {
   "display_name": "Python (.venv)",
   "language": "python",
   "name": ".venv"
  },
  "language_info": {
   "name": "python",
   "version": "3.13.2"
  }
 },
 "nbformat": 4,
 "nbformat_minor": 5
}
