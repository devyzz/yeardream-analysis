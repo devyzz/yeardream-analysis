{
 "cells": [
  {
   "cell_type": "code",
   "execution_count": 2,
   "metadata": {},
   "outputs": [
    {
     "name": "stdout",
     "output_type": "stream",
     "text": [
      "Hello!\n",
      "Hello!\n",
      "Hello!\n",
      "Hello!\n",
      "15\n"
     ]
    }
   ],
   "source": [
    "def say_hello1(n):\n",
    "    print(\"Hello!\")\n",
    "\n",
    "def say_hello2(n):\n",
    "    print(\"Hello!\")\n",
    "    print(\"Hello!\")\n",
    "    print(\"Hello!\")\n",
    "\n",
    "def sum_n(n):\n",
    "    total = n * (n + 1) // 2 \n",
    "    print(total)\n",
    "\n",
    "say_hello1(3)\n",
    "say_hello2(3)\n",
    "sum_n(5)\n"
   ]
  },
  {
   "cell_type": "code",
   "execution_count": 3,
   "metadata": {},
   "outputs": [
    {
     "name": "stdout",
     "output_type": "stream",
     "text": [
      "4\n"
     ]
    }
   ],
   "source": [
    "def count_steps(n):\n",
    "    count = 0\n",
    "    while n > 1:\n",
    "        n //= 2\n",
    "        count += 1\n",
    "    return count\n",
    "\n",
    "print(count_steps(16)) "
   ]
  },
  {
   "cell_type": "code",
   "execution_count": 13,
   "metadata": {},
   "outputs": [
    {
     "name": "stdout",
     "output_type": "stream",
     "text": [
      "중간 인덱스 = 3, 값 = 7\n",
      "찾은 인덱스: 3\n"
     ]
    }
   ],
   "source": [
    "def binary_search(arr, target):\n",
    "    left = 0#인덱스 시작작\n",
    "    right = len(arr) - 1#인덱스 번호\n",
    "    \n",
    "    while left <= right:\n",
    "        mid = (left + right) // 2\n",
    "        print(f\"중간 인덱스 = {mid}, 값 = {arr[mid]}\")\n",
    "        if arr[mid] == target:\n",
    "            return mid  # 찾은 경우\n",
    "        elif arr[mid] < target:\n",
    "            left = mid + 1  # 오른쪽 반 탐색\n",
    "        else:\n",
    "            right = mid - 1  # 왼쪽 반 탐색\n",
    "            \n",
    "    return -1  # 찾지 못한 경우\n",
    "\n",
    "arr = [1, 3, 5, 7, 9, 11, 13]\n",
    "target = 7\n",
    "\n",
    "result = binary_search(arr, target)\n",
    "print(\"찾은 인덱스:\", result)  # 출력: 3"
   ]
  },
  {
   "cell_type": "code",
   "execution_count": 3,
   "metadata": {},
   "outputs": [
    {
     "name": "stdout",
     "output_type": "stream",
     "text": [
      "[1회차] 중간 인덱스 = 3, 값 = 7\n",
      "[2회차] 중간 인덱스 = 5, 값 = 11\n",
      "2번 만에 타겟 11을 찾았습니다!\n",
      "찾은 인덱스: 5\n"
     ]
    }
   ],
   "source": [
    "def binary_search(arr, target):\n",
    "    left = 0  # 인덱스 시작\n",
    "    right = len(arr) - 1  # 인덱스 끝\n",
    "    count = 0  # 몇 번 탐색했는지 카운트\n",
    "\n",
    "    while left <= right:\n",
    "        count += 1  # 반복될 때마다 +1\n",
    "        mid = (left + right) // 2\n",
    "        print(f\"[{count}회차] 중간 인덱스 = {mid}, 값 = {arr[mid]}\")\n",
    "\n",
    "        if arr[mid] == target:\n",
    "            print(f\"{count}번 만에 타겟 {target}을 찾았습니다!\")\n",
    "            return mid\n",
    "        elif arr[mid] < target:\n",
    "            left = mid + 1  # 오른쪽 탐색\n",
    "        else:\n",
    "            right = mid - 1  # 왼쪽 탐색\n",
    "\n",
    "    print(f\"{count}번 탐색했지만 타겟 {target}을 찾지 못했습니다.\")\n",
    "    return -1\n",
    "\n",
    "\n",
    "# 테스트 배열과 타겟\n",
    "arr = [1, 3, 5, 7, 9, 11, 13]\n",
    "target = 11\n",
    "\n",
    "# 실행\n",
    "result = binary_search(arr, target)\n",
    "print(\"찾은 인덱스:\", result)"
   ]
  },
  {
   "cell_type": "code",
   "execution_count": 3,
   "metadata": {},
   "outputs": [
    {
     "name": "stdout",
     "output_type": "stream",
     "text": [
      "9은(는) 인덱스 4에 있으며, 5번 만에 찾았습니다.\n"
     ]
    }
   ],
   "source": [
    "def linear_search(arr, target):\n",
    "    \"\"\"\n",
    "    선형 탐색 함수\n",
    "    :param arr: 탐색할 리스트\n",
    "    :param target: 찾고 싶은 값\n",
    "    :return: (찾은 인덱스, 비교 횟수)\n",
    "    \"\"\"\n",
    "    count = 0  # 비교 횟수 초기화\n",
    "\n",
    "    for i in range(len(arr)):\n",
    "        count += 1  # 비교 1회 수행\n",
    "        if arr[i] == target:\n",
    "            return i, count  # 찾은 인덱스와 비교 횟수 반환\n",
    "\n",
    "    return -1, count  # 찾지 못했을 경우\n",
    "\n",
    "# 예제 리스트\n",
    "data = [4, 2, 7, 1, 9, 3]\n",
    "\n",
    "# 찾고 싶은 값\n",
    "target_value = 9\n",
    "\n",
    "# 함수 호출\n",
    "index, attempts = linear_search(data, target_value)\n",
    "\n",
    "# 결과 출력\n",
    "if index != -1:\n",
    "    print(f\"{target_value}은(는) 인덱스 {index}에 있으며, {attempts}번 만에 찾았습니다.\")\n",
    "else:\n",
    "    print(f\"{target_value}은(는) 리스트에 없습니다. {attempts}번 비교했습니다.\")\n"
   ]
  },
  {
   "cell_type": "code",
   "execution_count": 1,
   "metadata": {},
   "outputs": [
    {
     "name": "stdout",
     "output_type": "stream",
     "text": [
      "4\n"
     ]
    }
   ],
   "source": [
    "def count_steps(n):\n",
    "    if n <= 1:\n",
    "        return 0\n",
    "    else:\n",
    "        return 1 + count_steps(n // 2)\n",
    "\n",
    "print(count_steps(16))  # 출력: 4"
   ]
  },
  {
   "cell_type": "code",
   "execution_count": 4,
   "metadata": {},
   "outputs": [
    {
     "name": "stdout",
     "output_type": "stream",
     "text": [
      "15\n"
     ]
    }
   ],
   "source": [
    "def sum_list(arr):\n",
    "    total = 0\n",
    "    for num in arr:\n",
    "        total += num\n",
    "    return total\n",
    "\n",
    "print(sum_list([1, 2, 3, 4, 5]))"
   ]
  },
  {
   "cell_type": "code",
   "execution_count": 5,
   "metadata": {},
   "outputs": [
    {
     "name": "stdout",
     "output_type": "stream",
     "text": [
      "(1, 1)\n",
      "(1, 2)\n",
      "(1, 3)\n",
      "(2, 1)\n",
      "(2, 2)\n",
      "(2, 3)\n",
      "(3, 1)\n",
      "(3, 2)\n",
      "(3, 3)\n"
     ]
    }
   ],
   "source": [
    "def print_all_pairs(arr):\n",
    "    for i in arr:\n",
    "        for j in arr:\n",
    "            print(f\"({i}, {j})\")\n",
    "print_all_pairs([1, 2, 3])"
   ]
  },
  {
   "cell_type": "code",
   "execution_count": 6,
   "metadata": {},
   "outputs": [
    {
     "name": "stdout",
     "output_type": "stream",
     "text": [
      "5\n"
     ]
    }
   ],
   "source": [
    "def fibonacci(n):\n",
    "    if n <= 1:\n",
    "        return n\n",
    "    return fibonacci(n - 1) + fibonacci(n - 2)\n",
    "print(fibonacci(5))"
   ]
  },
  {
   "cell_type": "code",
   "execution_count": 1,
   "metadata": {},
   "outputs": [
    {
     "name": "stdout",
     "output_type": "stream",
     "text": [
      "fibonacci(5) 호출\n",
      "fibonacci(4) 호출\n",
      "fibonacci(3) 호출\n",
      "fibonacci(2) 호출\n",
      "fibonacci(1) 호출\n",
      "→ 반환: 1\n",
      "fibonacci(0) 호출\n",
      "→ 반환: 0\n",
      "→ fibonacci(1) + fibonacci(0) = 1 + 0 = 1\n",
      "fibonacci(1) 호출\n",
      "→ 반환: 1\n",
      "→ fibonacci(2) + fibonacci(1) = 1 + 1 = 2\n",
      "fibonacci(2) 호출\n",
      "fibonacci(1) 호출\n",
      "→ 반환: 1\n",
      "fibonacci(0) 호출\n",
      "→ 반환: 0\n",
      "→ fibonacci(1) + fibonacci(0) = 1 + 0 = 1\n",
      "→ fibonacci(3) + fibonacci(2) = 2 + 1 = 3\n",
      "fibonacci(3) 호출\n",
      "fibonacci(2) 호출\n",
      "fibonacci(1) 호출\n",
      "→ 반환: 1\n",
      "fibonacci(0) 호출\n",
      "→ 반환: 0\n",
      "→ fibonacci(1) + fibonacci(0) = 1 + 0 = 1\n",
      "fibonacci(1) 호출\n",
      "→ 반환: 1\n",
      "→ fibonacci(2) + fibonacci(1) = 1 + 1 = 2\n",
      "→ fibonacci(4) + fibonacci(3) = 3 + 2 = 5\n",
      "최종 결과: 5\n"
     ]
    }
   ],
   "source": [
    "def fibonacci(n):\n",
    "    print(f\"fibonacci({n}) 호출\")\n",
    "\n",
    "    if n <= 1:\n",
    "        print(f\"→ 반환: {n}\")\n",
    "        return n\n",
    "\n",
    "    left = fibonacci(n - 1)\n",
    "    right = fibonacci(n - 2)\n",
    "    result = left + right\n",
    "\n",
    "    print(f\"→ fibonacci({n - 1}) + fibonacci({n - 2}) = {left} + {right} = {result}\")\n",
    "    return result\n",
    "\n",
    "# 테스트\n",
    "print(\"최종 결과:\", fibonacci(5))\n"
   ]
  },
  {
   "cell_type": "code",
   "execution_count": 15,
   "metadata": {},
   "outputs": [
    {
     "name": "stdout",
     "output_type": "stream",
     "text": [
      "13\n"
     ]
    }
   ],
   "source": [
    "def fibonacci_iter(n):\n",
    "    a, b = 0, 1           # 초기 피보나치 값 설정: F(0) = 0, F(1) = 1\n",
    "    for _ in range(n):   # n번 반복\n",
    "        a, b = b, a + b   # a에 F(n), b에 F(n+1)을 저장\n",
    "    return a              # n번째 피보나치 수 반환\n",
    "print(fibonacci_iter(7))"
   ]
  },
  {
   "cell_type": "code",
   "execution_count": 16,
   "metadata": {},
   "outputs": [
    {
     "name": "stdout",
     "output_type": "stream",
     "text": [
      "순열 소요 시간: 0.001001596450805664\n",
      "조합 소요 시간: 0.0\n"
     ]
    }
   ],
   "source": [
    "from itertools import permutations, combinations\n",
    "\n",
    "from time import time\n",
    "\n",
    "data = list(range(10))  # 0~9\n",
    "\n",
    "start = time()\n",
    "list(permutations(data, 4))  # 순열: 5040개\n",
    "print(\"순열 소요 시간:\", time() - start)\n",
    "\n",
    "start = time()\n",
    "list(combinations(data, 4))  # 조합: 210개\n",
    "print(\"조합 소요 시간:\", time() - start)"
   ]
  },
  {
   "cell_type": "code",
   "execution_count": 17,
   "metadata": {},
   "outputs": [
    {
     "name": "stdout",
     "output_type": "stream",
     "text": [
      "순열 (Permutation):\n",
      "('A', 'B')\n",
      "('A', 'C')\n",
      "('B', 'A')\n",
      "('B', 'C')\n",
      "('C', 'A')\n",
      "('C', 'B')\n",
      "\n",
      "조합 (Combination):\n",
      "('A', 'B')\n",
      "('A', 'C')\n",
      "('B', 'C')\n"
     ]
    }
   ],
   "source": [
    "import itertools\n",
    "\n",
    "# 순열: 모든 가능한 순서의 나열\n",
    "print(\"순열 (Permutation):\")\n",
    "for p in itertools.permutations(['A', 'B', 'C'], 2):\n",
    "    print(p)\n",
    "\n",
    "# 조합: 순서를 고려하지 않는 뽑기\n",
    "print(\"\\n조합 (Combination):\")\n",
    "for c in itertools.combinations(['A', 'B', 'C'], 2):\n",
    "    print(c)"
   ]
  },
  {
   "cell_type": "code",
   "execution_count": 38,
   "metadata": {},
   "outputs": [
    {
     "name": "stdout",
     "output_type": "stream",
     "text": [
      "⚠️ 입력 리스트가 비어 있습니다. 순열을 생성할 수 없습니다.\n",
      "[1, 2]\n",
      "[2, 1]\n",
      "⚠️ path도 비어 있습니다. 순열을 구성할 수 없습니다.\n"
     ]
    }
   ],
   "source": [
    "def permute(arr, path=None):\n",
    "    # 최초 호출 시: 입력 배열이 비었는지 확인\n",
    "    if path is None:\n",
    "        if not arr:\n",
    "            print(\"⚠️ 입력 리스트가 비어 있습니다. 순열을 생성할 수 없습니다.\")\n",
    "            return\n",
    "        path = []\n",
    "\n",
    "    # 재귀 종료 조건: arr에 남은 값이 없을 때\n",
    "    if len(arr) == 0:\n",
    "        if not path:\n",
    "            print(\"⚠️ path도 비어 있습니다. 순열을 구성할 수 없습니다.\")\n",
    "        else:\n",
    "            print(path)\n",
    "        return\n",
    "\n",
    "    # 재귀적으로 순열 구성\n",
    "    for i in range(len(arr)):\n",
    "        permute(arr[:i] + arr[i+1:], path + [arr[i]])\n",
    "\n",
    "permute([])           \n",
    "permute([1, 2])      \n",
    "permute([], [])      "
   ]
  },
  {
   "cell_type": "code",
   "execution_count": 39,
   "metadata": {},
   "outputs": [
    {
     "name": "stdout",
     "output_type": "stream",
     "text": [
      "[1, 2, 3]\n",
      "[1, 3, 2]\n",
      "[2, 1, 3]\n",
      "[2, 3, 1]\n",
      "[3, 1, 2]\n",
      "[3, 2, 1]\n"
     ]
    }
   ],
   "source": [
    "def permute(arr, path=[]):\n",
    "    if not arr: #더 이상 남은 원소가 없으면(arr=[]) path(결과리스트)가 완성된 순열이므로 출력\n",
    "        print(path)\n",
    "        return\n",
    "    for i in range(len(arr)):\n",
    "        permute(arr[:i] + arr[i+1:], path + [arr[i]])\n",
    "\n",
    "permute([1, 2, 3])"
   ]
  },
  {
   "cell_type": "code",
   "execution_count": 12,
   "metadata": {},
   "outputs": [
    {
     "name": "stdout",
     "output_type": "stream",
     "text": [
      "180\n"
     ]
    }
   ],
   "source": [
    "def max_product_brute_force(arr):\n",
    "    n = len(arr)\n",
    "    max_val = 0\n",
    "    for i in range(n):\n",
    "        for j in range(i + 1, n):\n",
    "            product = arr[i] * arr[j]\n",
    "            if product > max_val:\n",
    "                max_val = product\n",
    "    return max_val\n",
    "\n",
    "print(max_product_brute_force([2, 5, 9, 12, 15]))  # 출력: 12 * 15 = 180"
   ]
  },
  {
   "cell_type": "code",
   "execution_count": 13,
   "metadata": {},
   "outputs": [
    {
     "name": "stdout",
     "output_type": "stream",
     "text": [
      "180\n"
     ]
    }
   ],
   "source": [
    "def max_product_optimized(arr):\n",
    "    return arr[-1] * arr[-2]  # 가장 큰 수 * 두 번째로 큰 수\n",
    "\n",
    "print(max_product_optimized([2, 5, 9, 12, 15]))  # 출력: 180"
   ]
  },
  {
   "cell_type": "code",
   "execution_count": 5,
   "metadata": {},
   "outputs": [
    {
     "name": "stdout",
     "output_type": "stream",
     "text": [
      "문제 1 결과: 10\n",
      "문제 2 결과:\n",
      "1\n",
      "2\n",
      "3\n",
      "문제 3 결과:\n",
      "1 1\n",
      "1 2\n",
      "1 3\n",
      "2 1\n",
      "2 2\n",
      "2 3\n",
      "3 1\n",
      "3 2\n",
      "3 3\n",
      "문제 4 결과: 55\n",
      "문제 5 결과: 2\n",
      "문제 6 결과: 120\n",
      "문제 7 결과: 8\n",
      "문제 8 결과:\n",
      "(1, 2, 3)\n",
      "(1, 3, 2)\n",
      "(2, 1, 3)\n",
      "(2, 3, 1)\n",
      "(3, 1, 2)\n",
      "(3, 2, 1)\n",
      "문제 9 결과:\n",
      "1 2\n",
      "1 3\n",
      "2 3\n",
      "문제 10 결과: [1, 2, 3, 5, 7, 8]\n"
     ]
    }
   ],
   "source": [
    "# 시간 복잡도 퀴즈 10문제 (O(√n), O(n^3) 제외)_실행 예제 및 정답\n",
    "\n",
    "# 문제 1: O(1)?\n",
    "# 정답: O(1)\n",
    "def get_first_item(arr):\n",
    "    return arr[0]\n",
    "\n",
    "# 실행 예제\n",
    "print(\"문제 1 결과:\", get_first_item([10, 20, 30]))\n",
    "\n",
    "# 문제 2: O(n)?\n",
    "# 정답: O(n)\n",
    "def print_all_items(arr):\n",
    "    for item in arr:\n",
    "        print(item)\n",
    "\n",
    "print(\"문제 2 결과:\")\n",
    "print_all_items([1, 2, 3])\n",
    "\n",
    "# 문제 3: O(n^2)?\n",
    "# 정답: O(n^2)\n",
    "def print_item_pairs(arr):\n",
    "    for i in arr:\n",
    "        for j in arr:\n",
    "            print(i, j)\n",
    "\n",
    "print(\"문제 3 결과:\")\n",
    "print_item_pairs([1, 2, 3])\n",
    "\n",
    "# 문제 4: O(n)?\n",
    "# 정답: O(n)\n",
    "def sum_n(n):\n",
    "    total = 0\n",
    "    for i in range(1, n+1):\n",
    "        total += i\n",
    "    return total\n",
    "\n",
    "print(\"문제 4 결과:\", sum_n(10))\n",
    "\n",
    "# 문제 5: O(log n)?\n",
    "# 정답: O(log n)\n",
    "def binary_search(arr, target):\n",
    "    low, high = 0, len(arr) - 1\n",
    "    while low <= high:\n",
    "        mid = (low + high) // 2\n",
    "        if arr[mid] == target:\n",
    "            return mid\n",
    "        elif arr[mid] < target:\n",
    "            low = mid + 1\n",
    "        else:\n",
    "            high = mid - 1\n",
    "    return -1\n",
    "\n",
    "print(\"문제 5 결과:\", binary_search([1, 3, 5, 7, 9], 5))\n",
    "\n",
    "# 문제 6: O(n)?\n",
    "# 정답: O(n)\n",
    "def factorial(n):\n",
    "    if n <= 1:\n",
    "        return 1\n",
    "    return n * factorial(n - 1)\n",
    "\n",
    "print(\"문제 6 결과:\", factorial(5))\n",
    "\n",
    "# 문제 7: O(2^n)?\n",
    "# 정답: O(2^n)\n",
    "def fib(n):\n",
    "    if n <= 1:\n",
    "        return n\n",
    "    return fib(n-1) + fib(n-2)\n",
    "\n",
    "print(\"문제 7 결과:\", fib(6))\n",
    "\n",
    "# 문제 8: O(n!)?\n",
    "# 정답: O(n!)\n",
    "import itertools\n",
    "\n",
    "def print_permutations(arr):\n",
    "    for p in itertools.permutations(arr):\n",
    "        print(p)\n",
    "\n",
    "print(\"문제 8 결과:\")\n",
    "print_permutations([1, 2, 3])\n",
    "\n",
    "# 문제 9: O(n^2)?\n",
    "# 정답: O(n^2)\n",
    "def double_loop_once(arr):\n",
    "    for i in range(len(arr)):\n",
    "        for j in range(i+1, len(arr)):\n",
    "            print(arr[i], arr[j])\n",
    "\n",
    "print(\"문제 9 결과:\")\n",
    "double_loop_once([1, 2, 3])\n",
    "\n",
    "# 문제 10: O(n log n)?\n",
    "# 정답: O(n log n)\n",
    "def merge_sort(arr):\n",
    "    if len(arr) <= 1:\n",
    "        return arr\n",
    "    mid = len(arr)//2\n",
    "    left = merge_sort(arr[:mid])\n",
    "    right = merge_sort(arr[mid:])\n",
    "    return merge(left, right)\n",
    "\n",
    "def merge(left, right):\n",
    "    result = []\n",
    "    while left and right:\n",
    "        if left[0] < right[0]:\n",
    "            result.append(left.pop(0))\n",
    "        else:\n",
    "            result.append(right.pop(0))\n",
    "    result += left\n",
    "    result += right\n",
    "    return result\n",
    "\n",
    "print(\"문제 10 결과:\", merge_sort([5, 3, 8, 1, 2, 7]))\n",
    "\n",
    "# 문제 1: O(1)\n",
    "# 문제 2: O(n)\n",
    "# 문제 3: O(n^2)\n",
    "# 문제 4: O(n)\n",
    "# 문제 5: O(log n)\n",
    "# 문제 6: O(n)\n",
    "# 문제 7: O(2^n)\n",
    "# 문제 8: O(n!)\n",
    "# 문제 9: O(n^2)\n",
    "# 문제 10: O(n log n)\n"
   ]
  },
  {
   "cell_type": "code",
   "execution_count": 4,
   "metadata": {},
   "outputs": [
    {
     "name": "stdout",
     "output_type": "stream",
     "text": [
      "문제 1 결과: 10\n",
      "문제 2 결과:\n",
      "1\n",
      "2\n",
      "3\n",
      "문제 3 결과:\n",
      "1 1\n",
      "1 2\n",
      "1 3\n",
      "2 1\n",
      "2 2\n",
      "2 3\n",
      "3 1\n",
      "3 2\n",
      "3 3\n",
      "문제 4 결과: 55\n",
      "문제 5 결과: 2\n",
      "문제 6 결과: 120\n",
      "문제 7 결과: 8\n",
      "문제 8 결과:\n",
      "(1, 2, 3)\n",
      "(1, 3, 2)\n",
      "(2, 1, 3)\n",
      "(2, 3, 1)\n",
      "(3, 1, 2)\n",
      "(3, 2, 1)\n",
      "문제 9 결과:\n",
      "1 2\n",
      "1 3\n",
      "2 3\n",
      "문제 10 결과: [1, 2, 3, 5, 7, 8]\n"
     ]
    }
   ],
   "source": [
    "# 문제 1\n",
    "def get_first_item(arr):\n",
    "    return arr[0]\n",
    "\n",
    "print(\"문제 1 결과:\", get_first_item([10, 20, 30]))\n",
    "\n",
    "# 문제 2\n",
    "def print_all_items(arr):\n",
    "    for item in arr:\n",
    "        print(item)\n",
    "\n",
    "print(\"문제 2 결과:\")\n",
    "print_all_items([1, 2, 3])\n",
    "\n",
    "# 문제 3\n",
    "def print_item_pairs(arr):\n",
    "    for i in arr:\n",
    "        for j in arr:\n",
    "            print(i, j)\n",
    "\n",
    "print(\"문제 3 결과:\")\n",
    "print_item_pairs([1, 2, 3])\n",
    "\n",
    "# 문제 4\n",
    "def sum_n(n):\n",
    "    total = 0\n",
    "    for i in range(1, n+1):\n",
    "        total += i\n",
    "    return total\n",
    "\n",
    "print(\"문제 4 결과:\", sum_n(10))\n",
    "\n",
    "# 문제 5\n",
    "\n",
    "def binary_search(arr, target):\n",
    "    low, high = 0, len(arr) - 1\n",
    "    while low <= high:\n",
    "        mid = (low + high) // 2\n",
    "        if arr[mid] == target:\n",
    "            return mid\n",
    "        elif arr[mid] < target:\n",
    "            low = mid + 1\n",
    "        else:\n",
    "            high = mid - 1\n",
    "    return -1\n",
    "\n",
    "print(\"문제 5 결과:\", binary_search([1, 3, 5, 7, 9], 5))\n",
    "\n",
    "# 문제 6\n",
    "\n",
    "def factorial(n):\n",
    "    if n <= 1:\n",
    "        return 1\n",
    "    return n * factorial(n - 1)\n",
    "\n",
    "print(\"문제 6 결과:\", factorial(5))\n",
    "\n",
    "# 문제 7\n",
    "\n",
    "def fib(n):\n",
    "    if n <= 1:\n",
    "        return n\n",
    "    return fib(n-1) + fib(n-2)\n",
    "\n",
    "print(\"문제 7 결과:\", fib(6))\n",
    "\n",
    "# 문제 8\n",
    "\n",
    "import itertools\n",
    "\n",
    "def print_permutations(arr):\n",
    "    for p in itertools.permutations(arr):\n",
    "        print(p)\n",
    "\n",
    "print(\"문제 8 결과:\")\n",
    "print_permutations([1, 2, 3])\n",
    "\n",
    "# 문제 9\n",
    "def double_loop_once(arr):\n",
    "    for i in range(len(arr)):\n",
    "        for j in range(i+1, len(arr)):\n",
    "            print(arr[i], arr[j])\n",
    "\n",
    "print(\"문제 9 결과:\")\n",
    "double_loop_once([1, 2, 3])\n",
    "\n",
    "# 문제 10\n",
    "\n",
    "def merge_sort(arr):\n",
    "    if len(arr) <= 1:\n",
    "        return arr\n",
    "    mid = len(arr)//2\n",
    "    left = merge_sort(arr[:mid])\n",
    "    right = merge_sort(arr[mid:])\n",
    "    return merge(left, right)\n",
    "\n",
    "def merge(left, right):\n",
    "    result = []\n",
    "    while left and right:\n",
    "        if left[0] < right[0]:\n",
    "            result.append(left.pop(0))\n",
    "        else:\n",
    "            result.append(right.pop(0))\n",
    "    result += left\n",
    "    result += right\n",
    "    return result\n",
    "\n",
    "print(\"문제 10 결과:\", merge_sort([5, 3, 8, 1, 2, 7]))"
   ]
  },
  {
   "cell_type": "code",
   "execution_count": null,
   "metadata": {},
   "outputs": [],
   "source": []
  },
  {
   "cell_type": "markdown",
   "metadata": {},
   "source": []
  }
 ],
 "metadata": {
  "kernelspec": {
   "display_name": "Python 3",
   "language": "python",
   "name": "python3"
  },
  "language_info": {
   "codemirror_mode": {
    "name": "ipython",
    "version": 3
   },
   "file_extension": ".py",
   "mimetype": "text/x-python",
   "name": "python",
   "nbconvert_exporter": "python",
   "pygments_lexer": "ipython3",
   "version": "3.11.9"
  }
 },
 "nbformat": 4,
 "nbformat_minor": 2
}
