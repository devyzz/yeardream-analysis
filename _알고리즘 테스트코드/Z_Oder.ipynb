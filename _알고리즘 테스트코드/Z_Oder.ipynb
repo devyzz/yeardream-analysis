{
 "cells": [
  {
   "cell_type": "code",
   "execution_count": 1,
   "metadata": {},
   "outputs": [
    {
     "name": "stdout",
     "output_type": "stream",
     "text": [
      "입력 형식: n r c (예: 2 3 1)\n",
      "\n",
      "결과 (Z 순서 방문 인덱스): 11\n"
     ]
    }
   ],
   "source": [
    "# Z 모양 순서에서 좌표 (r, c)가 몇 번째로 방문되는지 구하는 문제\n",
    "# 예: 입력 -> 2 3 1 → 출력: 11\n",
    "\n",
    "def sol(n, x, y):\n",
    "    global result\n",
    "    # (r, c) 위치에 도달했을 경우 result 출력\n",
    "    if x == r and y == c:\n",
    "        print(f\"\\n결과 (Z 순서 방문 인덱스): {int(result)}\")\n",
    "        return\n",
    "\n",
    "    # 현재 사각형에 (r, c)가 포함되지 않으면 전부 스킵\n",
    "    if not (x <= r < x + n and y <= c < y + n):\n",
    "        result += n * n\n",
    "        return\n",
    "\n",
    "    # 4개의 사분면으로 나누어 재귀적으로 탐색\n",
    "    sol(n // 2, x, y)                     # 1사분면\n",
    "    sol(n // 2, x, y + n // 2)            # 2사분면\n",
    "    sol(n // 2, x + n // 2, y)            # 3사분면\n",
    "    sol(n // 2, x + n // 2, y + n // 2)   # 4사분면\n",
    "\n",
    "# 입력 받기 (예: 2 3 1 → 2^2 배열에서 (3,1)의 방문 순서)\n",
    "print(\"입력 형식: n r c (예: 2 3 1)\")\n",
    "n, r, c = map(int, input(\"입력: \").split())\n",
    "\n",
    "# 전역 변수 result 초기화\n",
    "result = 0\n",
    "\n",
    "# 2^n x 2^n 배열로 시작, 좌상단 (0,0)부터 탐색\n",
    "sol(1 << n, 0, 0)\n"
   ]
  },
  {
   "cell_type": "code",
   "execution_count": 3,
   "metadata": {},
   "outputs": [
    {
     "name": "stdout",
     "output_type": "stream",
     "text": [
      "Z 순서로 채워진 배열:\n",
      " 0  1  4  5\n",
      " 2  3  6  7\n",
      " 8  9 12 13\n",
      "10 11 14 15\n",
      "\n",
      " 좌표 (3, 1) 의 방문 순서: 11\n"
     ]
    }
   ],
   "source": [
    "# 입력값 고정: 2^2 크기의 배열에서 (3, 1)의 방문 순서를 구함\n",
    "n = 2            # 배열 차수 → 크기 = 2^n = 4\n",
    "r, c = 3, 1      # 찾고자 하는 행과 열 좌표\n",
    "\n",
    "size = 2 ** n    # 배열의 한 변의 크기 (4)\n",
    "count = 0        # 방문 순서를 저장할 숫자\n",
    "z_map = [[0] * size for _ in range(size)]  # 2차원 배열 초기화\n",
    "\n",
    "# Z 순서로 배열을 채우는 재귀 함수\n",
    "def fill_z(x, y, size):\n",
    "    global count\n",
    "    if size == 1:                   # 1칸이면 값을 채우고 끝냄\n",
    "        z_map[x][y] = count         # 현재 좌표에 순서 저장\n",
    "        count += 1                  # 순서 증가\n",
    "        return\n",
    "\n",
    "    half = size // 2                # 사각형을 4개로 나눔\n",
    "\n",
    "    # Z 순서로 각 사분면을 재귀적으로 호출\n",
    "    fill_z(x, y, half)                      # 1사분면 (왼쪽 위)\n",
    "    fill_z(x, y + half, half)              # 2사분면 (오른쪽 위)\n",
    "    fill_z(x + half, y, half)              # 3사분면 (왼쪽 아래)\n",
    "    fill_z(x + half, y + half, half)       # 4사분면 (오른쪽 아래)\n",
    "\n",
    "# 배열 채우기 시작 (좌상단에서 전체 크기로 시작)\n",
    "fill_z(0, 0, size)\n",
    "\n",
    "# 배열 출력\n",
    "print(\"Z 순서로 채워진 배열:\")\n",
    "for row in z_map:\n",
    "    print(\" \".join(f\"{num:2d}\" for num in row))  # 보기 좋게 정렬해서 출력\n",
    "\n",
    "print(f\"\\n 좌표 ({r}, {c}) 의 방문 순서: {z_map[r][c]}\")\n",
    "\n"
   ]
  },
  {
   "cell_type": "code",
   "execution_count": null,
   "metadata": {},
   "outputs": [],
   "source": [
    "# 사용자로부터 두 정수 n, m을 입력받음\n",
    "# n: 사용할 수 있는 숫자의 범위 (1부터 n까지)\n",
    "# m: 뽑을 숫자의 개수\n",
    "n, m = list(map(int, input().split()))\n",
    "\n",
    "# 숫자를 조합해 나갈 리스트 (현재 경로)\n",
    "s = []\n",
    "\n",
    "# 백트래킹을 위한 DFS 함수 정의\n",
    "def dfs():\n",
    "    # 길이가 m인 조합이 완성되었으면 출력하고 종료\n",
    "    if len(s) == m:\n",
    "        print(' '.join(map(str, s)))  # 리스트 s를 문자열로 변환 후 공백으로 출력\n",
    "        return\n",
    "\n",
    "    # 1부터 n까지 숫자를 반복하며 선택 시도\n",
    "    for i in range(1, n + 1):\n",
    "        if i not in s:          # 중복 방지를 위해 이미 선택된 숫자는 제외\n",
    "            s.append(i)         # 숫자 i를 선택 (현재 경로에 추가)\n",
    "            dfs()               # 재귀 호출하여 다음 숫자 선택\n",
    "            s.pop()             # 백트래킹: 마지막에 선택한 숫자 제거 (되돌리기)\n",
    "\n",
    "# DFS 탐색 시작\n",
    "dfs()"
   ]
  },
  {
   "cell_type": "code",
   "execution_count": null,
   "metadata": {},
   "outputs": [],
   "source": [
    "import sys\n",
    "result = 0  # 방문 순서 값을 누적 저장하는 전역 변수\n",
    "\n",
    "def sol(n, x, y):\n",
    "    global result\n",
    "    # (x, y)부터 시작하는 n x n 정사각형 영역에서 (r, c)를 찾는 재귀 함수\n",
    "\n",
    "    if x == r and y == c:\n",
    "        # 기저 조건: 찾는 좌표에 도달했으면 결과 출력 후 종료\n",
    "        print(int(result))\n",
    "        return\n",
    "\n",
    "    if not (x <= r < x + n and y <= c < y + n):\n",
    "        # 현재 정사각형이 (r, c)를 포함하지 않으면 이 영역은 건너뜀\n",
    "        result += n * n  # 이 영역에 포함된 칸 수만큼 순서를 증가시킴\n",
    "        return\n",
    "\n",
    "    # 현재 정사각형을 4등분하여 재귀적으로 탐색\n",
    "    sol(n / 2, x, y)                   # 1사분면 (왼쪽 위)\n",
    "    sol(n / 2, x, y + n / 2)           # 2사분면 (오른쪽 위)\n",
    "    sol(n / 2, x + n / 2, y)           # 3사분면 (왼쪽 아래)\n",
    "    sol(n / 2, x + n / 2, y + n / 2)   # 4사분면 (오른쪽 아래)\n",
    "\n",
    "# 입력: n은 배열 크기의 지수, r과 c는 찾고자 하는 위치\n",
    "n, r, c = map(int, sys.stdin.readline().split(' '))\n",
    "\n",
    "# 2^n 크기의 배열로 시작 (1 << n == 2^n)\n",
    "sol(1 << n, 0, 0)"
   ]
  }
 ],
 "metadata": {
  "kernelspec": {
   "display_name": "Python 3",
   "language": "python",
   "name": "python3"
  },
  "language_info": {
   "codemirror_mode": {
    "name": "ipython",
    "version": 3
   },
   "file_extension": ".py",
   "mimetype": "text/x-python",
   "name": "python",
   "nbconvert_exporter": "python",
   "pygments_lexer": "ipython3",
   "version": "3.11.9"
  }
 },
 "nbformat": 4,
 "nbformat_minor": 2
}
