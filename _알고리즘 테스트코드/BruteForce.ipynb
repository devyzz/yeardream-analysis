{
 "cells": [
  {
   "cell_type": "code",
   "execution_count": 3,
   "metadata": {},
   "outputs": [
    {
     "name": "stdout",
     "output_type": "stream",
     "text": [
      "부분집합: (5,), 합: 5\n",
      "부분집합: (1,), 합: 1\n",
      "부분집합: (2,), 합: 2\n",
      "부분집합: (5, 1), 합: 6\n",
      "부분집합: (5, 2), 합: 7\n",
      "부분집합: (1, 2), 합: 3\n",
      "부분집합: (5, 1, 2), 합: 8\n",
      "\n",
      "최대 부분합: 8\n",
      "최대 부분합을 가지는 부분집합: (5, 1, 2)\n"
     ]
    }
   ],
   "source": [
    "from itertools import combinations\n",
    "\n",
    "arr = [5, 1, 2]\n",
    "max_sum = 0\n",
    "max_subset = []\n",
    "\n",
    "# 부분집합 생성 (1~len(arr)개씩 선택)\n",
    "for r in range(1, len(arr) + 1):\n",
    "    for subset in combinations(arr, r):\n",
    "        current_sum = sum(subset)\n",
    "        print(f\"부분집합: {subset}, 합: {current_sum}\")\n",
    "        if current_sum > max_sum:\n",
    "            max_sum = current_sum\n",
    "            max_subset = subset\n",
    "\n",
    "print(\"\\n최대 부분합:\", max_sum)\n",
    "print(\"최대 부분합을 가지는 부분집합:\", max_subset)"
   ]
  },
  {
   "cell_type": "code",
   "execution_count": 4,
   "metadata": {},
   "outputs": [
    {
     "name": "stdout",
     "output_type": "stream",
     "text": [
      "[(1, 2), (1, 3), (2, 3)]\n"
     ]
    }
   ],
   "source": [
    "from itertools import combinations\n",
    "\n",
    "arr = [1, 2, 3]\n",
    "result = list(combinations(arr, 2))\n",
    "\n",
    "print(result)"
   ]
  },
  {
   "cell_type": "code",
   "execution_count": 5,
   "metadata": {},
   "outputs": [
    {
     "name": "stdout",
     "output_type": "stream",
     "text": [
      "('A', 'B', 'C')\n",
      "('A', 'B', 'D')\n",
      "('A', 'C', 'D')\n",
      "('B', 'C', 'D')\n"
     ]
    }
   ],
   "source": [
    "from itertools import combinations\n",
    "\n",
    "arr = ['A', 'B', 'C', 'D']\n",
    "for comb in combinations(arr, 3):\n",
    "    print(comb)\n"
   ]
  },
  {
   "cell_type": "code",
   "execution_count": 6,
   "metadata": {},
   "outputs": [
    {
     "name": "stdout",
     "output_type": "stream",
     "text": [
      "[('a', 'b'), ('a', 'c'), ('b', 'c')]\n"
     ]
    }
   ],
   "source": [
    "from itertools import combinations\n",
    "\n",
    "text = 'abc'\n",
    "result = list(combinations(text, 2))\n",
    "print(result)"
   ]
  },
  {
   "cell_type": "code",
   "execution_count": 7,
   "metadata": {},
   "outputs": [
    {
     "name": "stdout",
     "output_type": "stream",
     "text": [
      "(1, 2, 3)\n",
      "(1, 3, 2)\n",
      "(2, 1, 3)\n",
      "(2, 3, 1)\n",
      "(3, 1, 2)\n",
      "(3, 2, 1)\n"
     ]
    }
   ],
   "source": [
    "from itertools import permutations\n",
    "\n",
    "nums = [1, 2, 3]\n",
    "result = list(permutations(nums, 3))\n",
    "\n",
    "for r in result:\n",
    "    print(r)"
   ]
  },
  {
   "cell_type": "code",
   "execution_count": 8,
   "metadata": {},
   "outputs": [
    {
     "name": "stdout",
     "output_type": "stream",
     "text": [
      "[(1, 2), (1, 3), (2, 1), (2, 3), (3, 1), (3, 2)]\n"
     ]
    }
   ],
   "source": [
    "from itertools import permutations\n",
    "\n",
    "nums = [1, 2, 3]\n",
    "result = list(permutations(nums, 2))\n",
    "\n",
    "print(result)"
   ]
  },
  {
   "cell_type": "code",
   "execution_count": 9,
   "metadata": {},
   "outputs": [
    {
     "name": "stdout",
     "output_type": "stream",
     "text": [
      "완전탐색: 54\n"
     ]
    }
   ],
   "source": [
    "def max_product_brute_force(arr):\n",
    "    max_product = 0\n",
    "    n = len(arr)\n",
    "    for i in range(n):\n",
    "        for j in range(i + 1, n):\n",
    "            product = arr[i] * arr[j]\n",
    "            max_product = max(max_product, product)\n",
    "    return max_product\n",
    "\n",
    "arr = [1, 3, 5, 6, 9]\n",
    "print(\"완전탐색:\", max_product_brute_force(arr)) "
   ]
  },
  {
   "cell_type": "code",
   "execution_count": 10,
   "metadata": {},
   "outputs": [
    {
     "name": "stdout",
     "output_type": "stream",
     "text": [
      "그리디: 54\n"
     ]
    }
   ],
   "source": [
    "def max_product_greedy(arr):\n",
    "    return arr[-1] * arr[-2]\n",
    "\n",
    "arr = [1, 3, 5, 6, 9]\n",
    "print(\"그리디:\", max_product_greedy(arr))  "
   ]
  },
  {
   "cell_type": "code",
   "execution_count": 13,
   "metadata": {},
   "outputs": [
    {
     "name": "stdout",
     "output_type": "stream",
     "text": [
      "그리디 동전 개수: 6\n",
      "그리디 사용 동전: [25, 1, 1, 1, 1, 1]\n"
     ]
    }
   ],
   "source": [
    "def greedy_change_simple(coins, target):\n",
    "    count = 0\n",
    "    result = []\n",
    "    \n",
    "    for coin in [25, 10, 1]:\n",
    "        while target >= coin:\n",
    "            target -= coin\n",
    "            result.append(coin)\n",
    "            count += 1\n",
    "    \n",
    "    return count, result\n",
    "\n",
    "count, used = greedy_change_simple([25, 10, 1], 30)\n",
    "print(\"그리디 동전 개수:\", count)\n",
    "print(\"그리디 사용 동전:\", used)"
   ]
  },
  {
   "cell_type": "code",
   "execution_count": 16,
   "metadata": {},
   "outputs": [
    {
     "name": "stdout",
     "output_type": "stream",
     "text": [
      "완전탐핵 최적 동전 개수: 3\n",
      "완전탐색 사용한 동전: [10, 10, 10]\n"
     ]
    }
   ],
   "source": [
    "def optimal_change(coins, target):\n",
    "    dp = [9999] * (target + 1)\n",
    "    trace = [-1] * (target + 1)\n",
    "    dp[0] = 0\n",
    "\n",
    "    for i in range(1, target + 1):\n",
    "        for coin in coins:\n",
    "            if i >= coin and dp[i - coin] + 1 < dp[i]:\n",
    "                dp[i] = dp[i - coin] + 1\n",
    "                trace[i] = coin\n",
    "\n",
    "    # 사용한 동전 추적\n",
    "    used = []\n",
    "    while target > 0:\n",
    "        coin = trace[target]\n",
    "        if coin == -1:\n",
    "            break\n",
    "        used.append(coin)\n",
    "        target -= coin\n",
    "\n",
    "    return dp[-1], used\n",
    "\n",
    "# 실행\n",
    "count, coins_used = optimal_change([25, 10, 1], 30)\n",
    "print(\"완전탐핵 최적 동전 개수:\", count)\n",
    "print(\"완전탐색 사용한 동전:\", coins_used)\n"
   ]
  },
  {
   "cell_type": "code",
   "execution_count": 24,
   "metadata": {},
   "outputs": [
    {
     "name": "stdout",
     "output_type": "stream",
     "text": [
      "완전탐색 최적 동전 개수: 3\n",
      "완전탐색 사용한 동전 목록: [10, 10, 10]\n"
     ]
    }
   ],
   "source": [
    "from collections import Counter  # 동전 개수를 세기 위해 Counter 모듈 사용\n",
    "\n",
    "def brute_force_change(coins, target):\n",
    "    min_count = 9999  # 가장 적게 쓴 동전 개수를 저장할 변수 (초기엔 큰 값)\n",
    "    best_combo = []   # 가장 좋은(최소 개수) 동전 조합을 저장할 리스트\n",
    "\n",
    "    # 가능한 모든 동전 조합을 시도\n",
    "    for a in range(target // coins[0] + 1):  # # 25원 개수: 0~1\n",
    "        for b in range(target // coins[1] + 1):  # 10원 개수: 0~3\n",
    "            for c in range(target // coins[2] + 1):  # 1원 개수: 0~30\n",
    "                \n",
    "                # 현재 조합의 총 금액 계산\n",
    "                total = coins[0]*a + coins[1]*b + coins[2]*c\n",
    "                if total == target:  # 목표 금액과 일치할 때만 처리\n",
    "                    count = a + b + c  # 현재 조합의 총 동전 개수\n",
    "                    if count < min_count:  # 지금까지 중에서 최소면 업데이트\n",
    "                        min_count = count  # 최소 동전 개수 갱신\n",
    "                        # 동전 조합 생성: 예) [25, 10, 10, 1, 1]\n",
    "                        best_combo = [coins[0]] * a + [coins[1]] * b + [coins[2]] * c\n",
    "\n",
    "    # 만들 수 없는 경우 처리\n",
    "    if min_count == 9999:\n",
    "        return -1, []  # 실패 시 -1과 빈 리스트 반환\n",
    "\n",
    "    return min_count, best_combo  # 최소 동전 개수와 조합 반환\n",
    "\n",
    "# 함수 실행\n",
    "count, used = brute_force_change([25, 10, 1], 30)\n",
    "\n",
    "# 결과 출력\n",
    "print(\"완전탐색 최적 동전 개수:\", count)\n",
    "print(\"완전탐색 사용한 동전 목록:\", used)\n"
   ]
  },
  {
   "cell_type": "code",
   "execution_count": 22,
   "metadata": {},
   "outputs": [
    {
     "name": "stdout",
     "output_type": "stream",
     "text": [
      "가장 싼 연필 가격은: 700 원입니다.\n"
     ]
    }
   ],
   "source": [
    "min_price = 9999  # 처음에 높은값대입\n",
    "\n",
    "for price in [1200, 800, 1000, 700, 900]:\n",
    "    if price < min_price:\n",
    "        min_price = price  # 더 저렴하면 값을 갱신!\n",
    "\n",
    "print(\"가장 싼 연필 가격은:\", min_price, \"원입니다.\")\n"
   ]
  },
  {
   "cell_type": "code",
   "execution_count": null,
   "metadata": {},
   "outputs": [
    {
     "name": "stdout",
     "output_type": "stream",
     "text": [
      "a = 0, 25원짜리 동전 개수\n",
      "a = 1, 25원짜리 동전 개수\n"
     ]
    },
    {
     "ename": "TypeError",
     "evalue": "'float' object cannot be interpreted as an integer",
     "output_type": "error",
     "traceback": [
      "\u001b[1;31m---------------------------------------------------------------------------\u001b[0m",
      "\u001b[1;31mTypeError\u001b[0m                                 Traceback (most recent call last)",
      "Cell \u001b[1;32mIn[26], line 7\u001b[0m\n\u001b[0;32m      4\u001b[0m \u001b[38;5;28;01mfor\u001b[39;00m a \u001b[38;5;129;01min\u001b[39;00m \u001b[38;5;28mrange\u001b[39m(target \u001b[38;5;241m/\u001b[39m\u001b[38;5;241m/\u001b[39m coins[\u001b[38;5;241m0\u001b[39m] \u001b[38;5;241m+\u001b[39m \u001b[38;5;241m1\u001b[39m):\n\u001b[0;32m      5\u001b[0m     \u001b[38;5;28mprint\u001b[39m(\u001b[38;5;124mf\u001b[39m\u001b[38;5;124m\"\u001b[39m\u001b[38;5;124ma = \u001b[39m\u001b[38;5;132;01m{\u001b[39;00ma\u001b[38;5;132;01m}\u001b[39;00m\u001b[38;5;124m, 25원짜리 동전 개수\u001b[39m\u001b[38;5;124m\"\u001b[39m)\n\u001b[1;32m----> 7\u001b[0m \u001b[38;5;28;01mfor\u001b[39;00m a \u001b[38;5;129;01min\u001b[39;00m \u001b[38;5;28;43mrange\u001b[39;49m\u001b[43m(\u001b[49m\u001b[43mtarget\u001b[49m\u001b[43m \u001b[49m\u001b[38;5;241;43m/\u001b[39;49m\u001b[43m \u001b[49m\u001b[43mcoins\u001b[49m\u001b[43m[\u001b[49m\u001b[38;5;241;43m0\u001b[39;49m\u001b[43m]\u001b[49m\u001b[43m \u001b[49m\u001b[38;5;241;43m+\u001b[39;49m\u001b[43m \u001b[49m\u001b[38;5;241;43m1\u001b[39;49m\u001b[43m)\u001b[49m:\n\u001b[0;32m      8\u001b[0m     \u001b[38;5;28mprint\u001b[39m(\u001b[38;5;124mf\u001b[39m\u001b[38;5;124m\"\u001b[39m\u001b[38;5;124ma = \u001b[39m\u001b[38;5;132;01m{\u001b[39;00ma\u001b[38;5;132;01m}\u001b[39;00m\u001b[38;5;124m, 25원짜리 동전 개수\u001b[39m\u001b[38;5;124m\"\u001b[39m)\n",
      "\u001b[1;31mTypeError\u001b[0m: 'float' object cannot be interpreted as an integer"
     ]
    }
   ],
   "source": [
    "target = 30\n",
    "coins = [25, 10, 1]\n",
    "\n",
    "for a in range(target // coins[0] + 1):\n",
    "    print(f\"a = {a}, 25원짜리 동전 개수\")\n",
    "\n"
   ]
  },
  {
   "cell_type": "code",
   "execution_count": 27,
   "metadata": {},
   "outputs": [
    {
     "name": "stdout",
     "output_type": "stream",
     "text": [
      "3.5\n",
      "2.5\n",
      "3\n",
      "2\n",
      "1\n",
      "2\n",
      "(3, 1)\n",
      "(2, 2)\n",
      "-4\n",
      "1\n"
     ]
    }
   ],
   "source": [
    "print(7 / 2)   # 3.5\n",
    "print(10 / 4)  # 2.5\n",
    "print(7 // 2)   # 3\n",
    "print(10 // 4)  # 2\n",
    "print(7 % 2)    # 1\n",
    "print(10 % 4)   # 2\n",
    "print(divmod(7, 2))    # (3, 1)\n",
    "print(divmod(10, 4))   # (2, 2)\n",
    "print(-7 // 2)   # -4  → 소수점 이하를 **버리는 것이 아니라 내림**!\n",
    "print(-7 % 2)    # 1   → 파이썬의 `%`는 항상 **음수를 보정해서 양수 나머지**로 나옴\n",
    "\n"
   ]
  },
  {
   "cell_type": "code",
   "execution_count": 28,
   "metadata": {},
   "outputs": [
    {
     "name": "stdout",
     "output_type": "stream",
     "text": [
      "a = 0, 25원짜리 동전 개수\n",
      "a = 1, 25원짜리 동전 개수\n"
     ]
    }
   ],
   "source": [
    "target = 30\n",
    "coins = [25, 10, 1]\n",
    "\n",
    "for a in range(target // coins[0] + 1):\n",
    "    print(f\"a = {a}, 25원짜리 동전 개수\")"
   ]
  },
  {
   "cell_type": "code",
   "execution_count": 29,
   "metadata": {},
   "outputs": [
    {
     "name": "stdout",
     "output_type": "stream",
     "text": [
      "0\n",
      "1\n",
      "2\n",
      "3\n",
      "4\n"
     ]
    }
   ],
   "source": [
    "for i in range(5):\n",
    "    print(i)"
   ]
  },
  {
   "cell_type": "code",
   "execution_count": 30,
   "metadata": {},
   "outputs": [
    {
     "name": "stdout",
     "output_type": "stream",
     "text": [
      "2\n",
      "3\n",
      "4\n",
      "5\n"
     ]
    }
   ],
   "source": [
    "for i in range(2, 6):\n",
    "    print(i)"
   ]
  },
  {
   "cell_type": "code",
   "execution_count": 31,
   "metadata": {},
   "outputs": [
    {
     "name": "stdout",
     "output_type": "stream",
     "text": [
      "1\n",
      "3\n",
      "5\n",
      "7\n",
      "9\n"
     ]
    }
   ],
   "source": [
    "for i in range(1, 10, 2):\n",
    "    print(i)"
   ]
  },
  {
   "cell_type": "code",
   "execution_count": 32,
   "metadata": {},
   "outputs": [
    {
     "name": "stdout",
     "output_type": "stream",
     "text": [
      "5\n",
      "4\n",
      "3\n",
      "2\n",
      "1\n"
     ]
    }
   ],
   "source": [
    "for i in range(5, 0, -1):\n",
    "    print(i)"
   ]
  },
  {
   "cell_type": "code",
   "execution_count": 33,
   "metadata": {},
   "outputs": [
    {
     "name": "stdout",
     "output_type": "stream",
     "text": [
      "3 x 1 = 3\n",
      "3 x 2 = 6\n",
      "3 x 3 = 9\n",
      "3 x 4 = 12\n",
      "3 x 5 = 15\n",
      "3 x 6 = 18\n",
      "3 x 7 = 21\n",
      "3 x 8 = 24\n",
      "3 x 9 = 27\n"
     ]
    }
   ],
   "source": [
    "dan = 3\n",
    "for i in range(1, 10):\n",
    "    print(f\"{dan} x {i} = {dan*i}\")"
   ]
  },
  {
   "cell_type": "code",
   "execution_count": null,
   "metadata": {},
   "outputs": [],
   "source": []
  },
  {
   "cell_type": "code",
   "execution_count": null,
   "metadata": {},
   "outputs": [],
   "source": []
  }
 ],
 "metadata": {
  "kernelspec": {
   "display_name": "Python 3",
   "language": "python",
   "name": "python3"
  },
  "language_info": {
   "codemirror_mode": {
    "name": "ipython",
    "version": 3
   },
   "file_extension": ".py",
   "mimetype": "text/x-python",
   "name": "python",
   "nbconvert_exporter": "python",
   "pygments_lexer": "ipython3",
   "version": "3.11.9"
  }
 },
 "nbformat": 4,
 "nbformat_minor": 2
}
