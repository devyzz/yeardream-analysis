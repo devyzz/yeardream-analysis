{
 "cells": [
  {
   "cell_type": "code",
   "execution_count": 1,
   "metadata": {},
   "outputs": [
    {
     "name": "stdout",
     "output_type": "stream",
     "text": [
      "102334155\n"
     ]
    }
   ],
   "source": [
    "def fibo(n, dp):\n",
    "    # 피보나치 수열의 n번째 수를 구하는 함수 (Top-Down DP)\n",
    "\n",
    "    # 기저 조건 (n이 1 또는 2일 경우 결과는 1)\n",
    "    if n <= 2:\n",
    "        return 1\n",
    "\n",
    "    # 이미 계산한 값이 있으면 재계산하지 않고 바로 반환\n",
    "    if dp[n] != -1:\n",
    "        return dp[n]\n",
    "\n",
    "    # 아직 계산하지 않은 값이면 재귀 호출로 계산\n",
    "    dp[n] = fibo(n - 1, dp) + fibo(n - 2, dp)\n",
    "\n",
    "    # 계산 결과 저장 후 반환\n",
    "    return dp[n]\n",
    "\n",
    "# 계산할 피보나치 수열의 항 번호\n",
    "n = 40\n",
    "\n",
    "# 메모이제이션을 위한 배열 생성, 초기값은 -1 (아직 계산 안 됨을 표시)\n",
    "dp = [-1] * (n + 1)\n",
    "\n",
    "# n번째 피보나치 수 출력\n",
    "print(fibo(n, dp))  # 출력: 102334155\n"
   ]
  },
  {
   "cell_type": "code",
   "execution_count": 3,
   "metadata": {},
   "outputs": [
    {
     "name": "stdout",
     "output_type": "stream",
     "text": [
      "102334155\n"
     ]
    }
   ],
   "source": [
    "def fibo_bottom_up(n):\n",
    "    # 피보나치 수열의 n번째 항을 구하는 함수 (Bottom-Up DP 방식)\n",
    "\n",
    "    # 피보나치 수열을 저장할 리스트 생성 (0번부터 n번까지 총 n+1개 공간 필요)\n",
    "    dp = [0] * (n + 1)\n",
    "\n",
    "    # 초기 조건 (base case)\n",
    "    dp[1], dp[2] = 1, 1  # f(1) = 1, f(2) = 1\n",
    "\n",
    "    # 점화식(dp[i] = dp[i-1] + dp[i-2])을 이용해 반복문으로 해결\n",
    "    for i in range(3, n + 1):       # 3부터 n까지 반복\n",
    "        dp[i] = dp[i - 1] + dp[i - 2]  # 이전 두 항을 더해서 현재 항 계산\n",
    "\n",
    "    # 최종 결과 반환\n",
    "    return dp[n]\n",
    "\n",
    "# 함수 실행: 40번째 피보나치 수\n",
    "print(fibo_bottom_up(40))  # 출력: 102334155"
   ]
  },
  {
   "cell_type": "code",
   "execution_count": null,
   "metadata": {},
   "outputs": [],
   "source": []
  },
  {
   "cell_type": "code",
   "execution_count": null,
   "metadata": {},
   "outputs": [],
   "source": []
  }
 ],
 "metadata": {
  "kernelspec": {
   "display_name": "Python 3",
   "language": "python",
   "name": "python3"
  },
  "language_info": {
   "codemirror_mode": {
    "name": "ipython",
    "version": 3
   },
   "file_extension": ".py",
   "mimetype": "text/x-python",
   "name": "python",
   "nbconvert_exporter": "python",
   "pygments_lexer": "ipython3",
   "version": "3.11.9"
  }
 },
 "nbformat": 4,
 "nbformat_minor": 2
}
