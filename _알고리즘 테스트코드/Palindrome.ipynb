{
 "cells": [
  {
   "cell_type": "code",
   "execution_count": 3,
   "metadata": {},
   "outputs": [
    {
     "name": "stdout",
     "output_type": "stream",
     "text": [
      "olleh\n",
      "hello\n"
     ]
    }
   ],
   "source": [
    "s = \"hello\"\n",
    "print(s[::-1])  # \"olleh\"\n",
    "print(s[::1])  # \"hello\"\n"
   ]
  },
  {
   "cell_type": "code",
   "execution_count": 4,
   "metadata": {},
   "outputs": [
    {
     "name": "stdout",
     "output_type": "stream",
     "text": [
      "True\n",
      "False\n"
     ]
    }
   ],
   "source": [
    "def palindrome(s):\n",
    "    return s == s[::-1]\n",
    "\n",
    "print(palindrome(\"level\"))  # True\n",
    "print(palindrome(\"hello\"))  # False"
   ]
  },
  {
   "cell_type": "code",
   "execution_count": 10,
   "metadata": {},
   "outputs": [
    {
     "name": "stdout",
     "output_type": "stream",
     "text": [
      "소문자로 변환된 문자열: level\n",
      "True\n"
     ]
    }
   ],
   "source": [
    "def palindrome_ignore_case(s):\n",
    "    s = s.lower()  # 모두 소문자로 변환\n",
    "    print(\"소문자로 변환된 문자열:\", s)  # 변환 확인\n",
    "    return s == s[::-1]\n",
    "\n",
    "print(palindrome_ignore_case(\"Level\"))  # True"
   ]
  },
  {
   "cell_type": "code",
   "execution_count": 11,
   "metadata": {},
   "outputs": [
    {
     "name": "stdout",
     "output_type": "stream",
     "text": [
      "a\n",
      "am\n",
      "ama\n",
      "aman\n",
      "amana\n",
      "amanap\n",
      "amanapl\n",
      "amanapla\n",
      "amanaplan\n",
      "amanaplana\n",
      "amanaplanac\n",
      "amanaplanaca\n",
      "amanaplanacan\n",
      "amanaplanacana\n",
      "amanaplanacanal\n",
      "amanaplanacanalp\n",
      "amanaplanacanalpa\n",
      "amanaplanacanalpan\n",
      "amanaplanacanalpana\n",
      "amanaplanacanalpanam\n",
      "amanaplanacanalpanama\n",
      "True\n"
     ]
    }
   ],
   "source": [
    "def palindrome_cleaned(s):\n",
    "    result = \"\"  # 깨끗하게 정리된 문자열을 저장할 변수\n",
    "    for c in s:\n",
    "        if c.isalnum():        # 알파벳 또는 숫자인지 확인\n",
    "            result += c.lower()  # 소문자로 바꿔서 추가\n",
    "            print(result)\n",
    "    reversed_result = result[::-1]  # 문자열 뒤집기\n",
    "    return result == reversed_result\n",
    "\n",
    "# 실행\n",
    "print(palindrome_cleaned(\"A man, a plan, a canal: Panama\"))  # True"
   ]
  },
  {
   "cell_type": "code",
   "execution_count": 12,
   "metadata": {},
   "outputs": [
    {
     "name": "stdout",
     "output_type": "stream",
     "text": [
      "회문입니다!\n"
     ]
    }
   ],
   "source": [
    "def user_input_palindrome():\n",
    "    s = input(\"문자열을 입력하세요: \")\n",
    "    if s == s[::-1]:\n",
    "        print(\"회문입니다!\")\n",
    "    else:\n",
    "        print(\"회문이 아닙니다.\")\n",
    "        \n",
    "user_input_palindrome()"
   ]
  },
  {
   "cell_type": "code",
   "execution_count": 8,
   "metadata": {},
   "outputs": [
    {
     "name": "stdout",
     "output_type": "stream",
     "text": [
      "['madam', 'noon', 'racecar']\n"
     ]
    }
   ],
   "source": [
    "def filter_palindromes(words):\n",
    "    return [word for word in words if word == word[::-1]]\n",
    "\n",
    "word_list = [\"madam\", \"apple\", \"noon\", \"python\", \"racecar\"]\n",
    "print(filter_palindromes(word_list))  # ['madam', 'noon', 'racecar']"
   ]
  },
  {
   "cell_type": "code",
   "execution_count": 9,
   "metadata": {},
   "outputs": [
    {
     "name": "stdout",
     "output_type": "stream",
     "text": [
      "[True, False, True]\n"
     ]
    }
   ],
   "source": [
    "def check_multiple(words):\n",
    "    return [word == word[::-1] for word in words]\n",
    "\n",
    "words = [\"wow\", \"hello\", \"refer\"]\n",
    "print(check_multiple(words))  # [True, False, True]"
   ]
  },
  {
   "cell_type": "code",
   "execution_count": 13,
   "metadata": {},
   "outputs": [
    {
     "name": "stdout",
     "output_type": "stream",
     "text": [
      "['madam', 'level', 'noon']\n"
     ]
    }
   ],
   "source": [
    "words = [\"madam\", \"hello\", \"level\", \"world\", \"noon\"]\n",
    "\n",
    "result = [word for word in words if word == word[::-1]]\n",
    "print(result)  # ['madam', 'level', 'noon']\n"
   ]
  },
  {
   "cell_type": "code",
   "execution_count": 14,
   "metadata": {},
   "outputs": [
    {
     "name": "stdout",
     "output_type": "stream",
     "text": [
      "0\n",
      "1\n",
      "3\n",
      "4\n"
     ]
    }
   ],
   "source": [
    "for i in range(5):\n",
    "    if i == 2:\n",
    "        continue\n",
    "    print(i)"
   ]
  },
  {
   "cell_type": "code",
   "execution_count": 15,
   "metadata": {},
   "outputs": [
    {
     "name": "stdout",
     "output_type": "stream",
     "text": [
      "1부터 5까지의 합: 15\n"
     ]
    }
   ],
   "source": [
    "total = 0\n",
    "for i in range(1, 6):\n",
    "    total += i\n",
    "print(\"1부터 5까지의 합:\", total)\n"
   ]
  },
  {
   "cell_type": "code",
   "execution_count": 16,
   "metadata": {},
   "outputs": [
    {
     "name": "stdout",
     "output_type": "stream",
     "text": [
      "1 2\n",
      "1 3\n",
      "2 1\n",
      "2 3\n",
      "3 1\n",
      "3 2\n"
     ]
    }
   ],
   "source": [
    "for i in range(1, 4):\n",
    "    for j in range(1, 4):\n",
    "        if i != j:\n",
    "            print(i, j)\n"
   ]
  },
  {
   "cell_type": "code",
   "execution_count": 17,
   "metadata": {},
   "outputs": [
    {
     "name": "stdout",
     "output_type": "stream",
     "text": [
      "2 x 1 =  2\t3 x 1 =  3\t4 x 1 =  4\t5 x 1 =  5\t6 x 1 =  6\t7 x 1 =  7\t8 x 1 =  8\t9 x 1 =  9\t\n",
      "2 x 2 =  4\t3 x 2 =  6\t4 x 2 =  8\t5 x 2 = 10\t6 x 2 = 12\t7 x 2 = 14\t8 x 2 = 16\t9 x 2 = 18\t\n",
      "2 x 3 =  6\t3 x 3 =  9\t4 x 3 = 12\t5 x 3 = 15\t6 x 3 = 18\t7 x 3 = 21\t8 x 3 = 24\t9 x 3 = 27\t\n",
      "2 x 4 =  8\t3 x 4 = 12\t4 x 4 = 16\t5 x 4 = 20\t6 x 4 = 24\t7 x 4 = 28\t8 x 4 = 32\t9 x 4 = 36\t\n",
      "2 x 5 = 10\t3 x 5 = 15\t4 x 5 = 20\t5 x 5 = 25\t6 x 5 = 30\t7 x 5 = 35\t8 x 5 = 40\t9 x 5 = 45\t\n",
      "2 x 6 = 12\t3 x 6 = 18\t4 x 6 = 24\t5 x 6 = 30\t6 x 6 = 36\t7 x 6 = 42\t8 x 6 = 48\t9 x 6 = 54\t\n",
      "2 x 7 = 14\t3 x 7 = 21\t4 x 7 = 28\t5 x 7 = 35\t6 x 7 = 42\t7 x 7 = 49\t8 x 7 = 56\t9 x 7 = 63\t\n",
      "2 x 8 = 16\t3 x 8 = 24\t4 x 8 = 32\t5 x 8 = 40\t6 x 8 = 48\t7 x 8 = 56\t8 x 8 = 64\t9 x 8 = 72\t\n",
      "2 x 9 = 18\t3 x 9 = 27\t4 x 9 = 36\t5 x 9 = 45\t6 x 9 = 54\t7 x 9 = 63\t8 x 9 = 72\t9 x 9 = 81\t\n"
     ]
    }
   ],
   "source": [
    "for i in range(1, 10):\n",
    "    for dan in range(2, 10):\n",
    "        print(f\"{dan} x {i} = {dan*i:2}\", end=\"\\t\")\n",
    "    print()"
   ]
  },
  {
   "cell_type": "code",
   "execution_count": 18,
   "metadata": {},
   "outputs": [
    {
     "name": "stdout",
     "output_type": "stream",
     "text": [
      "True\n",
      "True\n",
      "True\n",
      "False\n",
      "False\n"
     ]
    }
   ],
   "source": [
    "print(\"abc123\".isalnum())     # ✅ True\n",
    "print(\"hello\".isalnum())      # ✅ True\n",
    "print(\"123\".isalnum())        # ✅ True\n",
    "print(\"abc 123\".isalnum())    # ❌ False (공백 포함)\n",
    "print(\"hello!\".isalnum())     # ❌ False (! 포함)\n"
   ]
  },
  {
   "cell_type": "code",
   "execution_count": 22,
   "metadata": {},
   "outputs": [
    {
     "name": "stdout",
     "output_type": "stream",
     "text": [
      "숫자입니다.\n"
     ]
    }
   ],
   "source": [
    "def check_input():\n",
    "    s = input(\"숫자를 입력하세요: \")\n",
    "    \n",
    "    if s.isdigit():\n",
    "        print(\"숫자입니다.\")\n",
    "    else:\n",
    "        print(\"숫자가 아닙니다.\")\n",
    "\n",
    "check_input()"
   ]
  },
  {
   "cell_type": "code",
   "execution_count": null,
   "metadata": {},
   "outputs": [
    {
     "name": "stdout",
     "output_type": "stream",
     "text": [
      "❌ 숫자가 아닙니다.\n"
     ]
    }
   ],
   "source": [
    "def is_number(s):\n",
    "    try:\n",
    "        float(s)   # 실수까지 허용\n",
    "        return True\n",
    "    except ValueError:\n",
    "        return False\n",
    "\n",
    "s = input(\"숫자를 입력하세요: \")\n",
    "if is_number(s):\n",
    "    print(\"숫자입니다.\")\n",
    "else:\n",
    "    print(\"숫자가 아닙니다.\")"
   ]
  },
  {
   "cell_type": "code",
   "execution_count": 23,
   "metadata": {},
   "outputs": [
    {
     "name": "stdout",
     "output_type": "stream",
     "text": [
      "2.5\n"
     ]
    }
   ],
   "source": [
    "try:\n",
    "    x = int(input(\"숫자를 입력하세요: \"))\n",
    "    print(10 / x)\n",
    "except ZeroDivisionError:\n",
    "    print(\"0으로 나눌 수 없습니다!\")"
   ]
  },
  {
   "cell_type": "code",
   "execution_count": 24,
   "metadata": {},
   "outputs": [
    {
     "name": "stdout",
     "output_type": "stream",
     "text": [
      "0.1282051282051282\n"
     ]
    }
   ],
   "source": [
    "try:\n",
    "    x = int(input(\"숫자를 입력하세요: \"))\n",
    "    print(10 / x)\n",
    "except ZeroDivisionError:\n",
    "    print(\"0으로 나눌 수 없습니다!\")\n",
    "except ValueError:\n",
    "    print(\"숫자를 입력해야 합니다.\")"
   ]
  },
  {
   "cell_type": "code",
   "execution_count": 25,
   "metadata": {},
   "outputs": [
    {
     "name": "stdout",
     "output_type": "stream",
     "text": [
      "리스트 인덱스 초과입니다.\n"
     ]
    }
   ],
   "source": [
    "lst = [1, 2, 3]\n",
    "\n",
    "try:\n",
    "    print(lst[5])\n",
    "except IndexError:\n",
    "    print(\"리스트 인덱스 초과입니다.\")"
   ]
  },
  {
   "cell_type": "code",
   "execution_count": 26,
   "metadata": {},
   "outputs": [
    {
     "name": "stdout",
     "output_type": "stream",
     "text": [
      "에러 발생: division by zero\n"
     ]
    }
   ],
   "source": [
    "try:\n",
    "    # 에러 발생 가능 코드\n",
    "    result = 10 / 0\n",
    "except Exception as e:\n",
    "    print(\"에러 발생:\", e)"
   ]
  },
  {
   "cell_type": "code",
   "execution_count": 27,
   "metadata": {},
   "outputs": [
    {
     "name": "stdout",
     "output_type": "stream",
     "text": [
      " 입력 오류 또는 0 나눗셈입니다.\n"
     ]
    }
   ],
   "source": [
    "try:\n",
    "    x = int(input(\"숫자: \"))\n",
    "    print(10 / x)\n",
    "except (ValueError, ZeroDivisionError):\n",
    "    print(\" 입력 오류 또는 0 나눗셈입니다.\")"
   ]
  },
  {
   "cell_type": "code",
   "execution_count": 28,
   "metadata": {},
   "outputs": [
    {
     "name": "stdout",
     "output_type": "stream",
     "text": [
      "True\n",
      "False\n"
     ]
    }
   ],
   "source": [
    "def is_palindrome(s):\n",
    "    return s == s[::-1]\n",
    "\n",
    "# 테스트\n",
    "print(is_palindrome(\"level\"))   # True\n",
    "print(is_palindrome(\"hello\"))   # False"
   ]
  },
  {
   "cell_type": "code",
   "execution_count": 29,
   "metadata": {},
   "outputs": [
    {
     "name": "stdout",
     "output_type": "stream",
     "text": [
      "True\n",
      "False\n"
     ]
    }
   ],
   "source": [
    "def is_palindrome_ignore_case(s):\n",
    "    s = s.lower()\n",
    "    return s == s[::-1]\n",
    "\n",
    "# 테스트\n",
    "print(is_palindrome_ignore_case(\"RaceCar\"))  # True\n",
    "print(is_palindrome_ignore_case(\"Python\"))   # False"
   ]
  },
  {
   "cell_type": "code",
   "execution_count": 30,
   "metadata": {},
   "outputs": [
    {
     "name": "stdout",
     "output_type": "stream",
     "text": [
      "True\n",
      "False\n"
     ]
    }
   ],
   "source": [
    "def is_cleaned_palindrome(s):\n",
    "    cleaned = \"\"\n",
    "    for c in s:\n",
    "        if c.isalnum():          # 알파벳 또는 숫자인 경우만\n",
    "            cleaned += c.lower() # 소문자로 변환해서 추가\n",
    "    return cleaned == cleaned[::-1]\n",
    "\n",
    "# 테스트\n",
    "print(is_cleaned_palindrome(\"A man, a plan, a canal: Panama\"))  # True\n",
    "print(is_cleaned_palindrome(\"Hello, World!\"))                   # False"
   ]
  },
  {
   "cell_type": "code",
   "execution_count": 31,
   "metadata": {},
   "outputs": [
    {
     "name": "stdout",
     "output_type": "stream",
     "text": [
      "True\n",
      "True\n",
      "False\n",
      "False\n",
      "False\n"
     ]
    }
   ],
   "source": [
    "def is_valid_parentheses(s):\n",
    "    stack = []\n",
    "    for char in s:\n",
    "        if char == '(':\n",
    "            stack.append(char)\n",
    "        elif char == ')':\n",
    "            if not stack:   # 닫는 괄호가 많은 경우\n",
    "                return False\n",
    "            stack.pop()     # 짝 맞는 여는 괄호 제거\n",
    "    return len(stack) == 0  # 스택에 남아 있으면 닫지 못한 괄호 있음\n",
    "\n",
    "print(is_valid_parentheses(\"()\"))        # True\n",
    "print(is_valid_parentheses(\"(()())\"))    # True\n",
    "print(is_valid_parentheses(\"())(\"))      # False\n",
    "print(is_valid_parentheses(\"(()\"))       # False\n",
    "print(is_valid_parentheses(\")(\"))        # False"
   ]
  },
  {
   "cell_type": "code",
   "execution_count": null,
   "metadata": {},
   "outputs": [],
   "source": []
  },
  {
   "cell_type": "code",
   "execution_count": null,
   "metadata": {},
   "outputs": [],
   "source": []
  }
 ],
 "metadata": {
  "kernelspec": {
   "display_name": "Python 3",
   "language": "python",
   "name": "python3"
  },
  "language_info": {
   "codemirror_mode": {
    "name": "ipython",
    "version": 3
   },
   "file_extension": ".py",
   "mimetype": "text/x-python",
   "name": "python",
   "nbconvert_exporter": "python",
   "pygments_lexer": "ipython3",
   "version": "3.11.9"
  }
 },
 "nbformat": 4,
 "nbformat_minor": 2
}
