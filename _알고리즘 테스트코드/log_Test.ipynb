{
 "cells": [
  {
   "cell_type": "code",
   "execution_count": 2,
   "metadata": {},
   "outputs": [
    {
     "name": "stdout",
     "output_type": "stream",
     "text": [
      "=== 지수 연산 ===\n",
      "2^4 = 16\n",
      "3^3 * 3^2 = 243\n",
      "3^3 / 3^2 = 3.0\n",
      "(3^2)^3 = 729\n",
      "3^-2 = 0.1111111111111111\n",
      "3^0 = 1\n",
      "\n",
      "=== 로그 연산 ===\n",
      "log₁₀(1000) = 3.0\n",
      "log₂(8) = 3.0\n",
      "log₃(81) = 4.0\n",
      "log₁₀(10 * 100) = 3.0\n",
      "log₁₀(10) + log₁₀(100) = 3.0\n",
      "log₁₀(10^3) = 3.0\n",
      "3 * log₁₀(10) = 3.0\n"
     ]
    }
   ],
   "source": [
    "import math\n",
    "\n",
    "# === 지수 연산 ===\n",
    "a,b= 2,4\n",
    "exp = a ** b  # 2^4 = 16\n",
    "\n",
    "x = 3\n",
    "power1, power2= 3,2\n",
    "\n",
    "multiply_exponents = x**power1 * x**power2      # x^(m+n)\n",
    "divide_exponents = x**power1 / x**power2        # x^(m-n)\n",
    "nested_power = (x**power2)**power1              # (x^2)^3\n",
    "negative_exp = x**-2                            # 1 / x^2\n",
    "zero_exp = x**0                                 # 1\n",
    "\n",
    "# === 로그 연산 (자연로그 제외) ===\n",
    "log10_val = math.log10(1000)                    # log₁₀(1000)\n",
    "log2_val = math.log2(8)                         # log₂(8)\n",
    "log_base3 = math.log(81, 3)                     # log₃(81)\n",
    "\n",
    "a,b = 10, 100\n",
    "log_ab = math.log10(a * b)                      # log₁₀(1000)\n",
    "log_sum = math.log10(a) + math.log10(b)         # log₁₀(10) + log₁₀(100)\n",
    "log_power = math.log10(a**3)                    # log₁₀(10^3)\n",
    "log_multiply = 3 * math.log10(a)                # 3 * log₁₀(10)\n",
    "\n",
    "# === 결과 출력 ===\n",
    "print(\"=== 지수 연산 ===\")\n",
    "print(\"2^4 =\", exp),print(\"3^3 * 3^2 =\", multiply_exponents)\n",
    "print(\"3^3 / 3^2 =\", divide_exponents),print(\"(3^2)^3 =\", nested_power)\n",
    "print(\"3^-2 =\", negative_exp),print(\"3^0 =\", zero_exp)\n",
    "\n",
    "print(\"\\n=== 로그 연산 ===\")\n",
    "print(\"log₁₀(1000) =\", log10_val),print(\"log₂(8) =\", log2_val)\n",
    "print(\"log₃(81) =\", log_base3),print(\"log₁₀(10 * 100) =\", log_ab)\n",
    "print(\"log₁₀(10) + log₁₀(100) =\", log_sum),print(\"log₁₀(10^3) =\", log_power)\n",
    "print(\"3 * log₁₀(10) =\", log_multiply)"
   ]
  },
  {
   "cell_type": "code",
   "execution_count": null,
   "metadata": {},
   "outputs": [],
   "source": []
  },
  {
   "cell_type": "code",
   "execution_count": null,
   "metadata": {},
   "outputs": [],
   "source": []
  },
  {
   "cell_type": "code",
   "execution_count": null,
   "metadata": {},
   "outputs": [],
   "source": []
  },
  {
   "cell_type": "code",
   "execution_count": null,
   "metadata": {},
   "outputs": [],
   "source": []
  },
  {
   "cell_type": "code",
   "execution_count": null,
   "metadata": {},
   "outputs": [],
   "source": []
  }
 ],
 "metadata": {
  "kernelspec": {
   "display_name": "Python 3",
   "language": "python",
   "name": "python3"
  },
  "language_info": {
   "codemirror_mode": {
    "name": "ipython",
    "version": 3
   },
   "file_extension": ".py",
   "mimetype": "text/x-python",
   "name": "python",
   "nbconvert_exporter": "python",
   "pygments_lexer": "ipython3",
   "version": "3.11.9"
  }
 },
 "nbformat": 4,
 "nbformat_minor": 2
}
