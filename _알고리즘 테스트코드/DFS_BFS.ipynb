{
 "cells": [
  {
   "cell_type": "code",
   "execution_count": null,
   "metadata": {},
   "outputs": [],
   "source": [
    "# 인접 리스트\n",
    "graph = [\n",
    "    [],        # 0번 노드는 사용 안 함\n",
    "    [2, 3],    # 1 → 2, 3\n",
    "    [4],       # 2 → 4\n",
    "    [],        # 3 → 없음\n",
    "    [3]        # 4 → 3\n",
    "]\n",
    "\n",
    "visited = [False] * 5\n",
    "\n",
    "def dfs(node):\n",
    "    visited[node] = True\n",
    "    print(node, end=' ')\n",
    "    for next_node in graph[node]:\n",
    "        if not visited[next_node]:\n",
    "            dfs(next_node)\n",
    "\n",
    "dfs(1)  # 출력: 1 2 4 3"
   ]
  },
  {
   "cell_type": "code",
   "execution_count": null,
   "metadata": {},
   "outputs": [],
   "source": [
    "# 인접 행렬 (4x4)\n",
    "graph = [\n",
    "    [0, 0, 0, 0, 0],  # 0번 사용 안 함\n",
    "    [0, 0, 1, 1, 0],  # 1 → 2, 3\n",
    "    [0, 0, 0, 0, 1],  # 2 → 4\n",
    "    [0, 0, 0, 0, 0],  # 3 → 없음\n",
    "    [0, 0, 1, 0, 0]   # 4 → 3\n",
    "]\n",
    "\n",
    "visited = [False] * 5\n",
    "\n",
    "def dfs(node):\n",
    "    visited[node] = True\n",
    "    print(node, end=' ')\n",
    "    for next_node in range(1, 5):\n",
    "        if graph[node][next_node] == 1 and not visited[next_node]:\n",
    "            dfs(next_node)\n",
    "\n",
    "dfs(1)  # 출력: 1 2 4 3"
   ]
  },
  {
   "cell_type": "code",
   "execution_count": 3,
   "metadata": {},
   "outputs": [
    {
     "name": "stdout",
     "output_type": "stream",
     "text": [
      "1 2 3 \n",
      "접근 횟수 (리스트): 2\n"
     ]
    }
   ],
   "source": [
    "# 인접 리스트 방식 그래프 정의\n",
    "graph = [\n",
    "    [],        # 0번 노드는 사용하지 않음\n",
    "    [2, 3],    # 1번 노드는 2, 3번 노드로 연결됨\n",
    "    [],        # 2번 노드는 연결 없음\n",
    "    [],        # 3번 노드도 연결 없음\n",
    "    []         # 4번 노드는 연결 없음 (예비 공간)\n",
    "]\n",
    "\n",
    "visited = [False] * 5         # 방문 여부 저장 배열\n",
    "access_count = 0              # 실제로 접근한 횟수를 세는 변수\n",
    "\n",
    "def dfs_list(now):\n",
    "    global access_count\n",
    "    visited[now] = True       # 현재 노드 방문 표시\n",
    "    print(now, end=' ')       # 현재 노드 출력\n",
    "\n",
    "    for next_node in graph[now]:     # 연결된 노드만 순회\n",
    "        access_count += 1            # 연결된 노드에 접근하므로 접근 횟수 증가\n",
    "        if not visited[next_node]:   # 아직 방문하지 않은 노드라면\n",
    "            dfs_list(next_node)      # DFS 재귀 호출\n",
    "\n",
    "dfs_list(1)  # 1번 노드에서 DFS 시작\n",
    "print(\"\\n접근 횟수 (리스트):\", access_count)"
   ]
  },
  {
   "cell_type": "code",
   "execution_count": 5,
   "metadata": {},
   "outputs": [
    {
     "name": "stdout",
     "output_type": "stream",
     "text": [
      "1 2 3 \n",
      "접근 횟수 (행렬): 12\n"
     ]
    }
   ],
   "source": [
    "# 인접 행렬 방식 그래프 정의 (4x4)\n",
    "graph = [\n",
    "    [0, 0, 0, 0, 0],  # 0번 노드 (미사용)\n",
    "    [0, 0, 1, 1, 0],  # 1번 노드 → 2번, 3번과 연결됨\n",
    "    [0, 0, 0, 0, 0],  # 2번 노드 → 연결 없음\n",
    "    [0, 0, 0, 0, 0],  # 3번 노드 → 연결 없음\n",
    "    [0, 0, 0, 0, 0]   # 4번 노드 → 연결 없음\n",
    "]\n",
    "\n",
    "visited = [False] * 5     # 방문 여부 저장 배열\n",
    "access_count = 0          # 모든 노드 확인 시 접근 횟수 누적 변수\n",
    "\n",
    "def dfs_matrix(now):\n",
    "    global access_count\n",
    "    visited[now] = True   # 현재 노드 방문 표시\n",
    "    print(now, end=' ')   # 현재 노드 출력\n",
    "\n",
    "    for next_node in range(1, 5):  # 1 ~ 4번 노드까지 모두 확인\n",
    "        access_count += 1          # 무조건 접근 (0이든 1이든)\n",
    "        if graph[now][next_node] == 1 and not visited[next_node]:\n",
    "            dfs_matrix(next_node)  # 연결되어 있고 아직 방문 안 한 노드 → 재귀\n",
    "\n",
    "dfs_matrix(1)  # 1번 노드에서 DFS 시작\n",
    "print(\"\\n접근 횟수 (행렬):\", access_count)"
   ]
  },
  {
   "cell_type": "code",
   "execution_count": 6,
   "metadata": {},
   "outputs": [
    {
     "name": "stdout",
     "output_type": "stream",
     "text": [
      "[1, 2, 3]\n",
      "꺼낸 값: 3\n",
      "현재 스택: [1, 2]\n"
     ]
    }
   ],
   "source": [
    "stack = []\n",
    "\n",
    "stack.append(1)  # push\n",
    "stack.append(2)\n",
    "stack.append(3)\n",
    "\n",
    "print(stack)     # [1, 2, 3]\n",
    "\n",
    "top = stack.pop()     # 3 꺼냄\n",
    "print(\"꺼낸 값:\", top)  # 꺼낸 값: 3\n",
    "print(\"현재 스택:\", stack)  # 현재 스택: [1, 2]"
   ]
  },
  {
   "cell_type": "code",
   "execution_count": 7,
   "metadata": {},
   "outputs": [
    {
     "name": "stdout",
     "output_type": "stream",
     "text": [
      "1 2 3 4 5 "
     ]
    }
   ],
   "source": [
    "from collections import deque\n",
    "\n",
    "# 인접 리스트로 그래프 표현 (0번은 사용 안함)\n",
    "graph = [\n",
    "    [],        # 0번 노드 (미사용)\n",
    "    [2, 3],    # 1번 노드 → 2, 3\n",
    "    [1],       # 2번 노드 → 1\n",
    "    [1, 4, 5], # 3번 노드 → 1, 4, 5\n",
    "    [3],       # 4번 노드 → 3\n",
    "    [3]        # 5번 노드 → 3\n",
    "]\n",
    "\n",
    "visited = [False] * 6  # 방문 여부 저장 (노드 1~5)\n",
    "\n",
    "def bfs(start):\n",
    "    queue = deque()         # 큐 생성\n",
    "    queue.append(start)     # 시작 노드를 큐에 삽입\n",
    "    visited[start] = True   # 시작 노드 방문 표시\n",
    "\n",
    "    while queue:\n",
    "        now = queue.popleft()      # 큐에서 가장 앞 노드 꺼냄\n",
    "        print(now, end=' ')        # 현재 노드 출력\n",
    "\n",
    "        # 현재 노드와 연결된 모든 노드 확인\n",
    "        for next_node in graph[now]:\n",
    "            if not visited[next_node]:\n",
    "                visited[next_node] = True   # 방문 표시\n",
    "                queue.append(next_node)     # 큐에 삽입\n",
    "\n",
    "# 실행\n",
    "bfs(1)"
   ]
  },
  {
   "cell_type": "code",
   "execution_count": 9,
   "metadata": {},
   "outputs": [
    {
     "name": "stdout",
     "output_type": "stream",
     "text": [
      "1 2 3 4 5 "
     ]
    }
   ],
   "source": [
    "# 인접 리스트로 동일한 그래프 사용\n",
    "graph = [\n",
    "    [],        # 0번 노드 (미사용)\n",
    "    [2, 3],    # 1번 노드 → 2, 3\n",
    "    [1],       # 2번 노드 → 1\n",
    "    [1, 4, 5], # 3번 노드 → 1, 4, 5\n",
    "    [3],       # 4번 노드 → 3\n",
    "    [3]        # 5번 노드 → 3\n",
    "]\n",
    "\n",
    "visited = [False] * 6  # 방문 여부 리스트 (노드 1~5까지)\n",
    "\n",
    "def dfs(now):\n",
    "    visited[now] = True       # 현재 노드 방문 처리\n",
    "    print(now, end=' ')       # 현재 노드 출력\n",
    "\n",
    "    # 현재 노드와 연결된 인접 노드들 순회\n",
    "    for next_node in graph[now]:\n",
    "        if not visited[next_node]:   # 방문하지 않은 노드라면\n",
    "            dfs(next_node)           # 재귀 호출로 깊이 우선 탐색\n",
    "\n",
    "# 실행\n",
    "dfs(1)"
   ]
  },
  {
   "cell_type": "code",
   "execution_count": null,
   "metadata": {},
   "outputs": [],
   "source": [
    "def dfs(n):\n",
    "    # 현재 노드와 연결된 노드들 탐색\n",
    "    for i in v[n]:\n",
    "        if not visited[i]:\n",
    "            visited[i] = True    # 방문 처리\n",
    "            dfs(i)               # 재귀 DFS 호출\n",
    "\n",
    "# 정점 수 N, 간선 수 M 입력\n",
    "n, m = map(int, input().split())\n",
    "\n",
    "visited = [False] * 201          # 방문 여부 배열 (1 ~ N까지 사용)\n",
    "cnt = 0                          # 컴포넌트 개수 세는 변수\n",
    "v = [[] for _ in range(201)]     # 인접 리스트로 그래프 초기화\n",
    "\n",
    "# 간선 입력 받기\n",
    "for _ in range(m):\n",
    "    a, b = map(int, input().split())\n",
    "    v[a].append(b)\n",
    "    v[b].append(a)               # 무방향이므로 양쪽 다 연결\n",
    "\n",
    "# 모든 정점에 대해 DFS 수행\n",
    "for i in range(1, n + 1):\n",
    "    if not visited[i]:          # 방문하지 않은 정점이면 새 컴포넌트 시작\n",
    "        visited[i] = True\n",
    "        dfs(i)                   # DFS로 해당 컴포넌트 전체 탐색\n",
    "        cnt += 1                # 컴포넌트 하나 발견\n",
    "\n",
    "print(cnt)                       # 컴포넌트 개수 출력\n"
   ]
  },
  {
   "cell_type": "code",
   "execution_count": null,
   "metadata": {},
   "outputs": [],
   "source": []
  },
  {
   "cell_type": "code",
   "execution_count": null,
   "metadata": {},
   "outputs": [],
   "source": []
  },
  {
   "cell_type": "code",
   "execution_count": null,
   "metadata": {},
   "outputs": [],
   "source": []
  },
  {
   "cell_type": "code",
   "execution_count": null,
   "metadata": {},
   "outputs": [],
   "source": []
  },
  {
   "cell_type": "code",
   "execution_count": null,
   "metadata": {},
   "outputs": [],
   "source": []
  }
 ],
 "metadata": {
  "kernelspec": {
   "display_name": "Python 3",
   "language": "python",
   "name": "python3"
  },
  "language_info": {
   "codemirror_mode": {
    "name": "ipython",
    "version": 3
   },
   "file_extension": ".py",
   "mimetype": "text/x-python",
   "name": "python",
   "nbconvert_exporter": "python",
   "pygments_lexer": "ipython3",
   "version": "3.11.9"
  }
 },
 "nbformat": 4,
 "nbformat_minor": 2
}
