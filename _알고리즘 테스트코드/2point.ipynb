{
 "cells": [
  {
   "cell_type": "code",
   "execution_count": null,
   "metadata": {},
   "outputs": [],
   "source": []
  },
  {
   "cell_type": "code",
   "execution_count": 1,
   "metadata": {},
   "outputs": [
    {
     "name": "stdout",
     "output_type": "stream",
     "text": [
      "9\n"
     ]
    }
   ],
   "source": [
    "def max_sub_sum_sliding(arr, k):\n",
    "    window_sum = sum(arr[:k])         # 첫 구간 합\n",
    "    max_sum = window_sum\n",
    "\n",
    "    for i in range(k, len(arr)):\n",
    "        window_sum += arr[i] - arr[i - k]  # 윈도우 이동\n",
    "        max_sum = max(max_sum, window_sum)\n",
    "\n",
    "    return max_sum\n",
    "\n",
    "arr,k = [2, 1, 5, 1, 3, 2], 3\n",
    "print(max_sub_sum_sliding(arr, k))  # 출력: 9 (부분 배열: [5,1,3])"
   ]
  },
  {
   "cell_type": "code",
   "execution_count": 2,
   "metadata": {},
   "outputs": [
    {
     "name": "stdout",
     "output_type": "stream",
     "text": [
      "최소 길이: 3\n",
      "해당 구간: [30, 30, 40]\n"
     ]
    }
   ],
   "source": [
    "#입력 arr에서 합이 100을 만드는 최소길이를 구하시오\n",
    "\n",
    "def min_subarray_with_sum(arr, target):\n",
    "    n = len(arr)\n",
    "    s, e = 0, 0\n",
    "    current_sum = 0\n",
    "    min_length = float('inf')\n",
    "    result_window = []  # 최소 구간 저장\n",
    "\n",
    "    while e < n:\n",
    "        current_sum += arr[e]\n",
    "        e += 1\n",
    "\n",
    "        while current_sum >= target:\n",
    "            # 구간 길이가 더 짧으면 갱신\n",
    "            if e - s < min_length:\n",
    "                min_length = e - s\n",
    "                result_window = arr[s:e]  # 슬라이싱: [s, e)\n",
    "\n",
    "            current_sum -= arr[s]\n",
    "            s += 1\n",
    "\n",
    "    if min_length == float('inf'):\n",
    "        return 0, []\n",
    "    else:\n",
    "        return min_length, result_window\n",
    "\n",
    "arr = [10, 20, 30, 40, 10, 20, 30, 30, 40]\n",
    "target = 100\n",
    "\n",
    "length, subarray = min_subarray_with_sum(arr, target)\n",
    "\n",
    "print(\"최소 길이:\", length)\n",
    "print(\"해당 구간:\", subarray)\n"
   ]
  },
  {
   "cell_type": "code",
   "execution_count": 3,
   "metadata": {},
   "outputs": [
    {
     "name": "stdout",
     "output_type": "stream",
     "text": [
      "조건을 만족하는 구간 수: 5\n",
      "구간들:\n",
      "[10, 20]\n",
      "[30]\n",
      "[10, 20]\n",
      "[30]\n",
      "[30]\n"
     ]
    },
    {
     "data": {
      "text/plain": [
       "(5, [[10, 20], [30], [10, 20], [30], [30]])"
      ]
     },
     "execution_count": 3,
     "metadata": {},
     "output_type": "execute_result"
    }
   ],
   "source": [
    "def find_subarrays_with_sum(A, M):\n",
    "    n = len(A)\n",
    "    s, e = 0, 0                 # 시작, 끝 포인터\n",
    "    current_sum = 0            # 현재 윈도우의 합\n",
    "    count = 0                  # 조건 만족한 구간 수\n",
    "    result_subarrays = []      # 조건 만족하는 구간 리스트\n",
    "\n",
    "    while True:\n",
    "        if current_sum >= M:    # 현재 합이 M 이상이면 윈도우 왼쪽 축소\n",
    "            current_sum -= A[s]\n",
    "            s += 1\n",
    "        elif e == n:    # e가 끝까지 도달하면 종료\n",
    "            break\n",
    "        else:  # 현재 합이 M보다 작으면 오른쪽으로 확장\n",
    "            current_sum += A[e]\n",
    "            e += 1\n",
    "        if current_sum == M:  # 조건을 만족하는 경우 → 카운트 및 구간 저장\n",
    "            count += 1\n",
    "            result_subarrays.append(A[s:e])  # 구간 저장 (슬라이싱)\n",
    "            \n",
    "\n",
    "    # 결과 출력\n",
    "    print(\"조건을 만족하는 구간 수:\", count)\n",
    "    print(\"구간들:\")\n",
    "    for sub in result_subarrays:\n",
    "        print(sub)\n",
    "\n",
    "    return count, result_subarrays\n",
    "\n",
    "A = [10, 20, 30, 40, 10, 20, 30, 30, 40]\n",
    "M = 30\n",
    "\n",
    "find_subarrays_with_sum(A, M)"
   ]
  },
  {
   "cell_type": "code",
   "execution_count": null,
   "metadata": {},
   "outputs": [],
   "source": []
  }
 ],
 "metadata": {
  "kernelspec": {
   "display_name": "myenv",
   "language": "python",
   "name": "python3"
  },
  "language_info": {
   "codemirror_mode": {
    "name": "ipython",
    "version": 3
   },
   "file_extension": ".py",
   "mimetype": "text/x-python",
   "name": "python",
   "nbconvert_exporter": "python",
   "pygments_lexer": "ipython3",
   "version": "3.12.9"
  }
 },
 "nbformat": 4,
 "nbformat_minor": 2
}
