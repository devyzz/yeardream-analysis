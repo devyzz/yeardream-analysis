{
 "cells": [
  {
   "cell_type": "code",
   "execution_count": null,
   "metadata": {},
   "outputs": [],
   "source": [
    "import sys\n",
    "\n",
    "##==============================================#\n",
    "# 1. 문자열 입력\n",
    "print(\"▶ 1. 문자열 입력\")\n",
    "\n",
    "# 입력 예시:\n",
    "# Hello\n",
    "s = input()\n",
    "print(\"입력한 문자열:\", s)\n",
    "# 출력 결과:\n",
    "# 입력한 문자열: Hello\n",
    "\n",
    "\n",
    "# 입력 예시:\n",
    "# World\n",
    "# sys.stdin.readline()=표준 입력에서 한 줄을 빠르게 읽고,\n",
    "# .strip()끝의 개행 문자를 제거한 뒤,\n",
    "# strip()을 안 쓰면 출력 시 줄바꿈이 두 번 생겨 보기 불편\n",
    "s2 = sys.stdin.readline().strip()  # 개행 문자 제거\n",
    "print(\"sys.stdin.readline() 입력:\", s2)\n",
    "# 출력 결과:\n",
    "# sys.stdin.readline() 입력: World\n",
    "##==============================================#\n",
    "\n",
    "##==============================================#\n",
    "# 2. 정수 입력\n",
    "print(\"▶ 2. 정수 입력\")\n",
    "\n",
    "# 입력 예시:\n",
    "# 42\n",
    "n = int(input())\n",
    "print(\"입력한 정수:\", n)\n",
    "# 출력 결과:\n",
    "# 입력한 정수: 42\n",
    "\n",
    "# 입력 예시:\n",
    "# 77\n",
    "n2 = int(sys.stdin.readline())\n",
    "print(\"sys.stdin.readline() 정수:\", n2)\n",
    "# 출력 결과:\n",
    "# sys.stdin.readline() 정수: 77\n",
    "##==============================================#\n",
    "\n",
    "##==============================================#\n",
    "# 3. 공백 정수 2개 입력\n",
    "print(\"▶ 3. 공백 정수 2개 입력\")\n",
    "\n",
    "# 입력 예시:\n",
    "# 10 20\n",
    "a, b = map(int, input().split())\n",
    "print(\"입력한 두 수:\", a, b)\n",
    "# 출력 결과:\n",
    "# 입력한 두 수: 10 20\n",
    "\n",
    "# 입력 예시:\n",
    "# 30 40\n",
    "# map(int...)-->리스트의 각 요소를 int타입으로 변환 map(int, [\"30\", \"40\"]) → 30, 40이 됨\n",
    "a2, b2 = map(int, sys.stdin.readline().split())\n",
    "print(\"sys.stdin.readline() 두 수:\", a2, b2)\n",
    "# 출력 결과:\n",
    "# sys.stdin.readline() 두 수: 30 40\n",
    "##==============================================#\n",
    "\n",
    "##==============================================#\n",
    "# 4. 정수 리스트 입력\n",
    "print(\"▶ 4. 정수 리스트 입력\")\n",
    "\n",
    "# 입력 예시:\n",
    "# 1 2 3 4 5\n",
    "nums = list(map(int, input().split()))\n",
    "print(\"입력된 리스트:\", nums)\n",
    "# 출력 결과:\n",
    "# 입력된 리스트: [1, 2, 3, 4, 5]\n",
    "\n",
    "# 입력 예시:\n",
    "# 6 7 8 9 10\n",
    "nums2 = list(map(int, sys.stdin.readline().split()))\n",
    "print(\"sys.stdin.readline() 리스트:\", nums2)\n",
    "# 출력 결과:\n",
    "# sys.stdin.readline() 리스트: [6, 7, 8, 9, 10]\n",
    "##==============================================#\n",
    "\n",
    "##==============================================#\n",
    "# 5. 여러 줄 입력\n",
    "print(\"▶ 5. 여러 줄 입력\")\n",
    "print(\"입력할 줄 수를 먼저 입력하세요:\")\n",
    "\n",
    "# 입력 예시:\n",
    "# 2\n",
    "# apple\n",
    "# banana\n",
    "lines = int(input())\n",
    "print(f\"{lines}줄 입력:\")\n",
    "for _ in range(lines):\n",
    "    line = input()\n",
    "    print(\"입력한 줄:\", line)\n",
    "# 출력 결과:\n",
    "# 입력한 줄: apple\n",
    "# 입력한 줄: banana\n",
    "##==============================================#"
   ]
  },
  {
   "cell_type": "code",
   "execution_count": 3,
   "metadata": {},
   "outputs": [
    {
     "name": "stdout",
     "output_type": "stream",
     "text": [
      "Odd\n"
     ]
    }
   ],
   "source": [
    "import math  # 제곱근 계산을 위한 math 모듈 사용\n",
    "\n",
    "# 테스트 케이스 수 입력\n",
    "T = int(input())  # 테스트 케이스 개수\n",
    "\n",
    "# 테스트 케이스 반복\n",
    "for _ in range(T):\n",
    "    N = int(input())  # 검사할 수 N 입력\n",
    "    sqrt_N = int(math.sqrt(N))  # N의 제곱근을 정수로 변환 (소수점 내림)\n",
    "\n",
    "    if sqrt_N * sqrt_N == N:  # 제곱했을 때 원래 수와 같으면 → 완전제곱수\n",
    "        print(\"Odd\")  # 완전제곱수면 \"Odd\" 출력\n",
    "    else:\n",
    "        print(\"Even\")  # 아니면 \"Even\" 출력"
   ]
  },
  {
   "cell_type": "code",
   "execution_count": null,
   "metadata": {},
   "outputs": [],
   "source": [
    "import math  # 수학 연산을 위한 모듈 (제곱근 등 사용)\n",
    "\n",
    "T = int(input())  # 테스트 케이스 개수 입력\n",
    "\n",
    "for _ in range(T):\n",
    "    n = int(input())  # 검사할 정수 n 입력\n",
    "    cnt = 0  # 약수 개수 카운터 초기화\n",
    "\n",
    "    # 1부터 sqrt(n)까지 나눠서 약수의 짝을 센다\n",
    "    for i in range(1, int(math.sqrt(n)) + 1):\n",
    "        if n % i == 0:  # i가 n의 약수라면\n",
    "            cnt += 1  # i와 짝을 이루는 약수 (n // i)가 존재함\n",
    "\n",
    "    cnt *= 2  # 약수는 짝으로 존재하므로 2배 (i, n//i)\n",
    "\n",
    "    # 완전제곱수인 경우 (예: n=9 → 3*3) 중복 제거\n",
    "    if math.isqrt(n) ** 2 == n:  # 정수 제곱근의 제곱이 원래 수와 같으면\n",
    "        cnt -= 1  # 중복된 약수 (ex: 3*3에서 3) 하나 제거\n",
    "\n",
    "    # 약수 개수가 홀수면 Odd, 짝수면 Even 출력\n",
    "    print(\"Odd\" if cnt % 2 == 1 else \"Even\")\n"
   ]
  },
  {
   "cell_type": "code",
   "execution_count": 7,
   "metadata": {},
   "outputs": [
    {
     "name": "stdout",
     "output_type": "stream",
     "text": [
      "4 8\n"
     ]
    }
   ],
   "source": [
    "def gcd(a, b):\n",
    "    # 유클리드 호제법으로 최대공약수(GCD) 계산\n",
    "    while b != 0:\n",
    "        temp = a        # 현재 a를 저장\n",
    "        a = b           # b를 a로 교체\n",
    "        b = temp % b    # b는 a % b로 교체\n",
    "    return a            # b가 0이 되면 a가 최대공약수\n",
    "\n",
    "def lcm(a, b):\n",
    "    # 최소공배수(LCM) = 두 수의 곱 // 최대공약수\n",
    "    return a * b // gcd(a, b)\n",
    "\n",
    "def main():\n",
    "    # 사용자 입력: 두 정수 n, m\n",
    "    n, m = map(int, input().split())\n",
    "\n",
    "    # 최대공약수와 최소공배수 계산\n",
    "    result_gcd = gcd(n, m)\n",
    "    result_lcm = lcm(n, m)\n",
    "\n",
    "    # 결과 출력\n",
    "    print(result_gcd, result_lcm)\n",
    "\n",
    "# 프로그램 시작점 (main 함수 실행)\n",
    "if __name__ == \"__main__\":\n",
    "    main()\n"
   ]
  },
  {
   "cell_type": "code",
   "execution_count": 8,
   "metadata": {},
   "outputs": [
    {
     "name": "stdout",
     "output_type": "stream",
     "text": [
      "2\n"
     ]
    }
   ],
   "source": [
    "def main():\n",
    "    n = int(input())  # 사용자로부터 정수 n 입력\n",
    "    arr = [0] * (n + 1)  # 크기 n+1짜리 배열 생성 (0으로 초기화)\n",
    "\n",
    "    # 소수 아닌 수(합성수) 표시 - 에라토스테네스의 체 원리\n",
    "    for i in range(2, n + 1):\n",
    "        if arr[i] == 0:  # 아직 표시되지 않았다면 소수\n",
    "            for j in range(2 * i, n + 1, i):  # i의 배수는 모두 소수가 아님\n",
    "                if arr[j] == 0:\n",
    "                    arr[j] += 1  # 소수가 아님 표시 (값을 1로 변경)\n",
    "\n",
    "    cnt = 0  # 소수 개수 세기\n",
    "    for i in range(2, n + 1):\n",
    "        if arr[i] == 0:  # 0이면 소수로 남아있는 수\n",
    "            cnt += 1\n",
    "\n",
    "    print(cnt)  # 결과 출력\n",
    "\n",
    "# 메인 함수 호출\n",
    "if __name__ == \"__main__\":\n",
    "    main()"
   ]
  },
  {
   "cell_type": "code",
   "execution_count": null,
   "metadata": {},
   "outputs": [],
   "source": [
    "def is_palindrome(s):\n",
    "    # 문자열 s가 회문인지 검사 (앞뒤가 같은지)\n",
    "    return s == s[::-1]\n",
    "\n",
    "def is_prime(n):\n",
    "    # 정수 n이 소수인지 검사\n",
    "    if n == 1:\n",
    "        return False  # 1은 소수가 아님\n",
    "    for i in range(2, int(n ** 0.5) + 1):  # 2부터 √n까지 검사\n",
    "        if n % i == 0:  # 나누어 떨어지면 소수가 아님\n",
    "            return False\n",
    "    return True  # 위 조건을 통과하면 소수\n",
    "\n",
    "n = int(input())  # 검사할 숫자의 개수 입력\n",
    "count = 0  # 조건을 만족하는 숫자 개수\n",
    "\n",
    "for _ in range(n):\n",
    "    num = input()  # 숫자 문자열로 입력 받음\n",
    "    # 회문이고, 소수이면 개수 증가\n",
    "    if is_palindrome(num) and is_prime(int(num)):\n",
    "        count += 1\n",
    "\n",
    "print(count)  # 조건을 만족한 숫자의 총 개수 출력\n"
   ]
  },
  {
   "cell_type": "code",
   "execution_count": 10,
   "metadata": {},
   "outputs": [
    {
     "name": "stdout",
     "output_type": "stream",
     "text": [
      "YES\n"
     ]
    }
   ],
   "source": [
    "sentence = input()  # 괄호 문자열 입력 받기 (예: \"(()())\")\n",
    "flag = True         # 괄호 유효 여부를 나타내는 플래그\n",
    "stack = []          # 괄호 짝을 확인할 스택\n",
    "\n",
    "# 문자열을 한 글자씩 확인\n",
    "for char in sentence:\n",
    "    if char == '(':              # 여는 괄호면\n",
    "        stack.append('(')        # 스택에 push\n",
    "    elif char == ')':            # 닫는 괄호면\n",
    "        if stack:                # 스택이 비어있지 않으면\n",
    "            stack.pop()          # 짝이 맞는 여는 괄호 제거\n",
    "        else:                    # 스택이 비었는데 닫는 괄호가 나오면\n",
    "            flag = False         # 올바르지 않음\n",
    "            break                # 반복 중단\n",
    "\n",
    "# 결과 판단: flag가 True이고 스택이 비어 있어야 올바른 괄호\n",
    "if flag and not stack:\n",
    "    print(\"YES\")     # 올바른 괄호 문자열\n",
    "else:\n",
    "    print(\"NO\")      # 짝이 안 맞는 경우"
   ]
  },
  {
   "cell_type": "code",
   "execution_count": null,
   "metadata": {},
   "outputs": [],
   "source": [
    "n = int(input())  # 리스트의 길이 입력\n",
    "arr = list(map(int, input().split()))  # 리스트 요소 입력 받아 정수 리스트로 변환\n",
    "\n",
    "mx = 0  # 최대 곱을 저장할 변수 초기화\n",
    "\n",
    "# 모든 쌍 (i, j) 에 대해 곱을 계산 (단, i < j)\n",
    "for i in range(n):\n",
    "    for j in range(i + 1, n):  # i 이후 인덱스부터 비교\n",
    "        mx = max(mx, arr[i] * arr[j])  # 현재 곱이 최대값이면 갱신\n",
    "\n",
    "print(mx)  # 최대 곱 출력"
   ]
  },
  {
   "cell_type": "code",
   "execution_count": null,
   "metadata": {},
   "outputs": [],
   "source": [
    "n = int(input())  # 리스트의 길이를 입력받음\n",
    "arr = list(map(int, input().split()))  # n개의 정수를 리스트로 입력받음\n",
    "\n",
    "result = arr[-1] * arr[-2]  # 리스트의 마지막 두 원소를 곱함\n",
    "print(result)  # 결과 출력"
   ]
  },
  {
   "cell_type": "code",
   "execution_count": 14,
   "metadata": {},
   "outputs": [
    {
     "name": "stdout",
     "output_type": "stream",
     "text": [
      "1\n"
     ]
    }
   ],
   "source": [
    "n = int(input())  # 사용자로부터 정수 입력 (예: 374)\n",
    "print(n // 100 + (n % 100) // 10)  # 백의 자리 + 십의 자리 출력"
   ]
  },
  {
   "cell_type": "code",
   "execution_count": null,
   "metadata": {},
   "outputs": [],
   "source": [
    "input()  # 첫 번째 입력: 숫자의 개수 (사용되지 않음 → 생략 가능)\n",
    "\n",
    "a = sorted(map(int, input().split()))  # 두 번째 입력: 정수 리스트 입력 후 정렬\n",
    "print(a[-2] * a[-1])  # 가장 큰 두 수 (뒤에서 2개)를 곱해서 출력\n"
   ]
  },
  {
   "cell_type": "code",
   "execution_count": null,
   "metadata": {},
   "outputs": [],
   "source": [
    "n, m = map(int, input().split())  # n: 수열 길이, m: 목표 합\n",
    "a = tuple(map(int, input().split()))  # 수열을 튜플로 입력 받음\n",
    "\n",
    "left = 0            # 왼쪽 포인터\n",
    "right = 0           # 오른쪽 포인터\n",
    "sum_ = a[0]         # 현재 구간의 합 (초기값은 첫 번째 요소)\n",
    "cnt = 0             # 조건을 만족하는 부분합의 개수\n",
    "\n",
    "while right < n:\n",
    "    if sum_ == m:           # 현재 구간의 합이 m과 같다면\n",
    "        cnt += 1            # 조건 만족 카운트 증가\n",
    "        right += 1          # 구간을 오른쪽으로 확장\n",
    "        if right < n:\n",
    "            sum_ += a[right]\n",
    "    \n",
    "    elif sum_ > m and left < right:  # 현재 합이 m보다 크면 왼쪽 포인터를 오른쪽으로 이동 (합 줄이기)\n",
    "        sum_ -= a[left]\n",
    "        left += 1\n",
    "\n",
    "    elif sum_ < m:         # 현재 합이 m보다 작으면 오른쪽 확장\n",
    "        right += 1\n",
    "        if right < n:\n",
    "            sum_ += a[right]\n",
    "\n",
    "    elif left == right:    # left == right인데 sum_ > m 인 경우는 고려해야 함 → right 먼저 이동\n",
    "        right += 1\n",
    "        if right < n:\n",
    "            sum_ += a[right]\n",
    "\n",
    "print(cnt)  # 결과 출력\n"
   ]
  },
  {
   "cell_type": "code",
   "execution_count": null,
   "metadata": {},
   "outputs": [],
   "source": [
    "n, m = map(int, input().split())  # n: 수열 길이, m: 부분 구간 길이\n",
    "a = tuple(map(int, input().split()))  # 수열을 튜플로 입력받음\n",
    "\n",
    "# 초기 구간 합: 첫 m개 원소의 합\n",
    "current_sum = sum(a[:m])\n",
    "max_sum = current_sum  # 최대 구간 합 초기값 설정\n",
    "\n",
    "# 슬라이딩 윈도우 시작 (왼쪽 한 칸씩 이동하며 합 갱신)\n",
    "for i in range(1, n - m + 1):\n",
    "    # 이전 구간에서 첫 원소는 빼고, 다음 원소는 더함\n",
    "    current_sum = current_sum - a[i - 1] + a[i + m - 1]\n",
    "    \n",
    "    # 최대 합 갱신\n",
    "    if current_sum > max_sum:\n",
    "        max_sum = current_sum\n",
    "\n",
    "# 결과 출력\n",
    "print(max_sum)\n"
   ]
  },
  {
   "cell_type": "code",
   "execution_count": null,
   "metadata": {},
   "outputs": [],
   "source": [
    "# 사용자로부터 두 정수 n, m을 입력받음\n",
    "# n: 사용할 수 있는 숫자의 범위 (1부터 n까지)\n",
    "# m: 뽑을 숫자의 개수\n",
    "n, m = list(map(int, input().split()))\n",
    "\n",
    "# 숫자를 조합해 나갈 리스트 (현재 경로)\n",
    "s = []\n",
    "\n",
    "# 백트래킹을 위한 DFS 함수 정의\n",
    "def dfs():\n",
    "    # 길이가 m인 조합이 완성되었으면 출력하고 종료\n",
    "    if len(s) == m:\n",
    "        print(' '.join(map(str, s)))  # 리스트 s를 문자열로 변환 후 공백으로 출력\n",
    "        return\n",
    "\n",
    "    # 1부터 n까지 숫자를 반복하며 선택 시도\n",
    "    for i in range(1, n + 1):\n",
    "        if i not in s:          # 중복 방지를 위해 이미 선택된 숫자는 제외\n",
    "            s.append(i)         # 숫자 i를 선택 (현재 경로에 추가)\n",
    "            dfs()               # 재귀 호출하여 다음 숫자 선택\n",
    "            s.pop()             # 백트래킹: 마지막에 선택한 숫자 제거 (되돌리기)\n",
    "\n",
    "# DFS 탐색 시작\n",
    "dfs()"
   ]
  },
  {
   "cell_type": "code",
   "execution_count": null,
   "metadata": {},
   "outputs": [],
   "source": [
    "import sys\n",
    "result = 0  # 방문 순서 값을 누적 저장하는 전역 변수\n",
    "\n",
    "def sol(n, x, y):\n",
    "    global result\n",
    "    # (x, y)부터 시작하는 n x n 정사각형 영역에서 (r, c)를 찾는 재귀 함수\n",
    "\n",
    "    if x == r and y == c:\n",
    "        # 기저 조건: 찾는 좌표에 도달했으면 결과 출력 후 종료\n",
    "        print(int(result))\n",
    "        return\n",
    "\n",
    "    if not (x <= r < x + n and y <= c < y + n):\n",
    "        # 현재 정사각형이 (r, c)를 포함하지 않으면 이 영역은 건너뜀\n",
    "        result += n * n  # 이 영역에 포함된 칸 수만큼 순서를 증가시킴\n",
    "        return\n",
    "\n",
    "    # 현재 정사각형을 4등분하여 재귀적으로 탐색\n",
    "    sol(n / 2, x, y)                   # 1사분면 (왼쪽 위)\n",
    "    sol(n / 2, x, y + n / 2)           # 2사분면 (오른쪽 위)\n",
    "    sol(n / 2, x + n / 2, y)           # 3사분면 (왼쪽 아래)\n",
    "    sol(n / 2, x + n / 2, y + n / 2)   # 4사분면 (오른쪽 아래)\n",
    "\n",
    "# 입력: n은 배열 크기의 지수, r과 c는 찾고자 하는 위치\n",
    "n, r, c = map(int, sys.stdin.readline().split(' '))\n",
    "\n",
    "# 2^n 크기의 배열로 시작 (1 << n == 2^n)\n",
    "sol(1 << n, 0, 0)"
   ]
  },
  {
   "cell_type": "code",
   "execution_count": 15,
   "metadata": {},
   "outputs": [
    {
     "name": "stdout",
     "output_type": "stream",
     "text": [
      "6\n"
     ]
    }
   ],
   "source": [
    "n = int(input())  # 커피 1잔 가격 입력 (원)\n",
    "\n",
    "# dp[i] = i원을 만들기 위한 최소 동전 개수\n",
    "# 처음엔 불가능한 값으로 초기화 (큰 수)\n",
    "dp = [123456789] * 100001\n",
    "\n",
    "# 3원과 5원짜리 동전으로 정확히 만들 수 있는 기본 경우\n",
    "dp[3] = 1  # 3원은 1개 동전으로 가능\n",
    "dp[5] = 1  # 5원도 1개 동전으로 가능\n",
    "\n",
    "# 2원부터 100000원까지 각 금액을 만들 수 있는 최소 동전 개수 계산\n",
    "for i in range(2, 100001):\n",
    "    # i원이 되기 위해 5원을 추가한 경우\n",
    "    if i - 5 >= 0 and dp[i - 5] != 123456789:\n",
    "        dp[i] = min(dp[i], dp[i - 5] + 1)\n",
    "\n",
    "    # i원이 되기 위해 3원을 추가한 경우\n",
    "    if i - 3 >= 0 and dp[i - 3] != 123456789:\n",
    "        dp[i] = min(dp[i], dp[i - 3] + 1)\n",
    "\n",
    "# dp[n]이 여전히 초기값이라면 만들 수 없는 경우 → -1 출력\n",
    "# 그렇지 않으면 최소 동전 개수 출력\n",
    "print(-1 if dp[n] == 123456789 else dp[n])"
   ]
  },
  {
   "cell_type": "code",
   "execution_count": 16,
   "metadata": {},
   "outputs": [
    {
     "name": "stdout",
     "output_type": "stream",
     "text": [
      "2\n"
     ]
    }
   ],
   "source": [
    "def fibo(n):\n",
    "    # 피보나치 수열의 n번째 항을 반환하는 재귀 함수\n",
    "\n",
    "    if n == 1:\n",
    "        return 1  # 첫 번째 항은 1\n",
    "    if n == 2:\n",
    "        return 1  # 두 번째 항도 1\n",
    "\n",
    "    # n번째 항 = (n-1)번째 항 + (n-2)번째 항\n",
    "    return fibo(n - 1) + fibo(n - 2)\n",
    "\n",
    "# 사용자 입력: 몇 번째 피보나치 수를 구할지\n",
    "n = int(input())\n",
    "\n",
    "# 결과 출력\n",
    "print(fibo(n))\n"
   ]
  },
  {
   "cell_type": "code",
   "execution_count": null,
   "metadata": {},
   "outputs": [],
   "source": [
    "import sys\n",
    "\n",
    "# 입력: 세로 길이 N, 가로 길이 M, 질의 횟수 K\n",
    "n, m, k = map(int, sys.stdin.readline().split())\n",
    "\n",
    "# 원본 땅값 배열 및 누적합 배열 초기화 (1-based index 사용)\n",
    "arr = [[0] * 1001 for _ in range(1001)]\n",
    "pSum = [[0] * 1001 for _ in range(1001)]\n",
    "\n",
    "# 입력받은 땅값 배열을 arr에 저장하고 동시에 누적합 배열 pSum 계산\n",
    "for i in range(1, n + 1):\n",
    "    row = list(map(int, sys.stdin.readline().split()))\n",
    "    for j in range(1, m + 1):\n",
    "        arr[i][j] = row[j - 1]\n",
    "        # 누적합 공식: pSum[i][j] = 위 + 왼 - 겹치는 부분 + 현재값\n",
    "        pSum[i][j] = (\n",
    "            pSum[i - 1][j] + \n",
    "            pSum[i][j - 1] - \n",
    "            pSum[i - 1][j - 1] + \n",
    "            arr[i][j]\n",
    "        )\n",
    "\n",
    "# K개의 질의 처리: (a,b) ~ (c,d) 사각형 구간 합 출력\n",
    "for _ in range(k):\n",
    "    a, b, c, d = map(int, sys.stdin.readline().split())\n",
    "    result = (\n",
    "        pSum[c][d] - \n",
    "        pSum[c][b - 1] - \n",
    "        pSum[a - 1][d] + \n",
    "        pSum[a - 1][b - 1]\n",
    "    )\n",
    "    print(result)\n"
   ]
  },
  {
   "cell_type": "code",
   "execution_count": null,
   "metadata": {},
   "outputs": [],
   "source": []
  },
  {
   "cell_type": "code",
   "execution_count": null,
   "metadata": {},
   "outputs": [],
   "source": []
  },
  {
   "cell_type": "code",
   "execution_count": null,
   "metadata": {},
   "outputs": [],
   "source": []
  },
  {
   "cell_type": "code",
   "execution_count": null,
   "metadata": {},
   "outputs": [],
   "source": []
  }
 ],
 "metadata": {
  "kernelspec": {
   "display_name": "Python 3",
   "language": "python",
   "name": "python3"
  },
  "language_info": {
   "codemirror_mode": {
    "name": "ipython",
    "version": 3
   },
   "file_extension": ".py",
   "mimetype": "text/x-python",
   "name": "python",
   "nbconvert_exporter": "python",
   "pygments_lexer": "ipython3",
   "version": "3.11.9"
  }
 },
 "nbformat": 4,
 "nbformat_minor": 2
}
