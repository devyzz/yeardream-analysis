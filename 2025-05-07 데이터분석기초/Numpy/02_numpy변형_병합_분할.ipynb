{
 "cells": [
  {
   "cell_type": "markdown",
   "id": "646d7d6c",
   "metadata": {},
   "source": [
    "# 🧩 NumPy 배열 변형과 결합/분할 연습 노트북\n",
    "\n",
    "배열의 형태를 바꾸고, 이어붙이고, 나누는 다양한 기법을 연습할 수 있는 노트북입니다! 🐰"
   ]
  },
  {
   "cell_type": "markdown",
   "id": "fe5723f9",
   "metadata": {},
   "source": [
    "## 1️⃣ 배열의 형태 바꾸기 - `reshape()`"
   ]
  },
  {
   "cell_type": "code",
   "execution_count": null,
   "id": "ad9669a4",
   "metadata": {},
   "outputs": [],
   "source": [
    "import numpy as np\n",
    "\n",
    "a = np.arange(12)\n",
    "print(\"원본 배열:\", a)\n",
    "\n",
    "reshaped = a.reshape(3, 4)\n",
    "print(\"3x4로 reshape:\\n\", reshaped)\n",
    "\n",
    "# reshape의 주요 조건:\n",
    "# - 전체 요소 수는 동일해야 함\n",
    "# - (12,) → (3,4), (4,3), (2,6) 등 가능\n"
   ]
  },
  {
   "cell_type": "markdown",
   "id": "796ccb27",
   "metadata": {},
   "source": [
    "## 2️⃣ 다차원 배열을 1차원으로 - `flatten()` / `ravel()`"
   ]
  },
  {
   "cell_type": "code",
   "execution_count": null,
   "id": "dd935437",
   "metadata": {},
   "outputs": [],
   "source": [
    "b = np.array([[1, 2, 3], [4, 5, 6]])\n",
    "\n",
    "flat1 = b.flatten()  # 복사본 반환\n",
    "flat2 = b.ravel()    # 원본 view 반환\n",
    "\n",
    "print(\"flatten:\", flat1)\n",
    "print(\"ravel:\", flat2)\n"
   ]
  },
  {
   "cell_type": "markdown",
   "id": "f826e57c",
   "metadata": {},
   "source": [
    "## 3️⃣ 배열 전치 - `transpose()` / `.T`"
   ]
  },
  {
   "cell_type": "code",
   "execution_count": null,
   "id": "848339aa",
   "metadata": {},
   "outputs": [],
   "source": [
    "c = np.array([[1, 2, 3], [4, 5, 6]])\n",
    "\n",
    "print(\"원본:\", c)\n",
    "print(\"전치 (transpose):\", c.transpose())\n",
    "print(\"전치 (.T 속성):\", c.T)\n"
   ]
  },
  {
   "cell_type": "markdown",
   "id": "5afb8300",
   "metadata": {},
   "source": [
    "## 4️⃣ 배열 이어붙이기 - `concatenate()`"
   ]
  },
  {
   "cell_type": "code",
   "execution_count": null,
   "id": "eea1060e",
   "metadata": {},
   "outputs": [],
   "source": [
    "a1 = np.array([[1, 2], [3, 4]])\n",
    "a2 = np.array([[5, 6]])\n",
    "\n",
    "# 행 기준 이어붙이기 (axis=0)\n",
    "combined = np.concatenate((a1, a2), axis=0)\n",
    "print(\"행 기준 이어붙이기:\", combined)\n",
    "\n",
    "# 열 기준 이어붙이기 (axis=1)\n",
    "a3 = np.array([[7], [8]])\n",
    "combined2 = np.concatenate((a1, a3), axis=1)\n",
    "print(\"열 기준 이어붙이기:\", combined2)\n"
   ]
  },
  {
   "cell_type": "markdown",
   "id": "e91eb71f",
   "metadata": {},
   "source": [
    "## 5️⃣ 배열 쌓기 - `stack()`, `vstack()`, `hstack()`"
   ]
  },
  {
   "cell_type": "code",
   "execution_count": null,
   "id": "773a062b",
   "metadata": {},
   "outputs": [],
   "source": [
    "x = np.array([1, 2, 3])\n",
    "y = np.array([4, 5, 6])\n",
    "\n",
    "print(\"stack:\", np.stack((x, y)))         # axis=0이 기본\n",
    "print(\"vstack:\", np.vstack((x, y)))       # 수직으로 쌓기\n",
    "print(\"hstack:\", np.hstack((x, y)))       # 수평으로 쌓기\n"
   ]
  },
  {
   "cell_type": "markdown",
   "id": "5660a104",
   "metadata": {},
   "source": [
    "## 6️⃣ 배열 나누기 - `split()`, `vsplit()`, `hsplit()`"
   ]
  },
  {
   "cell_type": "code",
   "execution_count": null,
   "id": "9ab04b08",
   "metadata": {},
   "outputs": [],
   "source": [
    "arr = np.arange(16).reshape(4, 4)\n",
    "print(\"원본:\", arr)\n",
    "\n",
    "# 2개로 수직 분할\n",
    "print(\"vsplit:\", np.vsplit(arr, 2))\n",
    "\n",
    "# 2개로 수평 분할\n",
    "print(\"hsplit:\", np.hsplit(arr, 2))\n",
    "\n",
    "# 일반 split (1차원용 또는 axis 지정)\n",
    "a = np.arange(10)\n",
    "print(\"split:\", np.split(a, 5))\n"
   ]
  }
 ],
 "metadata": {
  "language_info": {
   "name": "python"
  }
 },
 "nbformat": 4,
 "nbformat_minor": 5
}
