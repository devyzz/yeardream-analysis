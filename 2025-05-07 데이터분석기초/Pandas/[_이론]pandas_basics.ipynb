{
 "cells": [
  {
   "cell_type": "markdown",
   "metadata": {},
   "source": [
    "# 🐼 판다스(Pandas) 입문자를 위한 기초 이론 정리\n",
    "판다스는 파이썬에서 **데이터 분석과 조작**을 위해 가장 널리 사용되는 라이브러리입니다.\n",
    "\n",
    "---\n",
    "## 1. 판다스 소개\n",
    "- Pandas는 **Panel Data**의 약자입니다.\n",
    "- 주로 **표 형태의 데이터(테이블)**를 다루는 데에 사용됩니다.\n",
    "- 핵심 객체: `Series`와 `DataFrame`\n"
   ]
  },
  {
   "cell_type": "markdown",
   "metadata": {},
   "source": [
    "## 2. Series와 DataFrame\n",
    "- **Series**: 1차원 배열, 인덱스를 가지는 리스트\n",
    "- **DataFrame**: 2차원 테이블 구조\n",
    "\n",
    "```python\n",
    "import pandas as pd\n",
    "\n",
    "# Series 예제\n",
    "s = pd.Series([10, 20, 30], index=['a', 'b', 'c'])\n",
    "print(s)\n",
    "\n",
    "# DataFrame 예제\n",
    "data = {'이름': ['홍길동', '김영희'], '나이': [25, 30]}\n",
    "df = pd.DataFrame(data)\n",
    "print(df)\n",
    "```"
   ]
  },
  {
   "cell_type": "markdown",
   "metadata": {},
   "source": [
    "## 3. 데이터 읽기/쓰기\n",
    "- CSV, Excel, JSON 등의 파일을 읽고 쓸 수 있음\n",
    "\n",
    "```python\n",
    "# CSV 파일 읽기\n",
    "df = pd.read_csv('data.csv')\n",
    "\n",
    "# Excel 파일 읽기\n",
    "df = pd.read_excel('data.xlsx')\n",
    "\n",
    "# CSV 파일로 저장\n",
    "df.to_csv('output.csv', index=False)\n",
    "```"
   ]
  },
  {
   "cell_type": "markdown",
   "metadata": {},
   "source": [
    "## 4. DataFrame 기본 탐색\n",
    "- `head()`, `tail()`, `info()`, `describe()` 등을 사용\n",
    "\n",
    "```python\n",
    "df.head()      # 처음 5개 행\n",
    "df.tail(3)     # 마지막 3개 행\n",
    "df.info()      # 데이터 요약 정보\n",
    "df.describe()  # 수치형 컬럼 통계 요약\n",
    "```"
   ]
  },
  {
   "cell_type": "markdown",
   "metadata": {},
   "source": [
    "## 5. 인덱싱과 필터링\n",
    "- `.loc[]`, `.iloc[]`, 조건 필터링 등\n",
    "\n",
    "```python\n",
    "# 행, 열 선택\n",
    "df.loc[0]           # 라벨 기반 접근\n",
    "df.iloc[0]          # 위치 기반 접근\n",
    "\n",
    "# 조건 필터링\n",
    "df[df['나이'] > 25]\n",
    "```"
   ]
  },
  {
   "cell_type": "markdown",
   "metadata": {},
   "source": [
    "## 6. 데이터 정렬 및 결측치 처리\n",
    "\n",
    "```python\n",
    "# 정렬\n",
    "df.sort_values(by='나이', ascending=False)\n",
    "\n",
    "# 결측치 처리\n",
    "df.isnull()             # 결측치 확인\n",
    "df.fillna(0)            # 결측치 대체\n",
    "df.dropna()             # 결측치 제거\n",
    "```"
   ]
  },
  {
   "cell_type": "markdown",
   "metadata": {},
   "source": [
    "## 7. 데이터 그룹화\n",
    "- `groupby()` 함수 사용\n",
    "\n",
    "```python\n",
    "# 그룹별 평균 계산\n",
    "df.groupby('성별')['나이'].mean()\n",
    "```"
   ]
  },
  {
   "cell_type": "markdown",
   "metadata": {},
   "source": [
    "## 8. 열 추가 및 삭제\n",
    "\n",
    "```python\n",
    "# 열 추가\n",
    "df['국적'] = ['한국', '한국']\n",
    "\n",
    "# 열 삭제\n",
    "df.drop('국적', axis=1, inplace=True)\n",
    "```"
   ]
  }
 ],
 "metadata": {
  "kernelspec": {
   "display_name": "Python 3",
   "language": "python",
   "name": "python3"
  },
  "language_info": {
   "name": "python",
   "version": "3.11"
  }
 },
 "nbformat": 4,
 "nbformat_minor": 5
}
