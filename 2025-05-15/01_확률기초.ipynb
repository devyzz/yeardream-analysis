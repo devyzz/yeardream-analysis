{
 "cells": [
  {
   "cell_type": "code",
   "execution_count": 1,
   "id": "dfe6de6f",
   "metadata": {},
   "outputs": [
    {
     "name": "stdout",
     "output_type": "stream",
     "text": [
      "5040\n"
     ]
    }
   ],
   "source": [
    "def fac(n): \n",
    "    if n==0:\n",
    "        return 1\n",
    "    return n * fac(n-1)\n",
    "# 4! 계산\n",
    "print(fac(7))"
   ]
  },
  {
   "cell_type": "code",
   "execution_count": 2,
   "id": "ff404661",
   "metadata": {},
   "outputs": [
    {
     "name": "stdout",
     "output_type": "stream",
     "text": [
      "[('a', 'b'), ('a', 'c'), ('a', 'd'), ('a', 'e'), ('a', 'f'), ('b', 'a'), ('b', 'c'), ('b', 'd'), ('b', 'e'), ('b', 'f'), ('c', 'a'), ('c', 'b'), ('c', 'd'), ('c', 'e'), ('c', 'f'), ('d', 'a'), ('d', 'b'), ('d', 'c'), ('d', 'e'), ('d', 'f'), ('e', 'a'), ('e', 'b'), ('e', 'c'), ('e', 'd'), ('e', 'f'), ('f', 'a'), ('f', 'b'), ('f', 'c'), ('f', 'd'), ('f', 'e')]\n",
      "30\n",
      "[('가', '나'), ('가', '다'), ('가', '라'), ('가', '마'), ('가', '바'), ('나', '다'), ('나', '라'), ('나', '마'), ('나', '바'), ('다', '라'), ('다', '마'), ('다', '바'), ('라', '마'), ('라', '바'), ('마', '바')]\n",
      "15\n",
      "[('A', 'A', 'A'), ('A', 'A', 'B'), ('A', 'A', 'C'), ('A', 'A', 'D'), ('A', 'A', 'E'), ('A', 'B', 'A'), ('A', 'B', 'B'), ('A', 'B', 'C'), ('A', 'B', 'D'), ('A', 'B', 'E'), ('A', 'C', 'A'), ('A', 'C', 'B'), ('A', 'C', 'C'), ('A', 'C', 'D'), ('A', 'C', 'E'), ('A', 'D', 'A'), ('A', 'D', 'B'), ('A', 'D', 'C'), ('A', 'D', 'D'), ('A', 'D', 'E'), ('A', 'E', 'A'), ('A', 'E', 'B'), ('A', 'E', 'C'), ('A', 'E', 'D'), ('A', 'E', 'E'), ('B', 'A', 'A'), ('B', 'A', 'B'), ('B', 'A', 'C'), ('B', 'A', 'D'), ('B', 'A', 'E'), ('B', 'B', 'A'), ('B', 'B', 'B'), ('B', 'B', 'C'), ('B', 'B', 'D'), ('B', 'B', 'E'), ('B', 'C', 'A'), ('B', 'C', 'B'), ('B', 'C', 'C'), ('B', 'C', 'D'), ('B', 'C', 'E'), ('B', 'D', 'A'), ('B', 'D', 'B'), ('B', 'D', 'C'), ('B', 'D', 'D'), ('B', 'D', 'E'), ('B', 'E', 'A'), ('B', 'E', 'B'), ('B', 'E', 'C'), ('B', 'E', 'D'), ('B', 'E', 'E'), ('C', 'A', 'A'), ('C', 'A', 'B'), ('C', 'A', 'C'), ('C', 'A', 'D'), ('C', 'A', 'E'), ('C', 'B', 'A'), ('C', 'B', 'B'), ('C', 'B', 'C'), ('C', 'B', 'D'), ('C', 'B', 'E'), ('C', 'C', 'A'), ('C', 'C', 'B'), ('C', 'C', 'C'), ('C', 'C', 'D'), ('C', 'C', 'E'), ('C', 'D', 'A'), ('C', 'D', 'B'), ('C', 'D', 'C'), ('C', 'D', 'D'), ('C', 'D', 'E'), ('C', 'E', 'A'), ('C', 'E', 'B'), ('C', 'E', 'C'), ('C', 'E', 'D'), ('C', 'E', 'E'), ('D', 'A', 'A'), ('D', 'A', 'B'), ('D', 'A', 'C'), ('D', 'A', 'D'), ('D', 'A', 'E'), ('D', 'B', 'A'), ('D', 'B', 'B'), ('D', 'B', 'C'), ('D', 'B', 'D'), ('D', 'B', 'E'), ('D', 'C', 'A'), ('D', 'C', 'B'), ('D', 'C', 'C'), ('D', 'C', 'D'), ('D', 'C', 'E'), ('D', 'D', 'A'), ('D', 'D', 'B'), ('D', 'D', 'C'), ('D', 'D', 'D'), ('D', 'D', 'E'), ('D', 'E', 'A'), ('D', 'E', 'B'), ('D', 'E', 'C'), ('D', 'E', 'D'), ('D', 'E', 'E'), ('E', 'A', 'A'), ('E', 'A', 'B'), ('E', 'A', 'C'), ('E', 'A', 'D'), ('E', 'A', 'E'), ('E', 'B', 'A'), ('E', 'B', 'B'), ('E', 'B', 'C'), ('E', 'B', 'D'), ('E', 'B', 'E'), ('E', 'C', 'A'), ('E', 'C', 'B'), ('E', 'C', 'C'), ('E', 'C', 'D'), ('E', 'C', 'E'), ('E', 'D', 'A'), ('E', 'D', 'B'), ('E', 'D', 'C'), ('E', 'D', 'D'), ('E', 'D', 'E'), ('E', 'E', 'A'), ('E', 'E', 'B'), ('E', 'E', 'C'), ('E', 'E', 'D'), ('E', 'E', 'E')]\n",
      "125\n",
      "[('A', 'A', 'A'), ('A', 'A', 'B'), ('A', 'A', 'C'), ('A', 'A', 'D'), ('A', 'A', 'E'), ('A', 'B', 'B'), ('A', 'B', 'C'), ('A', 'B', 'D'), ('A', 'B', 'E'), ('A', 'C', 'C'), ('A', 'C', 'D'), ('A', 'C', 'E'), ('A', 'D', 'D'), ('A', 'D', 'E'), ('A', 'E', 'E'), ('B', 'B', 'B'), ('B', 'B', 'C'), ('B', 'B', 'D'), ('B', 'B', 'E'), ('B', 'C', 'C'), ('B', 'C', 'D'), ('B', 'C', 'E'), ('B', 'D', 'D'), ('B', 'D', 'E'), ('B', 'E', 'E'), ('C', 'C', 'C'), ('C', 'C', 'D'), ('C', 'C', 'E'), ('C', 'D', 'D'), ('C', 'D', 'E'), ('C', 'E', 'E'), ('D', 'D', 'D'), ('D', 'D', 'E'), ('D', 'E', 'E'), ('E', 'E', 'E')]\n",
      "35\n"
     ]
    }
   ],
   "source": [
    "from itertools import permutations \n",
    "from itertools import combinations\n",
    "from itertools import product\n",
    "from itertools import combinations_with_replacement\n",
    "\n",
    "# 순열: 6명 수강생 중 2명에게 순위별 상품을 주는 경우의 수 \n",
    "rank_per = list(permutations([\"a\",\"b\",\"c\",\"d\",\"e\",\"f\"],2))\n",
    "rank_per_num = len(rank_per)\n",
    "print(rank_per)\n",
    "print(rank_per_num)\n",
    "\n",
    "# 조합: 6명 수강생 중 2명에게 순위 상관없이 상품을 주는 경우의 수 \n",
    "rank_com = list(combinations([\"가\", \"나\", \"다\", \"라\", \"마\", \"바\"], 2))\n",
    "rank_com_num = len(rank_com)\n",
    "print(rank_com)\n",
    "print(rank_com_num)\n",
    "\n",
    "# 중복순열\n",
    "re_per = list(product([\"A\", \"B\", \"C\", \"D\", \"E\"], repeat=3))\n",
    "re_per_num = len(re_per)\n",
    "print(re_per)\n",
    "print(re_per_num)\n",
    "\n",
    "# 중복조합\n",
    "re_com = list(combinations_with_replacement([\"A\", \"B\", \"C\", \"D\", \"E\"], 3))\n",
    "re_com_num = len(re_com)\n",
    "print(re_com)\n",
    "print(re_com_num)\n"
   ]
  },
  {
   "cell_type": "code",
   "execution_count": 3,
   "id": "9a416dae",
   "metadata": {},
   "outputs": [
    {
     "name": "stdout",
     "output_type": "stream",
     "text": [
      "P(Q1 and Q2 | Q2 ): 0.5\n",
      "P(Q1 and Q2 | Q1 or Q2 ): 0.3181818181818182\n"
     ]
    }
   ],
   "source": [
    "import random\n",
    "\n",
    "answer_Q1andQ2 = 0\n",
    "answer_Q2 = 0\n",
    "answer_Q1orQ2 = 0\n",
    "\n",
    "random.seed(4) # 난수 생성기 고정(seed설정), 동일한 seed값을 지정하면 random결과도 항상 동일하게 재현 가능\n",
    "\n",
    "# 함수 정의 \n",
    "def random_answer():\n",
    "    return random.choice([\"A\", \"B\"])\n",
    "\n",
    "# 30명의 응답 결과\n",
    "for i in range(30):\n",
    "    Q1 = random_answer()\n",
    "    Q2 = random_answer()\n",
    "    if Q2 == \"A\":\n",
    "        answer_Q2 += 1\n",
    "    if Q2 == \"A\" and Q1 == \"A\":\n",
    "        answer_Q1andQ2 += 1\n",
    "    if Q2 == \"A\" or Q1 == \"A\":\n",
    "        answer_Q1orQ2 += 1\n",
    "\n",
    "\n",
    "# 조건부 확률과 독립\n",
    "print( \"P(Q1 and Q2 | Q2 ):\", answer_Q1andQ2 / answer_Q2)\n",
    "print( \"P(Q1 and Q2 | Q1 or Q2 ):\", answer_Q1andQ2 / answer_Q1orQ2)\n"
   ]
  },
  {
   "cell_type": "code",
   "execution_count": 8,
   "id": "9593a149",
   "metadata": {},
   "outputs": [
    {
     "name": "stdout",
     "output_type": "stream",
     "text": [
      "Collecting sympy\n",
      "  Downloading sympy-1.14.0-py3-none-any.whl.metadata (12 kB)\n",
      "Collecting mpmath<1.4,>=1.1.0 (from sympy)\n",
      "  Downloading mpmath-1.3.0-py3-none-any.whl.metadata (8.6 kB)\n",
      "Downloading sympy-1.14.0-py3-none-any.whl (6.3 MB)\n",
      "\u001b[2K   \u001b[90m━━━━━━━━━━━━━━━━━━━━━━━━━━━━━━━━━━━━━━━━\u001b[0m \u001b[32m6.3/6.3 MB\u001b[0m \u001b[31m32.8 MB/s\u001b[0m eta \u001b[36m0:00:00\u001b[0m00:01\u001b[0m\n",
      "\u001b[?25hDownloading mpmath-1.3.0-py3-none-any.whl (536 kB)\n",
      "\u001b[2K   \u001b[90m━━━━━━━━━━━━━━━━━━━━━━━━━━━━━━━━━━━━━━━━\u001b[0m \u001b[32m536.2/536.2 kB\u001b[0m \u001b[31m18.5 MB/s\u001b[0m eta \u001b[36m0:00:00\u001b[0m\n",
      "\u001b[?25hInstalling collected packages: mpmath, sympy\n",
      "Successfully installed mpmath-1.3.0 sympy-1.14.0\n",
      "Note: you may need to restart the kernel to use updated packages.\n"
     ]
    }
   ],
   "source": [
    "%pip install sympy"
   ]
  },
  {
   "cell_type": "code",
   "execution_count": 4,
   "id": "66ebd0b0",
   "metadata": {},
   "outputs": [
    {
     "name": "stdout",
     "output_type": "stream",
     "text": [
      "Die6\n",
      "{1: 1/6, 2: 1/6, 3: 1/6, 4: 1/6, 5: 1/6, 6: 1/6}\n",
      "Die6\n",
      "{4: 1/3, 5: 1/3, 6: 1/3}\n"
     ]
    }
   ],
   "source": [
    "from sympy.stats import given, density, Die\n",
    "\n",
    "# Q1. 6개의 면이 있는 주사위 생성\n",
    "Die6 = Die(\"Die6\", 6) # Die를 통해 주사위 확률 모델을 만든다, \n",
    "Die6_dict = density(Die6).dict # density(확률질량함수(PMF))를 딕셔너리 형태로 반환\n",
    "print(Die6)\n",
    "print(Die6_dict)\n",
    "\n",
    "\n",
    "# Q2. 3 초과의 면만 나오는 조건을 가진 주사위 생성\n",
    "condi = given(Die6, Die6 > 3)   # 조건부 확률 분포 : 주사위가 4,5,6만 나오는 경우에 대해서 계산\n",
    "condi_dict = density(condi).dict # 조건부 확률 분포의 PMF 출력\n",
    "print(condi)\n",
    "print(condi_dict)\n"
   ]
  },
  {
   "cell_type": "code",
   "execution_count": null,
   "id": "d7599f5b",
   "metadata": {},
   "outputs": [],
   "source": []
  }
 ],
 "metadata": {
  "kernelspec": {
   "display_name": "myenv",
   "language": "python",
   "name": "python3"
  },
  "language_info": {
   "codemirror_mode": {
    "name": "ipython",
    "version": 3
   },
   "file_extension": ".py",
   "mimetype": "text/x-python",
   "name": "python",
   "nbconvert_exporter": "python",
   "pygments_lexer": "ipython3",
   "version": "3.12.9"
  }
 },
 "nbformat": 4,
 "nbformat_minor": 5
}
